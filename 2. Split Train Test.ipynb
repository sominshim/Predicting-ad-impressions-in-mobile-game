{
 "cells": [
  {
   "cell_type": "code",
   "execution_count": 1,
   "id": "52674d37",
   "metadata": {},
   "outputs": [],
   "source": [
    "import numpy as np\n",
    "import pandas as pd"
   ]
  },
  {
   "cell_type": "code",
   "execution_count": 5,
   "id": "fc03def6",
   "metadata": {},
   "outputs": [
    {
     "name": "stderr",
     "output_type": "stream",
     "text": [
      "/home/users/s17011720/.conda/envs/jupyter/lib/python3.7/site-packages/IPython/core/interactiveshell.py:3166: DtypeWarning: Columns (0,1,2) have mixed types.Specify dtype option on import or set low_memory=False.\n",
      "  interactivity=interactivity, compiler=compiler, result=result)\n"
     ]
    }
   ],
   "source": [
    "tutorial = pd.read_csv(\"tutorial_filtered.csv\")"
   ]
  },
  {
   "cell_type": "code",
   "execution_count": null,
   "id": "a3fb8ed6",
   "metadata": {},
   "outputs": [],
   "source": []
  },
  {
   "cell_type": "code",
   "execution_count": 6,
   "id": "e8c3acae",
   "metadata": {},
   "outputs": [
    {
     "data": {
      "text/plain": [
       "(993059, 50)"
      ]
     },
     "execution_count": 6,
     "metadata": {},
     "output_type": "execute_result"
    }
   ],
   "source": [
    "tutorial.shape"
   ]
  },
  {
   "cell_type": "markdown",
   "id": "d8dfc972",
   "metadata": {},
   "source": [
    "# 2. Split train/test\n",
    "## 1. tutorial 로 ad_id별 day_0 추출"
   ]
  },
  {
   "cell_type": "code",
   "execution_count": 9,
   "id": "52412ee8",
   "metadata": {
    "collapsed": true
   },
   "outputs": [
    {
     "data": {
      "text/html": [
       "<div>\n",
       "<style scoped>\n",
       "    .dataframe tbody tr th:only-of-type {\n",
       "        vertical-align: middle;\n",
       "    }\n",
       "\n",
       "    .dataframe tbody tr th {\n",
       "        vertical-align: top;\n",
       "    }\n",
       "\n",
       "    .dataframe thead th {\n",
       "        text-align: right;\n",
       "    }\n",
       "</style>\n",
       "<table border=\"1\" class=\"dataframe\">\n",
       "  <thead>\n",
       "    <tr style=\"text-align: right;\">\n",
       "      <th></th>\n",
       "      <th>event_datetime</th>\n",
       "    </tr>\n",
       "    <tr>\n",
       "      <th>ad_id</th>\n",
       "      <th></th>\n",
       "    </tr>\n",
       "  </thead>\n",
       "  <tbody>\n",
       "    <tr>\n",
       "      <th>00018501-6eee-45e9-b5b5-7b50f966abd8</th>\n",
       "      <td>2021-04-15 03:56:13.665</td>\n",
       "    </tr>\n",
       "    <tr>\n",
       "      <th>0001edb6-e7e7-4f74-8993-2bfc9347a959</th>\n",
       "      <td>2021-04-23 19:45:27.894</td>\n",
       "    </tr>\n",
       "    <tr>\n",
       "      <th>0001ef07-c27e-4d91-a8bb-d0aa5f0d45e7</th>\n",
       "      <td>2021-04-19 17:51:50.317</td>\n",
       "    </tr>\n",
       "    <tr>\n",
       "      <th>000289c6-779a-4b82-bab0-652fa477be1f</th>\n",
       "      <td>2021-04-09 15:58:13.805</td>\n",
       "    </tr>\n",
       "    <tr>\n",
       "      <th>0002aec5-2842-4fa8-9b13-004ec60a5a2a</th>\n",
       "      <td>2021-04-02 17:46:52.852</td>\n",
       "    </tr>\n",
       "    <tr>\n",
       "      <th>...</th>\n",
       "      <td>...</td>\n",
       "    </tr>\n",
       "    <tr>\n",
       "      <th>fffe4cf6-ea7b-4377-af60-a019e460bd30</th>\n",
       "      <td>2021-04-22 22:16:08.435</td>\n",
       "    </tr>\n",
       "    <tr>\n",
       "      <th>fffe5e96-fb11-462b-bb81-f3bb1911f618</th>\n",
       "      <td>2021-04-11 18:23:59.781</td>\n",
       "    </tr>\n",
       "    <tr>\n",
       "      <th>ffffaa74-daa9-4fe1-a4bb-9e9c5853246f</th>\n",
       "      <td>2021-04-23 15:54:31.548</td>\n",
       "    </tr>\n",
       "    <tr>\n",
       "      <th>ffffb6c8-7644-41b3-b334-f6035059539f</th>\n",
       "      <td>2021-04-19 12:07:33.345</td>\n",
       "    </tr>\n",
       "    <tr>\n",
       "      <th>fffff9f7-8eeb-4ed0-855a-9d342b5a97ef</th>\n",
       "      <td>2021-04-14 10:02:55.798</td>\n",
       "    </tr>\n",
       "  </tbody>\n",
       "</table>\n",
       "<p>240911 rows × 1 columns</p>\n",
       "</div>"
      ],
      "text/plain": [
       "                                               event_datetime\n",
       "ad_id                                                        \n",
       "00018501-6eee-45e9-b5b5-7b50f966abd8  2021-04-15 03:56:13.665\n",
       "0001edb6-e7e7-4f74-8993-2bfc9347a959  2021-04-23 19:45:27.894\n",
       "0001ef07-c27e-4d91-a8bb-d0aa5f0d45e7  2021-04-19 17:51:50.317\n",
       "000289c6-779a-4b82-bab0-652fa477be1f  2021-04-09 15:58:13.805\n",
       "0002aec5-2842-4fa8-9b13-004ec60a5a2a  2021-04-02 17:46:52.852\n",
       "...                                                       ...\n",
       "fffe4cf6-ea7b-4377-af60-a019e460bd30  2021-04-22 22:16:08.435\n",
       "fffe5e96-fb11-462b-bb81-f3bb1911f618  2021-04-11 18:23:59.781\n",
       "ffffaa74-daa9-4fe1-a4bb-9e9c5853246f  2021-04-23 15:54:31.548\n",
       "ffffb6c8-7644-41b3-b334-f6035059539f  2021-04-19 12:07:33.345\n",
       "fffff9f7-8eeb-4ed0-855a-9d342b5a97ef  2021-04-14 10:02:55.798\n",
       "\n",
       "[240911 rows x 1 columns]"
      ]
     },
     "execution_count": 9,
     "metadata": {},
     "output_type": "execute_result"
    }
   ],
   "source": [
    "grp = tutorial.groupby('ad_id')\n",
    "first_access = pd.DataFrame(grp['event_datetime'].min())"
   ]
  },
  {
   "cell_type": "code",
   "execution_count": 10,
   "id": "9af6dcf4",
   "metadata": {},
   "outputs": [],
   "source": [
    "first_access.reset_index(inplace=True)\n",
    "first_access"
   ]
  },
  {
   "cell_type": "code",
   "execution_count": 13,
   "id": "1da74409",
   "metadata": {},
   "outputs": [],
   "source": [
    "first_access.rename(columns={'event_datetime':'day0'}, inplace=True)"
   ]
  },
  {
   "cell_type": "markdown",
   "id": "3ecaf03c",
   "metadata": {},
   "source": [
    "## 2. ads 의 date와 day_0로 day계산"
   ]
  },
  {
   "cell_type": "code",
   "execution_count": 54,
   "id": "83311e05",
   "metadata": {},
   "outputs": [
    {
     "name": "stderr",
     "output_type": "stream",
     "text": [
      "/home/users/s17011720/.conda/envs/jupyter/lib/python3.7/site-packages/IPython/core/interactiveshell.py:3166: DtypeWarning: Columns (1,2,3,40,58) have mixed types.Specify dtype option on import or set low_memory=False.\n",
      "  interactivity=interactivity, compiler=compiler, result=result)\n"
     ]
    }
   ],
   "source": [
    "ads1 = pd.read_csv(\"data/brazil_ads_1to5.csv\")\n",
    "ads2 = pd.read_csv(\"data/brazil_ads_6to10.csv\")"
   ]
  },
  {
   "cell_type": "code",
   "execution_count": 55,
   "id": "f33fb202",
   "metadata": {
    "collapsed": true
   },
   "outputs": [
    {
     "data": {
      "text/plain": [
       "Index(['items', 'traffic_source_medium', 'traffic_source_source',\n",
       "       'traffic_source_name', 'event_previous_timestamp', 'ga_session_number',\n",
       "       'ga_session_number_timestamp', 'user_level', 'user_level_timestamp',\n",
       "       'frist_version', 'frist_version_timestamp', 'cuid', 'cuid_timestamp',\n",
       "       'firebase_exp_8', 'firebase_exp_8_timestamp', 'firebase_exp_10',\n",
       "       'firebase_exp_10_timestamp', 'ad_id', 'ad_id_timestamp',\n",
       "       'firebase_exp_12', 'firebase_exp_12_timestamp', 'ga_session_id',\n",
       "       'ga_session_id_timestamp', 'firebase_exp_4', 'firebase_exp_4_timestamp',\n",
       "       'firebase_exp_6', 'firebase_exp_6_timestamp', 'first_open_time',\n",
       "       'first_open_time_timestamp', 'firebase_exp_13',\n",
       "       'firebase_exp_13_timestamp', 'firebase_exp_14',\n",
       "       'firebase_exp_14_timestamp', 'firebase_exp_2',\n",
       "       'firebase_exp_2_timestamp', 'firebase_exp_3',\n",
       "       'firebase_exp_3_timestamp', 'firebase_last_notification',\n",
       "       'firebase_last_notification_timestamp', 'last_gclid', 'last_gclid_1',\n",
       "       '_ltv_USD', '_ltv_USD_timestamp', '_ltv_BRL', '_ltv_BRL_timestamp',\n",
       "       'user_pseudo_id', 'event_bundle_sequence_id', 'platform',\n",
       "       'event_server_timestamp_offset', 'app_info_install_source',\n",
       "       'app_info_firebase_app_id', 'app_info_version', 'app_info_id',\n",
       "       'event_date', 'event_name', 'device_time_zone_offset_seconds',\n",
       "       'device_operating_system', 'device_mobile_os_hardware_model',\n",
       "       'device_mobile_marketing_name', 'device_is_limited_ad_tracking',\n",
       "       'device_advertising_id', 'device_operating_system_version',\n",
       "       'device_mobile_model_name', 'device_language',\n",
       "       'device_mobile_brand_name', 'device_category', 'geo_metro',\n",
       "       'geo_sub_continent', 'geo_city', 'geo_region', 'geo_country',\n",
       "       'geo_continent', 'ga_session_id_1', 'stage', 'Interval_time', 'ad_id_1',\n",
       "       'firebase_event_origin', 'firebase_event_class', 'state', 'network',\n",
       "       'placement_id', 'gubun', 'firebase_screen_id', 'ga_session_number_1',\n",
       "       'engaged_session_event', 'placement_name', 'user_first_touch_timestamp',\n",
       "       'stream_id', 'event_timestamp'],\n",
       "      dtype='object')"
      ]
     },
     "execution_count": 55,
     "metadata": {},
     "output_type": "execute_result"
    }
   ],
   "source": [
    "ads1.columns"
   ]
  },
  {
   "cell_type": "code",
   "execution_count": 56,
   "id": "edd743aa",
   "metadata": {},
   "outputs": [],
   "source": [
    "sub_ads1 = ads1[['ad_id', 'event_timestamp', 'gubun', 'state']]\n",
    "sub_ads2 = ads2[['ad_id', 'event_timestamp', 'gubun', 'state']]"
   ]
  },
  {
   "cell_type": "code",
   "execution_count": 57,
   "id": "8559ee90",
   "metadata": {
    "collapsed": true
   },
   "outputs": [
    {
     "name": "stderr",
     "output_type": "stream",
     "text": [
      "/home/users/s17011720/.conda/envs/jupyter/lib/python3.7/site-packages/pandas/core/indexing.py:1596: SettingWithCopyWarning: \n",
      "A value is trying to be set on a copy of a slice from a DataFrame.\n",
      "Try using .loc[row_indexer,col_indexer] = value instead\n",
      "\n",
      "See the caveats in the documentation: https://pandas.pydata.org/pandas-docs/stable/user_guide/indexing.html#returning-a-view-versus-a-copy\n",
      "  self.obj[key] = _infer_fill_value(value)\n",
      "/home/users/s17011720/.conda/envs/jupyter/lib/python3.7/site-packages/pandas/core/indexing.py:1743: SettingWithCopyWarning: \n",
      "A value is trying to be set on a copy of a slice from a DataFrame.\n",
      "Try using .loc[row_indexer,col_indexer] = value instead\n",
      "\n",
      "See the caveats in the documentation: https://pandas.pydata.org/pandas-docs/stable/user_guide/indexing.html#returning-a-view-versus-a-copy\n",
      "  isetter(ilocs[0], value)\n"
     ]
    }
   ],
   "source": [
    "sub_ads1_datetime = pd.to_datetime(sub_ads1['event_timestamp'], unit='us')\n",
    "sub_ads1.loc[:, 'event_datetime'] = sub_ads1_datetime"
   ]
  },
  {
   "cell_type": "code",
   "execution_count": 58,
   "id": "c6e6bd33",
   "metadata": {},
   "outputs": [],
   "source": [
    "sub_ads2_datetime = pd.to_datetime(sub_ads2['event_timestamp'], unit='us')\n",
    "sub_ads2.loc[:, 'event_datetime'] = sub_ads2_datetime"
   ]
  },
  {
   "cell_type": "code",
   "execution_count": 59,
   "id": "d002a30c",
   "metadata": {},
   "outputs": [
    {
     "data": {
      "text/plain": [
       "(9501099, 5)"
      ]
     },
     "execution_count": 59,
     "metadata": {},
     "output_type": "execute_result"
    }
   ],
   "source": [
    "sub_ads1.shape"
   ]
  },
  {
   "cell_type": "code",
   "execution_count": 60,
   "id": "8ddcd257",
   "metadata": {},
   "outputs": [
    {
     "data": {
      "text/plain": [
       "(9498999, 5)"
      ]
     },
     "execution_count": 60,
     "metadata": {},
     "output_type": "execute_result"
    }
   ],
   "source": [
    "sub_ads2.shape"
   ]
  },
  {
   "cell_type": "code",
   "execution_count": 61,
   "id": "359cf32b",
   "metadata": {},
   "outputs": [],
   "source": [
    "ads = pd.concat([sub_ads1, sub_ads2], ignore_index=True)\n",
    "ads.shape"
   ]
  },
  {
   "cell_type": "code",
   "execution_count": 62,
   "id": "ecd68d34",
   "metadata": {},
   "outputs": [
    {
     "data": {
      "text/plain": [
       "243416"
      ]
     },
     "execution_count": 62,
     "metadata": {},
     "output_type": "execute_result"
    }
   ],
   "source": [
    "len(ads['ad_id'].unique())"
   ]
  },
  {
   "cell_type": "code",
   "execution_count": 63,
   "id": "d0a46cd1",
   "metadata": {},
   "outputs": [
    {
     "data": {
      "text/plain": [
       "165586"
      ]
     },
     "execution_count": 63,
     "metadata": {},
     "output_type": "execute_result"
    }
   ],
   "source": [
    "ads['ad_id'].isnull().sum()"
   ]
  },
  {
   "cell_type": "code",
   "execution_count": 64,
   "id": "5fbeb981",
   "metadata": {},
   "outputs": [
    {
     "data": {
      "text/plain": [
       "(240911, 2)"
      ]
     },
     "execution_count": 64,
     "metadata": {},
     "output_type": "execute_result"
    }
   ],
   "source": [
    "first_access.shape"
   ]
  },
  {
   "cell_type": "code",
   "execution_count": 178,
   "id": "5c5b73bb",
   "metadata": {
    "scrolled": true
   },
   "outputs": [
    {
     "data": {
      "text/plain": [
       "Index(['ad_id', 'event_timestamp', 'gubun', 'state', 'event_datetime', 'day0'], dtype='object')"
      ]
     },
     "execution_count": 178,
     "metadata": {},
     "output_type": "execute_result"
    }
   ],
   "source": [
    "df = pd.merge(ads, first_access, how='inner', on='ad_id')\n",
    "df.shape"
   ]
  },
  {
   "cell_type": "code",
   "execution_count": 179,
   "id": "f98e3dbc",
   "metadata": {},
   "outputs": [],
   "source": [
    "df['day0'] = pd.to_datetime(df['day0'])\n",
    "df.info()"
   ]
  },
  {
   "cell_type": "code",
   "execution_count": 181,
   "id": "492931f2",
   "metadata": {},
   "outputs": [],
   "source": [
    "df.loc[:, 'day_x'] = ((df['event_datetime'].dt.date) - (df['day0'].dt.date)).dt.days\n",
    "df.head()"
   ]
  },
  {
   "cell_type": "code",
   "execution_count": 183,
   "id": "1ccd46ff",
   "metadata": {},
   "outputs": [
    {
     "data": {
      "text/html": [
       "<div>\n",
       "<style scoped>\n",
       "    .dataframe tbody tr th:only-of-type {\n",
       "        vertical-align: middle;\n",
       "    }\n",
       "\n",
       "    .dataframe tbody tr th {\n",
       "        vertical-align: top;\n",
       "    }\n",
       "\n",
       "    .dataframe thead th {\n",
       "        text-align: right;\n",
       "    }\n",
       "</style>\n",
       "<table border=\"1\" class=\"dataframe\">\n",
       "  <thead>\n",
       "    <tr style=\"text-align: right;\">\n",
       "      <th></th>\n",
       "      <th>ad_id</th>\n",
       "      <th>event_timestamp</th>\n",
       "      <th>gubun</th>\n",
       "      <th>state</th>\n",
       "      <th>event_datetime</th>\n",
       "      <th>day0</th>\n",
       "      <th>day_x</th>\n",
       "    </tr>\n",
       "  </thead>\n",
       "  <tbody>\n",
       "    <tr>\n",
       "      <th>258323</th>\n",
       "      <td>5855c472-ec5d-4e3a-ad67-046d17817dfc</td>\n",
       "      <td>1617403180278000</td>\n",
       "      <td>rv</td>\n",
       "      <td>view</td>\n",
       "      <td>2021-04-02 22:39:40.278</td>\n",
       "      <td>2021-04-03 00:56:04.440</td>\n",
       "      <td>-1</td>\n",
       "    </tr>\n",
       "    <tr>\n",
       "      <th>258335</th>\n",
       "      <td>5855c472-ec5d-4e3a-ad67-046d17817dfc</td>\n",
       "      <td>1617403506198000</td>\n",
       "      <td>rv</td>\n",
       "      <td>view</td>\n",
       "      <td>2021-04-02 22:45:06.198</td>\n",
       "      <td>2021-04-03 00:56:04.440</td>\n",
       "      <td>-1</td>\n",
       "    </tr>\n",
       "    <tr>\n",
       "      <th>258336</th>\n",
       "      <td>5855c472-ec5d-4e3a-ad67-046d17817dfc</td>\n",
       "      <td>1617403574549000</td>\n",
       "      <td>ba</td>\n",
       "      <td>imps</td>\n",
       "      <td>2021-04-02 22:46:14.549</td>\n",
       "      <td>2021-04-03 00:56:04.440</td>\n",
       "      <td>-1</td>\n",
       "    </tr>\n",
       "    <tr>\n",
       "      <th>258349</th>\n",
       "      <td>5855c472-ec5d-4e3a-ad67-046d17817dfc</td>\n",
       "      <td>1617403249303000</td>\n",
       "      <td>ba</td>\n",
       "      <td>imps</td>\n",
       "      <td>2021-04-02 22:40:49.303</td>\n",
       "      <td>2021-04-03 00:56:04.440</td>\n",
       "      <td>-1</td>\n",
       "    </tr>\n",
       "    <tr>\n",
       "      <th>258357</th>\n",
       "      <td>5855c472-ec5d-4e3a-ad67-046d17817dfc</td>\n",
       "      <td>1617403422475000</td>\n",
       "      <td>ba</td>\n",
       "      <td>imps</td>\n",
       "      <td>2021-04-02 22:43:42.475</td>\n",
       "      <td>2021-04-03 00:56:04.440</td>\n",
       "      <td>-1</td>\n",
       "    </tr>\n",
       "  </tbody>\n",
       "</table>\n",
       "</div>"
      ],
      "text/plain": [
       "                                       ad_id   event_timestamp gubun state  \\\n",
       "258323  5855c472-ec5d-4e3a-ad67-046d17817dfc  1617403180278000    rv  view   \n",
       "258335  5855c472-ec5d-4e3a-ad67-046d17817dfc  1617403506198000    rv  view   \n",
       "258336  5855c472-ec5d-4e3a-ad67-046d17817dfc  1617403574549000    ba  imps   \n",
       "258349  5855c472-ec5d-4e3a-ad67-046d17817dfc  1617403249303000    ba  imps   \n",
       "258357  5855c472-ec5d-4e3a-ad67-046d17817dfc  1617403422475000    ba  imps   \n",
       "\n",
       "                event_datetime                    day0  day_x  \n",
       "258323 2021-04-02 22:39:40.278 2021-04-03 00:56:04.440     -1  \n",
       "258335 2021-04-02 22:45:06.198 2021-04-03 00:56:04.440     -1  \n",
       "258336 2021-04-02 22:46:14.549 2021-04-03 00:56:04.440     -1  \n",
       "258349 2021-04-02 22:40:49.303 2021-04-03 00:56:04.440     -1  \n",
       "258357 2021-04-02 22:43:42.475 2021-04-03 00:56:04.440     -1  "
      ]
     },
     "execution_count": 183,
     "metadata": {},
     "output_type": "execute_result"
    }
   ],
   "source": [
    "df[df['day_x']<0].head()"
   ]
  },
  {
   "cell_type": "code",
   "execution_count": 71,
   "id": "f3d3dc63",
   "metadata": {},
   "outputs": [],
   "source": [
    "not_new_user = df[df['day_x']<0]['ad_id'].unique()"
   ]
  },
  {
   "cell_type": "code",
   "execution_count": 72,
   "id": "d6759406",
   "metadata": {},
   "outputs": [
    {
     "data": {
      "text/plain": [
       "(18718875, 7)"
      ]
     },
     "execution_count": 72,
     "metadata": {},
     "output_type": "execute_result"
    }
   ],
   "source": [
    "df1 = df[~df['ad_id'].isin(not_new_user)]\n",
    "df1.shape"
   ]
  },
  {
   "cell_type": "code",
   "execution_count": 73,
   "id": "dd3a85d6",
   "metadata": {},
   "outputs": [
    {
     "data": {
      "text/plain": [
       "240736"
      ]
     },
     "execution_count": 73,
     "metadata": {},
     "output_type": "execute_result"
    }
   ],
   "source": [
    "len(df1['ad_id'].unique())"
   ]
  },
  {
   "cell_type": "code",
   "execution_count": 74,
   "id": "0b6926e3",
   "metadata": {
    "scrolled": true
   },
   "outputs": [
    {
     "data": {
      "text/plain": [
       "0"
      ]
     },
     "execution_count": 74,
     "metadata": {},
     "output_type": "execute_result"
    }
   ],
   "source": [
    "df1['day_x'].min()"
   ]
  },
  {
   "cell_type": "code",
   "execution_count": 75,
   "id": "c00f1b3e",
   "metadata": {},
   "outputs": [
    {
     "data": {
      "text/plain": [
       "44"
      ]
     },
     "execution_count": 75,
     "metadata": {},
     "output_type": "execute_result"
    }
   ],
   "source": [
    "df1['day_x'].max()"
   ]
  },
  {
   "cell_type": "code",
   "execution_count": 208,
   "id": "dd9d866e",
   "metadata": {},
   "outputs": [],
   "source": [
    "df1 = df1[df1['state']=='imps']"
   ]
  },
  {
   "cell_type": "code",
   "execution_count": 209,
   "id": "b1d33c43",
   "metadata": {},
   "outputs": [
    {
     "data": {
      "text/html": [
       "<div>\n",
       "<style scoped>\n",
       "    .dataframe tbody tr th:only-of-type {\n",
       "        vertical-align: middle;\n",
       "    }\n",
       "\n",
       "    .dataframe tbody tr th {\n",
       "        vertical-align: top;\n",
       "    }\n",
       "\n",
       "    .dataframe thead th {\n",
       "        text-align: right;\n",
       "    }\n",
       "</style>\n",
       "<table border=\"1\" class=\"dataframe\">\n",
       "  <thead>\n",
       "    <tr style=\"text-align: right;\">\n",
       "      <th></th>\n",
       "      <th></th>\n",
       "      <th>state</th>\n",
       "    </tr>\n",
       "    <tr>\n",
       "      <th>ad_id</th>\n",
       "      <th>day_x</th>\n",
       "      <th></th>\n",
       "    </tr>\n",
       "  </thead>\n",
       "  <tbody>\n",
       "    <tr>\n",
       "      <th>00018501-6eee-45e9-b5b5-7b50f966abd8</th>\n",
       "      <th>0</th>\n",
       "      <td>1</td>\n",
       "    </tr>\n",
       "    <tr>\n",
       "      <th>0001edb6-e7e7-4f74-8993-2bfc9347a959</th>\n",
       "      <th>0</th>\n",
       "      <td>19</td>\n",
       "    </tr>\n",
       "    <tr>\n",
       "      <th rowspan=\"2\" valign=\"top\">0001ef07-c27e-4d91-a8bb-d0aa5f0d45e7</th>\n",
       "      <th>0</th>\n",
       "      <td>6</td>\n",
       "    </tr>\n",
       "    <tr>\n",
       "      <th>1</th>\n",
       "      <td>11</td>\n",
       "    </tr>\n",
       "    <tr>\n",
       "      <th>000289c6-779a-4b82-bab0-652fa477be1f</th>\n",
       "      <th>0</th>\n",
       "      <td>6</td>\n",
       "    </tr>\n",
       "  </tbody>\n",
       "</table>\n",
       "</div>"
      ],
      "text/plain": [
       "                                            state\n",
       "ad_id                                day_x       \n",
       "00018501-6eee-45e9-b5b5-7b50f966abd8 0          1\n",
       "0001edb6-e7e7-4f74-8993-2bfc9347a959 0         19\n",
       "0001ef07-c27e-4d91-a8bb-d0aa5f0d45e7 0          6\n",
       "                                     1         11\n",
       "000289c6-779a-4b82-bab0-652fa477be1f 0          6"
      ]
     },
     "execution_count": 209,
     "metadata": {},
     "output_type": "execute_result"
    }
   ],
   "source": [
    "df2 = pd.DataFrame(df1.groupby(['ad_id', 'day_x'])['state'].count())\n",
    "df2.head()"
   ]
  },
  {
   "cell_type": "code",
   "execution_count": 210,
   "id": "1941f304",
   "metadata": {},
   "outputs": [
    {
     "data": {
      "text/html": [
       "<div>\n",
       "<style scoped>\n",
       "    .dataframe tbody tr th:only-of-type {\n",
       "        vertical-align: middle;\n",
       "    }\n",
       "\n",
       "    .dataframe tbody tr th {\n",
       "        vertical-align: top;\n",
       "    }\n",
       "\n",
       "    .dataframe thead tr th {\n",
       "        text-align: left;\n",
       "    }\n",
       "</style>\n",
       "<table border=\"1\" class=\"dataframe\">\n",
       "  <thead>\n",
       "    <tr>\n",
       "      <th></th>\n",
       "      <th>ad_id</th>\n",
       "      <th colspan=\"20\" halign=\"left\">state</th>\n",
       "    </tr>\n",
       "    <tr>\n",
       "      <th>day_x</th>\n",
       "      <th></th>\n",
       "      <th>0</th>\n",
       "      <th>1</th>\n",
       "      <th>2</th>\n",
       "      <th>3</th>\n",
       "      <th>4</th>\n",
       "      <th>5</th>\n",
       "      <th>6</th>\n",
       "      <th>7</th>\n",
       "      <th>8</th>\n",
       "      <th>...</th>\n",
       "      <th>34</th>\n",
       "      <th>35</th>\n",
       "      <th>36</th>\n",
       "      <th>37</th>\n",
       "      <th>38</th>\n",
       "      <th>39</th>\n",
       "      <th>40</th>\n",
       "      <th>41</th>\n",
       "      <th>42</th>\n",
       "      <th>43</th>\n",
       "    </tr>\n",
       "  </thead>\n",
       "  <tbody>\n",
       "    <tr>\n",
       "      <th>0</th>\n",
       "      <td>00018501-6eee-45e9-b5b5-7b50f966abd8</td>\n",
       "      <td>1.0</td>\n",
       "      <td>NaN</td>\n",
       "      <td>NaN</td>\n",
       "      <td>NaN</td>\n",
       "      <td>NaN</td>\n",
       "      <td>NaN</td>\n",
       "      <td>NaN</td>\n",
       "      <td>NaN</td>\n",
       "      <td>NaN</td>\n",
       "      <td>...</td>\n",
       "      <td>NaN</td>\n",
       "      <td>NaN</td>\n",
       "      <td>NaN</td>\n",
       "      <td>NaN</td>\n",
       "      <td>NaN</td>\n",
       "      <td>NaN</td>\n",
       "      <td>NaN</td>\n",
       "      <td>NaN</td>\n",
       "      <td>NaN</td>\n",
       "      <td>NaN</td>\n",
       "    </tr>\n",
       "    <tr>\n",
       "      <th>1</th>\n",
       "      <td>0001edb6-e7e7-4f74-8993-2bfc9347a959</td>\n",
       "      <td>19.0</td>\n",
       "      <td>NaN</td>\n",
       "      <td>NaN</td>\n",
       "      <td>NaN</td>\n",
       "      <td>NaN</td>\n",
       "      <td>NaN</td>\n",
       "      <td>NaN</td>\n",
       "      <td>NaN</td>\n",
       "      <td>NaN</td>\n",
       "      <td>...</td>\n",
       "      <td>NaN</td>\n",
       "      <td>NaN</td>\n",
       "      <td>NaN</td>\n",
       "      <td>NaN</td>\n",
       "      <td>NaN</td>\n",
       "      <td>NaN</td>\n",
       "      <td>NaN</td>\n",
       "      <td>NaN</td>\n",
       "      <td>NaN</td>\n",
       "      <td>NaN</td>\n",
       "    </tr>\n",
       "    <tr>\n",
       "      <th>2</th>\n",
       "      <td>0001ef07-c27e-4d91-a8bb-d0aa5f0d45e7</td>\n",
       "      <td>6.0</td>\n",
       "      <td>11.0</td>\n",
       "      <td>NaN</td>\n",
       "      <td>NaN</td>\n",
       "      <td>NaN</td>\n",
       "      <td>NaN</td>\n",
       "      <td>NaN</td>\n",
       "      <td>NaN</td>\n",
       "      <td>NaN</td>\n",
       "      <td>...</td>\n",
       "      <td>NaN</td>\n",
       "      <td>NaN</td>\n",
       "      <td>NaN</td>\n",
       "      <td>NaN</td>\n",
       "      <td>NaN</td>\n",
       "      <td>NaN</td>\n",
       "      <td>NaN</td>\n",
       "      <td>NaN</td>\n",
       "      <td>NaN</td>\n",
       "      <td>NaN</td>\n",
       "    </tr>\n",
       "    <tr>\n",
       "      <th>3</th>\n",
       "      <td>000289c6-779a-4b82-bab0-652fa477be1f</td>\n",
       "      <td>6.0</td>\n",
       "      <td>NaN</td>\n",
       "      <td>NaN</td>\n",
       "      <td>NaN</td>\n",
       "      <td>NaN</td>\n",
       "      <td>NaN</td>\n",
       "      <td>NaN</td>\n",
       "      <td>NaN</td>\n",
       "      <td>NaN</td>\n",
       "      <td>...</td>\n",
       "      <td>NaN</td>\n",
       "      <td>NaN</td>\n",
       "      <td>NaN</td>\n",
       "      <td>NaN</td>\n",
       "      <td>NaN</td>\n",
       "      <td>NaN</td>\n",
       "      <td>NaN</td>\n",
       "      <td>NaN</td>\n",
       "      <td>NaN</td>\n",
       "      <td>NaN</td>\n",
       "    </tr>\n",
       "    <tr>\n",
       "      <th>4</th>\n",
       "      <td>0002aec5-2842-4fa8-9b13-004ec60a5a2a</td>\n",
       "      <td>6.0</td>\n",
       "      <td>NaN</td>\n",
       "      <td>NaN</td>\n",
       "      <td>NaN</td>\n",
       "      <td>NaN</td>\n",
       "      <td>NaN</td>\n",
       "      <td>NaN</td>\n",
       "      <td>NaN</td>\n",
       "      <td>NaN</td>\n",
       "      <td>...</td>\n",
       "      <td>NaN</td>\n",
       "      <td>NaN</td>\n",
       "      <td>NaN</td>\n",
       "      <td>NaN</td>\n",
       "      <td>NaN</td>\n",
       "      <td>NaN</td>\n",
       "      <td>NaN</td>\n",
       "      <td>NaN</td>\n",
       "      <td>NaN</td>\n",
       "      <td>NaN</td>\n",
       "    </tr>\n",
       "  </tbody>\n",
       "</table>\n",
       "<p>5 rows × 45 columns</p>\n",
       "</div>"
      ],
      "text/plain": [
       "                                      ad_id state                            \\\n",
       "day_x                                           0     1   2   3   4   5   6   \n",
       "0      00018501-6eee-45e9-b5b5-7b50f966abd8   1.0   NaN NaN NaN NaN NaN NaN   \n",
       "1      0001edb6-e7e7-4f74-8993-2bfc9347a959  19.0   NaN NaN NaN NaN NaN NaN   \n",
       "2      0001ef07-c27e-4d91-a8bb-d0aa5f0d45e7   6.0  11.0 NaN NaN NaN NaN NaN   \n",
       "3      000289c6-779a-4b82-bab0-652fa477be1f   6.0   NaN NaN NaN NaN NaN NaN   \n",
       "4      0002aec5-2842-4fa8-9b13-004ec60a5a2a   6.0   NaN NaN NaN NaN NaN NaN   \n",
       "\n",
       "               ...                                          \n",
       "day_x   7   8  ...  34  35  36  37  38  39  40  41  42  43  \n",
       "0     NaN NaN  ... NaN NaN NaN NaN NaN NaN NaN NaN NaN NaN  \n",
       "1     NaN NaN  ... NaN NaN NaN NaN NaN NaN NaN NaN NaN NaN  \n",
       "2     NaN NaN  ... NaN NaN NaN NaN NaN NaN NaN NaN NaN NaN  \n",
       "3     NaN NaN  ... NaN NaN NaN NaN NaN NaN NaN NaN NaN NaN  \n",
       "4     NaN NaN  ... NaN NaN NaN NaN NaN NaN NaN NaN NaN NaN  \n",
       "\n",
       "[5 rows x 45 columns]"
      ]
     },
     "execution_count": 210,
     "metadata": {},
     "output_type": "execute_result"
    }
   ],
   "source": [
    "df3 = df2.unstack().reset_index()\n",
    "df3.head()"
   ]
  },
  {
   "cell_type": "code",
   "execution_count": 211,
   "id": "11e21d95",
   "metadata": {},
   "outputs": [
    {
     "data": {
      "text/plain": [
       "(225097, 45)"
      ]
     },
     "execution_count": 211,
     "metadata": {},
     "output_type": "execute_result"
    }
   ],
   "source": [
    "df3.shape #(240736, 46)"
   ]
  },
  {
   "cell_type": "code",
   "execution_count": 212,
   "id": "8b1d2eaf",
   "metadata": {},
   "outputs": [],
   "source": [
    "ads_df = df3['state']"
   ]
  },
  {
   "cell_type": "code",
   "execution_count": 213,
   "id": "eabaaff7",
   "metadata": {},
   "outputs": [
    {
     "data": {
      "text/html": [
       "<div>\n",
       "<style scoped>\n",
       "    .dataframe tbody tr th:only-of-type {\n",
       "        vertical-align: middle;\n",
       "    }\n",
       "\n",
       "    .dataframe tbody tr th {\n",
       "        vertical-align: top;\n",
       "    }\n",
       "\n",
       "    .dataframe thead th {\n",
       "        text-align: right;\n",
       "    }\n",
       "</style>\n",
       "<table border=\"1\" class=\"dataframe\">\n",
       "  <thead>\n",
       "    <tr style=\"text-align: right;\">\n",
       "      <th>day_x</th>\n",
       "      <th>0</th>\n",
       "      <th>1</th>\n",
       "      <th>2</th>\n",
       "      <th>3</th>\n",
       "      <th>4</th>\n",
       "      <th>5</th>\n",
       "      <th>6</th>\n",
       "      <th>7</th>\n",
       "      <th>8</th>\n",
       "      <th>9</th>\n",
       "      <th>...</th>\n",
       "      <th>35</th>\n",
       "      <th>36</th>\n",
       "      <th>37</th>\n",
       "      <th>38</th>\n",
       "      <th>39</th>\n",
       "      <th>40</th>\n",
       "      <th>41</th>\n",
       "      <th>42</th>\n",
       "      <th>43</th>\n",
       "      <th>ad_id</th>\n",
       "    </tr>\n",
       "  </thead>\n",
       "  <tbody>\n",
       "    <tr>\n",
       "      <th>0</th>\n",
       "      <td>1.0</td>\n",
       "      <td>NaN</td>\n",
       "      <td>NaN</td>\n",
       "      <td>NaN</td>\n",
       "      <td>NaN</td>\n",
       "      <td>NaN</td>\n",
       "      <td>NaN</td>\n",
       "      <td>NaN</td>\n",
       "      <td>NaN</td>\n",
       "      <td>NaN</td>\n",
       "      <td>...</td>\n",
       "      <td>NaN</td>\n",
       "      <td>NaN</td>\n",
       "      <td>NaN</td>\n",
       "      <td>NaN</td>\n",
       "      <td>NaN</td>\n",
       "      <td>NaN</td>\n",
       "      <td>NaN</td>\n",
       "      <td>NaN</td>\n",
       "      <td>NaN</td>\n",
       "      <td>00018501-6eee-45e9-b5b5-7b50f966abd8</td>\n",
       "    </tr>\n",
       "    <tr>\n",
       "      <th>1</th>\n",
       "      <td>19.0</td>\n",
       "      <td>NaN</td>\n",
       "      <td>NaN</td>\n",
       "      <td>NaN</td>\n",
       "      <td>NaN</td>\n",
       "      <td>NaN</td>\n",
       "      <td>NaN</td>\n",
       "      <td>NaN</td>\n",
       "      <td>NaN</td>\n",
       "      <td>NaN</td>\n",
       "      <td>...</td>\n",
       "      <td>NaN</td>\n",
       "      <td>NaN</td>\n",
       "      <td>NaN</td>\n",
       "      <td>NaN</td>\n",
       "      <td>NaN</td>\n",
       "      <td>NaN</td>\n",
       "      <td>NaN</td>\n",
       "      <td>NaN</td>\n",
       "      <td>NaN</td>\n",
       "      <td>0001edb6-e7e7-4f74-8993-2bfc9347a959</td>\n",
       "    </tr>\n",
       "    <tr>\n",
       "      <th>2</th>\n",
       "      <td>6.0</td>\n",
       "      <td>11.0</td>\n",
       "      <td>NaN</td>\n",
       "      <td>NaN</td>\n",
       "      <td>NaN</td>\n",
       "      <td>NaN</td>\n",
       "      <td>NaN</td>\n",
       "      <td>NaN</td>\n",
       "      <td>NaN</td>\n",
       "      <td>NaN</td>\n",
       "      <td>...</td>\n",
       "      <td>NaN</td>\n",
       "      <td>NaN</td>\n",
       "      <td>NaN</td>\n",
       "      <td>NaN</td>\n",
       "      <td>NaN</td>\n",
       "      <td>NaN</td>\n",
       "      <td>NaN</td>\n",
       "      <td>NaN</td>\n",
       "      <td>NaN</td>\n",
       "      <td>0001ef07-c27e-4d91-a8bb-d0aa5f0d45e7</td>\n",
       "    </tr>\n",
       "    <tr>\n",
       "      <th>3</th>\n",
       "      <td>6.0</td>\n",
       "      <td>NaN</td>\n",
       "      <td>NaN</td>\n",
       "      <td>NaN</td>\n",
       "      <td>NaN</td>\n",
       "      <td>NaN</td>\n",
       "      <td>NaN</td>\n",
       "      <td>NaN</td>\n",
       "      <td>NaN</td>\n",
       "      <td>NaN</td>\n",
       "      <td>...</td>\n",
       "      <td>NaN</td>\n",
       "      <td>NaN</td>\n",
       "      <td>NaN</td>\n",
       "      <td>NaN</td>\n",
       "      <td>NaN</td>\n",
       "      <td>NaN</td>\n",
       "      <td>NaN</td>\n",
       "      <td>NaN</td>\n",
       "      <td>NaN</td>\n",
       "      <td>000289c6-779a-4b82-bab0-652fa477be1f</td>\n",
       "    </tr>\n",
       "    <tr>\n",
       "      <th>4</th>\n",
       "      <td>6.0</td>\n",
       "      <td>NaN</td>\n",
       "      <td>NaN</td>\n",
       "      <td>NaN</td>\n",
       "      <td>NaN</td>\n",
       "      <td>NaN</td>\n",
       "      <td>NaN</td>\n",
       "      <td>NaN</td>\n",
       "      <td>NaN</td>\n",
       "      <td>NaN</td>\n",
       "      <td>...</td>\n",
       "      <td>NaN</td>\n",
       "      <td>NaN</td>\n",
       "      <td>NaN</td>\n",
       "      <td>NaN</td>\n",
       "      <td>NaN</td>\n",
       "      <td>NaN</td>\n",
       "      <td>NaN</td>\n",
       "      <td>NaN</td>\n",
       "      <td>NaN</td>\n",
       "      <td>0002aec5-2842-4fa8-9b13-004ec60a5a2a</td>\n",
       "    </tr>\n",
       "  </tbody>\n",
       "</table>\n",
       "<p>5 rows × 45 columns</p>\n",
       "</div>"
      ],
      "text/plain": [
       "day_x     0     1   2   3   4   5   6   7   8   9  ...  35  36  37  38  39  \\\n",
       "0       1.0   NaN NaN NaN NaN NaN NaN NaN NaN NaN  ... NaN NaN NaN NaN NaN   \n",
       "1      19.0   NaN NaN NaN NaN NaN NaN NaN NaN NaN  ... NaN NaN NaN NaN NaN   \n",
       "2       6.0  11.0 NaN NaN NaN NaN NaN NaN NaN NaN  ... NaN NaN NaN NaN NaN   \n",
       "3       6.0   NaN NaN NaN NaN NaN NaN NaN NaN NaN  ... NaN NaN NaN NaN NaN   \n",
       "4       6.0   NaN NaN NaN NaN NaN NaN NaN NaN NaN  ... NaN NaN NaN NaN NaN   \n",
       "\n",
       "day_x  40  41  42  43                                 ad_id  \n",
       "0     NaN NaN NaN NaN  00018501-6eee-45e9-b5b5-7b50f966abd8  \n",
       "1     NaN NaN NaN NaN  0001edb6-e7e7-4f74-8993-2bfc9347a959  \n",
       "2     NaN NaN NaN NaN  0001ef07-c27e-4d91-a8bb-d0aa5f0d45e7  \n",
       "3     NaN NaN NaN NaN  000289c6-779a-4b82-bab0-652fa477be1f  \n",
       "4     NaN NaN NaN NaN  0002aec5-2842-4fa8-9b13-004ec60a5a2a  \n",
       "\n",
       "[5 rows x 45 columns]"
      ]
     },
     "execution_count": 213,
     "metadata": {},
     "output_type": "execute_result"
    }
   ],
   "source": [
    "ads_df.loc[:, 'ad_id'] = df3['ad_id']\n",
    "ads_df.head()"
   ]
  },
  {
   "cell_type": "code",
   "execution_count": 214,
   "id": "758db1ae",
   "metadata": {},
   "outputs": [
    {
     "data": {
      "text/plain": [
       "3792"
      ]
     },
     "execution_count": 214,
     "metadata": {},
     "output_type": "execute_result"
    }
   ],
   "source": [
    "ads_df[0].isnull().sum() \n",
    "# total -> 351   # imps -> 3792"
   ]
  },
  {
   "cell_type": "code",
   "execution_count": 215,
   "id": "a550c258",
   "metadata": {},
   "outputs": [],
   "source": [
    "ads_df['cum_imps'] = ads_df.loc[:, [2,3,4,5,6,7]].sum(axis=1)"
   ]
  },
  {
   "cell_type": "code",
   "execution_count": 216,
   "id": "bfee1ab9",
   "metadata": {},
   "outputs": [
    {
     "data": {
      "text/html": [
       "<div>\n",
       "<style scoped>\n",
       "    .dataframe tbody tr th:only-of-type {\n",
       "        vertical-align: middle;\n",
       "    }\n",
       "\n",
       "    .dataframe tbody tr th {\n",
       "        vertical-align: top;\n",
       "    }\n",
       "\n",
       "    .dataframe thead th {\n",
       "        text-align: right;\n",
       "    }\n",
       "</style>\n",
       "<table border=\"1\" class=\"dataframe\">\n",
       "  <thead>\n",
       "    <tr style=\"text-align: right;\">\n",
       "      <th>day_x</th>\n",
       "      <th>0</th>\n",
       "      <th>1</th>\n",
       "      <th>2</th>\n",
       "      <th>3</th>\n",
       "      <th>4</th>\n",
       "      <th>5</th>\n",
       "      <th>6</th>\n",
       "      <th>7</th>\n",
       "      <th>8</th>\n",
       "      <th>9</th>\n",
       "      <th>...</th>\n",
       "      <th>36</th>\n",
       "      <th>37</th>\n",
       "      <th>38</th>\n",
       "      <th>39</th>\n",
       "      <th>40</th>\n",
       "      <th>41</th>\n",
       "      <th>42</th>\n",
       "      <th>43</th>\n",
       "      <th>ad_id</th>\n",
       "      <th>cum_imps</th>\n",
       "    </tr>\n",
       "  </thead>\n",
       "  <tbody>\n",
       "    <tr>\n",
       "      <th>0</th>\n",
       "      <td>1.0</td>\n",
       "      <td>NaN</td>\n",
       "      <td>NaN</td>\n",
       "      <td>NaN</td>\n",
       "      <td>NaN</td>\n",
       "      <td>NaN</td>\n",
       "      <td>NaN</td>\n",
       "      <td>NaN</td>\n",
       "      <td>NaN</td>\n",
       "      <td>NaN</td>\n",
       "      <td>...</td>\n",
       "      <td>NaN</td>\n",
       "      <td>NaN</td>\n",
       "      <td>NaN</td>\n",
       "      <td>NaN</td>\n",
       "      <td>NaN</td>\n",
       "      <td>NaN</td>\n",
       "      <td>NaN</td>\n",
       "      <td>NaN</td>\n",
       "      <td>00018501-6eee-45e9-b5b5-7b50f966abd8</td>\n",
       "      <td>0.0</td>\n",
       "    </tr>\n",
       "    <tr>\n",
       "      <th>1</th>\n",
       "      <td>19.0</td>\n",
       "      <td>NaN</td>\n",
       "      <td>NaN</td>\n",
       "      <td>NaN</td>\n",
       "      <td>NaN</td>\n",
       "      <td>NaN</td>\n",
       "      <td>NaN</td>\n",
       "      <td>NaN</td>\n",
       "      <td>NaN</td>\n",
       "      <td>NaN</td>\n",
       "      <td>...</td>\n",
       "      <td>NaN</td>\n",
       "      <td>NaN</td>\n",
       "      <td>NaN</td>\n",
       "      <td>NaN</td>\n",
       "      <td>NaN</td>\n",
       "      <td>NaN</td>\n",
       "      <td>NaN</td>\n",
       "      <td>NaN</td>\n",
       "      <td>0001edb6-e7e7-4f74-8993-2bfc9347a959</td>\n",
       "      <td>0.0</td>\n",
       "    </tr>\n",
       "    <tr>\n",
       "      <th>2</th>\n",
       "      <td>6.0</td>\n",
       "      <td>11.0</td>\n",
       "      <td>NaN</td>\n",
       "      <td>NaN</td>\n",
       "      <td>NaN</td>\n",
       "      <td>NaN</td>\n",
       "      <td>NaN</td>\n",
       "      <td>NaN</td>\n",
       "      <td>NaN</td>\n",
       "      <td>NaN</td>\n",
       "      <td>...</td>\n",
       "      <td>NaN</td>\n",
       "      <td>NaN</td>\n",
       "      <td>NaN</td>\n",
       "      <td>NaN</td>\n",
       "      <td>NaN</td>\n",
       "      <td>NaN</td>\n",
       "      <td>NaN</td>\n",
       "      <td>NaN</td>\n",
       "      <td>0001ef07-c27e-4d91-a8bb-d0aa5f0d45e7</td>\n",
       "      <td>0.0</td>\n",
       "    </tr>\n",
       "    <tr>\n",
       "      <th>3</th>\n",
       "      <td>6.0</td>\n",
       "      <td>NaN</td>\n",
       "      <td>NaN</td>\n",
       "      <td>NaN</td>\n",
       "      <td>NaN</td>\n",
       "      <td>NaN</td>\n",
       "      <td>NaN</td>\n",
       "      <td>NaN</td>\n",
       "      <td>NaN</td>\n",
       "      <td>NaN</td>\n",
       "      <td>...</td>\n",
       "      <td>NaN</td>\n",
       "      <td>NaN</td>\n",
       "      <td>NaN</td>\n",
       "      <td>NaN</td>\n",
       "      <td>NaN</td>\n",
       "      <td>NaN</td>\n",
       "      <td>NaN</td>\n",
       "      <td>NaN</td>\n",
       "      <td>000289c6-779a-4b82-bab0-652fa477be1f</td>\n",
       "      <td>0.0</td>\n",
       "    </tr>\n",
       "    <tr>\n",
       "      <th>4</th>\n",
       "      <td>6.0</td>\n",
       "      <td>NaN</td>\n",
       "      <td>NaN</td>\n",
       "      <td>NaN</td>\n",
       "      <td>NaN</td>\n",
       "      <td>NaN</td>\n",
       "      <td>NaN</td>\n",
       "      <td>NaN</td>\n",
       "      <td>NaN</td>\n",
       "      <td>NaN</td>\n",
       "      <td>...</td>\n",
       "      <td>NaN</td>\n",
       "      <td>NaN</td>\n",
       "      <td>NaN</td>\n",
       "      <td>NaN</td>\n",
       "      <td>NaN</td>\n",
       "      <td>NaN</td>\n",
       "      <td>NaN</td>\n",
       "      <td>NaN</td>\n",
       "      <td>0002aec5-2842-4fa8-9b13-004ec60a5a2a</td>\n",
       "      <td>0.0</td>\n",
       "    </tr>\n",
       "  </tbody>\n",
       "</table>\n",
       "<p>5 rows × 46 columns</p>\n",
       "</div>"
      ],
      "text/plain": [
       "day_x     0     1   2   3   4   5   6   7   8   9  ...  36  37  38  39  40  \\\n",
       "0       1.0   NaN NaN NaN NaN NaN NaN NaN NaN NaN  ... NaN NaN NaN NaN NaN   \n",
       "1      19.0   NaN NaN NaN NaN NaN NaN NaN NaN NaN  ... NaN NaN NaN NaN NaN   \n",
       "2       6.0  11.0 NaN NaN NaN NaN NaN NaN NaN NaN  ... NaN NaN NaN NaN NaN   \n",
       "3       6.0   NaN NaN NaN NaN NaN NaN NaN NaN NaN  ... NaN NaN NaN NaN NaN   \n",
       "4       6.0   NaN NaN NaN NaN NaN NaN NaN NaN NaN  ... NaN NaN NaN NaN NaN   \n",
       "\n",
       "day_x  41  42  43                                 ad_id  cum_imps  \n",
       "0     NaN NaN NaN  00018501-6eee-45e9-b5b5-7b50f966abd8       0.0  \n",
       "1     NaN NaN NaN  0001edb6-e7e7-4f74-8993-2bfc9347a959       0.0  \n",
       "2     NaN NaN NaN  0001ef07-c27e-4d91-a8bb-d0aa5f0d45e7       0.0  \n",
       "3     NaN NaN NaN  000289c6-779a-4b82-bab0-652fa477be1f       0.0  \n",
       "4     NaN NaN NaN  0002aec5-2842-4fa8-9b13-004ec60a5a2a       0.0  \n",
       "\n",
       "[5 rows x 46 columns]"
      ]
     },
     "execution_count": 216,
     "metadata": {},
     "output_type": "execute_result"
    }
   ],
   "source": [
    "ads_df.head()"
   ]
  },
  {
   "cell_type": "markdown",
   "id": "f81cffb6",
   "metadata": {},
   "source": [
    "## 3. day 2-7 누적 imps 값이 1 이상인 사람 = 1 / 0인 사람 = 0\n",
    "\n",
    "→ 이 기준으로 비율맞춰 train, test split 된 total ad_id, train(1)/test(0) dataframe 생성하고 공유"
   ]
  },
  {
   "cell_type": "code",
   "execution_count": 218,
   "id": "035bd6ec",
   "metadata": {},
   "outputs": [],
   "source": [
    "ads_df['cum_imps_YN'] = 0\n",
    "ads_df.loc[ads_df['cum_imps'] != 0, 'cum_imps_YN'] = 1"
   ]
  },
  {
   "cell_type": "code",
   "execution_count": 219,
   "id": "82ec9a2f",
   "metadata": {},
   "outputs": [],
   "source": [
    "from sklearn.model_selection import StratifiedShuffleSplit\n",
    "\n",
    "split = StratifiedShuffleSplit(n_splits=1, test_size=0.2, random_state=1004)\n",
    "\n",
    "ads_df['train'] = 0\n",
    "for train_idx, test_idx in split.split(ads_df, ads_df[\"cum_imps_YN\"]):\n",
    "    ads_df.loc[train_idx, 'train'] = 1"
   ]
  },
  {
   "cell_type": "code",
   "execution_count": 220,
   "id": "bd18caeb",
   "metadata": {},
   "outputs": [
    {
     "data": {
      "text/plain": [
       "0.2513552246245872"
      ]
     },
     "execution_count": 220,
     "metadata": {},
     "output_type": "execute_result"
    }
   ],
   "source": [
    "len(df_strat_train[df_strat_train['cum_imps_YN']==1])/len(df_strat_train)"
   ]
  },
  {
   "cell_type": "code",
   "execution_count": 221,
   "id": "35a4aeb6",
   "metadata": {},
   "outputs": [
    {
     "data": {
      "text/plain": [
       "0.25135000415385894"
      ]
     },
     "execution_count": 221,
     "metadata": {},
     "output_type": "execute_result"
    }
   ],
   "source": [
    "len(df_strat_test[df_strat_test['cum_imps_YN']==1])/len(df_strat_test)"
   ]
  },
  {
   "cell_type": "code",
   "execution_count": 222,
   "id": "463ea830",
   "metadata": {},
   "outputs": [
    {
     "data": {
      "text/html": [
       "<div>\n",
       "<style scoped>\n",
       "    .dataframe tbody tr th:only-of-type {\n",
       "        vertical-align: middle;\n",
       "    }\n",
       "\n",
       "    .dataframe tbody tr th {\n",
       "        vertical-align: top;\n",
       "    }\n",
       "\n",
       "    .dataframe thead th {\n",
       "        text-align: right;\n",
       "    }\n",
       "</style>\n",
       "<table border=\"1\" class=\"dataframe\">\n",
       "  <thead>\n",
       "    <tr style=\"text-align: right;\">\n",
       "      <th>day_x</th>\n",
       "      <th>0</th>\n",
       "      <th>1</th>\n",
       "      <th>2</th>\n",
       "      <th>3</th>\n",
       "      <th>4</th>\n",
       "      <th>5</th>\n",
       "      <th>6</th>\n",
       "      <th>7</th>\n",
       "      <th>8</th>\n",
       "      <th>9</th>\n",
       "      <th>...</th>\n",
       "      <th>38</th>\n",
       "      <th>39</th>\n",
       "      <th>40</th>\n",
       "      <th>41</th>\n",
       "      <th>42</th>\n",
       "      <th>43</th>\n",
       "      <th>ad_id</th>\n",
       "      <th>cum_imps</th>\n",
       "      <th>cum_imps_YN</th>\n",
       "      <th>train</th>\n",
       "    </tr>\n",
       "  </thead>\n",
       "  <tbody>\n",
       "    <tr>\n",
       "      <th>0</th>\n",
       "      <td>1.0</td>\n",
       "      <td>NaN</td>\n",
       "      <td>NaN</td>\n",
       "      <td>NaN</td>\n",
       "      <td>NaN</td>\n",
       "      <td>NaN</td>\n",
       "      <td>NaN</td>\n",
       "      <td>NaN</td>\n",
       "      <td>NaN</td>\n",
       "      <td>NaN</td>\n",
       "      <td>...</td>\n",
       "      <td>NaN</td>\n",
       "      <td>NaN</td>\n",
       "      <td>NaN</td>\n",
       "      <td>NaN</td>\n",
       "      <td>NaN</td>\n",
       "      <td>NaN</td>\n",
       "      <td>00018501-6eee-45e9-b5b5-7b50f966abd8</td>\n",
       "      <td>0.0</td>\n",
       "      <td>0</td>\n",
       "      <td>1</td>\n",
       "    </tr>\n",
       "    <tr>\n",
       "      <th>1</th>\n",
       "      <td>19.0</td>\n",
       "      <td>NaN</td>\n",
       "      <td>NaN</td>\n",
       "      <td>NaN</td>\n",
       "      <td>NaN</td>\n",
       "      <td>NaN</td>\n",
       "      <td>NaN</td>\n",
       "      <td>NaN</td>\n",
       "      <td>NaN</td>\n",
       "      <td>NaN</td>\n",
       "      <td>...</td>\n",
       "      <td>NaN</td>\n",
       "      <td>NaN</td>\n",
       "      <td>NaN</td>\n",
       "      <td>NaN</td>\n",
       "      <td>NaN</td>\n",
       "      <td>NaN</td>\n",
       "      <td>0001edb6-e7e7-4f74-8993-2bfc9347a959</td>\n",
       "      <td>0.0</td>\n",
       "      <td>0</td>\n",
       "      <td>0</td>\n",
       "    </tr>\n",
       "    <tr>\n",
       "      <th>2</th>\n",
       "      <td>6.0</td>\n",
       "      <td>11.0</td>\n",
       "      <td>NaN</td>\n",
       "      <td>NaN</td>\n",
       "      <td>NaN</td>\n",
       "      <td>NaN</td>\n",
       "      <td>NaN</td>\n",
       "      <td>NaN</td>\n",
       "      <td>NaN</td>\n",
       "      <td>NaN</td>\n",
       "      <td>...</td>\n",
       "      <td>NaN</td>\n",
       "      <td>NaN</td>\n",
       "      <td>NaN</td>\n",
       "      <td>NaN</td>\n",
       "      <td>NaN</td>\n",
       "      <td>NaN</td>\n",
       "      <td>0001ef07-c27e-4d91-a8bb-d0aa5f0d45e7</td>\n",
       "      <td>0.0</td>\n",
       "      <td>0</td>\n",
       "      <td>1</td>\n",
       "    </tr>\n",
       "    <tr>\n",
       "      <th>3</th>\n",
       "      <td>6.0</td>\n",
       "      <td>NaN</td>\n",
       "      <td>NaN</td>\n",
       "      <td>NaN</td>\n",
       "      <td>NaN</td>\n",
       "      <td>NaN</td>\n",
       "      <td>NaN</td>\n",
       "      <td>NaN</td>\n",
       "      <td>NaN</td>\n",
       "      <td>NaN</td>\n",
       "      <td>...</td>\n",
       "      <td>NaN</td>\n",
       "      <td>NaN</td>\n",
       "      <td>NaN</td>\n",
       "      <td>NaN</td>\n",
       "      <td>NaN</td>\n",
       "      <td>NaN</td>\n",
       "      <td>000289c6-779a-4b82-bab0-652fa477be1f</td>\n",
       "      <td>0.0</td>\n",
       "      <td>0</td>\n",
       "      <td>1</td>\n",
       "    </tr>\n",
       "    <tr>\n",
       "      <th>4</th>\n",
       "      <td>6.0</td>\n",
       "      <td>NaN</td>\n",
       "      <td>NaN</td>\n",
       "      <td>NaN</td>\n",
       "      <td>NaN</td>\n",
       "      <td>NaN</td>\n",
       "      <td>NaN</td>\n",
       "      <td>NaN</td>\n",
       "      <td>NaN</td>\n",
       "      <td>NaN</td>\n",
       "      <td>...</td>\n",
       "      <td>NaN</td>\n",
       "      <td>NaN</td>\n",
       "      <td>NaN</td>\n",
       "      <td>NaN</td>\n",
       "      <td>NaN</td>\n",
       "      <td>NaN</td>\n",
       "      <td>0002aec5-2842-4fa8-9b13-004ec60a5a2a</td>\n",
       "      <td>0.0</td>\n",
       "      <td>0</td>\n",
       "      <td>1</td>\n",
       "    </tr>\n",
       "  </tbody>\n",
       "</table>\n",
       "<p>5 rows × 48 columns</p>\n",
       "</div>"
      ],
      "text/plain": [
       "day_x     0     1   2   3   4   5   6   7   8   9  ...  38  39  40  41  42  \\\n",
       "0       1.0   NaN NaN NaN NaN NaN NaN NaN NaN NaN  ... NaN NaN NaN NaN NaN   \n",
       "1      19.0   NaN NaN NaN NaN NaN NaN NaN NaN NaN  ... NaN NaN NaN NaN NaN   \n",
       "2       6.0  11.0 NaN NaN NaN NaN NaN NaN NaN NaN  ... NaN NaN NaN NaN NaN   \n",
       "3       6.0   NaN NaN NaN NaN NaN NaN NaN NaN NaN  ... NaN NaN NaN NaN NaN   \n",
       "4       6.0   NaN NaN NaN NaN NaN NaN NaN NaN NaN  ... NaN NaN NaN NaN NaN   \n",
       "\n",
       "day_x  43                                 ad_id  cum_imps  cum_imps_YN  train  \n",
       "0     NaN  00018501-6eee-45e9-b5b5-7b50f966abd8       0.0            0      1  \n",
       "1     NaN  0001edb6-e7e7-4f74-8993-2bfc9347a959       0.0            0      0  \n",
       "2     NaN  0001ef07-c27e-4d91-a8bb-d0aa5f0d45e7       0.0            0      1  \n",
       "3     NaN  000289c6-779a-4b82-bab0-652fa477be1f       0.0            0      1  \n",
       "4     NaN  0002aec5-2842-4fa8-9b13-004ec60a5a2a       0.0            0      1  \n",
       "\n",
       "[5 rows x 48 columns]"
      ]
     },
     "execution_count": 222,
     "metadata": {},
     "output_type": "execute_result"
    }
   ],
   "source": [
    "ads_df.head()"
   ]
  },
  {
   "cell_type": "code",
   "execution_count": 223,
   "id": "02327e6f",
   "metadata": {},
   "outputs": [],
   "source": [
    "ads_df.reset_index(drop=True, inplace=True)"
   ]
  },
  {
   "cell_type": "code",
   "execution_count": 224,
   "id": "bf1b6635",
   "metadata": {},
   "outputs": [],
   "source": [
    "ads_df = ads_df[['ad_id', 'cum_imps', 'cum_imps_YN', 'train']]"
   ]
  },
  {
   "cell_type": "code",
   "execution_count": 225,
   "id": "8c995207",
   "metadata": {},
   "outputs": [
    {
     "data": {
      "text/html": [
       "<div>\n",
       "<style scoped>\n",
       "    .dataframe tbody tr th:only-of-type {\n",
       "        vertical-align: middle;\n",
       "    }\n",
       "\n",
       "    .dataframe tbody tr th {\n",
       "        vertical-align: top;\n",
       "    }\n",
       "\n",
       "    .dataframe thead th {\n",
       "        text-align: right;\n",
       "    }\n",
       "</style>\n",
       "<table border=\"1\" class=\"dataframe\">\n",
       "  <thead>\n",
       "    <tr style=\"text-align: right;\">\n",
       "      <th>day_x</th>\n",
       "      <th>ad_id</th>\n",
       "      <th>cum_imps</th>\n",
       "      <th>cum_imps_YN</th>\n",
       "      <th>train</th>\n",
       "    </tr>\n",
       "  </thead>\n",
       "  <tbody>\n",
       "    <tr>\n",
       "      <th>0</th>\n",
       "      <td>00018501-6eee-45e9-b5b5-7b50f966abd8</td>\n",
       "      <td>0.0</td>\n",
       "      <td>0</td>\n",
       "      <td>1</td>\n",
       "    </tr>\n",
       "    <tr>\n",
       "      <th>1</th>\n",
       "      <td>0001edb6-e7e7-4f74-8993-2bfc9347a959</td>\n",
       "      <td>0.0</td>\n",
       "      <td>0</td>\n",
       "      <td>0</td>\n",
       "    </tr>\n",
       "    <tr>\n",
       "      <th>2</th>\n",
       "      <td>0001ef07-c27e-4d91-a8bb-d0aa5f0d45e7</td>\n",
       "      <td>0.0</td>\n",
       "      <td>0</td>\n",
       "      <td>1</td>\n",
       "    </tr>\n",
       "    <tr>\n",
       "      <th>3</th>\n",
       "      <td>000289c6-779a-4b82-bab0-652fa477be1f</td>\n",
       "      <td>0.0</td>\n",
       "      <td>0</td>\n",
       "      <td>1</td>\n",
       "    </tr>\n",
       "    <tr>\n",
       "      <th>4</th>\n",
       "      <td>0002aec5-2842-4fa8-9b13-004ec60a5a2a</td>\n",
       "      <td>0.0</td>\n",
       "      <td>0</td>\n",
       "      <td>1</td>\n",
       "    </tr>\n",
       "  </tbody>\n",
       "</table>\n",
       "</div>"
      ],
      "text/plain": [
       "day_x                                 ad_id  cum_imps  cum_imps_YN  train\n",
       "0      00018501-6eee-45e9-b5b5-7b50f966abd8       0.0            0      1\n",
       "1      0001edb6-e7e7-4f74-8993-2bfc9347a959       0.0            0      0\n",
       "2      0001ef07-c27e-4d91-a8bb-d0aa5f0d45e7       0.0            0      1\n",
       "3      000289c6-779a-4b82-bab0-652fa477be1f       0.0            0      1\n",
       "4      0002aec5-2842-4fa8-9b13-004ec60a5a2a       0.0            0      1"
      ]
     },
     "execution_count": 225,
     "metadata": {},
     "output_type": "execute_result"
    }
   ],
   "source": [
    "ads_df.head()"
   ]
  },
  {
   "cell_type": "code",
   "execution_count": 226,
   "id": "9c179e03",
   "metadata": {},
   "outputs": [],
   "source": [
    "ads_df.to_csv('real_train_YN.csv', index = False)"
   ]
  },
  {
   "cell_type": "markdown",
   "id": "c9e7cd44",
   "metadata": {},
   "source": [
    "### 노출 성공 여부 고려 X / 노출 성공 여부 고려 O 비교"
   ]
  },
  {
   "cell_type": "code",
   "execution_count": 228,
   "id": "9612c173",
   "metadata": {},
   "outputs": [],
   "source": [
    "real_df = pd.read_csv(\"real_train_YN.csv\")\n",
    "df = pd.read_csv(\"train_YN.csv\")"
   ]
  },
  {
   "cell_type": "code",
   "execution_count": 230,
   "id": "e3ea7713",
   "metadata": {},
   "outputs": [
    {
     "data": {
      "text/plain": [
       "(180077, 4)"
      ]
     },
     "execution_count": 230,
     "metadata": {},
     "output_type": "execute_result"
    }
   ],
   "source": [
    "real_df[real_df['train']==1].shape"
   ]
  },
  {
   "cell_type": "code",
   "execution_count": 231,
   "id": "0a972e18",
   "metadata": {},
   "outputs": [
    {
     "data": {
      "text/plain": [
       "(192588, 4)"
      ]
     },
     "execution_count": 231,
     "metadata": {},
     "output_type": "execute_result"
    }
   ],
   "source": [
    "df[df['train']==1].shape"
   ]
  }
 ],
 "metadata": {
  "kernelspec": {
   "display_name": "Python 3",
   "language": "python",
   "name": "python3"
  },
  "language_info": {
   "codemirror_mode": {
    "name": "ipython",
    "version": 3
   },
   "file_extension": ".py",
   "mimetype": "text/x-python",
   "name": "python",
   "nbconvert_exporter": "python",
   "pygments_lexer": "ipython3",
   "version": "3.7.0"
  }
 },
 "nbformat": 4,
 "nbformat_minor": 5
}
