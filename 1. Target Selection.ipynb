{
 "cells": [
  {
   "cell_type": "code",
   "execution_count": 1,
   "id": "24594ca4",
   "metadata": {},
   "outputs": [],
   "source": [
    "import numpy as np\n",
    "import pandas as pd\n",
    "\n",
    "from sklearn.feature_selection import VarianceThreshold\n",
    "from datetime import date"
   ]
  },
  {
   "cell_type": "code",
   "execution_count": 2,
   "id": "9a7659df",
   "metadata": {},
   "outputs": [
    {
     "name": "stderr",
     "output_type": "stream",
     "text": [
      "/home/users/s17011720/.conda/envs/jupyter/lib/python3.7/site-packages/IPython/core/interactiveshell.py:3166: DtypeWarning: Columns (0,1,2,59) have mixed types.Specify dtype option on import or set low_memory=False.\n",
      "  interactivity=interactivity, compiler=compiler, result=result)\n"
     ]
    }
   ],
   "source": [
    "tutorial = pd.read_csv(\"data/brazil_tutorial.csv\")"
   ]
  },
  {
   "cell_type": "code",
   "execution_count": 3,
   "id": "05a69656",
   "metadata": {},
   "outputs": [
    {
     "data": {
      "text/plain": [
       "(1008752, 89)"
      ]
     },
     "execution_count": 3,
     "metadata": {},
     "output_type": "execute_result"
    }
   ],
   "source": [
    "tutorial.shape"
   ]
  },
  {
   "cell_type": "code",
   "execution_count": 4,
   "id": "49855439",
   "metadata": {},
   "outputs": [],
   "source": [
    "from difflib import SequenceMatcher\n",
    "def similar(a, b):\n",
    "    match_score = SequenceMatcher(None, a, b).ratio()\n",
    "    if match_score == 1.0:\n",
    "        result = \"Full Match\"\n",
    "    elif match_score >= .85:\n",
    "        result = \"Partial Match\"\n",
    "    else:\n",
    "        result = \"No Match\"\n",
    "    return result "
   ]
  },
  {
   "cell_type": "markdown",
   "id": "860367a9",
   "metadata": {},
   "source": [
    "### tutorial ad_id 보간\n",
    "\n",
    "- event_params_ad_id, user_properties_ad_id 합집합\n",
    "- user_pseudo_id"
   ]
  },
  {
   "cell_type": "code",
   "execution_count": 7,
   "id": "162824a8",
   "metadata": {},
   "outputs": [
    {
     "data": {
      "text/plain": [
       "0.999936555268292"
      ]
     },
     "execution_count": 7,
     "metadata": {},
     "output_type": "execute_result"
    }
   ],
   "source": [
    "# ad_id \n",
    "match_score = SequenceMatcher(None, tutorial.event_params_ad_id, tutorial.user_properties_ad_id).ratio()\n",
    "match_score"
   ]
  },
  {
   "cell_type": "code",
   "execution_count": 5,
   "id": "76d9ee5a",
   "metadata": {},
   "outputs": [
    {
     "data": {
      "text/plain": [
       "event_params_ad_id       9194\n",
       "user_properties_ad_id    9256\n",
       "dtype: int64"
      ]
     },
     "execution_count": 5,
     "metadata": {},
     "output_type": "execute_result"
    }
   ],
   "source": [
    "tutorial[['event_params_ad_id', 'user_properties_ad_id']].isnull().sum()"
   ]
  },
  {
   "cell_type": "code",
   "execution_count": 8,
   "id": "420e7fa8",
   "metadata": {},
   "outputs": [
    {
     "name": "stdout",
     "output_type": "stream",
     "text": [
      "user_properties_ad_id : nan 포함 243265명\n",
      "event_params_ad_id : nan 포함 243282명\n"
     ]
    }
   ],
   "source": [
    "print('user_properties_ad_id : {}명'.format(len(tutorial['user_properties_ad_id'].unique())))\n",
    "print('event_params_ad_id : {}명'.format(len(tutorial['event_params_ad_id'].unique())))"
   ]
  },
  {
   "cell_type": "code",
   "execution_count": 5,
   "id": "90811888",
   "metadata": {
    "scrolled": true
   },
   "outputs": [],
   "source": [
    "params_ad_id_null = tutorial[tutorial['event_params_ad_id'].isnull()]\n",
    "params_ad_id_null_idx = params_ad_id_null.index"
   ]
  },
  {
   "cell_type": "code",
   "execution_count": 6,
   "id": "7849ff53",
   "metadata": {
    "scrolled": true
   },
   "outputs": [
    {
     "data": {
      "text/plain": [
       "array([nan, '900cd2b1-253b-408c-ab6c-cb26234cdc38'], dtype=object)"
      ]
     },
     "execution_count": 6,
     "metadata": {},
     "output_type": "execute_result"
    }
   ],
   "source": [
    "params_ad_id_null['user_properties_ad_id'].unique()"
   ]
  },
  {
   "cell_type": "code",
   "execution_count": 7,
   "id": "e78cfce6",
   "metadata": {},
   "outputs": [],
   "source": [
    "tutorial.loc[params_ad_id_null_idx, 'event_params_ad_id'] = tutorial.loc[params_ad_id_null_idx, 'user_properties_ad_id']"
   ]
  },
  {
   "cell_type": "code",
   "execution_count": 8,
   "id": "06e61de0",
   "metadata": {},
   "outputs": [],
   "source": [
    "tutorial.drop('user_properties_ad_id', axis=1, inplace=True)"
   ]
  },
  {
   "cell_type": "code",
   "execution_count": 9,
   "id": "96938d89",
   "metadata": {},
   "outputs": [],
   "source": [
    "tutorial.rename(columns={'event_params_ad_id': 'ad_id'}, inplace=True)"
   ]
  },
  {
   "cell_type": "code",
   "execution_count": 10,
   "id": "83a4184c",
   "metadata": {
    "scrolled": true
   },
   "outputs": [
    {
     "data": {
      "text/plain": [
       "243282"
      ]
     },
     "execution_count": 10,
     "metadata": {},
     "output_type": "execute_result"
    }
   ],
   "source": [
    "len(tutorial['ad_id'].unique())"
   ]
  },
  {
   "cell_type": "code",
   "execution_count": 14,
   "id": "797a27a6",
   "metadata": {},
   "outputs": [
    {
     "data": {
      "text/plain": [
       "(9193, 88)"
      ]
     },
     "execution_count": 14,
     "metadata": {},
     "output_type": "execute_result"
    }
   ],
   "source": [
    "tutorial[tutorial['ad_id'].isnull() & ~(tutorial['user_pseudo_id'].isnull())].shape"
   ]
  },
  {
   "cell_type": "code",
   "execution_count": 13,
   "id": "64242777",
   "metadata": {},
   "outputs": [
    {
     "data": {
      "text/html": [
       "<div>\n",
       "<style scoped>\n",
       "    .dataframe tbody tr th:only-of-type {\n",
       "        vertical-align: middle;\n",
       "    }\n",
       "\n",
       "    .dataframe tbody tr th {\n",
       "        vertical-align: top;\n",
       "    }\n",
       "\n",
       "    .dataframe thead th {\n",
       "        text-align: right;\n",
       "    }\n",
       "</style>\n",
       "<table border=\"1\" class=\"dataframe\">\n",
       "  <thead>\n",
       "    <tr style=\"text-align: right;\">\n",
       "      <th></th>\n",
       "      <th>ad_id</th>\n",
       "      <th>user_pseudo_id</th>\n",
       "    </tr>\n",
       "  </thead>\n",
       "  <tbody>\n",
       "    <tr>\n",
       "      <th>290</th>\n",
       "      <td>NaN</td>\n",
       "      <td>bd578b1bf3a8363a5c9b0044254d5a82</td>\n",
       "    </tr>\n",
       "    <tr>\n",
       "      <th>343</th>\n",
       "      <td>NaN</td>\n",
       "      <td>aecf7f568bae32708c77fce79dda7957</td>\n",
       "    </tr>\n",
       "    <tr>\n",
       "      <th>345</th>\n",
       "      <td>NaN</td>\n",
       "      <td>8a5f234c1669a2bc20d15ae6db605b5b</td>\n",
       "    </tr>\n",
       "    <tr>\n",
       "      <th>1243</th>\n",
       "      <td>NaN</td>\n",
       "      <td>470a86721e1b228631e499f3e0e9d447</td>\n",
       "    </tr>\n",
       "    <tr>\n",
       "      <th>1254</th>\n",
       "      <td>NaN</td>\n",
       "      <td>917baccf435c03ea181058c9e9b5557a</td>\n",
       "    </tr>\n",
       "    <tr>\n",
       "      <th>...</th>\n",
       "      <td>...</td>\n",
       "      <td>...</td>\n",
       "    </tr>\n",
       "    <tr>\n",
       "      <th>1008504</th>\n",
       "      <td>NaN</td>\n",
       "      <td>cb3adc32949db59ee82c7b6b53668723</td>\n",
       "    </tr>\n",
       "    <tr>\n",
       "      <th>1008507</th>\n",
       "      <td>NaN</td>\n",
       "      <td>cb3adc32949db59ee82c7b6b53668723</td>\n",
       "    </tr>\n",
       "    <tr>\n",
       "      <th>1008635</th>\n",
       "      <td>NaN</td>\n",
       "      <td>9d8c7ab5f707719f1d3365372188c512</td>\n",
       "    </tr>\n",
       "    <tr>\n",
       "      <th>1008639</th>\n",
       "      <td>NaN</td>\n",
       "      <td>5071dbae545207708edafccf41789be8</td>\n",
       "    </tr>\n",
       "    <tr>\n",
       "      <th>1008693</th>\n",
       "      <td>NaN</td>\n",
       "      <td>bd5c8a7c4102803665fabf84709e7a7a</td>\n",
       "    </tr>\n",
       "  </tbody>\n",
       "</table>\n",
       "<p>9193 rows × 2 columns</p>\n",
       "</div>"
      ],
      "text/plain": [
       "        ad_id                    user_pseudo_id\n",
       "290       NaN  bd578b1bf3a8363a5c9b0044254d5a82\n",
       "343       NaN  aecf7f568bae32708c77fce79dda7957\n",
       "345       NaN  8a5f234c1669a2bc20d15ae6db605b5b\n",
       "1243      NaN  470a86721e1b228631e499f3e0e9d447\n",
       "1254      NaN  917baccf435c03ea181058c9e9b5557a\n",
       "...       ...                               ...\n",
       "1008504   NaN  cb3adc32949db59ee82c7b6b53668723\n",
       "1008507   NaN  cb3adc32949db59ee82c7b6b53668723\n",
       "1008635   NaN  9d8c7ab5f707719f1d3365372188c512\n",
       "1008639   NaN  5071dbae545207708edafccf41789be8\n",
       "1008693   NaN  bd5c8a7c4102803665fabf84709e7a7a\n",
       "\n",
       "[9193 rows x 2 columns]"
      ]
     },
     "execution_count": 13,
     "metadata": {},
     "output_type": "execute_result"
    }
   ],
   "source": [
    "pseudo_df[['ad_id', 'user_pseudo_id']]"
   ]
  },
  {
   "cell_type": "code",
   "execution_count": null,
   "id": "7a37d394",
   "metadata": {},
   "outputs": [],
   "source": []
  },
  {
   "cell_type": "markdown",
   "id": "5b988ba6",
   "metadata": {},
   "source": [
    "### target selection \n",
    "- tutorial을 모두 완료한 user: tutorial_id = 1,2,3,4 포함\n",
    "- 신규가입자: 'event_previous_timestamp' == np.nan\n",
    "- day7 까지 데이터가 있는 user: 첫 접속일이 데이터의 마지막날의 일주일 전보다 나중인 user 제거 ex) 0101 ~ 0130 → 0101 ~ 0123 ⇒ 0124에 들어온 user가 day 7 이 있을 수가 없기 때문."
   ]
  },
  {
   "cell_type": "markdown",
   "id": "1d81df90",
   "metadata": {},
   "source": [
    "## 1. 쓸 데 없는 컬럼 제거"
   ]
  },
  {
   "cell_type": "code",
   "execution_count": 15,
   "id": "1284ab61",
   "metadata": {},
   "outputs": [],
   "source": [
    "def drop_na_columns(df, percentage):\n",
    "    missing_values_count = df.isnull().sum()\n",
    "    # 데이터 세트의 값 중 몇 퍼센트가 누락되었는지 확인\n",
    "    total_cells = np.product(df.shape)\n",
    "    total_missing = missing_values_count.sum()\n",
    "\n",
    "    (total_missing/total_cells) * 100\n",
    "\n",
    "    # Percentage of NAN Values \n",
    "    NAN = [(c, df[c].isna().mean()*100) for c in df]\n",
    "    NAN = pd.DataFrame(NAN, columns=[\"column_name\", \"percentage\"])\n",
    "\n",
    "    # Features with more than 50% of missing values.\n",
    "    NAN = NAN[NAN.percentage > percentage]\n",
    "    # NAN.sort_values(\"percentage\", ascending=False)\n",
    "\n",
    "    NAN_cols = NAN['column_name'].to_list()\n",
    "    df_dropped_na = df.drop(NAN_cols,axis=1)\n",
    "    print('Number of dropped columns', df.shape[1] - df_dropped_na.shape[1])\n",
    "    \n",
    "    return df_dropped_na\n",
    "\n",
    "def drop_col_not_using(df):\n",
    "\n",
    "    firebase_col = [s for s in df.columns if \"firebase\" in s]\n",
    "    df_dropped_na = df.drop(firebase_col, axis=1)\n",
    "    \n",
    "    df_col = df_dropped_na.columns\n",
    "    duplicated_col = [s for s in df_col if \"_1\" in s]\n",
    "#     app_info_col = [s for s in df_col if \"app_info\" in s]\n",
    "#     device_col = [s for s in df_col if \"device\" in s]\n",
    "#     traffic_col = [s for s in df_col if \"traffic\" in s]\n",
    "#     geo_col = [s for s in df_col if \"geo\" in s]\n",
    "    # user_col =  [s for s in df_col if \"user\" in s]\n",
    "\n",
    "    df_dropped_na.drop(duplicated_col, axis=1, inplace=True)\n",
    "#     df_dropped_na.drop(app_info_col, axis=1, inplace=True)\n",
    "#     df_dropped_na.drop(device_col, axis=1, inplace=True)\n",
    "#     df_dropped_na.drop(traffic_col, axis=1, inplace=True)\n",
    "#     df_dropped_na.drop(geo_col, axis=1, inplace=True)\n",
    "    print('Number of dropped columns', df.shape[1] - df_dropped_na.shape[1])\n",
    "    \n",
    "    return df_dropped_na"
   ]
  },
  {
   "cell_type": "code",
   "execution_count": 16,
   "id": "d6af644e",
   "metadata": {},
   "outputs": [
    {
     "name": "stdout",
     "output_type": "stream",
     "text": [
      "Number of dropped columns 18\n"
     ]
    },
    {
     "data": {
      "text/plain": [
       "(1008752, 70)"
      ]
     },
     "execution_count": 16,
     "metadata": {},
     "output_type": "execute_result"
    }
   ],
   "source": [
    "tut_filtered = drop_na_columns(tutorial, 50)\n",
    "tut_filtered.shape"
   ]
  },
  {
   "cell_type": "code",
   "execution_count": 17,
   "id": "baeec5ec",
   "metadata": {},
   "outputs": [
    {
     "name": "stdout",
     "output_type": "stream",
     "text": [
      "Number of dropped columns 20\n"
     ]
    },
    {
     "data": {
      "text/plain": [
       "(1008752, 50)"
      ]
     },
     "execution_count": 17,
     "metadata": {},
     "output_type": "execute_result"
    }
   ],
   "source": [
    "tut_filtered = drop_col_not_using(tut_filtered)\n",
    "tut_filtered.shape"
   ]
  },
  {
   "cell_type": "code",
   "execution_count": 18,
   "id": "d602c077",
   "metadata": {
    "scrolled": true
   },
   "outputs": [
    {
     "data": {
      "text/plain": [
       "Index(['traffic_source_medium', 'traffic_source_source', 'traffic_source_name',\n",
       "       'event_date', 'event_timestamp', 'event_name', 'ad_id', 'ga_session_id',\n",
       "       'engaged_session_event', 'tutorial_name', 'ga_session_number',\n",
       "       'tutorial_id', 'event_previous_timestamp', 'event_bundle_sequence_id',\n",
       "       'event_server_timestamp_offset', 'user_pseudo_id',\n",
       "       'ga_session_number_timestamp', 'ad_id_timestamp', 'cuid',\n",
       "       'cuid_timestamp', 'frist_version', 'frist_version_timestamp',\n",
       "       'user_level', 'user_level_timestamp', 'first_open_time',\n",
       "       'first_open_time_timestamp', 'ga_session_id_timestamp',\n",
       "       'user_first_touch_timestamp', 'device_category',\n",
       "       'device_mobile_brand_name', 'mobile_model_name',\n",
       "       'device_mobile_os_hardware_model', 'device_operating_system',\n",
       "       'device_operating_system_version', 'device_advertising_id',\n",
       "       'device_language', 'device_is_limited_ad_tracking',\n",
       "       'device_time_zone_offset_seconds', 'geo_continent', 'geo_country',\n",
       "       'geo_region', 'geo_city', 'geo_sub_continent', 'geo_metro',\n",
       "       'app_info_id', 'app_info_version', 'app_info_install_source',\n",
       "       'stream_id', 'platform', 'items'],\n",
       "      dtype='object')"
      ]
     },
     "execution_count": 18,
     "metadata": {},
     "output_type": "execute_result"
    }
   ],
   "source": [
    "tut_filtered.columns"
   ]
  },
  {
   "cell_type": "markdown",
   "id": "ba771043",
   "metadata": {},
   "source": [
    "- 분산 확인"
   ]
  },
  {
   "cell_type": "code",
   "execution_count": 19,
   "id": "4a593151",
   "metadata": {},
   "outputs": [],
   "source": [
    "# 숫자형 columns명 저장\n",
    "col = tut_filtered.corr().columns \n",
    "df_num = tut_filtered[col].copy()"
   ]
  },
  {
   "cell_type": "code",
   "execution_count": 20,
   "id": "c2af34c0",
   "metadata": {},
   "outputs": [
    {
     "data": {
      "text/plain": [
       "22"
      ]
     },
     "execution_count": 20,
     "metadata": {},
     "output_type": "execute_result"
    }
   ],
   "source": [
    "df_num.fillna(-1, inplace=True)\n",
    "len(col)"
   ]
  },
  {
   "cell_type": "code",
   "execution_count": 21,
   "id": "590fd493",
   "metadata": {},
   "outputs": [
    {
     "data": {
      "text/plain": [
       "[]"
      ]
     },
     "execution_count": 21,
     "metadata": {},
     "output_type": "execute_result"
    }
   ],
   "source": [
    "# Check for presence of Null features\n",
    "[col for col in df_num.columns if df_num[col].isnull().sum() > 0]"
   ]
  },
  {
   "cell_type": "code",
   "execution_count": 22,
   "id": "403d5902",
   "metadata": {},
   "outputs": [
    {
     "data": {
      "text/plain": [
       "VarianceThreshold(threshold=0.1)"
      ]
     },
     "execution_count": 22,
     "metadata": {},
     "output_type": "execute_result"
    }
   ],
   "source": [
    "feature_selector = VarianceThreshold(threshold=0.1)\n",
    "feature_selector.fit(df_num)"
   ]
  },
  {
   "cell_type": "code",
   "execution_count": 23,
   "id": "e47495e4",
   "metadata": {},
   "outputs": [],
   "source": [
    "lowvar_col = [x for x in df_num.columns if x not in df_num.columns[feature_selector.get_support()]]\n",
    "df = df_num[lowvar_col]"
   ]
  },
  {
   "cell_type": "code",
   "execution_count": 24,
   "id": "2f82d937",
   "metadata": {
    "scrolled": true
   },
   "outputs": [
    {
     "data": {
      "text/plain": [
       "array([ 1., nan])"
      ]
     },
     "execution_count": 24,
     "metadata": {},
     "output_type": "execute_result"
    }
   ],
   "source": [
    "tut_filtered['engaged_session_event'].unique()"
   ]
  },
  {
   "cell_type": "code",
   "execution_count": 25,
   "id": "cd940c5b",
   "metadata": {},
   "outputs": [
    {
     "data": {
      "text/plain": [
       "array([ 1.,  3.,  2.,  4.,  5.,  6., nan, 13.,  7., 10., 11., 14., 12.,\n",
       "        9., 15., 17., 18.])"
      ]
     },
     "execution_count": 25,
     "metadata": {},
     "output_type": "execute_result"
    }
   ],
   "source": [
    "tut_filtered['ga_session_number'].unique()"
   ]
  },
  {
   "cell_type": "code",
   "execution_count": 26,
   "id": "f872a189",
   "metadata": {},
   "outputs": [
    {
     "data": {
      "text/plain": [
       "array([False,  True])"
      ]
     },
     "execution_count": 26,
     "metadata": {},
     "output_type": "execute_result"
    }
   ],
   "source": [
    "tut_filtered['device_is_limited_ad_tracking'].unique()"
   ]
  },
  {
   "cell_type": "code",
   "execution_count": 27,
   "id": "eafb952f",
   "metadata": {
    "scrolled": true
   },
   "outputs": [
    {
     "data": {
      "text/plain": [
       "array([2205916636])"
      ]
     },
     "execution_count": 27,
     "metadata": {},
     "output_type": "execute_result"
    }
   ],
   "source": [
    "tut_filtered['stream_id'].unique()"
   ]
  },
  {
   "cell_type": "code",
   "execution_count": 28,
   "id": "4b8ddd86",
   "metadata": {},
   "outputs": [],
   "source": [
    "tut_filtered.drop('stream_id', axis=1, inplace=True)"
   ]
  },
  {
   "cell_type": "code",
   "execution_count": 29,
   "id": "4a83e079",
   "metadata": {},
   "outputs": [
    {
     "data": {
      "text/plain": [
       "<AxesSubplot:>"
      ]
     },
     "execution_count": 29,
     "metadata": {},
     "output_type": "execute_result"
    },
    {
     "data": {
      "image/png": "[encoded data removed]",
      "text/plain": [
       "<Figure size 360x504 with 1 Axes>"
      ]
     },
     "metadata": {
      "needs_background": "light"
     },
     "output_type": "display_data"
    }
   ],
   "source": [
    "tut_filtered['ga_session_number'].value_counts().plot(kind='bar',figsize=[5,7])"
   ]
  },
  {
   "cell_type": "code",
   "execution_count": 30,
   "id": "9bc9c76f",
   "metadata": {},
   "outputs": [
    {
     "data": {
      "text/plain": [
       "<AxesSubplot:>"
      ]
     },
     "execution_count": 30,
     "metadata": {},
     "output_type": "execute_result"
    },
    {
     "data": {
      "image/png": "[encoded data removed]",
      "text/plain": [
       "<Figure size 216x504 with 1 Axes>"
      ]
     },
     "metadata": {
      "needs_background": "light"
     },
     "output_type": "display_data"
    }
   ],
   "source": [
    "tut_filtered['device_is_limited_ad_tracking'].value_counts().plot(kind='bar',figsize=[3,7])"
   ]
  },
  {
   "cell_type": "code",
   "execution_count": 31,
   "id": "d869972d",
   "metadata": {},
   "outputs": [
    {
     "data": {
      "text/plain": [
       "32"
      ]
     },
     "execution_count": 31,
     "metadata": {},
     "output_type": "execute_result"
    }
   ],
   "source": [
    "len(tut_filtered[tut_filtered['ad_id'].isnull() & (tut_filtered['device_is_limited_ad_tracking']==False)])"
   ]
  },
  {
   "cell_type": "code",
   "execution_count": 32,
   "id": "7c590ce5",
   "metadata": {},
   "outputs": [
    {
     "data": {
      "text/html": [
       "<div>\n",
       "<style scoped>\n",
       "    .dataframe tbody tr th:only-of-type {\n",
       "        vertical-align: middle;\n",
       "    }\n",
       "\n",
       "    .dataframe tbody tr th {\n",
       "        vertical-align: top;\n",
       "    }\n",
       "\n",
       "    .dataframe thead th {\n",
       "        text-align: right;\n",
       "    }\n",
       "</style>\n",
       "<table border=\"1\" class=\"dataframe\">\n",
       "  <thead>\n",
       "    <tr style=\"text-align: right;\">\n",
       "      <th></th>\n",
       "      <th>traffic_source_medium</th>\n",
       "      <th>traffic_source_source</th>\n",
       "      <th>traffic_source_name</th>\n",
       "      <th>event_date</th>\n",
       "      <th>event_timestamp</th>\n",
       "      <th>event_name</th>\n",
       "      <th>ad_id</th>\n",
       "      <th>ga_session_id</th>\n",
       "      <th>engaged_session_event</th>\n",
       "      <th>tutorial_name</th>\n",
       "      <th>...</th>\n",
       "      <th>geo_country</th>\n",
       "      <th>geo_region</th>\n",
       "      <th>geo_city</th>\n",
       "      <th>geo_sub_continent</th>\n",
       "      <th>geo_metro</th>\n",
       "      <th>app_info_id</th>\n",
       "      <th>app_info_version</th>\n",
       "      <th>app_info_install_source</th>\n",
       "      <th>platform</th>\n",
       "      <th>items</th>\n",
       "    </tr>\n",
       "  </thead>\n",
       "  <tbody>\n",
       "    <tr>\n",
       "      <th>702653</th>\n",
       "      <td>organic</td>\n",
       "      <td>google-play</td>\n",
       "      <td>NaN</td>\n",
       "      <td>20210410</td>\n",
       "      <td>1618090639623000</td>\n",
       "      <td>tutorial</td>\n",
       "      <td>900cd2b1-253b-408c-ab6c-cb26234cdc38</td>\n",
       "      <td>1.618091e+09</td>\n",
       "      <td>1.0</td>\n",
       "      <td>stage_end</td>\n",
       "      <td>...</td>\n",
       "      <td>Brazil</td>\n",
       "      <td>State of Minas Gerais</td>\n",
       "      <td>Belo Horizonte</td>\n",
       "      <td>South America</td>\n",
       "      <td>(not set)</td>\n",
       "      <td>kr.co.DrawHammer1</td>\n",
       "      <td>1.5.0</td>\n",
       "      <td>com.android.vending</td>\n",
       "      <td>ANDROID</td>\n",
       "      <td>[]</td>\n",
       "    </tr>\n",
       "  </tbody>\n",
       "</table>\n",
       "<p>1 rows × 49 columns</p>\n",
       "</div>"
      ],
      "text/plain": [
       "       traffic_source_medium traffic_source_source traffic_source_name  \\\n",
       "702653               organic           google-play                 NaN   \n",
       "\n",
       "        event_date   event_timestamp event_name  \\\n",
       "702653    20210410  1618090639623000   tutorial   \n",
       "\n",
       "                                       ad_id  ga_session_id  \\\n",
       "702653  900cd2b1-253b-408c-ab6c-cb26234cdc38   1.618091e+09   \n",
       "\n",
       "        engaged_session_event tutorial_name  ...  geo_country  \\\n",
       "702653                    1.0     stage_end  ...       Brazil   \n",
       "\n",
       "                   geo_region        geo_city  geo_sub_continent  geo_metro  \\\n",
       "702653  State of Minas Gerais  Belo Horizonte      South America  (not set)   \n",
       "\n",
       "              app_info_id  app_info_version  app_info_install_source platform  \\\n",
       "702653  kr.co.DrawHammer1             1.5.0      com.android.vending  ANDROID   \n",
       "\n",
       "        items  \n",
       "702653     []  \n",
       "\n",
       "[1 rows x 49 columns]"
      ]
     },
     "execution_count": 32,
     "metadata": {},
     "output_type": "execute_result"
    }
   ],
   "source": [
    "tut_filtered[~tut_filtered['ad_id'].isnull() & (tut_filtered['device_is_limited_ad_tracking']==True)]"
   ]
  },
  {
   "cell_type": "code",
   "execution_count": 33,
   "id": "14a3af0a",
   "metadata": {},
   "outputs": [
    {
     "data": {
      "text/plain": [
       "array([nan, '900cd2b1-253b-408c-ab6c-cb26234cdc38'], dtype=object)"
      ]
     },
     "execution_count": 33,
     "metadata": {},
     "output_type": "execute_result"
    }
   ],
   "source": [
    "cant_tracking = tut_filtered[tut_filtered['device_is_limited_ad_tracking']==True]\n",
    "cant_tracking_id = cant_tracking['ad_id'].unique()\n",
    "cant_tracking_id"
   ]
  },
  {
   "cell_type": "code",
   "execution_count": 36,
   "id": "4669bb0e",
   "metadata": {},
   "outputs": [
    {
     "data": {
      "text/plain": [
       "array(['900cd2b1-253b-408c-ab6c-cb26234cdc38'], dtype=object)"
      ]
     },
     "execution_count": 36,
     "metadata": {},
     "output_type": "execute_result"
    }
   ],
   "source": [
    "# cant_tracking_id.remove('nan')\n",
    "cant_tracking_id = np.delete(cant_tracking_id, 0)\n",
    "cant_tracking_id"
   ]
  },
  {
   "cell_type": "markdown",
   "id": "274edd3b",
   "metadata": {},
   "source": [
    "'device_is_limited_ad_tracking': 광고 추척에 제한있는 디바이스를 구분하는  컬럼 (True/ False)\n",
    "\n",
    "→ True: 9162row  대부분의 ad_id 가 nan 값을 가짐 ⇒ 빼는 것이 좋을 것 같다."
   ]
  },
  {
   "cell_type": "code",
   "execution_count": 37,
   "id": "01c91b89",
   "metadata": {
    "scrolled": false
   },
   "outputs": [],
   "source": [
    "cant_tracking_idx = cant_tracking.index\n",
    "tut_filtered.drop(cant_tracking_idx, inplace=True)"
   ]
  },
  {
   "cell_type": "code",
   "execution_count": 38,
   "id": "7b4aed65",
   "metadata": {},
   "outputs": [],
   "source": [
    "cant_tracking_idx = tut_filtered[tut_filtered['ad_id'].isin(cant_tracking_id)].index\n",
    "tut_filtered.drop(cant_tracking_idx, inplace=True)\n",
    "tut_filtered.reset_index(drop=True, inplace=True)"
   ]
  },
  {
   "cell_type": "code",
   "execution_count": 39,
   "id": "bba30deb",
   "metadata": {},
   "outputs": [
    {
     "data": {
      "text/plain": [
       "32"
      ]
     },
     "execution_count": 39,
     "metadata": {},
     "output_type": "execute_result"
    }
   ],
   "source": [
    "tut_filtered['ad_id'].isnull().sum()"
   ]
  },
  {
   "cell_type": "markdown",
   "id": "5470ba46",
   "metadata": {},
   "source": [
    "## 2. tutorial을 모두 완료한 user\n",
    ": tutorial_id = 1,2,3,4 포함"
   ]
  },
  {
   "cell_type": "code",
   "execution_count": 40,
   "id": "607482b7",
   "metadata": {},
   "outputs": [
    {
     "data": {
      "text/plain": [
       "(999587, 49)"
      ]
     },
     "execution_count": 40,
     "metadata": {},
     "output_type": "execute_result"
    }
   ],
   "source": [
    "tut_filtered.shape"
   ]
  },
  {
   "cell_type": "code",
   "execution_count": 41,
   "id": "2529086d",
   "metadata": {},
   "outputs": [],
   "source": [
    "df = pd.DataFrame(tut_filtered.groupby('ad_id')['tutorial_id'].size())\n",
    "# df"
   ]
  },
  {
   "cell_type": "code",
   "execution_count": 42,
   "id": "74e29d0f",
   "metadata": {},
   "outputs": [],
   "source": [
    "not_clear_tut_id = df[df['tutorial_id'] < 4].index"
   ]
  },
  {
   "cell_type": "code",
   "execution_count": 43,
   "id": "57c94688",
   "metadata": {},
   "outputs": [],
   "source": [
    "not_clear_tut_idx = tut_filtered[tut_filtered['ad_id'].isin(not_clear_tut_id)].index\n",
    "tut_filtered.drop(not_clear_tut_idx, axis=0, inplace=True)"
   ]
  },
  {
   "cell_type": "code",
   "execution_count": 44,
   "id": "5b8d9a40",
   "metadata": {},
   "outputs": [
    {
     "data": {
      "text/plain": [
       "(995337, 49)"
      ]
     },
     "execution_count": 44,
     "metadata": {},
     "output_type": "execute_result"
    }
   ],
   "source": [
    "tut_filtered.shape"
   ]
  },
  {
   "cell_type": "code",
   "execution_count": 45,
   "id": "d2d5a648",
   "metadata": {},
   "outputs": [],
   "source": [
    "clear_list = [1,2,3,4]"
   ]
  },
  {
   "cell_type": "code",
   "execution_count": 49,
   "id": "3aee131b",
   "metadata": {},
   "outputs": [
    {
     "data": {
      "text/html": [
       "<div>\n",
       "<style scoped>\n",
       "    .dataframe tbody tr th:only-of-type {\n",
       "        vertical-align: middle;\n",
       "    }\n",
       "\n",
       "    .dataframe tbody tr th {\n",
       "        vertical-align: top;\n",
       "    }\n",
       "\n",
       "    .dataframe thead th {\n",
       "        text-align: right;\n",
       "    }\n",
       "</style>\n",
       "<table border=\"1\" class=\"dataframe\">\n",
       "  <thead>\n",
       "    <tr style=\"text-align: right;\">\n",
       "      <th></th>\n",
       "      <th>traffic_source_medium</th>\n",
       "      <th>traffic_source_source</th>\n",
       "      <th>traffic_source_name</th>\n",
       "      <th>event_date</th>\n",
       "      <th>event_timestamp</th>\n",
       "      <th>event_name</th>\n",
       "      <th>ad_id</th>\n",
       "      <th>ga_session_id</th>\n",
       "      <th>engaged_session_event</th>\n",
       "      <th>tutorial_name</th>\n",
       "      <th>...</th>\n",
       "      <th>geo_country</th>\n",
       "      <th>geo_region</th>\n",
       "      <th>geo_city</th>\n",
       "      <th>geo_sub_continent</th>\n",
       "      <th>geo_metro</th>\n",
       "      <th>app_info_id</th>\n",
       "      <th>app_info_version</th>\n",
       "      <th>app_info_install_source</th>\n",
       "      <th>platform</th>\n",
       "      <th>items</th>\n",
       "    </tr>\n",
       "  </thead>\n",
       "  <tbody>\n",
       "  </tbody>\n",
       "</table>\n",
       "<p>0 rows × 49 columns</p>\n",
       "</div>"
      ],
      "text/plain": [
       "Empty DataFrame\n",
       "Columns: [traffic_source_medium, traffic_source_source, traffic_source_name, event_date, event_timestamp, event_name, ad_id, ga_session_id, engaged_session_event, tutorial_name, ga_session_number, tutorial_id, event_previous_timestamp, event_bundle_sequence_id, event_server_timestamp_offset, user_pseudo_id, ga_session_number_timestamp, ad_id_timestamp, cuid, cuid_timestamp, frist_version, frist_version_timestamp, user_level, user_level_timestamp, first_open_time, first_open_time_timestamp, ga_session_id_timestamp, user_first_touch_timestamp, device_category, device_mobile_brand_name, mobile_model_name, device_mobile_os_hardware_model, device_operating_system, device_operating_system_version, device_advertising_id, device_language, device_is_limited_ad_tracking, device_time_zone_offset_seconds, geo_continent, geo_country, geo_region, geo_city, geo_sub_continent, geo_metro, app_info_id, app_info_version, app_info_install_source, platform, items]\n",
       "Index: []\n",
       "\n",
       "[0 rows x 49 columns]"
      ]
     },
     "execution_count": 49,
     "metadata": {},
     "output_type": "execute_result"
    }
   ],
   "source": [
    "grp = tut_filtered.groupby('ad_id')\n",
    "not_clear_df = grp.filter(lambda x : all(~x['tutorial_id'].isin(clear_list)))\n",
    "not_clear_df"
   ]
  },
  {
   "cell_type": "code",
   "execution_count": null,
   "id": "dd69ae1d",
   "metadata": {},
   "outputs": [],
   "source": []
  },
  {
   "cell_type": "code",
   "execution_count": null,
   "id": "dd5bce37",
   "metadata": {},
   "outputs": [],
   "source": []
  },
  {
   "cell_type": "markdown",
   "id": "a6227574",
   "metadata": {},
   "source": [
    "## 3. 신규가입자\n",
    ": 'event_previous_timestamp' == np.nan"
   ]
  },
  {
   "cell_type": "code",
   "execution_count": 54,
   "id": "8889a60a",
   "metadata": {},
   "outputs": [
    {
     "data": {
      "text/plain": [
       "241345"
      ]
     },
     "execution_count": 54,
     "metadata": {},
     "output_type": "execute_result"
    }
   ],
   "source": [
    "len(tut_filtered['ad_id'].unique())"
   ]
  },
  {
   "cell_type": "code",
   "execution_count": 67,
   "id": "71960a57",
   "metadata": {},
   "outputs": [
    {
     "data": {
      "text/plain": [
       "241344"
      ]
     },
     "execution_count": 67,
     "metadata": {},
     "output_type": "execute_result"
    }
   ],
   "source": [
    "len(tut_filtered[tut_filtered['event_previous_timestamp'].isnull()]['ad_id'].unique())"
   ]
  },
  {
   "cell_type": "code",
   "execution_count": 56,
   "id": "fbe4595a",
   "metadata": {},
   "outputs": [
    {
     "data": {
      "text/html": [
       "<div>\n",
       "<style scoped>\n",
       "    .dataframe tbody tr th:only-of-type {\n",
       "        vertical-align: middle;\n",
       "    }\n",
       "\n",
       "    .dataframe tbody tr th {\n",
       "        vertical-align: top;\n",
       "    }\n",
       "\n",
       "    .dataframe thead th {\n",
       "        text-align: right;\n",
       "    }\n",
       "</style>\n",
       "<table border=\"1\" class=\"dataframe\">\n",
       "  <thead>\n",
       "    <tr style=\"text-align: right;\">\n",
       "      <th></th>\n",
       "      <th>traffic_source_medium</th>\n",
       "      <th>traffic_source_source</th>\n",
       "      <th>traffic_source_name</th>\n",
       "      <th>event_date</th>\n",
       "      <th>event_timestamp</th>\n",
       "      <th>event_name</th>\n",
       "      <th>ad_id</th>\n",
       "      <th>ga_session_id</th>\n",
       "      <th>engaged_session_event</th>\n",
       "      <th>tutorial_name</th>\n",
       "      <th>...</th>\n",
       "      <th>geo_country</th>\n",
       "      <th>geo_region</th>\n",
       "      <th>geo_city</th>\n",
       "      <th>geo_sub_continent</th>\n",
       "      <th>geo_metro</th>\n",
       "      <th>app_info_id</th>\n",
       "      <th>app_info_version</th>\n",
       "      <th>app_info_install_source</th>\n",
       "      <th>platform</th>\n",
       "      <th>items</th>\n",
       "    </tr>\n",
       "  </thead>\n",
       "  <tbody>\n",
       "    <tr>\n",
       "      <th>0</th>\n",
       "      <td>NaN</td>\n",
       "      <td>NaN</td>\n",
       "      <td>NaN</td>\n",
       "      <td>20210417</td>\n",
       "      <td>1618716504567000</td>\n",
       "      <td>tutorial</td>\n",
       "      <td>8c1573e7-f440-431e-b516-00c5b621fd63</td>\n",
       "      <td>1.618716e+09</td>\n",
       "      <td>1.0</td>\n",
       "      <td>draw_start</td>\n",
       "      <td>...</td>\n",
       "      <td>Brazil</td>\n",
       "      <td>State of Sao Paulo</td>\n",
       "      <td>Sao Paulo</td>\n",
       "      <td>South America</td>\n",
       "      <td>(not set)</td>\n",
       "      <td>kr.co.DrawHammer1</td>\n",
       "      <td>1.5.1</td>\n",
       "      <td>com.android.vending</td>\n",
       "      <td>ANDROID</td>\n",
       "      <td>[]</td>\n",
       "    </tr>\n",
       "    <tr>\n",
       "      <th>1</th>\n",
       "      <td>NaN</td>\n",
       "      <td>NaN</td>\n",
       "      <td>NaN</td>\n",
       "      <td>20210410</td>\n",
       "      <td>1618080730037000</td>\n",
       "      <td>tutorial</td>\n",
       "      <td>1d1ec878-3d36-46e5-a2cc-3bed46341679</td>\n",
       "      <td>1.618081e+09</td>\n",
       "      <td>1.0</td>\n",
       "      <td>stage_end</td>\n",
       "      <td>...</td>\n",
       "      <td>Brazil</td>\n",
       "      <td>State of Amapa</td>\n",
       "      <td>Macapa</td>\n",
       "      <td>South America</td>\n",
       "      <td>(not set)</td>\n",
       "      <td>kr.co.DrawHammer1</td>\n",
       "      <td>1.5.0</td>\n",
       "      <td>com.android.vending</td>\n",
       "      <td>ANDROID</td>\n",
       "      <td>[]</td>\n",
       "    </tr>\n",
       "    <tr>\n",
       "      <th>2</th>\n",
       "      <td>NaN</td>\n",
       "      <td>NaN</td>\n",
       "      <td>NaN</td>\n",
       "      <td>20210413</td>\n",
       "      <td>1618362123481000</td>\n",
       "      <td>tutorial</td>\n",
       "      <td>95511509-8065-4227-bd5a-a803ddbed7b6</td>\n",
       "      <td>1.618362e+09</td>\n",
       "      <td>1.0</td>\n",
       "      <td>draw_end</td>\n",
       "      <td>...</td>\n",
       "      <td>Brazil</td>\n",
       "      <td>State of Pernambuco</td>\n",
       "      <td>NaN</td>\n",
       "      <td>South America</td>\n",
       "      <td>(not set)</td>\n",
       "      <td>kr.co.DrawHammer1</td>\n",
       "      <td>1.5.1</td>\n",
       "      <td>com.android.vending</td>\n",
       "      <td>ANDROID</td>\n",
       "      <td>[]</td>\n",
       "    </tr>\n",
       "    <tr>\n",
       "      <th>3</th>\n",
       "      <td>NaN</td>\n",
       "      <td>NaN</td>\n",
       "      <td>NaN</td>\n",
       "      <td>20210416</td>\n",
       "      <td>1618572315366000</td>\n",
       "      <td>tutorial</td>\n",
       "      <td>a42b11cd-da75-4043-897f-18c3f4d67c3e</td>\n",
       "      <td>1.618572e+09</td>\n",
       "      <td>1.0</td>\n",
       "      <td>stage_end</td>\n",
       "      <td>...</td>\n",
       "      <td>Brazil</td>\n",
       "      <td>State of Minas Gerais</td>\n",
       "      <td>Patos de Minas</td>\n",
       "      <td>South America</td>\n",
       "      <td>(not set)</td>\n",
       "      <td>kr.co.DrawHammer1</td>\n",
       "      <td>1.5.1</td>\n",
       "      <td>com.android.vending</td>\n",
       "      <td>ANDROID</td>\n",
       "      <td>[]</td>\n",
       "    </tr>\n",
       "    <tr>\n",
       "      <th>4</th>\n",
       "      <td>NaN</td>\n",
       "      <td>NaN</td>\n",
       "      <td>NaN</td>\n",
       "      <td>20210419</td>\n",
       "      <td>1618892539702000</td>\n",
       "      <td>tutorial</td>\n",
       "      <td>c1fb8a47-9bbb-4faa-935d-d533b985431a</td>\n",
       "      <td>1.618892e+09</td>\n",
       "      <td>1.0</td>\n",
       "      <td>draw_end</td>\n",
       "      <td>...</td>\n",
       "      <td>Brazil</td>\n",
       "      <td>State of Sao Paulo</td>\n",
       "      <td>Sao Paulo</td>\n",
       "      <td>South America</td>\n",
       "      <td>(not set)</td>\n",
       "      <td>kr.co.DrawHammer1</td>\n",
       "      <td>1.5.2</td>\n",
       "      <td>com.android.vending</td>\n",
       "      <td>ANDROID</td>\n",
       "      <td>[]</td>\n",
       "    </tr>\n",
       "  </tbody>\n",
       "</table>\n",
       "<p>5 rows × 49 columns</p>\n",
       "</div>"
      ],
      "text/plain": [
       "  traffic_source_medium traffic_source_source traffic_source_name  event_date  \\\n",
       "0                   NaN                   NaN                 NaN    20210417   \n",
       "1                   NaN                   NaN                 NaN    20210410   \n",
       "2                   NaN                   NaN                 NaN    20210413   \n",
       "3                   NaN                   NaN                 NaN    20210416   \n",
       "4                   NaN                   NaN                 NaN    20210419   \n",
       "\n",
       "    event_timestamp event_name                                 ad_id  \\\n",
       "0  1618716504567000   tutorial  8c1573e7-f440-431e-b516-00c5b621fd63   \n",
       "1  1618080730037000   tutorial  1d1ec878-3d36-46e5-a2cc-3bed46341679   \n",
       "2  1618362123481000   tutorial  95511509-8065-4227-bd5a-a803ddbed7b6   \n",
       "3  1618572315366000   tutorial  a42b11cd-da75-4043-897f-18c3f4d67c3e   \n",
       "4  1618892539702000   tutorial  c1fb8a47-9bbb-4faa-935d-d533b985431a   \n",
       "\n",
       "   ga_session_id  engaged_session_event tutorial_name  ...  geo_country  \\\n",
       "0   1.618716e+09                    1.0    draw_start  ...       Brazil   \n",
       "1   1.618081e+09                    1.0     stage_end  ...       Brazil   \n",
       "2   1.618362e+09                    1.0      draw_end  ...       Brazil   \n",
       "3   1.618572e+09                    1.0     stage_end  ...       Brazil   \n",
       "4   1.618892e+09                    1.0      draw_end  ...       Brazil   \n",
       "\n",
       "              geo_region        geo_city  geo_sub_continent  geo_metro  \\\n",
       "0     State of Sao Paulo       Sao Paulo      South America  (not set)   \n",
       "1         State of Amapa          Macapa      South America  (not set)   \n",
       "2    State of Pernambuco             NaN      South America  (not set)   \n",
       "3  State of Minas Gerais  Patos de Minas      South America  (not set)   \n",
       "4     State of Sao Paulo       Sao Paulo      South America  (not set)   \n",
       "\n",
       "         app_info_id  app_info_version  app_info_install_source platform  \\\n",
       "0  kr.co.DrawHammer1             1.5.1      com.android.vending  ANDROID   \n",
       "1  kr.co.DrawHammer1             1.5.0      com.android.vending  ANDROID   \n",
       "2  kr.co.DrawHammer1             1.5.1      com.android.vending  ANDROID   \n",
       "3  kr.co.DrawHammer1             1.5.1      com.android.vending  ANDROID   \n",
       "4  kr.co.DrawHammer1             1.5.2      com.android.vending  ANDROID   \n",
       "\n",
       "   items  \n",
       "0     []  \n",
       "1     []  \n",
       "2     []  \n",
       "3     []  \n",
       "4     []  \n",
       "\n",
       "[5 rows x 49 columns]"
      ]
     },
     "execution_count": 56,
     "metadata": {},
     "output_type": "execute_result"
    }
   ],
   "source": [
    "grp = tut_filtered.groupby('ad_id')\n",
    "not_new_df = grp.filter(lambda x : all(x['event_previous_timestamp'] != np.nan))\n",
    "not_new_df.head()"
   ]
  },
  {
   "cell_type": "code",
   "execution_count": 57,
   "id": "48c06785",
   "metadata": {},
   "outputs": [
    {
     "data": {
      "text/plain": [
       "(995305, 49)"
      ]
     },
     "execution_count": 57,
     "metadata": {},
     "output_type": "execute_result"
    }
   ],
   "source": [
    "new_user.shape"
   ]
  },
  {
   "cell_type": "code",
   "execution_count": 58,
   "id": "3e1db4b7",
   "metadata": {
    "scrolled": true
   },
   "outputs": [
    {
     "data": {
      "text/plain": [
       "241344"
      ]
     },
     "execution_count": 58,
     "metadata": {},
     "output_type": "execute_result"
    }
   ],
   "source": [
    "len(new_user['ad_id'].unique())"
   ]
  },
  {
   "cell_type": "markdown",
   "id": "0f0cca47",
   "metadata": {},
   "source": [
    "## 4. day7 까지 데이터가 있는 user\n",
    ": 첫 접속일이 데이터의 마지막날의 8일 전보다 나중인 user 제거 ex) 0101 ~ 0130 → 0101 ~ 0123 ⇒ 0124에 들어온 user가 day 7 이 있을 수가 없기 때문."
   ]
  },
  {
   "cell_type": "code",
   "execution_count": 76,
   "id": "4247e618",
   "metadata": {
    "collapsed": true
   },
   "outputs": [
    {
     "data": {
      "text/plain": [
       "Index(['traffic_source_medium', 'traffic_source_source', 'traffic_source_name',\n",
       "       'event_date', 'event_timestamp', 'event_name', 'ad_id', 'ga_session_id',\n",
       "       'engaged_session_event', 'tutorial_name', 'ga_session_number',\n",
       "       'tutorial_id', 'event_previous_timestamp', 'event_bundle_sequence_id',\n",
       "       'event_server_timestamp_offset', 'user_pseudo_id',\n",
       "       'ga_session_number_timestamp', 'ad_id_timestamp', 'cuid',\n",
       "       'cuid_timestamp', 'frist_version', 'frist_version_timestamp',\n",
       "       'user_level', 'user_level_timestamp', 'first_open_time',\n",
       "       'first_open_time_timestamp', 'ga_session_id_timestamp',\n",
       "       'user_first_touch_timestamp', 'device_category',\n",
       "       'device_mobile_brand_name', 'mobile_model_name',\n",
       "       'device_mobile_os_hardware_model', 'device_operating_system',\n",
       "       'device_operating_system_version', 'device_advertising_id',\n",
       "       'device_language', 'device_is_limited_ad_tracking',\n",
       "       'device_time_zone_offset_seconds', 'geo_continent', 'geo_country',\n",
       "       'geo_region', 'geo_city', 'geo_sub_continent', 'geo_metro',\n",
       "       'app_info_id', 'app_info_version', 'app_info_install_source',\n",
       "       'platform', 'items'],\n",
       "      dtype='object')"
      ]
     },
     "execution_count": 76,
     "metadata": {},
     "output_type": "execute_result"
    }
   ],
   "source": [
    "new_user.columns"
   ]
  },
  {
   "cell_type": "code",
   "execution_count": 116,
   "id": "6c1d5c78",
   "metadata": {},
   "outputs": [],
   "source": [
    "event_datetime = pd.to_datetime(new_user['event_timestamp'], unit='us')\n",
    "new_user.loc[:, 'event_datetime'] = event_datetime"
   ]
  },
  {
   "cell_type": "code",
   "execution_count": 132,
   "id": "7b95f8f3",
   "metadata": {},
   "outputs": [
    {
     "name": "stdout",
     "output_type": "stream",
     "text": [
      "datetime period: 2021-04-01 ~ 2021-05-16\n"
     ]
    }
   ],
   "source": [
    "print('datetime period: {} ~ {}'.format(new_user['event_datetime'].dt.date.min(), new_user['event_datetime'].dt.date.max()))"
   ]
  },
  {
   "cell_type": "code",
   "execution_count": 119,
   "id": "de85240b",
   "metadata": {},
   "outputs": [
    {
     "data": {
      "text/plain": [
       "Timestamp('2021-05-16 03:50:12.177000')"
      ]
     },
     "execution_count": 119,
     "metadata": {},
     "output_type": "execute_result"
    }
   ],
   "source": [
    "new_user['event_datetime'].max()"
   ]
  },
  {
   "cell_type": "code",
   "execution_count": 141,
   "id": "5edf2b0a",
   "metadata": {},
   "outputs": [
    {
     "data": {
      "text/plain": [
       "(993581, 50)"
      ]
     },
     "execution_count": 141,
     "metadata": {},
     "output_type": "execute_result"
    }
   ],
   "source": [
    "# limited_date_df = new_user[new_user['event_datetime'].dt.date < date.fromisoformat('2021-05-09')]\n",
    "# limited_date_df.reset_index(drop=True, inplace=True)\n",
    "# limited_date_df.shape # (993581, 50)\n",
    "# len(limited_date_df['ad_id'].unique()) # 241030"
   ]
  },
  {
   "cell_type": "code",
   "execution_count": 147,
   "id": "d972e143",
   "metadata": {},
   "outputs": [],
   "source": [
    "limit_date = date.fromisoformat('2021-05-09')\n",
    "\n",
    "grp = new_user.groupby('ad_id')\n",
    "limited_date_df = grp.filter(lambda x : all(x['event_datetime'].dt.date < limit_date))"
   ]
  },
  {
   "cell_type": "code",
   "execution_count": 148,
   "id": "36c34e8f",
   "metadata": {},
   "outputs": [
    {
     "data": {
      "text/plain": [
       "(993059, 50)"
      ]
     },
     "execution_count": 148,
     "metadata": {},
     "output_type": "execute_result"
    }
   ],
   "source": [
    "limited_date_df.shape"
   ]
  },
  {
   "cell_type": "code",
   "execution_count": 149,
   "id": "281d3900",
   "metadata": {},
   "outputs": [
    {
     "data": {
      "text/plain": [
       "240911"
      ]
     },
     "execution_count": 149,
     "metadata": {},
     "output_type": "execute_result"
    }
   ],
   "source": [
    "len(limited_date_df['ad_id'].unique())"
   ]
  },
  {
   "cell_type": "code",
   "execution_count": 150,
   "id": "11d9ca43",
   "metadata": {},
   "outputs": [
    {
     "data": {
      "text/plain": [
       "Timestamp('2021-05-08 23:51:48.059000')"
      ]
     },
     "execution_count": 150,
     "metadata": {},
     "output_type": "execute_result"
    }
   ],
   "source": [
    "limited_date_df['event_datetime'].max()"
   ]
  },
  {
   "cell_type": "code",
   "execution_count": 151,
   "id": "7d048206",
   "metadata": {},
   "outputs": [],
   "source": [
    "limited_date_df.to_csv('tutorial_filtered.csv', index = False)"
   ]
  }
 ],
 "metadata": {
  "kernelspec": {
   "display_name": "Python 3",
   "language": "python",
   "name": "python3"
  },
  "language_info": {
   "codemirror_mode": {
    "name": "ipython",
    "version": 3
   },
   "file_extension": ".py",
   "mimetype": "text/x-python",
   "name": "python",
   "nbconvert_exporter": "python",
   "pygments_lexer": "ipython3",
   "version": "3.7.0"
  }
 },
 "nbformat": 4,
 "nbformat_minor": 5
}
