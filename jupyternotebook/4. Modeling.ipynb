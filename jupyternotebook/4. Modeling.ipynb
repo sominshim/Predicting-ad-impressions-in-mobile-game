{
 "cells": [
  {
   "cell_type": "markdown",
   "id": "6a2521b1",
   "metadata": {},
   "source": [
    "- [Normalizer](#Normalizer)\n",
    "- [RobustScaler](#RobustScaler)"
   ]
  },
  {
   "cell_type": "code",
   "execution_count": 35,
   "id": "f6779f3d",
   "metadata": {},
   "outputs": [],
   "source": [
    "from sklearn.feature_selection import SelectFromModel #SelectFromModel import\n",
    "from sklearn.preprocessing import Normalizer, MinMaxScaler, StandardScaler, RobustScaler\n",
    "from sklearn.linear_model import ElasticNet, Lasso,  BayesianRidge, LassoLarsIC\n",
    "from sklearn.ensemble import RandomForestRegressor,  GradientBoostingRegressor\n",
    "from sklearn.kernel_ridge import KernelRidge\n",
    "from sklearn.pipeline import make_pipeline\n",
    "from sklearn.base import BaseEstimator, TransformerMixin, RegressorMixin, clone\n",
    "from sklearn.model_selection import KFold, cross_val_score, train_test_split\n",
    "from sklearn.metrics import mean_squared_error\n",
    "import xgboost as xgb\n",
    "import lightgbm as lgb\n",
    "from numpy import mean, std\n",
    "from sklearn.model_selection import RepeatedStratifiedKFold, cross_val_score\n",
    "from sklearn.ensemble import RandomForestClassifier\n",
    "\n",
    "from sklearn.multiclass import OneVsRestClassifier\n",
    "from sklearn.linear_model import SGDClassifier\n",
    "from sklearn.model_selection import StratifiedShuffleSplit\n",
    "from imblearn.under_sampling import NearMiss\n",
    "from sklearn.feature_selection import SelectKBest, chi2\n",
    "from sklearn import metrics\n",
    "from sklearn.metrics import f1_score,precision_score,recall_score\n",
    "\n",
    "import warnings\n",
    "warnings.filterwarnings(\"ignore\")"
   ]
  },
  {
   "cell_type": "code",
   "execution_count": 2,
   "id": "f8cdbf99",
   "metadata": {},
   "outputs": [],
   "source": [
    "import pandas as pd\n",
    "import numpy as np\n",
    "import seaborn as sns\n",
    "import matplotlib.pyplot as plt\n",
    "\n",
    "default_dir = '/home/users/s17011720/predicting_impression_using_mobile_game/'"
   ]
  },
  {
   "cell_type": "code",
   "execution_count": 3,
   "id": "ee5fc42c",
   "metadata": {},
   "outputs": [],
   "source": [
    "train = pd.read_csv(default_dir + \"extract_features_data/train_data.csv\")\n",
    "test = pd.read_csv(default_dir + \"extract_features_data/test_data.csv\")"
   ]
  },
  {
   "cell_type": "code",
   "execution_count": 4,
   "id": "e5af0aff",
   "metadata": {},
   "outputs": [],
   "source": [
    "train.fillna(0, inplace=True)\n",
    "test.fillna(0, inplace=True)"
   ]
  },
  {
   "cell_type": "code",
   "execution_count": 5,
   "id": "e1175aa4",
   "metadata": {},
   "outputs": [
    {
     "data": {
      "text/plain": [
       "(58035, 4)"
      ]
     },
     "execution_count": 5,
     "metadata": {},
     "output_type": "execute_result"
    }
   ],
   "source": [
    "target_y = pd.read_csv(default_dir + \"extract_features_data/target_y.csv\")\n",
    "target_y.shape"
   ]
  },
  {
   "cell_type": "code",
   "execution_count": 6,
   "id": "dfacca40",
   "metadata": {},
   "outputs": [
    {
     "data": {
      "text/html": [
       "<div>\n",
       "<style scoped>\n",
       "    .dataframe tbody tr th:only-of-type {\n",
       "        vertical-align: middle;\n",
       "    }\n",
       "\n",
       "    .dataframe tbody tr th {\n",
       "        vertical-align: top;\n",
       "    }\n",
       "\n",
       "    .dataframe thead th {\n",
       "        text-align: right;\n",
       "    }\n",
       "</style>\n",
       "<table border=\"1\" class=\"dataframe\">\n",
       "  <thead>\n",
       "    <tr style=\"text-align: right;\">\n",
       "      <th></th>\n",
       "      <th>ad_id</th>\n",
       "      <th>ba_imps_234567</th>\n",
       "      <th>is_imps_234567</th>\n",
       "      <th>rv_imps_234567</th>\n",
       "    </tr>\n",
       "  </thead>\n",
       "  <tbody>\n",
       "    <tr>\n",
       "      <th>0</th>\n",
       "      <td>00038635-61d2-4656-b04b-332c5a6755cd</td>\n",
       "      <td>1.0</td>\n",
       "      <td>0.0</td>\n",
       "      <td>0.0</td>\n",
       "    </tr>\n",
       "    <tr>\n",
       "      <th>1</th>\n",
       "      <td>0003b43c-1404-4ece-9cb2-3971a24612da</td>\n",
       "      <td>1.0</td>\n",
       "      <td>0.0</td>\n",
       "      <td>0.0</td>\n",
       "    </tr>\n",
       "  </tbody>\n",
       "</table>\n",
       "</div>"
      ],
      "text/plain": [
       "                                  ad_id  ba_imps_234567  is_imps_234567  \\\n",
       "0  00038635-61d2-4656-b04b-332c5a6755cd             1.0             0.0   \n",
       "1  0003b43c-1404-4ece-9cb2-3971a24612da             1.0             0.0   \n",
       "\n",
       "   rv_imps_234567  \n",
       "0             0.0  \n",
       "1             0.0  "
      ]
     },
     "execution_count": 6,
     "metadata": {},
     "output_type": "execute_result"
    }
   ],
   "source": [
    "target_y.fillna(0, inplace=True)\n",
    "target_y.head(2)"
   ]
  },
  {
   "cell_type": "code",
   "execution_count": 7,
   "id": "68c06dc5",
   "metadata": {},
   "outputs": [],
   "source": [
    "target_y['eCPM'] = target_y['ba_imps_234567']*1.11 + target_y['is_imps_234567']*18.3 + target_y['rv_imps_234567']*22.81\n",
    "target_y = target_y[['ad_id', 'eCPM']]"
   ]
  },
  {
   "cell_type": "code",
   "execution_count": 8,
   "id": "b39a395f",
   "metadata": {},
   "outputs": [
    {
     "data": {
      "text/html": [
       "<div>\n",
       "<style scoped>\n",
       "    .dataframe tbody tr th:only-of-type {\n",
       "        vertical-align: middle;\n",
       "    }\n",
       "\n",
       "    .dataframe tbody tr th {\n",
       "        vertical-align: top;\n",
       "    }\n",
       "\n",
       "    .dataframe thead th {\n",
       "        text-align: right;\n",
       "    }\n",
       "</style>\n",
       "<table border=\"1\" class=\"dataframe\">\n",
       "  <thead>\n",
       "    <tr style=\"text-align: right;\">\n",
       "      <th></th>\n",
       "      <th>ad_id</th>\n",
       "      <th>day_time_sum_0</th>\n",
       "      <th>day_time_mean_0</th>\n",
       "      <th>day_time_sum_1</th>\n",
       "      <th>day_time_mean_1</th>\n",
       "    </tr>\n",
       "  </thead>\n",
       "  <tbody>\n",
       "    <tr>\n",
       "      <th>0</th>\n",
       "      <td>00018501-6eee-45e9-b5b5-7b50f966abd8</td>\n",
       "      <td>33.122002</td>\n",
       "      <td>33.122002</td>\n",
       "      <td>NaN</td>\n",
       "      <td>NaN</td>\n",
       "    </tr>\n",
       "    <tr>\n",
       "      <th>1</th>\n",
       "      <td>0001edb6-e7e7-4f74-8993-2bfc9347a959</td>\n",
       "      <td>584.755000</td>\n",
       "      <td>584.755000</td>\n",
       "      <td>NaN</td>\n",
       "      <td>NaN</td>\n",
       "    </tr>\n",
       "  </tbody>\n",
       "</table>\n",
       "</div>"
      ],
      "text/plain": [
       "                                  ad_id  day_time_sum_0  day_time_mean_0  \\\n",
       "0  00018501-6eee-45e9-b5b5-7b50f966abd8       33.122002        33.122002   \n",
       "1  0001edb6-e7e7-4f74-8993-2bfc9347a959      584.755000       584.755000   \n",
       "\n",
       "   day_time_sum_1  day_time_mean_1  \n",
       "0             NaN              NaN  \n",
       "1             NaN              NaN  "
      ]
     },
     "execution_count": 8,
     "metadata": {},
     "output_type": "execute_result"
    }
   ],
   "source": [
    "day_time_01 = pd.read_csv(default_dir + \"extract_features_data/day_time_01.csv\")\n",
    "day_time_01.head(2)"
   ]
  },
  {
   "cell_type": "code",
   "execution_count": 9,
   "id": "9e900dd6",
   "metadata": {},
   "outputs": [],
   "source": [
    "day_time_cols = ['day_time_sum_0', 'day_time_mean_0', 'day_time_sum_1', 'day_time_mean_1']"
   ]
  },
  {
   "cell_type": "code",
   "execution_count": 10,
   "id": "39a8ffc5",
   "metadata": {},
   "outputs": [
    {
     "data": {
      "text/html": [
       "<div>\n",
       "<style scoped>\n",
       "    .dataframe tbody tr th:only-of-type {\n",
       "        vertical-align: middle;\n",
       "    }\n",
       "\n",
       "    .dataframe tbody tr th {\n",
       "        vertical-align: top;\n",
       "    }\n",
       "\n",
       "    .dataframe thead th {\n",
       "        text-align: right;\n",
       "    }\n",
       "</style>\n",
       "<table border=\"1\" class=\"dataframe\">\n",
       "  <thead>\n",
       "    <tr style=\"text-align: right;\">\n",
       "      <th></th>\n",
       "      <th>ad_id</th>\n",
       "      <th>eCPM</th>\n",
       "      <th>day_time_sum_0</th>\n",
       "      <th>day_time_mean_0</th>\n",
       "      <th>day_time_sum_1</th>\n",
       "      <th>day_time_mean_1</th>\n",
       "    </tr>\n",
       "  </thead>\n",
       "  <tbody>\n",
       "    <tr>\n",
       "      <th>0</th>\n",
       "      <td>00038635-61d2-4656-b04b-332c5a6755cd</td>\n",
       "      <td>1.11</td>\n",
       "      <td>2373.133001</td>\n",
       "      <td>1186.566501</td>\n",
       "      <td>2168.193</td>\n",
       "      <td>2168.193</td>\n",
       "    </tr>\n",
       "    <tr>\n",
       "      <th>1</th>\n",
       "      <td>0003b43c-1404-4ece-9cb2-3971a24612da</td>\n",
       "      <td>1.11</td>\n",
       "      <td>57.616001</td>\n",
       "      <td>57.616001</td>\n",
       "      <td>NaN</td>\n",
       "      <td>NaN</td>\n",
       "    </tr>\n",
       "  </tbody>\n",
       "</table>\n",
       "</div>"
      ],
      "text/plain": [
       "                                  ad_id  eCPM  day_time_sum_0  \\\n",
       "0  00038635-61d2-4656-b04b-332c5a6755cd  1.11     2373.133001   \n",
       "1  0003b43c-1404-4ece-9cb2-3971a24612da  1.11       57.616001   \n",
       "\n",
       "   day_time_mean_0  day_time_sum_1  day_time_mean_1  \n",
       "0      1186.566501        2168.193         2168.193  \n",
       "1        57.616001             NaN              NaN  "
      ]
     },
     "execution_count": 10,
     "metadata": {},
     "output_type": "execute_result"
    }
   ],
   "source": [
    "target_y = pd.merge(target_y, day_time_01, on=['ad_id'], how='left')\n",
    "target_y.head(2)"
   ]
  },
  {
   "cell_type": "code",
   "execution_count": 11,
   "id": "2e394cc3",
   "metadata": {},
   "outputs": [],
   "source": [
    "train.drop(day_time_cols, axis=1, inplace=True)\n",
    "test.drop(day_time_cols, axis=1, inplace=True)"
   ]
  },
  {
   "cell_type": "code",
   "execution_count": 12,
   "id": "16cbca16",
   "metadata": {},
   "outputs": [],
   "source": [
    "train_df = pd.merge(train, target_y, on=['ad_id'], how='left')\n",
    "test_df = pd.merge(test, target_y, on=['ad_id'], how='left')"
   ]
  },
  {
   "cell_type": "code",
   "execution_count": 13,
   "id": "f1d6587e",
   "metadata": {},
   "outputs": [
    {
     "data": {
      "text/html": [
       "<div>\n",
       "<style scoped>\n",
       "    .dataframe tbody tr th:only-of-type {\n",
       "        vertical-align: middle;\n",
       "    }\n",
       "\n",
       "    .dataframe tbody tr th {\n",
       "        vertical-align: top;\n",
       "    }\n",
       "\n",
       "    .dataframe thead th {\n",
       "        text-align: right;\n",
       "    }\n",
       "</style>\n",
       "<table border=\"1\" class=\"dataframe\">\n",
       "  <thead>\n",
       "    <tr style=\"text-align: right;\">\n",
       "      <th></th>\n",
       "      <th>ad_id</th>\n",
       "      <th>in_coin_cnt_0</th>\n",
       "      <th>out_coin_cnt_0</th>\n",
       "      <th>in_coin_sum_0</th>\n",
       "      <th>out_coin_sum_0</th>\n",
       "      <th>curr_var_min_0</th>\n",
       "      <th>curr_var_max_0</th>\n",
       "      <th>buy_skin_var_sum_0</th>\n",
       "      <th>offline_coin_var_sum_0</th>\n",
       "      <th>play_var_sum_0</th>\n",
       "      <th>...</th>\n",
       "      <th>pinch_cnt_1</th>\n",
       "      <th>clear/stage_cnt_0</th>\n",
       "      <th>clear/stage_cnt_1</th>\n",
       "      <th>session_count_0</th>\n",
       "      <th>session_count_1</th>\n",
       "      <th>eCPM</th>\n",
       "      <th>day_time_sum_0</th>\n",
       "      <th>day_time_mean_0</th>\n",
       "      <th>day_time_sum_1</th>\n",
       "      <th>day_time_mean_1</th>\n",
       "    </tr>\n",
       "  </thead>\n",
       "  <tbody>\n",
       "    <tr>\n",
       "      <th>0</th>\n",
       "      <td>00018501-6eee-45e9-b5b5-7b50f966abd8</td>\n",
       "      <td>1.0</td>\n",
       "      <td>0.0</td>\n",
       "      <td>51.0</td>\n",
       "      <td>0.0</td>\n",
       "      <td>51.0</td>\n",
       "      <td>51.0</td>\n",
       "      <td>0.0</td>\n",
       "      <td>0.0</td>\n",
       "      <td>51.0</td>\n",
       "      <td>...</td>\n",
       "      <td>0.0</td>\n",
       "      <td>100.0</td>\n",
       "      <td>0.0</td>\n",
       "      <td>1.0</td>\n",
       "      <td>0.0</td>\n",
       "      <td>NaN</td>\n",
       "      <td>NaN</td>\n",
       "      <td>NaN</td>\n",
       "      <td>NaN</td>\n",
       "      <td>NaN</td>\n",
       "    </tr>\n",
       "    <tr>\n",
       "      <th>1</th>\n",
       "      <td>0001ef07-c27e-4d91-a8bb-d0aa5f0d45e7</td>\n",
       "      <td>3.0</td>\n",
       "      <td>0.0</td>\n",
       "      <td>153.0</td>\n",
       "      <td>0.0</td>\n",
       "      <td>51.0</td>\n",
       "      <td>153.0</td>\n",
       "      <td>0.0</td>\n",
       "      <td>0.0</td>\n",
       "      <td>153.0</td>\n",
       "      <td>...</td>\n",
       "      <td>2.0</td>\n",
       "      <td>100.0</td>\n",
       "      <td>100.0</td>\n",
       "      <td>1.0</td>\n",
       "      <td>1.0</td>\n",
       "      <td>NaN</td>\n",
       "      <td>NaN</td>\n",
       "      <td>NaN</td>\n",
       "      <td>NaN</td>\n",
       "      <td>NaN</td>\n",
       "    </tr>\n",
       "  </tbody>\n",
       "</table>\n",
       "<p>2 rows × 224 columns</p>\n",
       "</div>"
      ],
      "text/plain": [
       "                                  ad_id  in_coin_cnt_0  out_coin_cnt_0  \\\n",
       "0  00018501-6eee-45e9-b5b5-7b50f966abd8            1.0             0.0   \n",
       "1  0001ef07-c27e-4d91-a8bb-d0aa5f0d45e7            3.0             0.0   \n",
       "\n",
       "   in_coin_sum_0  out_coin_sum_0  curr_var_min_0  curr_var_max_0  \\\n",
       "0           51.0             0.0            51.0            51.0   \n",
       "1          153.0             0.0            51.0           153.0   \n",
       "\n",
       "   buy_skin_var_sum_0  offline_coin_var_sum_0  play_var_sum_0  ...  \\\n",
       "0                 0.0                     0.0            51.0  ...   \n",
       "1                 0.0                     0.0           153.0  ...   \n",
       "\n",
       "   pinch_cnt_1  clear/stage_cnt_0  clear/stage_cnt_1  session_count_0  \\\n",
       "0          0.0              100.0                0.0              1.0   \n",
       "1          2.0              100.0              100.0              1.0   \n",
       "\n",
       "   session_count_1  eCPM  day_time_sum_0  day_time_mean_0  day_time_sum_1  \\\n",
       "0              0.0   NaN             NaN              NaN             NaN   \n",
       "1              1.0   NaN             NaN              NaN             NaN   \n",
       "\n",
       "   day_time_mean_1  \n",
       "0              NaN  \n",
       "1              NaN  \n",
       "\n",
       "[2 rows x 224 columns]"
      ]
     },
     "execution_count": 13,
     "metadata": {},
     "output_type": "execute_result"
    }
   ],
   "source": [
    "train_df.head(2)"
   ]
  },
  {
   "cell_type": "code",
   "execution_count": 14,
   "id": "9090a939",
   "metadata": {},
   "outputs": [],
   "source": [
    "train_y = train_df[['ad_id', 'eCPM']]\n",
    "test_y = test_df[['ad_id', 'eCPM']]"
   ]
  },
  {
   "cell_type": "code",
   "execution_count": 15,
   "id": "06e8dacd",
   "metadata": {},
   "outputs": [
    {
     "name": "stdout",
     "output_type": "stream",
     "text": [
      "180040\n",
      "45011\n"
     ]
    }
   ],
   "source": [
    "print(len(train_y))\n",
    "print(len(test_y))"
   ]
  },
  {
   "cell_type": "code",
   "execution_count": 16,
   "id": "b8276a28",
   "metadata": {},
   "outputs": [
    {
     "data": {
      "text/html": [
       "<div>\n",
       "<style scoped>\n",
       "    .dataframe tbody tr th:only-of-type {\n",
       "        vertical-align: middle;\n",
       "    }\n",
       "\n",
       "    .dataframe tbody tr th {\n",
       "        vertical-align: top;\n",
       "    }\n",
       "\n",
       "    .dataframe thead th {\n",
       "        text-align: right;\n",
       "    }\n",
       "</style>\n",
       "<table border=\"1\" class=\"dataframe\">\n",
       "  <thead>\n",
       "    <tr style=\"text-align: right;\">\n",
       "      <th></th>\n",
       "      <th>ad_id</th>\n",
       "      <th>eCPM</th>\n",
       "    </tr>\n",
       "  </thead>\n",
       "  <tbody>\n",
       "    <tr>\n",
       "      <th>0</th>\n",
       "      <td>00018501-6eee-45e9-b5b5-7b50f966abd8</td>\n",
       "      <td>NaN</td>\n",
       "    </tr>\n",
       "    <tr>\n",
       "      <th>1</th>\n",
       "      <td>0001ef07-c27e-4d91-a8bb-d0aa5f0d45e7</td>\n",
       "      <td>NaN</td>\n",
       "    </tr>\n",
       "  </tbody>\n",
       "</table>\n",
       "</div>"
      ],
      "text/plain": [
       "                                  ad_id  eCPM\n",
       "0  00018501-6eee-45e9-b5b5-7b50f966abd8   NaN\n",
       "1  0001ef07-c27e-4d91-a8bb-d0aa5f0d45e7   NaN"
      ]
     },
     "execution_count": 16,
     "metadata": {},
     "output_type": "execute_result"
    }
   ],
   "source": [
    "df_y = pd.concat([train_y, test_y], ignore_index=True)\n",
    "df_y.head(2)"
   ]
  },
  {
   "cell_type": "code",
   "execution_count": 17,
   "id": "c7a5a246",
   "metadata": {},
   "outputs": [],
   "source": [
    "df_y.fillna(0, inplace=True)"
   ]
  },
  {
   "cell_type": "code",
   "execution_count": 18,
   "id": "89bcbb50",
   "metadata": {},
   "outputs": [],
   "source": [
    "df_y['eCPM_class'] = 0 \n",
    "df_y.loc[df_y['eCPM']>0, 'eCPM_class']=1"
   ]
  },
  {
   "cell_type": "code",
   "execution_count": 19,
   "id": "92bf6e84",
   "metadata": {},
   "outputs": [
    {
     "data": {
      "text/plain": [
       "<AxesSubplot:xlabel='eCPM_class', ylabel='count'>"
      ]
     },
     "execution_count": 19,
     "metadata": {},
     "output_type": "execute_result"
    },
    {
     "data": {
      "image/png": "[encoded data removed]",
      "text/plain": [
       "<Figure size 432x288 with 1 Axes>"
      ]
     },
     "metadata": {
      "needs_background": "light"
     },
     "output_type": "display_data"
    }
   ],
   "source": [
    "sns.countplot(x=\"eCPM_class\", data=df_y)"
   ]
  },
  {
   "cell_type": "code",
   "execution_count": 20,
   "id": "f260244a",
   "metadata": {},
   "outputs": [],
   "source": [
    "df_y=df_y[['ad_id', 'eCPM_class']]"
   ]
  },
  {
   "cell_type": "code",
   "execution_count": 21,
   "id": "253091c5",
   "metadata": {},
   "outputs": [
    {
     "data": {
      "text/html": [
       "<div>\n",
       "<style scoped>\n",
       "    .dataframe tbody tr th:only-of-type {\n",
       "        vertical-align: middle;\n",
       "    }\n",
       "\n",
       "    .dataframe tbody tr th {\n",
       "        vertical-align: top;\n",
       "    }\n",
       "\n",
       "    .dataframe thead th {\n",
       "        text-align: right;\n",
       "    }\n",
       "</style>\n",
       "<table border=\"1\" class=\"dataframe\">\n",
       "  <thead>\n",
       "    <tr style=\"text-align: right;\">\n",
       "      <th></th>\n",
       "      <th>ad_id</th>\n",
       "      <th>in_coin_cnt_0</th>\n",
       "      <th>out_coin_cnt_0</th>\n",
       "      <th>in_coin_sum_0</th>\n",
       "      <th>out_coin_sum_0</th>\n",
       "      <th>curr_var_min_0</th>\n",
       "      <th>curr_var_max_0</th>\n",
       "      <th>buy_skin_var_sum_0</th>\n",
       "      <th>offline_coin_var_sum_0</th>\n",
       "      <th>play_var_sum_0</th>\n",
       "      <th>...</th>\n",
       "      <th>clear/stage_cnt_0</th>\n",
       "      <th>clear/stage_cnt_1</th>\n",
       "      <th>session_count_0</th>\n",
       "      <th>session_count_1</th>\n",
       "      <th>eCPM</th>\n",
       "      <th>day_time_sum_0</th>\n",
       "      <th>day_time_mean_0</th>\n",
       "      <th>day_time_sum_1</th>\n",
       "      <th>day_time_mean_1</th>\n",
       "      <th>eCPM_class</th>\n",
       "    </tr>\n",
       "  </thead>\n",
       "  <tbody>\n",
       "    <tr>\n",
       "      <th>0</th>\n",
       "      <td>00018501-6eee-45e9-b5b5-7b50f966abd8</td>\n",
       "      <td>1.0</td>\n",
       "      <td>0.0</td>\n",
       "      <td>51.0</td>\n",
       "      <td>0.0</td>\n",
       "      <td>51.0</td>\n",
       "      <td>51.0</td>\n",
       "      <td>0.0</td>\n",
       "      <td>0.0</td>\n",
       "      <td>51.0</td>\n",
       "      <td>...</td>\n",
       "      <td>100.0</td>\n",
       "      <td>0.0</td>\n",
       "      <td>1.0</td>\n",
       "      <td>0.0</td>\n",
       "      <td>NaN</td>\n",
       "      <td>NaN</td>\n",
       "      <td>NaN</td>\n",
       "      <td>NaN</td>\n",
       "      <td>NaN</td>\n",
       "      <td>0</td>\n",
       "    </tr>\n",
       "    <tr>\n",
       "      <th>1</th>\n",
       "      <td>0001ef07-c27e-4d91-a8bb-d0aa5f0d45e7</td>\n",
       "      <td>3.0</td>\n",
       "      <td>0.0</td>\n",
       "      <td>153.0</td>\n",
       "      <td>0.0</td>\n",
       "      <td>51.0</td>\n",
       "      <td>153.0</td>\n",
       "      <td>0.0</td>\n",
       "      <td>0.0</td>\n",
       "      <td>153.0</td>\n",
       "      <td>...</td>\n",
       "      <td>100.0</td>\n",
       "      <td>100.0</td>\n",
       "      <td>1.0</td>\n",
       "      <td>1.0</td>\n",
       "      <td>NaN</td>\n",
       "      <td>NaN</td>\n",
       "      <td>NaN</td>\n",
       "      <td>NaN</td>\n",
       "      <td>NaN</td>\n",
       "      <td>0</td>\n",
       "    </tr>\n",
       "  </tbody>\n",
       "</table>\n",
       "<p>2 rows × 225 columns</p>\n",
       "</div>"
      ],
      "text/plain": [
       "                                  ad_id  in_coin_cnt_0  out_coin_cnt_0  \\\n",
       "0  00018501-6eee-45e9-b5b5-7b50f966abd8            1.0             0.0   \n",
       "1  0001ef07-c27e-4d91-a8bb-d0aa5f0d45e7            3.0             0.0   \n",
       "\n",
       "   in_coin_sum_0  out_coin_sum_0  curr_var_min_0  curr_var_max_0  \\\n",
       "0           51.0             0.0            51.0            51.0   \n",
       "1          153.0             0.0            51.0           153.0   \n",
       "\n",
       "   buy_skin_var_sum_0  offline_coin_var_sum_0  play_var_sum_0  ...  \\\n",
       "0                 0.0                     0.0            51.0  ...   \n",
       "1                 0.0                     0.0           153.0  ...   \n",
       "\n",
       "   clear/stage_cnt_0  clear/stage_cnt_1  session_count_0  session_count_1  \\\n",
       "0              100.0                0.0              1.0              0.0   \n",
       "1              100.0              100.0              1.0              1.0   \n",
       "\n",
       "   eCPM  day_time_sum_0  day_time_mean_0  day_time_sum_1  day_time_mean_1  \\\n",
       "0   NaN             NaN              NaN             NaN              NaN   \n",
       "1   NaN             NaN              NaN             NaN              NaN   \n",
       "\n",
       "   eCPM_class  \n",
       "0           0  \n",
       "1           0  \n",
       "\n",
       "[2 rows x 225 columns]"
      ]
     },
     "execution_count": 21,
     "metadata": {},
     "output_type": "execute_result"
    }
   ],
   "source": [
    "train_df = pd.merge(train_df, df_y, on=['ad_id'], how='left')\n",
    "train_df.head(2)"
   ]
  },
  {
   "cell_type": "code",
   "execution_count": 22,
   "id": "27e1786e",
   "metadata": {},
   "outputs": [],
   "source": [
    "test_df = pd.merge(test_df, df_y, on=['ad_id'], how='left')"
   ]
  },
  {
   "cell_type": "code",
   "execution_count": 23,
   "id": "c96f5fdf",
   "metadata": {},
   "outputs": [],
   "source": [
    "train_df.reset_index(drop=True, inplace=True)\n",
    "test_df.reset_index(drop=True, inplace=True)"
   ]
  },
  {
   "cell_type": "code",
   "execution_count": 24,
   "id": "c22d0f6d",
   "metadata": {},
   "outputs": [
    {
     "data": {
      "text/html": [
       "<div>\n",
       "<style scoped>\n",
       "    .dataframe tbody tr th:only-of-type {\n",
       "        vertical-align: middle;\n",
       "    }\n",
       "\n",
       "    .dataframe tbody tr th {\n",
       "        vertical-align: top;\n",
       "    }\n",
       "\n",
       "    .dataframe thead th {\n",
       "        text-align: right;\n",
       "    }\n",
       "</style>\n",
       "<table border=\"1\" class=\"dataframe\">\n",
       "  <thead>\n",
       "    <tr style=\"text-align: right;\">\n",
       "      <th></th>\n",
       "      <th>ad_id</th>\n",
       "      <th>in_coin_cnt_0</th>\n",
       "      <th>out_coin_cnt_0</th>\n",
       "      <th>in_coin_sum_0</th>\n",
       "      <th>out_coin_sum_0</th>\n",
       "      <th>curr_var_min_0</th>\n",
       "      <th>curr_var_max_0</th>\n",
       "      <th>buy_skin_var_sum_0</th>\n",
       "      <th>offline_coin_var_sum_0</th>\n",
       "      <th>play_var_sum_0</th>\n",
       "      <th>...</th>\n",
       "      <th>clear/stage_cnt_0</th>\n",
       "      <th>clear/stage_cnt_1</th>\n",
       "      <th>session_count_0</th>\n",
       "      <th>session_count_1</th>\n",
       "      <th>eCPM</th>\n",
       "      <th>day_time_sum_0</th>\n",
       "      <th>day_time_mean_0</th>\n",
       "      <th>day_time_sum_1</th>\n",
       "      <th>day_time_mean_1</th>\n",
       "      <th>eCPM_class</th>\n",
       "    </tr>\n",
       "  </thead>\n",
       "  <tbody>\n",
       "    <tr>\n",
       "      <th>0</th>\n",
       "      <td>00018501-6eee-45e9-b5b5-7b50f966abd8</td>\n",
       "      <td>1.0</td>\n",
       "      <td>0.0</td>\n",
       "      <td>51.0</td>\n",
       "      <td>0.0</td>\n",
       "      <td>51.0</td>\n",
       "      <td>51.0</td>\n",
       "      <td>0.0</td>\n",
       "      <td>0.0</td>\n",
       "      <td>51.0</td>\n",
       "      <td>...</td>\n",
       "      <td>100.0</td>\n",
       "      <td>0.0</td>\n",
       "      <td>1.0</td>\n",
       "      <td>0.0</td>\n",
       "      <td>NaN</td>\n",
       "      <td>NaN</td>\n",
       "      <td>NaN</td>\n",
       "      <td>NaN</td>\n",
       "      <td>NaN</td>\n",
       "      <td>0</td>\n",
       "    </tr>\n",
       "    <tr>\n",
       "      <th>1</th>\n",
       "      <td>0001ef07-c27e-4d91-a8bb-d0aa5f0d45e7</td>\n",
       "      <td>3.0</td>\n",
       "      <td>0.0</td>\n",
       "      <td>153.0</td>\n",
       "      <td>0.0</td>\n",
       "      <td>51.0</td>\n",
       "      <td>153.0</td>\n",
       "      <td>0.0</td>\n",
       "      <td>0.0</td>\n",
       "      <td>153.0</td>\n",
       "      <td>...</td>\n",
       "      <td>100.0</td>\n",
       "      <td>100.0</td>\n",
       "      <td>1.0</td>\n",
       "      <td>1.0</td>\n",
       "      <td>NaN</td>\n",
       "      <td>NaN</td>\n",
       "      <td>NaN</td>\n",
       "      <td>NaN</td>\n",
       "      <td>NaN</td>\n",
       "      <td>0</td>\n",
       "    </tr>\n",
       "  </tbody>\n",
       "</table>\n",
       "<p>2 rows × 225 columns</p>\n",
       "</div>"
      ],
      "text/plain": [
       "                                  ad_id  in_coin_cnt_0  out_coin_cnt_0  \\\n",
       "0  00018501-6eee-45e9-b5b5-7b50f966abd8            1.0             0.0   \n",
       "1  0001ef07-c27e-4d91-a8bb-d0aa5f0d45e7            3.0             0.0   \n",
       "\n",
       "   in_coin_sum_0  out_coin_sum_0  curr_var_min_0  curr_var_max_0  \\\n",
       "0           51.0             0.0            51.0            51.0   \n",
       "1          153.0             0.0            51.0           153.0   \n",
       "\n",
       "   buy_skin_var_sum_0  offline_coin_var_sum_0  play_var_sum_0  ...  \\\n",
       "0                 0.0                     0.0            51.0  ...   \n",
       "1                 0.0                     0.0           153.0  ...   \n",
       "\n",
       "   clear/stage_cnt_0  clear/stage_cnt_1  session_count_0  session_count_1  \\\n",
       "0              100.0                0.0              1.0              0.0   \n",
       "1              100.0              100.0              1.0              1.0   \n",
       "\n",
       "   eCPM  day_time_sum_0  day_time_mean_0  day_time_sum_1  day_time_mean_1  \\\n",
       "0   NaN             NaN              NaN             NaN              NaN   \n",
       "1   NaN             NaN              NaN             NaN              NaN   \n",
       "\n",
       "   eCPM_class  \n",
       "0           0  \n",
       "1           0  \n",
       "\n",
       "[2 rows x 225 columns]"
      ]
     },
     "execution_count": 24,
     "metadata": {},
     "output_type": "execute_result"
    }
   ],
   "source": [
    "train_df.head(2)"
   ]
  },
  {
   "cell_type": "code",
   "execution_count": 25,
   "id": "af2463b7",
   "metadata": {},
   "outputs": [],
   "source": [
    "train_df.fillna(0, inplace=True)\n",
    "test_df.fillna(0, inplace=True)"
   ]
  },
  {
   "cell_type": "code",
   "execution_count": 26,
   "id": "cfb17231",
   "metadata": {},
   "outputs": [
    {
     "name": "stdout",
     "output_type": "stream",
     "text": [
      "(180040, 222) (180040, 1)\n",
      "(45011, 222) (45011, 1)\n"
     ]
    }
   ],
   "source": [
    "not_feature = ['ad_id', 'eCPM', 'eCPM_class']\n",
    "X_train = train_df.drop(not_feature, axis=1)\n",
    "X_test = test_df.drop(not_feature, axis=1)\n",
    "\n",
    "Y_train = train_df[['eCPM_class']]\n",
    "Y_test = test_df[['eCPM_class']]\n",
    "print(X_train.shape, Y_train.shape)\n",
    "print(X_test.shape, Y_test.shape)"
   ]
  },
  {
   "cell_type": "markdown",
   "id": "d220e0b5",
   "metadata": {},
   "source": [
    "## feature selection"
   ]
  },
  {
   "cell_type": "code",
   "execution_count": 59,
   "id": "de9e41cd",
   "metadata": {},
   "outputs": [],
   "source": [
    "selector = SelectKBest(chi2, k=10)\n",
    "selector.fit(X_train, Y_train)\n",
    "# Get columns to keep and create new dataframe with those only\n",
    "cols = selector.get_support(indices=True)\n",
    "features_df_new = X_train.iloc[:,cols]"
   ]
  },
  {
   "cell_type": "code",
   "execution_count": 60,
   "id": "690ad9f7",
   "metadata": {},
   "outputs": [
    {
     "data": {
      "text/plain": [
       "Index(['curr_var_max_0', 'coin_minmax_diff_0', 'in_coin_sum_1',\n",
       "       'out_coin_sum_1', 'play_var_sum_1', 'coin_sum_1', 'day_time_sum_0',\n",
       "       'day_time_mean_0', 'day_time_sum_1', 'day_time_mean_1'],\n",
       "      dtype='object')"
      ]
     },
     "execution_count": 60,
     "metadata": {},
     "output_type": "execute_result"
    }
   ],
   "source": [
    "features_df_new.columns"
   ]
  },
  {
   "cell_type": "code",
   "execution_count": 61,
   "id": "8ee1237d",
   "metadata": {},
   "outputs": [],
   "source": [
    "df = train_df[features_df_new.columns.tolist()]"
   ]
  },
  {
   "cell_type": "code",
   "execution_count": 62,
   "id": "fd7c1656",
   "metadata": {},
   "outputs": [],
   "source": [
    "df['class']=train_df['eCPM_class']"
   ]
  },
  {
   "cell_type": "code",
   "execution_count": 63,
   "id": "9a4af8b6",
   "metadata": {
    "scrolled": true
   },
   "outputs": [
    {
     "data": {
      "text/plain": [
       "curr_var_max_0       -0.002057\n",
       "coin_minmax_diff_0   -0.002057\n",
       "in_coin_sum_1         0.165130\n",
       "out_coin_sum_1        0.131076\n",
       "play_var_sum_1        0.152631\n",
       "coin_sum_1            0.150528\n",
       "day_time_sum_0        0.448776\n",
       "day_time_mean_0       0.412676\n",
       "day_time_sum_1        0.190668\n",
       "day_time_mean_1       0.175447\n",
       "class                 1.000000\n",
       "Name: class, dtype: float64"
      ]
     },
     "execution_count": 63,
     "metadata": {},
     "output_type": "execute_result"
    }
   ],
   "source": [
    "df.corr()['class']"
   ]
  },
  {
   "cell_type": "code",
   "execution_count": 64,
   "id": "424b8ee0",
   "metadata": {},
   "outputs": [
    {
     "data": {
      "image/png": "[encoded data removed]",
      "text/plain": [
       "<Figure size 432x288 with 1 Axes>"
      ]
     },
     "metadata": {
      "needs_background": "light"
     },
     "output_type": "display_data"
    },
    {
     "data": {
      "image/png": "[encoded data removed]",
      "text/plain": [
       "<Figure size 432x288 with 1 Axes>"
      ]
     },
     "metadata": {
      "needs_background": "light"
     },
     "output_type": "display_data"
    }
   ],
   "source": [
    "split = StratifiedShuffleSplit(n_splits=1, test_size=0.2, random_state=42)\n",
    "\n",
    "for train_index, test_index in split.split(features_df_new, Y_train):\n",
    "    x_train = features_df_new.loc[train_index]\n",
    "    x_val = features_df_new.loc[test_index]\n",
    "    \n",
    "    y_train = Y_train.loc[train_index]\n",
    "    y_val = Y_train.loc[test_index]\n",
    "    \n",
    "y_train[\"eCPM_class\"].hist()\n",
    "plt.show()\n",
    "y_val[\"eCPM_class\"].hist()\n",
    "plt.show()"
   ]
  },
  {
   "cell_type": "code",
   "execution_count": 65,
   "id": "94a264c6",
   "metadata": {},
   "outputs": [],
   "source": [
    "scalar = StandardScaler()\n",
    "\n",
    "x_train_scaled = scalar.fit_transform(x_train)\n",
    "x_val_scaled = scalar.fit_transform(x_val)"
   ]
  },
  {
   "cell_type": "code",
   "execution_count": 66,
   "id": "b4a68ad1",
   "metadata": {},
   "outputs": [],
   "source": [
    "X_test_scaled = scalar.fit_transform(X_test[features_df_new.columns.tolist()])"
   ]
  },
  {
   "cell_type": "code",
   "execution_count": 33,
   "id": "dbacedc9",
   "metadata": {
    "collapsed": true
   },
   "outputs": [
    {
     "ename": "KeyboardInterrupt",
     "evalue": "",
     "output_type": "error",
     "traceback": [
      "\u001b[0;31m---------------------------------------------------------------------------\u001b[0m",
      "\u001b[0;31mKeyboardInterrupt\u001b[0m                         Traceback (most recent call last)",
      "\u001b[0;32m<ipython-input-33-2c58c53ccefd>\u001b[0m in \u001b[0;36m<module>\u001b[0;34m\u001b[0m\n\u001b[1;32m      1\u001b[0m \u001b[0mnm\u001b[0m \u001b[0;34m=\u001b[0m \u001b[0mNearMiss\u001b[0m\u001b[0;34m(\u001b[0m\u001b[0;34m)\u001b[0m\u001b[0;34m\u001b[0m\u001b[0m\n\u001b[0;32m----> 2\u001b[0;31m \u001b[0mx_nm\u001b[0m\u001b[0;34m,\u001b[0m \u001b[0my_nm\u001b[0m \u001b[0;34m=\u001b[0m \u001b[0mnm\u001b[0m\u001b[0;34m.\u001b[0m\u001b[0mfit_resample\u001b[0m\u001b[0;34m(\u001b[0m\u001b[0mx_train_scaled\u001b[0m\u001b[0;34m,\u001b[0m \u001b[0my_train\u001b[0m\u001b[0;34m)\u001b[0m\u001b[0;34m\u001b[0m\u001b[0m\n\u001b[0m\u001b[1;32m      3\u001b[0m \u001b[0mprint\u001b[0m\u001b[0;34m(\u001b[0m\u001b[0mx_nm\u001b[0m\u001b[0;34m.\u001b[0m\u001b[0mshape\u001b[0m\u001b[0;34m,\u001b[0m \u001b[0my_nm\u001b[0m\u001b[0;34m.\u001b[0m\u001b[0mshape\u001b[0m\u001b[0;34m)\u001b[0m\u001b[0;34m\u001b[0m\u001b[0m\n",
      "\u001b[0;32m~/.conda/envs/jupyter/lib/python3.7/site-packages/imblearn/base.py\u001b[0m in \u001b[0;36mfit_resample\u001b[0;34m(self, X, y)\u001b[0m\n\u001b[1;32m     81\u001b[0m         )\n\u001b[1;32m     82\u001b[0m \u001b[0;34m\u001b[0m\u001b[0m\n\u001b[0;32m---> 83\u001b[0;31m         \u001b[0moutput\u001b[0m \u001b[0;34m=\u001b[0m \u001b[0mself\u001b[0m\u001b[0;34m.\u001b[0m\u001b[0m_fit_resample\u001b[0m\u001b[0;34m(\u001b[0m\u001b[0mX\u001b[0m\u001b[0;34m,\u001b[0m \u001b[0my\u001b[0m\u001b[0;34m)\u001b[0m\u001b[0;34m\u001b[0m\u001b[0m\n\u001b[0m\u001b[1;32m     84\u001b[0m \u001b[0;34m\u001b[0m\u001b[0m\n\u001b[1;32m     85\u001b[0m         \u001b[0my_\u001b[0m \u001b[0;34m=\u001b[0m \u001b[0mlabel_binarize\u001b[0m\u001b[0;34m(\u001b[0m\u001b[0moutput\u001b[0m\u001b[0;34m[\u001b[0m\u001b[0;36m1\u001b[0m\u001b[0;34m]\u001b[0m\u001b[0;34m,\u001b[0m \u001b[0mnp\u001b[0m\u001b[0;34m.\u001b[0m\u001b[0munique\u001b[0m\u001b[0;34m(\u001b[0m\u001b[0my\u001b[0m\u001b[0;34m)\u001b[0m\u001b[0;34m)\u001b[0m \u001b[0;32mif\u001b[0m \u001b[0mbinarize_y\u001b[0m \u001b[0;32melse\u001b[0m \u001b[0moutput\u001b[0m\u001b[0;34m[\u001b[0m\u001b[0;36m1\u001b[0m\u001b[0;34m]\u001b[0m\u001b[0;34m\u001b[0m\u001b[0m\n",
      "\u001b[0;32m~/.conda/envs/jupyter/lib/python3.7/site-packages/imblearn/under_sampling/_prototype_selection/_nearmiss.py\u001b[0m in \u001b[0;36m_fit_resample\u001b[0;34m(self, X, y)\u001b[0m\n\u001b[1;32m    220\u001b[0m                 \u001b[0;32mif\u001b[0m \u001b[0mself\u001b[0m\u001b[0;34m.\u001b[0m\u001b[0mversion\u001b[0m \u001b[0;34m==\u001b[0m \u001b[0;36m1\u001b[0m\u001b[0;34m:\u001b[0m\u001b[0;34m\u001b[0m\u001b[0m\n\u001b[1;32m    221\u001b[0m                     dist_vec, idx_vec = self.nn_.kneighbors(\n\u001b[0;32m--> 222\u001b[0;31m                         \u001b[0mX_class\u001b[0m\u001b[0;34m,\u001b[0m \u001b[0mn_neighbors\u001b[0m\u001b[0;34m=\u001b[0m\u001b[0mself\u001b[0m\u001b[0;34m.\u001b[0m\u001b[0mnn_\u001b[0m\u001b[0;34m.\u001b[0m\u001b[0mn_neighbors\u001b[0m\u001b[0;34m\u001b[0m\u001b[0m\n\u001b[0m\u001b[1;32m    223\u001b[0m                     )\n\u001b[1;32m    224\u001b[0m                     index_target_class = self._selection_dist_based(\n",
      "\u001b[0;32m~/.conda/envs/jupyter/lib/python3.7/site-packages/sklearn/neighbors/_base.py\u001b[0m in \u001b[0;36mkneighbors\u001b[0;34m(self, X, n_neighbors, return_distance)\u001b[0m\n\u001b[1;32m    706\u001b[0m                 \u001b[0mX\u001b[0m\u001b[0;34m,\u001b[0m \u001b[0mself\u001b[0m\u001b[0;34m.\u001b[0m\u001b[0m_fit_X\u001b[0m\u001b[0;34m,\u001b[0m \u001b[0mreduce_func\u001b[0m\u001b[0;34m=\u001b[0m\u001b[0mreduce_func\u001b[0m\u001b[0;34m,\u001b[0m\u001b[0;34m\u001b[0m\u001b[0m\n\u001b[1;32m    707\u001b[0m                 \u001b[0mmetric\u001b[0m\u001b[0;34m=\u001b[0m\u001b[0mself\u001b[0m\u001b[0;34m.\u001b[0m\u001b[0meffective_metric_\u001b[0m\u001b[0;34m,\u001b[0m \u001b[0mn_jobs\u001b[0m\u001b[0;34m=\u001b[0m\u001b[0mn_jobs\u001b[0m\u001b[0;34m,\u001b[0m\u001b[0;34m\u001b[0m\u001b[0m\n\u001b[0;32m--> 708\u001b[0;31m                 **kwds))\n\u001b[0m\u001b[1;32m    709\u001b[0m \u001b[0;34m\u001b[0m\u001b[0m\n\u001b[1;32m    710\u001b[0m         \u001b[0;32melif\u001b[0m \u001b[0mself\u001b[0m\u001b[0;34m.\u001b[0m\u001b[0m_fit_method\u001b[0m \u001b[0;32min\u001b[0m \u001b[0;34m[\u001b[0m\u001b[0;34m'ball_tree'\u001b[0m\u001b[0;34m,\u001b[0m \u001b[0;34m'kd_tree'\u001b[0m\u001b[0;34m]\u001b[0m\u001b[0;34m:\u001b[0m\u001b[0;34m\u001b[0m\u001b[0m\n",
      "\u001b[0;32m~/.conda/envs/jupyter/lib/python3.7/site-packages/sklearn/metrics/pairwise.py\u001b[0m in \u001b[0;36mpairwise_distances_chunked\u001b[0;34m(X, Y, reduce_func, metric, n_jobs, working_memory, **kwds)\u001b[0m\n\u001b[1;32m   1622\u001b[0m             \u001b[0mX_chunk\u001b[0m \u001b[0;34m=\u001b[0m \u001b[0mX\u001b[0m\u001b[0;34m[\u001b[0m\u001b[0msl\u001b[0m\u001b[0;34m]\u001b[0m\u001b[0;34m\u001b[0m\u001b[0m\n\u001b[1;32m   1623\u001b[0m         D_chunk = pairwise_distances(X_chunk, Y, metric=metric,\n\u001b[0;32m-> 1624\u001b[0;31m                                      n_jobs=n_jobs, **kwds)\n\u001b[0m\u001b[1;32m   1625\u001b[0m         if ((X is Y or Y is None)\n\u001b[1;32m   1626\u001b[0m                 \u001b[0;32mand\u001b[0m \u001b[0mPAIRWISE_DISTANCE_FUNCTIONS\u001b[0m\u001b[0;34m.\u001b[0m\u001b[0mget\u001b[0m\u001b[0;34m(\u001b[0m\u001b[0mmetric\u001b[0m\u001b[0;34m,\u001b[0m \u001b[0;32mNone\u001b[0m\u001b[0;34m)\u001b[0m\u001b[0;34m\u001b[0m\u001b[0m\n",
      "\u001b[0;32m~/.conda/envs/jupyter/lib/python3.7/site-packages/sklearn/utils/validation.py\u001b[0m in \u001b[0;36minner_f\u001b[0;34m(*args, **kwargs)\u001b[0m\n\u001b[1;32m     61\u001b[0m             \u001b[0mextra_args\u001b[0m \u001b[0;34m=\u001b[0m \u001b[0mlen\u001b[0m\u001b[0;34m(\u001b[0m\u001b[0margs\u001b[0m\u001b[0;34m)\u001b[0m \u001b[0;34m-\u001b[0m \u001b[0mlen\u001b[0m\u001b[0;34m(\u001b[0m\u001b[0mall_args\u001b[0m\u001b[0;34m)\u001b[0m\u001b[0;34m\u001b[0m\u001b[0m\n\u001b[1;32m     62\u001b[0m             \u001b[0;32mif\u001b[0m \u001b[0mextra_args\u001b[0m \u001b[0;34m<=\u001b[0m \u001b[0;36m0\u001b[0m\u001b[0;34m:\u001b[0m\u001b[0;34m\u001b[0m\u001b[0m\n\u001b[0;32m---> 63\u001b[0;31m                 \u001b[0;32mreturn\u001b[0m \u001b[0mf\u001b[0m\u001b[0;34m(\u001b[0m\u001b[0;34m*\u001b[0m\u001b[0margs\u001b[0m\u001b[0;34m,\u001b[0m \u001b[0;34m**\u001b[0m\u001b[0mkwargs\u001b[0m\u001b[0;34m)\u001b[0m\u001b[0;34m\u001b[0m\u001b[0m\n\u001b[0m\u001b[1;32m     64\u001b[0m \u001b[0;34m\u001b[0m\u001b[0m\n\u001b[1;32m     65\u001b[0m             \u001b[0;31m# extra_args > 0\u001b[0m\u001b[0;34m\u001b[0m\u001b[0;34m\u001b[0m\u001b[0m\n",
      "\u001b[0;32m~/.conda/envs/jupyter/lib/python3.7/site-packages/sklearn/metrics/pairwise.py\u001b[0m in \u001b[0;36mpairwise_distances\u001b[0;34m(X, Y, metric, n_jobs, force_all_finite, **kwds)\u001b[0m\n\u001b[1;32m   1788\u001b[0m         \u001b[0mfunc\u001b[0m \u001b[0;34m=\u001b[0m \u001b[0mpartial\u001b[0m\u001b[0;34m(\u001b[0m\u001b[0mdistance\u001b[0m\u001b[0;34m.\u001b[0m\u001b[0mcdist\u001b[0m\u001b[0;34m,\u001b[0m \u001b[0mmetric\u001b[0m\u001b[0;34m=\u001b[0m\u001b[0mmetric\u001b[0m\u001b[0;34m,\u001b[0m \u001b[0;34m**\u001b[0m\u001b[0mkwds\u001b[0m\u001b[0;34m)\u001b[0m\u001b[0;34m\u001b[0m\u001b[0m\n\u001b[1;32m   1789\u001b[0m \u001b[0;34m\u001b[0m\u001b[0m\n\u001b[0;32m-> 1790\u001b[0;31m     \u001b[0;32mreturn\u001b[0m \u001b[0m_parallel_pairwise\u001b[0m\u001b[0;34m(\u001b[0m\u001b[0mX\u001b[0m\u001b[0;34m,\u001b[0m \u001b[0mY\u001b[0m\u001b[0;34m,\u001b[0m \u001b[0mfunc\u001b[0m\u001b[0;34m,\u001b[0m \u001b[0mn_jobs\u001b[0m\u001b[0;34m,\u001b[0m \u001b[0;34m**\u001b[0m\u001b[0mkwds\u001b[0m\u001b[0;34m)\u001b[0m\u001b[0;34m\u001b[0m\u001b[0m\n\u001b[0m\u001b[1;32m   1791\u001b[0m \u001b[0;34m\u001b[0m\u001b[0m\n\u001b[1;32m   1792\u001b[0m \u001b[0;34m\u001b[0m\u001b[0m\n",
      "\u001b[0;32m~/.conda/envs/jupyter/lib/python3.7/site-packages/sklearn/metrics/pairwise.py\u001b[0m in \u001b[0;36m_parallel_pairwise\u001b[0;34m(X, Y, func, n_jobs, **kwds)\u001b[0m\n\u001b[1;32m   1357\u001b[0m \u001b[0;34m\u001b[0m\u001b[0m\n\u001b[1;32m   1358\u001b[0m     \u001b[0;32mif\u001b[0m \u001b[0meffective_n_jobs\u001b[0m\u001b[0;34m(\u001b[0m\u001b[0mn_jobs\u001b[0m\u001b[0;34m)\u001b[0m \u001b[0;34m==\u001b[0m \u001b[0;36m1\u001b[0m\u001b[0;34m:\u001b[0m\u001b[0;34m\u001b[0m\u001b[0m\n\u001b[0;32m-> 1359\u001b[0;31m         \u001b[0;32mreturn\u001b[0m \u001b[0mfunc\u001b[0m\u001b[0;34m(\u001b[0m\u001b[0mX\u001b[0m\u001b[0;34m,\u001b[0m \u001b[0mY\u001b[0m\u001b[0;34m,\u001b[0m \u001b[0;34m**\u001b[0m\u001b[0mkwds\u001b[0m\u001b[0;34m)\u001b[0m\u001b[0;34m\u001b[0m\u001b[0m\n\u001b[0m\u001b[1;32m   1360\u001b[0m \u001b[0;34m\u001b[0m\u001b[0m\n\u001b[1;32m   1361\u001b[0m     \u001b[0;31m# enforce a threading backend to prevent data communication overhead\u001b[0m\u001b[0;34m\u001b[0m\u001b[0;34m\u001b[0m\u001b[0m\n",
      "\u001b[0;32m~/.conda/envs/jupyter/lib/python3.7/site-packages/sklearn/utils/validation.py\u001b[0m in \u001b[0;36minner_f\u001b[0;34m(*args, **kwargs)\u001b[0m\n\u001b[1;32m     61\u001b[0m             \u001b[0mextra_args\u001b[0m \u001b[0;34m=\u001b[0m \u001b[0mlen\u001b[0m\u001b[0;34m(\u001b[0m\u001b[0margs\u001b[0m\u001b[0;34m)\u001b[0m \u001b[0;34m-\u001b[0m \u001b[0mlen\u001b[0m\u001b[0;34m(\u001b[0m\u001b[0mall_args\u001b[0m\u001b[0;34m)\u001b[0m\u001b[0;34m\u001b[0m\u001b[0m\n\u001b[1;32m     62\u001b[0m             \u001b[0;32mif\u001b[0m \u001b[0mextra_args\u001b[0m \u001b[0;34m<=\u001b[0m \u001b[0;36m0\u001b[0m\u001b[0;34m:\u001b[0m\u001b[0;34m\u001b[0m\u001b[0m\n\u001b[0;32m---> 63\u001b[0;31m                 \u001b[0;32mreturn\u001b[0m \u001b[0mf\u001b[0m\u001b[0;34m(\u001b[0m\u001b[0;34m*\u001b[0m\u001b[0margs\u001b[0m\u001b[0;34m,\u001b[0m \u001b[0;34m**\u001b[0m\u001b[0mkwargs\u001b[0m\u001b[0;34m)\u001b[0m\u001b[0;34m\u001b[0m\u001b[0m\n\u001b[0m\u001b[1;32m     64\u001b[0m \u001b[0;34m\u001b[0m\u001b[0m\n\u001b[1;32m     65\u001b[0m             \u001b[0;31m# extra_args > 0\u001b[0m\u001b[0;34m\u001b[0m\u001b[0;34m\u001b[0m\u001b[0m\n",
      "\u001b[0;32m~/.conda/envs/jupyter/lib/python3.7/site-packages/sklearn/metrics/pairwise.py\u001b[0m in \u001b[0;36meuclidean_distances\u001b[0;34m(X, Y, Y_norm_squared, squared, X_norm_squared)\u001b[0m\n\u001b[1;32m    311\u001b[0m     \u001b[0;32melse\u001b[0m\u001b[0;34m:\u001b[0m\u001b[0;34m\u001b[0m\u001b[0m\n\u001b[1;32m    312\u001b[0m         \u001b[0;31m# if dtype is already float64, no need to chunk and upcast\u001b[0m\u001b[0;34m\u001b[0m\u001b[0;34m\u001b[0m\u001b[0m\n\u001b[0;32m--> 313\u001b[0;31m         \u001b[0mdistances\u001b[0m \u001b[0;34m=\u001b[0m \u001b[0;34m-\u001b[0m \u001b[0;36m2\u001b[0m \u001b[0;34m*\u001b[0m \u001b[0msafe_sparse_dot\u001b[0m\u001b[0;34m(\u001b[0m\u001b[0mX\u001b[0m\u001b[0;34m,\u001b[0m \u001b[0mY\u001b[0m\u001b[0;34m.\u001b[0m\u001b[0mT\u001b[0m\u001b[0;34m,\u001b[0m \u001b[0mdense_output\u001b[0m\u001b[0;34m=\u001b[0m\u001b[0;32mTrue\u001b[0m\u001b[0;34m)\u001b[0m\u001b[0;34m\u001b[0m\u001b[0m\n\u001b[0m\u001b[1;32m    314\u001b[0m         \u001b[0mdistances\u001b[0m \u001b[0;34m+=\u001b[0m \u001b[0mXX\u001b[0m\u001b[0;34m\u001b[0m\u001b[0m\n\u001b[1;32m    315\u001b[0m         \u001b[0mdistances\u001b[0m \u001b[0;34m+=\u001b[0m \u001b[0mYY\u001b[0m\u001b[0;34m\u001b[0m\u001b[0m\n",
      "\u001b[0;32m~/.conda/envs/jupyter/lib/python3.7/site-packages/sklearn/utils/validation.py\u001b[0m in \u001b[0;36minner_f\u001b[0;34m(*args, **kwargs)\u001b[0m\n\u001b[1;32m     61\u001b[0m             \u001b[0mextra_args\u001b[0m \u001b[0;34m=\u001b[0m \u001b[0mlen\u001b[0m\u001b[0;34m(\u001b[0m\u001b[0margs\u001b[0m\u001b[0;34m)\u001b[0m \u001b[0;34m-\u001b[0m \u001b[0mlen\u001b[0m\u001b[0;34m(\u001b[0m\u001b[0mall_args\u001b[0m\u001b[0;34m)\u001b[0m\u001b[0;34m\u001b[0m\u001b[0m\n\u001b[1;32m     62\u001b[0m             \u001b[0;32mif\u001b[0m \u001b[0mextra_args\u001b[0m \u001b[0;34m<=\u001b[0m \u001b[0;36m0\u001b[0m\u001b[0;34m:\u001b[0m\u001b[0;34m\u001b[0m\u001b[0m\n\u001b[0;32m---> 63\u001b[0;31m                 \u001b[0;32mreturn\u001b[0m \u001b[0mf\u001b[0m\u001b[0;34m(\u001b[0m\u001b[0;34m*\u001b[0m\u001b[0margs\u001b[0m\u001b[0;34m,\u001b[0m \u001b[0;34m**\u001b[0m\u001b[0mkwargs\u001b[0m\u001b[0;34m)\u001b[0m\u001b[0;34m\u001b[0m\u001b[0m\n\u001b[0m\u001b[1;32m     64\u001b[0m \u001b[0;34m\u001b[0m\u001b[0m\n\u001b[1;32m     65\u001b[0m             \u001b[0;31m# extra_args > 0\u001b[0m\u001b[0;34m\u001b[0m\u001b[0;34m\u001b[0m\u001b[0m\n",
      "\u001b[0;32m~/.conda/envs/jupyter/lib/python3.7/site-packages/sklearn/utils/extmath.py\u001b[0m in \u001b[0;36msafe_sparse_dot\u001b[0;34m(a, b, dense_output)\u001b[0m\n\u001b[1;32m    150\u001b[0m             \u001b[0mret\u001b[0m \u001b[0;34m=\u001b[0m \u001b[0mnp\u001b[0m\u001b[0;34m.\u001b[0m\u001b[0mdot\u001b[0m\u001b[0;34m(\u001b[0m\u001b[0ma\u001b[0m\u001b[0;34m,\u001b[0m \u001b[0mb\u001b[0m\u001b[0;34m)\u001b[0m\u001b[0;34m\u001b[0m\u001b[0m\n\u001b[1;32m    151\u001b[0m     \u001b[0;32melse\u001b[0m\u001b[0;34m:\u001b[0m\u001b[0;34m\u001b[0m\u001b[0m\n\u001b[0;32m--> 152\u001b[0;31m         \u001b[0mret\u001b[0m \u001b[0;34m=\u001b[0m \u001b[0ma\u001b[0m \u001b[0;34m@\u001b[0m \u001b[0mb\u001b[0m\u001b[0;34m\u001b[0m\u001b[0m\n\u001b[0m\u001b[1;32m    153\u001b[0m \u001b[0;34m\u001b[0m\u001b[0m\n\u001b[1;32m    154\u001b[0m     if (sparse.issparse(a) and sparse.issparse(b)\n",
      "\u001b[0;31mKeyboardInterrupt\u001b[0m: "
     ]
    }
   ],
   "source": [
    "nm = NearMiss()\n",
    "x_nm, y_nm = nm.fit_resample(x_train_scaled, y_train)\n",
    "print(x_nm.shape, y_nm.shape)"
   ]
  },
  {
   "cell_type": "code",
   "execution_count": null,
   "id": "e6c5a459",
   "metadata": {},
   "outputs": [],
   "source": [
    "scores = {}\n",
    "acc = []\n",
    "cv_scores = []\n",
    "def model(x_train, y_train, x_test, y_test):\n",
    "    model = XGBClassifier()\n",
    "    model.fit(x_train, y_train)\n",
    "    score = model.score(x_test, y_test)\n",
    "    print(\"Accuracy: {}\".format(score))\n",
    "    cv_score = cross_val_score(model, x_train, y_train, cv=5, scoring='f1')\n",
    "    print(\"Cross Val Score: {}\".format(np.mean(cv_score)))\n",
    "    acc.append(score)\n",
    "    cv_scores.append(np.mean(cv_score))\n",
    "    y_pred = model.predict(x_test)\n",
    "    \n",
    "    return model, y_pred"
   ]
  },
  {
   "cell_type": "code",
   "execution_count": 67,
   "id": "330c3d9f",
   "metadata": {},
   "outputs": [
    {
     "name": "stdout",
     "output_type": "stream",
     "text": [
      "[19:38:59] WARNING: ../src/learner.cc:1095: Starting in XGBoost 1.3.0, the default evaluation metric used with the objective 'binary:logistic' was changed from 'error' to 'logloss'. Explicitly set eval_metric if you'd like to restore the old behavior.\n"
     ]
    },
    {
     "data": {
      "text/plain": [
       "XGBClassifier(base_score=0.5, booster='gbtree', colsample_bylevel=1,\n",
       "              colsample_bynode=1, colsample_bytree=1, gamma=0, gpu_id=-1,\n",
       "              importance_type='gain', interaction_constraints='',\n",
       "              learning_rate=0.300000012, max_delta_step=0, max_depth=6,\n",
       "              min_child_weight=1, missing=nan, monotone_constraints='()',\n",
       "              n_estimators=100, n_jobs=40, num_parallel_tree=1, random_state=0,\n",
       "              reg_alpha=0, reg_lambda=1, scale_pos_weight=1, subsample=1,\n",
       "              tree_method='exact', validate_parameters=1, verbosity=None)"
      ]
     },
     "execution_count": 67,
     "metadata": {},
     "output_type": "execute_result"
    }
   ],
   "source": [
    "from xgboost import XGBClassifier\n",
    "clf = XGBClassifier()\n",
    "clf.fit(x_train, y_train)"
   ]
  },
  {
   "cell_type": "code",
   "execution_count": 69,
   "id": "72be5e78",
   "metadata": {},
   "outputs": [],
   "source": [
    "y_val_pred = clf.predict(x_val_scaled)"
   ]
  },
  {
   "cell_type": "code",
   "execution_count": 70,
   "id": "c34a2c6c",
   "metadata": {},
   "outputs": [
    {
     "name": "stdout",
     "output_type": "stream",
     "text": [
      "Normalized confusion matrix\n",
      "[[0.96 0.04]\n",
      " [0.25 0.75]]\n",
      "Confusion matrix, without normalization\n",
      "[[27170  1150]\n",
      " [ 1940  5748]]\n"
     ]
    },
    {
     "data": {
      "image/png": "[encoded data removed]",
      "text/plain": [
       "<Figure size 432x288 with 2 Axes>"
      ]
     },
     "metadata": {
      "needs_background": "light"
     },
     "output_type": "display_data"
    },
    {
     "data": {
      "image/png": "[encoded data removed]",
      "text/plain": [
       "<Figure size 432x288 with 2 Axes>"
      ]
     },
     "metadata": {
      "needs_background": "light"
     },
     "output_type": "display_data"
    }
   ],
   "source": [
    "# Compute confusion matrix\n",
    "cnf_matrix = metrics.confusion_matrix(y_val, y_val_pred)\n",
    "np.set_printoptions(precision=2)\n",
    "\n",
    "# Plot normalized confusion matrix\n",
    "plt.figure()\n",
    "plot_confusion_matrix(cnf_matrix, normalize=True, \n",
    "                      title='Normalized confusion matrix')\n",
    "\n",
    "# Plot normalized confusion matrix\n",
    "plt.figure()\n",
    "plot_confusion_matrix(cnf_matrix)"
   ]
  },
  {
   "cell_type": "code",
   "execution_count": 71,
   "id": "1bbf13af",
   "metadata": {},
   "outputs": [
    {
     "name": "stdout",
     "output_type": "stream",
     "text": [
      "Normalized confusion matrix\n",
      "[[0.96 0.04]\n",
      " [0.33 0.67]]\n",
      "Confusion matrix, without normalization\n",
      "[[27154  1166]\n",
      " [ 2504  5184]]\n"
     ]
    },
    {
     "data": {
      "image/png": "[encoded data removed]",
      "text/plain": [
       "<Figure size 432x288 with 2 Axes>"
      ]
     },
     "metadata": {
      "needs_background": "light"
     },
     "output_type": "display_data"
    },
    {
     "data": {
      "image/png": "[encoded data removed]",
      "text/plain": [
       "<Figure size 432x288 with 2 Axes>"
      ]
     },
     "metadata": {
      "needs_background": "light"
     },
     "output_type": "display_data"
    }
   ],
   "source": [
    "# Compute confusion matrix\n",
    "cnf_matrix = metrics.confusion_matrix(y_val, y_pred)\n",
    "np.set_printoptions(precision=2)\n",
    "\n",
    "# Plot normalized confusion matrix\n",
    "plt.figure()\n",
    "plot_confusion_matrix(cnf_matrix, normalize=True, \n",
    "                      title='Normalized confusion matrix')\n",
    "\n",
    "# Plot normalized confusion matrix\n",
    "plt.figure()\n",
    "plot_confusion_matrix(cnf_matrix)"
   ]
  },
  {
   "cell_type": "code",
   "execution_count": null,
   "id": "4e7c9e90",
   "metadata": {},
   "outputs": [],
   "source": [
    "def evaluate_model(X_, y_, model_):\n",
    "    cv = RepeatedStratifiedKFold(n_splits=5, n_repeats=3, random_state=1)\n",
    "    scores = cross_val_score(model_, X_, y_, scoring='f1', cv=cv, n_jobs=-1)\n",
    "    return scores"
   ]
  },
  {
   "cell_type": "code",
   "execution_count": null,
   "id": "13f874b2",
   "metadata": {},
   "outputs": [],
   "source": [
    "model = RandomForestClassifier()\n",
    "scores = evaluate_model(x_train_scaled, y_train, model)\n",
    "# print('Mean Accuracy No weight:', (scores))\n",
    "print('Mean Accuracy No weight: %.3f (%.3f)' % (mean(scores), std(scores)))"
   ]
  },
  {
   "cell_type": "code",
   "execution_count": 76,
   "id": "25813600",
   "metadata": {},
   "outputs": [],
   "source": [
    "model = RandomForestClassifier()\n",
    "model.fit(x_train_scaled, y_train)\n",
    "y_pred = model.predict(x_val_scaled)"
   ]
  },
  {
   "cell_type": "code",
   "execution_count": 77,
   "id": "150c8066",
   "metadata": {},
   "outputs": [
    {
     "name": "stdout",
     "output_type": "stream",
     "text": [
      "Normalized confusion matrix\n",
      "[[0.08 0.92]\n",
      " [0.02 0.98]]\n",
      "Confusion matrix, without normalization\n",
      "[[ 2152 26168]\n",
      " [  179  7509]]\n"
     ]
    },
    {
     "data": {
      "image/png": "[encoded data removed]",
      "text/plain": [
       "<Figure size 432x288 with 2 Axes>"
      ]
     },
     "metadata": {
      "needs_background": "light"
     },
     "output_type": "display_data"
    },
    {
     "data": {
      "image/png": "[encoded data removed]",
      "text/plain": [
       "<Figure size 432x288 with 2 Axes>"
      ]
     },
     "metadata": {
      "needs_background": "light"
     },
     "output_type": "display_data"
    }
   ],
   "source": [
    "# Compute confusion matrix\n",
    "cnf_matrix = metrics.confusion_matrix(y_val, y_pred)\n",
    "np.set_printoptions(precision=2)\n",
    "\n",
    "# Plot normalized confusion matrix\n",
    "plt.figure()\n",
    "plot_confusion_matrix(cnf_matrix, normalize=True, \n",
    "                      title='Normalized confusion matrix')\n",
    "\n",
    "# Plot normalized confusion matrix\n",
    "plt.figure()\n",
    "plot_confusion_matrix(cnf_matrix)"
   ]
  },
  {
   "cell_type": "code",
   "execution_count": 78,
   "id": "1980888b",
   "metadata": {},
   "outputs": [],
   "source": [
    "y_test_pred = model.predict(X_test_scaled)"
   ]
  },
  {
   "cell_type": "code",
   "execution_count": 79,
   "id": "1af201ea",
   "metadata": {},
   "outputs": [
    {
     "name": "stdout",
     "output_type": "stream",
     "text": [
      "Normalized confusion matrix\n",
      "[[0.11 0.89]\n",
      " [0.01 0.99]]\n",
      "Confusion matrix, without normalization\n",
      "[[ 3730 31665]\n",
      " [  104  9512]]\n"
     ]
    },
    {
     "data": {
      "image/png": "[encoded data removed]",
      "text/plain": [
       "<Figure size 432x288 with 2 Axes>"
      ]
     },
     "metadata": {
      "needs_background": "light"
     },
     "output_type": "display_data"
    },
    {
     "data": {
      "image/png": "[encoded data removed]",
      "text/plain": [
       "<Figure size 432x288 with 2 Axes>"
      ]
     },
     "metadata": {
      "needs_background": "light"
     },
     "output_type": "display_data"
    }
   ],
   "source": [
    "# Compute confusion matrix\n",
    "cnf_matrix = metrics.confusion_matrix(Y_test, y_test_pred)\n",
    "np.set_printoptions(precision=2)\n",
    "\n",
    "# Plot normalized confusion matrix\n",
    "plt.figure()\n",
    "plot_confusion_matrix(cnf_matrix, normalize=True, \n",
    "                      title='Normalized confusion matrix')\n",
    "\n",
    "# Plot normalized confusion matrix\n",
    "plt.figure()\n",
    "plot_confusion_matrix(cnf_matrix)"
   ]
  },
  {
   "cell_type": "code",
   "execution_count": 44,
   "id": "78ad6b73",
   "metadata": {},
   "outputs": [],
   "source": [
    "weights = {0:1.0, 1:2.0}\n",
    "model = RandomForestClassifier(n_estimators=1000, class_weight=weights)\n",
    "# scores = evaluate_model(x_train_scaled, y_train, model)\n",
    "# print('Mean Accuracy    weight: %.3f (%.3f)' % (mean(scores), std(scores)))"
   ]
  },
  {
   "cell_type": "code",
   "execution_count": 45,
   "id": "96ca0853",
   "metadata": {},
   "outputs": [],
   "source": [
    "model.fit(x_train_scaled, y_train)\n",
    "y_pred = model.predict(x_val_scaled)"
   ]
  },
  {
   "cell_type": "code",
   "execution_count": 46,
   "id": "349067e5",
   "metadata": {},
   "outputs": [
    {
     "name": "stdout",
     "output_type": "stream",
     "text": [
      "Normalized confusion matrix\n",
      "[[0.96 0.04]\n",
      " [0.33 0.67]]\n",
      "Confusion matrix, without normalization\n",
      "[[27154  1166]\n",
      " [ 2504  5184]]\n"
     ]
    },
    {
     "data": {
      "image/png": "[encoded data removed]",
      "text/plain": [
       "<Figure size 432x288 with 2 Axes>"
      ]
     },
     "metadata": {
      "needs_background": "light"
     },
     "output_type": "display_data"
    },
    {
     "data": {
      "image/png": "[encoded data removed]",
      "text/plain": [
       "<Figure size 432x288 with 2 Axes>"
      ]
     },
     "metadata": {
      "needs_background": "light"
     },
     "output_type": "display_data"
    }
   ],
   "source": [
    "# Compute confusion matrix\n",
    "cnf_matrix = metrics.confusion_matrix(y_val, y_pred)\n",
    "np.set_printoptions(precision=2)\n",
    "\n",
    "# Plot normalized confusion matrix\n",
    "plt.figure()\n",
    "plot_confusion_matrix(cnf_matrix, normalize=True, \n",
    "                      title='Normalized confusion matrix')\n",
    "\n",
    "# Plot normalized confusion matrix\n",
    "plt.figure()\n",
    "plot_confusion_matrix(cnf_matrix)"
   ]
  },
  {
   "cell_type": "code",
   "execution_count": 48,
   "id": "a9b02517",
   "metadata": {},
   "outputs": [],
   "source": [
    "y_test_pred = model.predict(X_test_scaled)"
   ]
  },
  {
   "cell_type": "code",
   "execution_count": 50,
   "id": "7f2794fb",
   "metadata": {},
   "outputs": [
    {
     "name": "stdout",
     "output_type": "stream",
     "text": [
      "Normalized confusion matrix\n",
      "[[0.98 0.02]\n",
      " [0.54 0.46]]\n",
      "Confusion matrix, without normalization\n",
      "[[34708   687]\n",
      " [ 5193  4423]]\n"
     ]
    },
    {
     "data": {
      "image/png": "[encoded data removed]",
      "text/plain": [
       "<Figure size 432x288 with 2 Axes>"
      ]
     },
     "metadata": {
      "needs_background": "light"
     },
     "output_type": "display_data"
    },
    {
     "data": {
      "image/png": "[encoded data removed]",
      "text/plain": [
       "<Figure size 432x288 with 2 Axes>"
      ]
     },
     "metadata": {
      "needs_background": "light"
     },
     "output_type": "display_data"
    }
   ],
   "source": [
    "# Compute confusion matrix\n",
    "cnf_matrix = metrics.confusion_matrix(Y_test, y_test_pred)\n",
    "np.set_printoptions(precision=2)\n",
    "\n",
    "# Plot normalized confusion matrix\n",
    "plt.figure()\n",
    "plot_confusion_matrix(cnf_matrix, normalize=True, \n",
    "                      title='Normalized confusion matrix')\n",
    "\n",
    "# Plot normalized confusion matrix\n",
    "plt.figure()\n",
    "plot_confusion_matrix(cnf_matrix)"
   ]
  },
  {
   "cell_type": "code",
   "execution_count": 47,
   "id": "e1650a96",
   "metadata": {},
   "outputs": [],
   "source": [
    "def eval_model(model, X_train, y_train, X_test, y_test):\n",
    "    model.fit(X_train, y_train)\n",
    "    y_pred = model.predict(X_test)\n",
    "\n",
    "    cnf_matrix = metrics.confusion_matrix(y_test, y_pred)\n",
    "    np.set_printoptions(precision=2)\n",
    "\n",
    "    plt.figure()\n",
    "    plot_confusion_matrix(cnf_matrix, normalize=True, \n",
    "                          title='Normalized confusion matrix')\n",
    "\n",
    "    plt.figure()\n",
    "    plot_confusion_matrix(cnf_matrix)"
   ]
  },
  {
   "cell_type": "code",
   "execution_count": 38,
   "id": "0543d2ca",
   "metadata": {
    "scrolled": false
   },
   "outputs": [],
   "source": [
    "import itertools\n",
    "def plot_confusion_matrix(cm,\n",
    "                          normalize=False,\n",
    "                          title='Confusion matrix',\n",
    "                          cmap=plt.cm.Blues):\n",
    "    \"\"\"\n",
    "    This function prints and plots the confusion matrix.\n",
    "    Normalization can be applied by setting `normalize=True`.\n",
    "    \"\"\"\n",
    "    if normalize:\n",
    "        cm = cm.astype('float') / cm.sum(axis=1)[:, np.newaxis]\n",
    "        print(\"Normalized confusion matrix\")\n",
    "    else:\n",
    "        print('Confusion matrix, without normalization')\n",
    "\n",
    "    print(cm)\n",
    "\n",
    "    plt.imshow(cm, interpolation='nearest', cmap=cmap)\n",
    "    plt.title(title)\n",
    "    plt.colorbar()\n",
    "#     tick_marks = np.arange(len(classes))\n",
    "#     plt.xticks( rotation=45)\n",
    "#     plt.yticks(tick_marks)\n",
    "\n",
    "    fmt = '.2f' if normalize else 'd'\n",
    "    thresh = cm.max() / 2.\n",
    "    for i, j in itertools.product(range(cm.shape[0]), range(cm.shape[1])):\n",
    "        plt.text(j, i, format(cm[i, j], fmt),\n",
    "                 horizontalalignment=\"center\",\n",
    "                 color=\"white\" if cm[i, j] > thresh else \"black\")\n",
    "\n",
    "    plt.tight_layout()\n",
    "    plt.ylabel('True label')\n",
    "    plt.xlabel('Predicted label')"
   ]
  },
  {
   "cell_type": "code",
   "execution_count": null,
   "id": "e799a5e6",
   "metadata": {},
   "outputs": [],
   "source": [
    "# Compute confusion matrix\n",
    "cnf_matrix = metrics.confusion_matrix(y_val, y_pred)\n",
    "np.set_printoptions(precision=2)\n",
    "\n",
    "# Plot normalized confusion matrix\n",
    "plt.figure()\n",
    "plot_confusion_matrix(cnf_matrix, normalize=True, \n",
    "                      title='Normalized confusion matrix')\n",
    "\n",
    "# Plot normalized confusion matrix\n",
    "plt.figure()\n",
    "plot_confusion_matrix(cnf_matrix)"
   ]
  },
  {
   "cell_type": "code",
   "execution_count": null,
   "id": "8379c45a",
   "metadata": {},
   "outputs": [],
   "source": [
    "y_test_pred = model.predict(X_test_scaled)"
   ]
  },
  {
   "cell_type": "code",
   "execution_count": null,
   "id": "2bec3e95",
   "metadata": {},
   "outputs": [],
   "source": [
    "len(y_test_pred)"
   ]
  },
  {
   "cell_type": "code",
   "execution_count": null,
   "id": "c2b93c07",
   "metadata": {},
   "outputs": [],
   "source": [
    "len(y_test)"
   ]
  },
  {
   "cell_type": "code",
   "execution_count": null,
   "id": "fe0fc779",
   "metadata": {},
   "outputs": [],
   "source": [
    "# Compute confusion matrix\n",
    "cnf_matrix = metrics.confusion_matrix(Y_test, y_test_pred)\n",
    "np.set_printoptions(precision=2)\n",
    "\n",
    "# Plot normalized confusion matrix\n",
    "plt.figure()\n",
    "plot_confusion_matrix(cnf_matrix, normalize=True, \n",
    "                      title='Normalized confusion matrix')\n",
    "plt.figure()\n",
    "plot_confusion_matrix(cnf_matrix)"
   ]
  },
  {
   "cell_type": "markdown",
   "id": "0067dc53",
   "metadata": {},
   "source": [
    "## Handling Imbalanced Data\n"
   ]
  },
  {
   "cell_type": "code",
   "execution_count": null,
   "id": "9a7c64cf",
   "metadata": {},
   "outputs": [],
   "source": [
    "df = train_df.sample(frac=1)\n",
    "\n",
    "# amount of fraud classes 492 rows.\n",
    "fraud_df = train_df.train_df[df['Segment'] == 1]\n",
    "non_fraud_df = train_df.train_df[df['Segment'] == 0][:492]\n",
    "\n",
    "normal_distributed_df = pd.concat([fraud_df, non_fraud_df])\n",
    "\n",
    "# Shuffle dataframe rows\n",
    "new_df = normal_distributed_df.sample(frac=1, random_state=42)\n",
    "\n",
    "new_df.head()"
   ]
  },
  {
   "cell_type": "code",
   "execution_count": null,
   "id": "2391cec8",
   "metadata": {},
   "outputs": [],
   "source": [
    "X_train = train.drop(['ad_id', 'eCPM', 'eCPM_class', 'Segment'], axis=1)\n",
    "Y_train = train[['Segment']]\n",
    "\n",
    "X_val = validation.drop(['ad_id', 'eCPM', 'eCPM_class', 'Segment'], axis=1)\n",
    "Y_val = validation[['Segment']]"
   ]
  },
  {
   "cell_type": "code",
   "execution_count": null,
   "id": "109e622b",
   "metadata": {
    "scrolled": true
   },
   "outputs": [],
   "source": [
    "print(len(X_train))\n",
    "print(len(y_train))\n",
    "print(len(X_val))\n",
    "print(len(y_val))"
   ]
  },
  {
   "cell_type": "code",
   "execution_count": null,
   "id": "9d651634",
   "metadata": {},
   "outputs": [],
   "source": [
    "y_val.isnull().sum()"
   ]
  },
  {
   "cell_type": "code",
   "execution_count": null,
   "id": "a1bea975",
   "metadata": {},
   "outputs": [],
   "source": [
    "def scaler(data, scaling_method):\n",
    "    if scaling_method == 'Normalizer':\n",
    "        scaler = Normalizer()\n",
    "    elif scaling_method == 'MinMaxScaler':\n",
    "        scaler = MinMaxScaler()\n",
    "    elif scaling_method == 'StandardScaler':\n",
    "        scaler = StandardScaler()\n",
    "    elif scaling_method == 'RobustScaler':\n",
    "        scaler = RobustScaler()\n",
    "        \n",
    "    data_scaled = scaler.fit_transform(data)\n",
    "    return data_scaled"
   ]
  },
  {
   "cell_type": "code",
   "execution_count": null,
   "id": "a143c7ce",
   "metadata": {},
   "outputs": [],
   "source": [
    "def feature_select(x_train, y_train, x_test , y_test, model):\n",
    "    ## feature select\n",
    "    selector = SelectFromModel(estimator = model).fit(x_train, y_train) #estimator 여기에 사용하고 싶은 모델 넣기\n",
    "    selector_feat= x_train.columns[(selector.get_support())] #뽑힌 column\n",
    "    print('------- selected feature ----------')\n",
    "    print(selector_feat)\n",
    "    \n",
    "    return selector_feat"
   ]
  },
  {
   "cell_type": "code",
   "execution_count": null,
   "id": "c66f874d",
   "metadata": {},
   "outputs": [],
   "source": [
    "def result_plot(y_test, y_pred):\n",
    "    fig = plt.figure(figsize=(30,10))\n",
    "    chart = fig.add_subplot(1,1,1)\n",
    "    chart.plot(y_test.values, marker='o', color='blue', label='Actual')\n",
    "    chart.plot(y_pred, marker='^', color='red', label='Predict')\n",
    "    plt.legend(loc='best')"
   ]
  },
  {
   "cell_type": "code",
   "execution_count": null,
   "id": "89ab4028",
   "metadata": {},
   "outputs": [],
   "source": [
    "def result_sub_plot(y_test, y_pred):\n",
    "    fig = plt.figure(figsize=(30,10))\n",
    "    chart = fig.add_subplot(1,1,1)\n",
    "    chart.plot(y_test[:300].values, marker='o', color='blue', label='Actual')\n",
    "    chart.plot(y_pred[:300], marker='^', color='red', label='Predict')\n",
    "    plt.legend(loc='best')"
   ]
  },
  {
   "cell_type": "markdown",
   "id": "878508d3",
   "metadata": {},
   "source": [
    "## Normalizer"
   ]
  },
  {
   "cell_type": "code",
   "execution_count": null,
   "id": "56a2d379",
   "metadata": {},
   "outputs": [],
   "source": [
    "#컬럼명저장\n",
    "X_cols = X_train.columns\n",
    "\n",
    "#scaling\n",
    "X_train = scaler(X_train, 'Normalizer')\n",
    "X_test = scaler(X_val, 'Normalizer')\n",
    "\n",
    "#dataframe으로 다시저장\n",
    "X_train = pd.DataFrame(X_train, columns=X_cols.tolist())\n",
    "X_val = pd.DataFrame(X_val, columns=X_cols.tolist())"
   ]
  },
  {
   "cell_type": "code",
   "execution_count": null,
   "id": "2a42f859",
   "metadata": {},
   "outputs": [],
   "source": [
    "print(len(X_train))\n",
    "print(len(X_val))"
   ]
  },
  {
   "cell_type": "code",
   "execution_count": null,
   "id": "0f67a73d",
   "metadata": {},
   "outputs": [],
   "source": [
    "model = OneVsRestClassifier(SGDClassifier(loss='log', alpha=0.00001, penalty='l2'))"
   ]
  },
  {
   "cell_type": "code",
   "execution_count": null,
   "id": "cba41473",
   "metadata": {},
   "outputs": [],
   "source": [
    "selected_features = feature_select(X_train, y_train, X_val, y_val, model)"
   ]
  },
  {
   "cell_type": "code",
   "execution_count": null,
   "id": "d7c9e717",
   "metadata": {},
   "outputs": [],
   "source": [
    "clf = OneVsRestClassifier(SGDClassifier(loss='log', alpha=0.00001, penalty='l2'))\n",
    "clf.fit(X_train[selected_features], y_train)\n",
    "y_pred = clf.predict(X_val[selected_features])"
   ]
  },
  {
   "cell_type": "code",
   "execution_count": null,
   "id": "4e33f833",
   "metadata": {},
   "outputs": [],
   "source": [
    "print(\"Accuracy :\",metrics.accuracy_score(y_val,y_pred))\n",
    "print(\"Macro f1 score :\",metrics.f1_score(y_val, y_pred, average = 'macro'))\n",
    "print(\"Micro f1 score :\",metrics.f1_score(y_val, y_pred, average = 'micro'))\n",
    "print(\"Hamming loss :\",metrics.hamming_loss(y_val,y_pred))"
   ]
  },
  {
   "cell_type": "code",
   "execution_count": null,
   "id": "888878a0",
   "metadata": {},
   "outputs": [],
   "source": [
    "print(metrics.classification_report(y_val,y_pred))"
   ]
  },
  {
   "cell_type": "code",
   "execution_count": null,
   "id": "348798d4",
   "metadata": {},
   "outputs": [],
   "source": [
    "import itertools\n",
    "def plot_confusion_matrix(cm, classes,\n",
    "                          normalize=False,\n",
    "                          title='Confusion matrix',\n",
    "                          cmap=plt.cm.Blues):\n",
    "    \"\"\"\n",
    "    This function prints and plots the confusion matrix.\n",
    "    Normalization can be applied by setting `normalize=True`.\n",
    "    \"\"\"\n",
    "    if normalize:\n",
    "        cm = cm.astype('float') / cm.sum(axis=1)[:, np.newaxis]\n",
    "        print(\"Normalized confusion matrix\")\n",
    "    else:\n",
    "        print('Confusion matrix, without normalization')\n",
    "\n",
    "    print(cm)\n",
    "\n",
    "    plt.imshow(cm, interpolation='nearest', cmap=cmap)\n",
    "    plt.title(title)\n",
    "    plt.colorbar()\n",
    "    tick_marks = np.arange(len(classes))\n",
    "    plt.xticks(tick_marks, classes, rotation=45)\n",
    "    plt.yticks(tick_marks, classes)\n",
    "\n",
    "    fmt = '.2f' if normalize else 'd'\n",
    "    thresh = cm.max() / 2.\n",
    "    for i, j in itertools.product(range(cm.shape[0]), range(cm.shape[1])):\n",
    "        plt.text(j, i, format(cm[i, j], fmt),\n",
    "                 horizontalalignment=\"center\",\n",
    "                 color=\"white\" if cm[i, j] > thresh else \"black\")\n",
    "\n",
    "    plt.tight_layout()\n",
    "    plt.ylabel('True label')\n",
    "    plt.xlabel('Predicted label')\n",
    "\n",
    "# Compute confusion matrix\n",
    "cnf_matrix = metrics.confusion_matrix(y_val,y_pred)\n",
    "np.set_printoptions(precision=2)\n",
    "\n",
    "class_names = ['High-Value', 'Low-Value', 'Mid-Value']\n",
    "# Plot non-normalized confusion matrix\n",
    "plt.figure()\n",
    "plot_confusion_matrix(cnf_matrix, classes=class_names,\n",
    "                      title='Confusion matrix, without normalization')\n",
    "\n",
    "# Plot normalized confusion matrix\n",
    "plt.figure()\n",
    "plot_confusion_matrix(cnf_matrix, classes=class_names, normalize=True, \n",
    "                      title='Normalized confusion matrix')"
   ]
  },
  {
   "cell_type": "markdown",
   "id": "2eee3901",
   "metadata": {},
   "source": [
    "## Regression"
   ]
  },
  {
   "cell_type": "code",
   "execution_count": null,
   "id": "677ecf3e",
   "metadata": {},
   "outputs": [],
   "source": [
    "model_xgb = xgb.XGBRegressor()"
   ]
  },
  {
   "cell_type": "code",
   "execution_count": null,
   "id": "0159cd60",
   "metadata": {},
   "outputs": [],
   "source": [
    "y_train"
   ]
  },
  {
   "cell_type": "code",
   "execution_count": null,
   "id": "cfd07b04",
   "metadata": {},
   "outputs": [],
   "source": [
    "result = embedded_predict(X_train, y_train, X_val, y_val, model=model_xgb)"
   ]
  },
  {
   "cell_type": "code",
   "execution_count": null,
   "id": "e01f576b",
   "metadata": {},
   "outputs": [],
   "source": [
    "result_plot(ba_val, result)"
   ]
  },
  {
   "cell_type": "code",
   "execution_count": null,
   "id": "c3d47c32",
   "metadata": {},
   "outputs": [],
   "source": [
    "result_sub_plot(ba_val, result)"
   ]
  },
  {
   "cell_type": "code",
   "execution_count": null,
   "id": "53e58013",
   "metadata": {},
   "outputs": [],
   "source": [
    "model_xgb = xgb.XGBRegressor()\n",
    "result = embedded_predict(X_train, is_train, X_val, is_val, model=model_xgb)\n",
    "result_plot(is_val, result)\n",
    "result_sub_plot(is_val, result)"
   ]
  },
  {
   "cell_type": "code",
   "execution_count": null,
   "id": "51dd6d24",
   "metadata": {},
   "outputs": [],
   "source": [
    "model_xgb = xgb.XGBRegressor()\n",
    "result = embedded_predict(X_train, rv_train, X_val, rv_val, model=model_xgb)\n",
    "result_plot(rv_val, result)\n",
    "result_sub_plot(rv_val, result)"
   ]
  },
  {
   "cell_type": "code",
   "execution_count": null,
   "id": "1e5cf557",
   "metadata": {},
   "outputs": [],
   "source": [
    "model_xgb = xgb.XGBRegressor()\n",
    "result = embedded_predict(X_train, all_train, X_val, all_val, model=model_xgb)\n",
    "result_plot(all_val, result)\n",
    "result_sub_plot(all_val, result)"
   ]
  },
  {
   "cell_type": "markdown",
   "id": "5db2ac0b",
   "metadata": {},
   "source": [
    "## RobustScaler"
   ]
  },
  {
   "cell_type": "code",
   "execution_count": null,
   "id": "7ec0207d",
   "metadata": {},
   "outputs": [],
   "source": [
    "#컬럼명저장\n",
    "X_cols = X_train.columns\n",
    "\n",
    "#scaling\n",
    "X_train = scaler(X_train, 'RobustScaler')\n",
    "X_test = scaler(X_val, 'RobustScaler')\n",
    "\n",
    "#dataframe으로 다시저장\n",
    "X_train = pd.DataFrame(X_train, columns=X_cols.tolist())\n",
    "X_val = pd.DataFrame(X_val, columns=X_cols.tolist())"
   ]
  },
  {
   "cell_type": "code",
   "execution_count": null,
   "id": "17f2d6cc",
   "metadata": {},
   "outputs": [],
   "source": [
    "ba_train = y_train[['ba_imps_234567']]\n",
    "is_train = y_train[['is_imps_234567']]\n",
    "rv_train = y_train[['rv_imps_234567']]\n",
    "all_train = y_train['ba_imps_234567'] + y_train['is_imps_234567'] + y_train['rv_imps_234567']"
   ]
  },
  {
   "cell_type": "code",
   "execution_count": null,
   "id": "08d896f5",
   "metadata": {},
   "outputs": [],
   "source": [
    "ba_val = y_val[['ba_imps_234567']]\n",
    "is_val = y_val[['is_imps_234567']]\n",
    "rv_val = y_val[['rv_imps_234567']]\n",
    "all_val = y_val['ba_imps_234567'] + y_val['is_imps_234567'] + y_val['rv_imps_234567']"
   ]
  },
  {
   "cell_type": "code",
   "execution_count": null,
   "id": "61c0b383",
   "metadata": {},
   "outputs": [],
   "source": [
    "model_xgb = xgb.XGBRegressor()\n",
    "result = embedded_predict(X_train, ba_train, X_val, ba_val, model=model_xgb)\n",
    "result_plot(ba_val, result)\n",
    "result_sub_plot(ba_val, result)"
   ]
  },
  {
   "cell_type": "code",
   "execution_count": null,
   "id": "489b40a6",
   "metadata": {},
   "outputs": [],
   "source": [
    "model_xgb = xgb.XGBRegressor()\n",
    "result = embedded_predict(X_train, is_train, X_val, is_val, model=model_xgb)\n",
    "result_plot(is_val, result)\n",
    "result_sub_plot(is_val, result)"
   ]
  },
  {
   "cell_type": "code",
   "execution_count": null,
   "id": "1a6a061b",
   "metadata": {},
   "outputs": [],
   "source": [
    "model_xgb = xgb.XGBRegressor()\n",
    "result = embedded_predict(X_train, rv_train, X_val, rv_val, model=model_xgb)\n",
    "result_plot(rv_val, result)\n",
    "result_sub_plot(rv_val, result)"
   ]
  },
  {
   "cell_type": "code",
   "execution_count": null,
   "id": "2f3686f3",
   "metadata": {},
   "outputs": [],
   "source": [
    "model_xgb = xgb.XGBRegressor()\n",
    "result = embedded_predict(X_train, all_train, X_val, all_val, model=model_xgb)\n",
    "result_plot(all_val, result)\n",
    "result_sub_plot(all_val, result)"
   ]
  },
  {
   "cell_type": "code",
   "execution_count": null,
   "id": "25145b5f",
   "metadata": {},
   "outputs": [],
   "source": []
  }
 ],
 "metadata": {
  "kernelspec": {
   "display_name": "Python 3",
   "language": "python",
   "name": "python3"
  },
  "language_info": {
   "codemirror_mode": {
    "name": "ipython",
    "version": 3
   },
   "file_extension": ".py",
   "mimetype": "text/x-python",
   "name": "python",
   "nbconvert_exporter": "python",
   "pygments_lexer": "ipython3",
   "version": "3.7.0"
  }
 },
 "nbformat": 4,
 "nbformat_minor": 5
}
