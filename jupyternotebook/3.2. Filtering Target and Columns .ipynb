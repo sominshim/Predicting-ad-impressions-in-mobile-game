{
 "cells": [
  {
   "cell_type": "code",
   "execution_count": 2,
   "id": "fa13699d",
   "metadata": {},
   "outputs": [],
   "source": [
    "import numpy as np\n",
    "import pandas as pd"
   ]
  },
  {
   "cell_type": "code",
   "execution_count": 3,
   "id": "c6e696f0",
   "metadata": {},
   "outputs": [],
   "source": [
    "train_YN = pd.read_csv(\"real_train_YN.csv\")\n",
    "\n",
    "def extract_target(df):\n",
    "    target_id = train_YN['ad_id'].tolist()\n",
    "    return df[df['ad_id'].isin(target_id)]\n",
    "\n",
    "def extract_train(df, YN):\n",
    "    train_id = train_YN[train_YN['train']==YN]['ad_id'].tolist()\n",
    "    return df[df['ad_id'].isin(train_id)]"
   ]
  },
  {
   "cell_type": "code",
   "execution_count": 4,
   "id": "8e953e5a",
   "metadata": {},
   "outputs": [],
   "source": [
    "def drop_na_columns(df, percentage):\n",
    "    missing_values_count = df.isnull().sum()\n",
    "\n",
    "    # 데이터 세트의 값 중 몇 퍼센트가 누락되었는지 확인\n",
    "    total_cells = np.product(df.shape)\n",
    "    total_missing = missing_values_count.sum()\n",
    "\n",
    "    print((total_missing/total_cells) * 100)\n",
    "\n",
    "    # Percentage of NAN Values \n",
    "    NAN = [(c, df[c].isna().mean()*100) for c in df]\n",
    "    NAN = pd.DataFrame(NAN, columns=[\"column_name\", \"percentage\"])\n",
    "\n",
    "    # Features with more than 50% of missing values.\n",
    "    NAN = NAN[NAN.percentage > percentage]\n",
    "    # NAN.sort_values(\"percentage\", ascending=False)\n",
    "\n",
    "    NAN_cols = NAN['column_name'].to_list()\n",
    "    df_dropped_na = df.drop(NAN_cols,axis=1)\n",
    "    print('Number of dropped columns', df.shape[1] - df_dropped_na.shape[1])\n",
    "    \n",
    "    return df_dropped_na\n",
    "\n",
    "\n",
    "def drop_col_not_using(df):\n",
    "\n",
    "    firebase_col = [s for s in df.columns if \"firebase\" in s]\n",
    "    df_dropped_na = df.drop(firebase_col, axis=1)\n",
    "    \n",
    "    df_col = df_dropped_na.columns\n",
    "    duplicated_col = [s for s in df_col if \"_1\" in s]\n",
    "    app_info_col = [s for s in df_col if \"app_info\" in s]\n",
    "    device_col = [s for s in df_col if \"device\" in s]\n",
    "    traffic_col = [s for s in df_col if \"traffic\" in s]\n",
    "    geo_col = [s for s in df_col if \"geo\" in s]\n",
    "    # user_col =  [s for s in df_col if \"user\" in s]\n",
    "\n",
    "    df_dropped_na.drop(duplicated_col, axis=1, inplace=True)\n",
    "    df_dropped_na.drop(app_info_col, axis=1, inplace=True)\n",
    "    df_dropped_na.drop(device_col, axis=1, inplace=True)\n",
    "    df_dropped_na.drop(traffic_col, axis=1, inplace=True)\n",
    "    df_dropped_na.drop(geo_col, axis=1, inplace=True)\n",
    "    print('Number of dropped columns', df.shape[1] - df_dropped_na.shape[1])\n",
    "    \n",
    "    return df_dropped_na"
   ]
  },
  {
   "cell_type": "markdown",
   "id": "10303fa0",
   "metadata": {},
   "source": [
    "## tutorial"
   ]
  },
  {
   "cell_type": "code",
   "execution_count": null,
   "id": "a2c4237d",
   "metadata": {},
   "outputs": [],
   "source": [
    "tutorial = pd.read_csv(\"data/tutorial_filtered.csv\")"
   ]
  },
  {
   "cell_type": "code",
   "execution_count": 3,
   "id": "e56d0e2a",
   "metadata": {},
   "outputs": [
    {
     "data": {
      "text/plain": [
       "(993059, 50)"
      ]
     },
     "execution_count": 3,
     "metadata": {},
     "output_type": "execute_result"
    }
   ],
   "source": [
    "tutorial.shape"
   ]
  },
  {
   "cell_type": "code",
   "execution_count": 4,
   "id": "a111a1d4",
   "metadata": {},
   "outputs": [
    {
     "data": {
      "text/plain": [
       "240911"
      ]
     },
     "execution_count": 4,
     "metadata": {},
     "output_type": "execute_result"
    }
   ],
   "source": [
    "len(tutorial['ad_id'].unique())"
   ]
  },
  {
   "cell_type": "code",
   "execution_count": 31,
   "id": "1a2da327",
   "metadata": {},
   "outputs": [
    {
     "data": {
      "text/plain": [
       "(993059, 50)"
      ]
     },
     "execution_count": 31,
     "metadata": {},
     "output_type": "execute_result"
    }
   ],
   "source": [
    "tutorial.shape"
   ]
  },
  {
   "cell_type": "code",
   "execution_count": 9,
   "id": "b504c06f",
   "metadata": {},
   "outputs": [
    {
     "data": {
      "text/plain": [
       "Index(['traffic_source_medium', 'traffic_source_source', 'traffic_source_name',\n",
       "       'event_date', 'event_timestamp', 'event_name', 'ad_id', 'ga_session_id',\n",
       "       'engaged_session_event', 'tutorial_name', 'ga_session_number',\n",
       "       'tutorial_id', 'event_previous_timestamp', 'event_bundle_sequence_id',\n",
       "       'event_server_timestamp_offset', 'user_pseudo_id',\n",
       "       'ga_session_number_timestamp', 'ad_id_timestamp', 'cuid',\n",
       "       'cuid_timestamp', 'frist_version', 'frist_version_timestamp',\n",
       "       'user_level', 'user_level_timestamp', 'first_open_time',\n",
       "       'first_open_time_timestamp', 'ga_session_id_timestamp',\n",
       "       'user_first_touch_timestamp', 'device_category',\n",
       "       'device_mobile_brand_name', 'mobile_model_name',\n",
       "       'device_mobile_os_hardware_model', 'device_operating_system',\n",
       "       'device_operating_system_version', 'device_advertising_id',\n",
       "       'device_language', 'device_is_limited_ad_tracking',\n",
       "       'device_time_zone_offset_seconds', 'geo_continent', 'geo_country',\n",
       "       'geo_region', 'geo_city', 'geo_sub_continent', 'geo_metro',\n",
       "       'app_info_id', 'app_info_version', 'app_info_install_source',\n",
       "       'platform', 'items', 'event_datetime'],\n",
       "      dtype='object')"
      ]
     },
     "execution_count": 9,
     "metadata": {},
     "output_type": "execute_result"
    }
   ],
   "source": [
    "tutorial.columns"
   ]
  },
  {
   "cell_type": "code",
   "execution_count": 10,
   "id": "8f4af884",
   "metadata": {},
   "outputs": [],
   "source": [
    "timestamp_col = ['event_previous_timestamp',\n",
    "                 'event_server_timestamp_offset',\n",
    "                 'ga_session_number_timestamp',\n",
    "                 'ad_id_timestamp',\n",
    "                 'cuid_timestamp',\n",
    "                 'frist_version_timestamp',\n",
    "                 'user_level_timestamp',\n",
    "                 'first_open_time_timestamp',\n",
    "                 'ga_session_id_timestamp',\n",
    "                 'user_first_touch_timestamp']"
   ]
  },
  {
   "cell_type": "code",
   "execution_count": 32,
   "id": "5067cb84",
   "metadata": {},
   "outputs": [],
   "source": [
    "tutorial.drop(timestamp_col, axis=1, inplace=True)"
   ]
  },
  {
   "cell_type": "code",
   "execution_count": 33,
   "id": "0750adcd",
   "metadata": {},
   "outputs": [],
   "source": [
    "tutorial.drop(['geo_metro', 'items', 'device_is_limited_ad_tracking'], axis=1, inplace=True)"
   ]
  },
  {
   "cell_type": "code",
   "execution_count": 34,
   "id": "94cf6948",
   "metadata": {},
   "outputs": [],
   "source": [
    "tutorial.to_csv('tutorial_filtered2.csv', index = False)"
   ]
  },
  {
   "cell_type": "markdown",
   "id": "e2b76316",
   "metadata": {},
   "source": [
    "## ads"
   ]
  },
  {
   "cell_type": "code",
   "execution_count": 20,
   "id": "f14bbe76",
   "metadata": {},
   "outputs": [],
   "source": [
    "ads1 = pd.read_csv(\"data/brazil_ads_1to5.csv\")\n",
    "ads2 = pd.read_csv(\"data/brazil_ads_6to10.csv\")"
   ]
  },
  {
   "cell_type": "code",
   "execution_count": 17,
   "id": "54f84565",
   "metadata": {
    "collapsed": true
   },
   "outputs": [
    {
     "data": {
      "text/plain": [
       "Index(['items', 'traffic_source_medium', 'traffic_source_source',\n",
       "       'traffic_source_name', 'event_previous_timestamp', 'ga_session_number',\n",
       "       'ga_session_number_timestamp', 'user_level', 'user_level_timestamp',\n",
       "       'frist_version', 'frist_version_timestamp', 'cuid', 'cuid_timestamp',\n",
       "       'firebase_exp_8', 'firebase_exp_8_timestamp', 'firebase_exp_10',\n",
       "       'firebase_exp_10_timestamp', 'ad_id', 'ad_id_timestamp',\n",
       "       'firebase_exp_12', 'firebase_exp_12_timestamp', 'ga_session_id',\n",
       "       'ga_session_id_timestamp', 'firebase_exp_4', 'firebase_exp_4_timestamp',\n",
       "       'firebase_exp_6', 'firebase_exp_6_timestamp', 'first_open_time',\n",
       "       'first_open_time_timestamp', 'firebase_exp_13',\n",
       "       'firebase_exp_13_timestamp', 'firebase_exp_14',\n",
       "       'firebase_exp_14_timestamp', 'firebase_exp_2',\n",
       "       'firebase_exp_2_timestamp', 'firebase_exp_3',\n",
       "       'firebase_exp_3_timestamp', 'firebase_last_notification',\n",
       "       'firebase_last_notification_timestamp', 'last_gclid', 'last_gclid_1',\n",
       "       '_ltv_USD', '_ltv_USD_timestamp', '_ltv_BRL', '_ltv_BRL_timestamp',\n",
       "       'user_pseudo_id', 'event_bundle_sequence_id', 'platform',\n",
       "       'event_server_timestamp_offset', 'app_info_install_source',\n",
       "       'app_info_firebase_app_id', 'app_info_version', 'app_info_id',\n",
       "       'event_date', 'event_name', 'device_time_zone_offset_seconds',\n",
       "       'device_operating_system', 'device_mobile_os_hardware_model',\n",
       "       'device_mobile_marketing_name', 'device_is_limited_ad_tracking',\n",
       "       'device_advertising_id', 'device_operating_system_version',\n",
       "       'device_mobile_model_name', 'device_language',\n",
       "       'device_mobile_brand_name', 'device_category', 'geo_metro',\n",
       "       'geo_sub_continent', 'geo_city', 'geo_region', 'geo_country',\n",
       "       'geo_continent', 'ga_session_id_1', 'stage', 'Interval_time', 'ad_id_1',\n",
       "       'firebase_event_origin', 'firebase_event_class', 'state', 'network',\n",
       "       'placement_id', 'gubun', 'firebase_screen_id', 'ga_session_number_1',\n",
       "       'engaged_session_event', 'placement_name', 'user_first_touch_timestamp',\n",
       "       'stream_id', 'event_timestamp'],\n",
       "      dtype='object')"
      ]
     },
     "execution_count": 17,
     "metadata": {},
     "output_type": "execute_result"
    }
   ],
   "source": [
    "ads1.columns"
   ]
  },
  {
   "cell_type": "code",
   "execution_count": 21,
   "id": "5aeac424",
   "metadata": {},
   "outputs": [],
   "source": [
    "ads_col = ['event_previous_timestamp', 'event_timestamp', 'event_date',\n",
    "           'ad_id', 'user_pseudo_id', 'ga_session_id', 'ga_session_number',\n",
    "           'gubun', 'state', 'network', 'placement_id', 'placement_name', \n",
    "           'stage', 'Interval_time', 'user_level','cuid',\n",
    "           'device_is_limited_ad_tracking']\n",
    "ads1 = ads1[ads_col]\n",
    "ads2 = ads2[ads_col]"
   ]
  },
  {
   "cell_type": "code",
   "execution_count": 22,
   "id": "ad56e0f2",
   "metadata": {},
   "outputs": [
    {
     "data": {
      "text/plain": [
       "(19000098, 17)"
      ]
     },
     "execution_count": 22,
     "metadata": {},
     "output_type": "execute_result"
    }
   ],
   "source": [
    "ads = pd.concat([ads1, ads2], ignore_index=True)\n",
    "ads.shape"
   ]
  },
  {
   "cell_type": "code",
   "execution_count": 23,
   "id": "463049a0",
   "metadata": {},
   "outputs": [],
   "source": [
    "ads_datetime = pd.to_datetime(ads['event_timestamp'], unit='us')\n",
    "ads['event_datetime'] = ads_datetime\n",
    "ads_target = extract_target(ads)\n",
    "len(ads_target['ad_id'].unique())"
   ]
  },
  {
   "cell_type": "code",
   "execution_count": 25,
   "id": "d836bce3",
   "metadata": {},
   "outputs": [
    {
     "data": {
      "text/plain": [
       "243416"
      ]
     },
     "execution_count": 25,
     "metadata": {},
     "output_type": "execute_result"
    }
   ],
   "source": [
    "len(ads['ad_id'].unique())"
   ]
  },
  {
   "cell_type": "code",
   "execution_count": 27,
   "id": "ecfb9672",
   "metadata": {},
   "outputs": [],
   "source": [
    "ads_target = extract_target(ads)\n",
    "len(ads_target['ad_id'].unique())"
   ]
  },
  {
   "cell_type": "code",
   "execution_count": 30,
   "id": "f5b3a01d",
   "metadata": {},
   "outputs": [],
   "source": [
    "ads_target.to_csv('ads_filtered.csv', index = False)"
   ]
  },
  {
   "cell_type": "markdown",
   "id": "a546ecd1",
   "metadata": {},
   "source": [
    "## activity"
   ]
  },
  {
   "cell_type": "code",
   "execution_count": 5,
   "id": "525950b5",
   "metadata": {},
   "outputs": [
    {
     "name": "stderr",
     "output_type": "stream",
     "text": [
      "/home/users/s17011720/.conda/envs/jupyter/lib/python3.7/site-packages/IPython/core/interactiveshell.py:3166: DtypeWarning: Columns (1,2,3,40) have mixed types.Specify dtype option on import or set low_memory=False.\n",
      "  interactivity=interactivity, compiler=compiler, result=result)\n"
     ]
    }
   ],
   "source": [
    "activity = pd.read_csv(\"data/brazil_activity.csv\")"
   ]
  },
  {
   "cell_type": "code",
   "execution_count": 6,
   "id": "ef7c9fa8",
   "metadata": {},
   "outputs": [
    {
     "data": {
      "text/plain": [
       "Index(['items', 'traffic_source_medium', 'traffic_source_source',\n",
       "       'traffic_source_name', 'event_previous_timestamp', 'ga_session_number',\n",
       "       'ga_session_number_timestamp', 'user_level', 'user_level_timestamp',\n",
       "       'frist_version', 'frist_version_timestamp', 'cuid', 'cuid_timestamp',\n",
       "       'firebase_exp_8', 'firebase_exp_8_timestamp', 'firebase_exp_10',\n",
       "       'firebase_exp_10_timestamp', 'ad_id', 'ad_id_timestamp',\n",
       "       'firebase_exp_12', 'firebase_exp_12_timestamp', 'ga_session_id',\n",
       "       'ga_session_id_timestamp', 'firebase_exp_4', 'firebase_exp_4_timestamp',\n",
       "       'firebase_exp_6', 'firebase_exp_6_timestamp', 'first_open_time',\n",
       "       'first_open_time_timestamp', 'firebase_exp_13',\n",
       "       'firebase_exp_13_timestamp', 'firebase_exp_14',\n",
       "       'firebase_exp_14_timestamp', 'firebase_exp_2',\n",
       "       'firebase_exp_2_timestamp', 'firebase_exp_3',\n",
       "       'firebase_exp_3_timestamp', 'firebase_last_notification',\n",
       "       'firebase_last_notification_timestamp', 'last_gclid', 'last_gclid_1',\n",
       "       '_ltv_USD', '_ltv_USD_timestamp', '_ltv_BRL', '_ltv_BRL_timestamp',\n",
       "       'user_pseudo_id', 'event_bundle_sequence_id', 'platform',\n",
       "       'event_server_timestamp_offset', 'app_info_install_source',\n",
       "       'app_info_firebase_app_id', 'app_info_version', 'app_info_id',\n",
       "       'event_date', 'event_name', 'device_time_zone_offset_seconds',\n",
       "       'device_operating_system', 'device_mobile_os_hardware_model',\n",
       "       'device_mobile_marketing_name', 'device_is_limited_ad_tracking',\n",
       "       'device_advertising_id', 'device_operating_system_version',\n",
       "       'device_mobile_model_name', 'device_language',\n",
       "       'device_mobile_brand_name', 'device_category', 'geo_metro',\n",
       "       'geo_sub_continent', 'geo_city', 'geo_region', 'geo_country',\n",
       "       'geo_continent', 'ga_session_id_1', 'firebase_screen_id', 'ad_id_1',\n",
       "       'firebase_screen_class', 'sub_id', 'engaged_session_event',\n",
       "       'activity_name', 'action_name', 'activity_id', 'action_id',\n",
       "       'firebase_event_origin', 'ga_session_number_1', 'sub_name',\n",
       "       'user_first_touch_timestamp', 'stream_id', 'event_timestamp'],\n",
       "      dtype='object')"
      ]
     },
     "execution_count": 6,
     "metadata": {},
     "output_type": "execute_result"
    }
   ],
   "source": [
    "activity.columns"
   ]
  },
  {
   "cell_type": "code",
   "execution_count": 7,
   "id": "2036d9e0",
   "metadata": {},
   "outputs": [],
   "source": [
    "activity_col = ['event_previous_timestamp', 'event_timestamp', 'event_date',\n",
    "           'ad_id', 'user_pseudo_id', 'ga_session_id', 'ga_session_number',\n",
    "           'activity_id', 'activity_name', 'action_id','action_name', \n",
    "           'sub_id', 'sub_name', 'user_level','cuid',\n",
    "           'device_is_limited_ad_tracking']\n",
    "activity = activity[activity_col]"
   ]
  },
  {
   "cell_type": "code",
   "execution_count": 8,
   "id": "fd64d4fa",
   "metadata": {},
   "outputs": [],
   "source": [
    "act_datetime = pd.to_datetime(activity['event_timestamp'], unit='us')\n",
    "activity['event_datetime'] = act_datetime"
   ]
  },
  {
   "cell_type": "code",
   "execution_count": 9,
   "id": "f254892b",
   "metadata": {},
   "outputs": [
    {
     "data": {
      "text/plain": [
       "144092"
      ]
     },
     "execution_count": 9,
     "metadata": {},
     "output_type": "execute_result"
    }
   ],
   "source": [
    "activity_target = extract_target(activity)\n",
    "len(activity_target['ad_id'].unique())"
   ]
  },
  {
   "cell_type": "code",
   "execution_count": 26,
   "id": "939a2fe6",
   "metadata": {},
   "outputs": [],
   "source": [
    "activity_target.to_csv('column_filtered_data/activity_filtered.csv', index = False)"
   ]
  },
  {
   "cell_type": "markdown",
   "id": "c17e10bd",
   "metadata": {},
   "source": [
    "## asset"
   ]
  },
  {
   "cell_type": "code",
   "execution_count": 11,
   "id": "c963fa0e",
   "metadata": {},
   "outputs": [
    {
     "name": "stderr",
     "output_type": "stream",
     "text": [
      "/home/users/s17011720/.conda/envs/jupyter/lib/python3.7/site-packages/IPython/core/interactiveshell.py:3166: DtypeWarning: Columns (1,2,3,19,43) have mixed types.Specify dtype option on import or set low_memory=False.\n",
      "  interactivity=interactivity, compiler=compiler, result=result)\n"
     ]
    }
   ],
   "source": [
    "asset = pd.read_csv(\"data/brazil_asset.csv\")"
   ]
  },
  {
   "cell_type": "code",
   "execution_count": 12,
   "id": "7a85fddf",
   "metadata": {},
   "outputs": [
    {
     "data": {
      "text/plain": [
       "Index(['items', 'traffic_source_medium', 'traffic_source_source',\n",
       "       'traffic_source_name', 'event_previous_timestamp',\n",
       "       'user_properties_ad_id', 'ad_id_timestamp', 'first_open_time',\n",
       "       'first_open_time_timestamp', 'ga_session_id', 'ga_session_id_timestamp',\n",
       "       'cuid', 'cuid_timestamp', 'user_level', 'user_level_timestamp',\n",
       "       'frist_version', 'frist_version_timestamp', 'ga_session_number',\n",
       "       'ga_session_number_timestamp', 'last_gclid', 'last_gclid_timestamp',\n",
       "       'ads_abtest', 'ads_abtest_timestamp', 'ltv_USD', 'ltv_USD_timestamp',\n",
       "       'ltv_BRL', 'ltv_BRL_timestamp', 'user_pseudo_id',\n",
       "       'event_bundle_sequence_id', 'platform', 'event_server_timestamp_offset',\n",
       "       'app_info_install_source', 'app_info_firebase_app_id',\n",
       "       'app_info_version', 'app_info_id', 'event_date', 'event_name',\n",
       "       'device_time_zone_offset_seconds', 'device_operating_system',\n",
       "       'device_mobile_os_hardware_model', 'device_is_limited_ad_tracking',\n",
       "       'device_advertising_id', 'device_operating_system_version',\n",
       "       'device_mobile_marketing_name', 'device_mobile_model_name',\n",
       "       'device_language', 'device_mobile_brand_name', 'device_category',\n",
       "       'geo_metro', 'geo_sub_continent', 'geo_city', 'geo_region',\n",
       "       'geo_country', 'geo_continent', 'item_id', 'asset_name', 'asset_id',\n",
       "       'firebase_event_origin', 'pre_var', 'gubun', 'item_name',\n",
       "       'ga_session_number_1', 'stage', 'engaged_session_event', 'action_name',\n",
       "       'var', 'event_params_ad_id', 'firebase_screen_class', 'ga_session_id_1',\n",
       "       'firebase_screen_id', 'action_id', 'curr_var',\n",
       "       'user_first_touch_timestamp', 'stream_id', 'event_timestamp'],\n",
       "      dtype='object')"
      ]
     },
     "execution_count": 12,
     "metadata": {},
     "output_type": "execute_result"
    }
   ],
   "source": [
    "asset.columns"
   ]
  },
  {
   "cell_type": "code",
   "execution_count": 14,
   "id": "43e9582d",
   "metadata": {},
   "outputs": [],
   "source": [
    "asset_col = ['event_previous_timestamp', 'event_timestamp', 'event_date',\n",
    "           'user_properties_ad_id', 'event_params_ad_id', 'user_pseudo_id', 'ga_session_id', 'ga_session_number',\n",
    "            'asset_id','asset_name', 'gubun', 'var', 'pre_var', 'curr_var',\n",
    "             'action_id', 'action_name', 'item_id', 'item_name',\n",
    "             'stage', 'user_level', 'cuid', 'device_is_limited_ad_tracking']\n",
    "asset = asset[asset_col]"
   ]
  },
  {
   "cell_type": "code",
   "execution_count": 15,
   "id": "812404e5",
   "metadata": {
    "collapsed": true
   },
   "outputs": [
    {
     "name": "stderr",
     "output_type": "stream",
     "text": [
      "/home/users/s17011720/.conda/envs/jupyter/lib/python3.7/site-packages/ipykernel_launcher.py:2: SettingWithCopyWarning: \n",
      "A value is trying to be set on a copy of a slice from a DataFrame.\n",
      "Try using .loc[row_indexer,col_indexer] = value instead\n",
      "\n",
      "See the caveats in the documentation: https://pandas.pydata.org/pandas-docs/stable/user_guide/indexing.html#returning-a-view-versus-a-copy\n",
      "  \n"
     ]
    }
   ],
   "source": [
    "asset_datetime = pd.to_datetime(asset['event_timestamp'], unit='us')\n",
    "asset['event_datetime'] = asset_datetime"
   ]
  },
  {
   "cell_type": "code",
   "execution_count": 16,
   "id": "eaa5cb1c",
   "metadata": {
    "scrolled": true
   },
   "outputs": [
    {
     "data": {
      "text/plain": [
       "(6953008, 23)"
      ]
     },
     "execution_count": 16,
     "metadata": {},
     "output_type": "execute_result"
    }
   ],
   "source": [
    "asset.shape"
   ]
  },
  {
   "cell_type": "code",
   "execution_count": 17,
   "id": "2f1d23b1",
   "metadata": {},
   "outputs": [
    {
     "data": {
      "text/plain": [
       "event_params_ad_id       63067\n",
       "user_properties_ad_id    62762\n",
       "dtype: int64"
      ]
     },
     "execution_count": 17,
     "metadata": {},
     "output_type": "execute_result"
    }
   ],
   "source": [
    "asset[['event_params_ad_id', 'user_properties_ad_id']].isnull().sum()"
   ]
  },
  {
   "cell_type": "code",
   "execution_count": 19,
   "id": "ba5ee163",
   "metadata": {},
   "outputs": [
    {
     "name": "stdout",
     "output_type": "stream",
     "text": [
      "user_properties_ad_id : 241863명\n",
      "event_params_ad_id : 241867명\n"
     ]
    }
   ],
   "source": [
    "print('user_properties_ad_id : {}명'.format(len(asset['user_properties_ad_id'].unique())))\n",
    "print('event_params_ad_id : {}명'.format(len(asset['event_params_ad_id'].unique())))"
   ]
  },
  {
   "cell_type": "code",
   "execution_count": 20,
   "id": "c6446ddf",
   "metadata": {},
   "outputs": [],
   "source": [
    "params_ad_id_null = asset[asset['event_params_ad_id'].isnull()]\n",
    "params_ad_id_null_idx = params_ad_id_null.index"
   ]
  },
  {
   "cell_type": "code",
   "execution_count": 21,
   "id": "c6fd6649",
   "metadata": {
    "collapsed": true
   },
   "outputs": [
    {
     "data": {
      "text/plain": [
       "array([nan, '11d108b1-4713-43b1-b6d8-dc5f7a7a451c',\n",
       "       'de9526aa-ef77-4368-a5cb-01c3da5ef462',\n",
       "       'd149a6b0-e7eb-4565-919a-0cf6dcc928ff',\n",
       "       'da9b3634-2042-4b4d-b640-72123486d37f',\n",
       "       'ca40815b-1341-4efb-b07c-407680081fdf',\n",
       "       'a9038d84-f0a5-4717-89c1-85cb375dafd0',\n",
       "       '6031d373-97d9-4a92-8a0b-1b949c7234f2',\n",
       "       '150d4347-9f7b-4d7d-bd32-4d1aa9058900',\n",
       "       'de005f3a-9c04-428d-85e0-df67d4e4f598',\n",
       "       'db9db389-bc58-4370-a70f-b31fefc6372d',\n",
       "       'ce2f4c2c-90f6-449a-8741-de13c2b3b743',\n",
       "       'd06b8321-895d-4670-9f56-e2aa4908d3e1',\n",
       "       '900cd2b1-253b-408c-ab6c-cb26234cdc38',\n",
       "       '0a2d0f69-1fc3-4536-94d2-55d436980837',\n",
       "       '60f0be35-8415-4b4b-82ff-48cb9c147234',\n",
       "       '6ac5ccbf-8bfc-4c9e-b065-e933f303a317',\n",
       "       '41004ed5-0299-4391-9705-bea267bf0e0a',\n",
       "       '06418090-2770-422a-888c-93ef6333bce5',\n",
       "       'f3ea4820-8d18-4d66-b43c-c995f3de0dd0',\n",
       "       '4207ceb2-7590-468c-9337-d021e38e7683',\n",
       "       'fbe10816-39f1-401c-ad4e-7a910f73d305',\n",
       "       '3714d7c8-01bc-482b-84c9-2eab0915961b',\n",
       "       '0999918b-4fa6-45b9-a065-fb3c1794e01c',\n",
       "       '4b7806aa-7836-4ea4-a413-6f0731869d36',\n",
       "       '52f1fc02-8935-466d-b746-a155c433fc78',\n",
       "       '86f92ac0-49fb-44c8-bc3a-e166d14d5065',\n",
       "       '24a61b89-abb9-41be-9a4e-d2ca8e0a33db',\n",
       "       'a65d0a48-8e56-421c-a3bf-5ea36a77bc6b',\n",
       "       'e8232060-763e-4a0d-8e35-8f9d214f9777',\n",
       "       '2663a323-c45e-4414-bbe4-0e6547a63c09',\n",
       "       '01af0e13-3068-44fa-88c9-2f5830507d17',\n",
       "       '63552923-6cf3-418e-a45f-bd4a110c6773',\n",
       "       '80ef2de9-466b-4a5b-a53f-e0740909de8a',\n",
       "       'bacf743d-6dcc-442c-9661-d3e294f73b05'], dtype=object)"
      ]
     },
     "execution_count": 21,
     "metadata": {},
     "output_type": "execute_result"
    }
   ],
   "source": [
    "params_ad_id_null['user_properties_ad_id'].unique()"
   ]
  },
  {
   "cell_type": "code",
   "execution_count": 22,
   "id": "b445a8c1",
   "metadata": {},
   "outputs": [],
   "source": [
    "asset.loc[params_ad_id_null_idx, 'event_params_ad_id'] = asset.loc[params_ad_id_null_idx, 'user_properties_ad_id']"
   ]
  },
  {
   "cell_type": "code",
   "execution_count": 23,
   "id": "f04273de",
   "metadata": {},
   "outputs": [],
   "source": [
    "asset.drop('user_properties_ad_id', axis=1, inplace=True)\n",
    "asset.rename(columns={'event_params_ad_id': 'ad_id'}, inplace=True)"
   ]
  },
  {
   "cell_type": "code",
   "execution_count": 24,
   "id": "89a4bb4a",
   "metadata": {},
   "outputs": [
    {
     "data": {
      "text/plain": [
       "224885"
      ]
     },
     "execution_count": 24,
     "metadata": {},
     "output_type": "execute_result"
    }
   ],
   "source": [
    "asset_target = extract_target(asset)\n",
    "len(asset_target['ad_id'].unique())"
   ]
  },
  {
   "cell_type": "code",
   "execution_count": 25,
   "id": "b08dbc8b",
   "metadata": {},
   "outputs": [],
   "source": [
    "asset_target.to_csv('asset_filtered.csv', index = False)"
   ]
  },
  {
   "cell_type": "code",
   "execution_count": null,
   "id": "51a48db7",
   "metadata": {},
   "outputs": [],
   "source": []
  }
 ],
 "metadata": {
  "kernelspec": {
   "display_name": "Python 3",
   "language": "python",
   "name": "python3"
  },
  "language_info": {
   "codemirror_mode": {
    "name": "ipython",
    "version": 3
   },
   "file_extension": ".py",
   "mimetype": "text/x-python",
   "name": "python",
   "nbconvert_exporter": "python",
   "pygments_lexer": "ipython3",
   "version": "3.7.0"
  }
 },
 "nbformat": 4,
 "nbformat_minor": 5
}
