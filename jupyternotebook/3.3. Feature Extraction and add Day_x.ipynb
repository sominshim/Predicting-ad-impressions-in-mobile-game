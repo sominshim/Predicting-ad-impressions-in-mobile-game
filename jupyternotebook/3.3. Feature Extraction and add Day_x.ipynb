{
 "cells": [
  {
   "cell_type": "markdown",
   "id": "bba37384",
   "metadata": {},
   "source": [
    "# Extract Feature"
   ]
  },
  {
   "cell_type": "markdown",
   "id": "a6221cbc",
   "metadata": {},
   "source": [
    "## tutorial"
   ]
  },
  {
   "cell_type": "code",
   "execution_count": 2,
   "id": "755ed1c0",
   "metadata": {},
   "outputs": [],
   "source": [
    "import pandas as pd\n",
    "import numpy as np"
   ]
  },
  {
   "cell_type": "code",
   "execution_count": 6,
   "id": "f9f6b0ba",
   "metadata": {
    "collapsed": true
   },
   "outputs": [
    {
     "name": "stderr",
     "output_type": "stream",
     "text": [
      "/home/users/s17011720/.conda/envs/jupyter/lib/python3.7/site-packages/IPython/core/interactiveshell.py:3166: DtypeWarning: Columns (0,1,2) have mixed types.Specify dtype option on import or set low_memory=False.\n",
      "  interactivity=interactivity, compiler=compiler, result=result)\n"
     ]
    }
   ],
   "source": [
    "default_dir = '/home/users/s17011720/predicting_impression_using_mobile_game/'\n",
    "tutorial = pd.read_csv(default_dir + \"column_filtered_data/tutorial_filtered2.csv\")"
   ]
  },
  {
   "cell_type": "code",
   "execution_count": 126,
   "id": "48e4fc51",
   "metadata": {},
   "outputs": [
    {
     "data": {
      "text/plain": [
       "(240911, 1)"
      ]
     },
     "execution_count": 126,
     "metadata": {},
     "output_type": "execute_result"
    }
   ],
   "source": [
    "day0_df = pd.DataFrame(tutorial.groupby('ad_id')['event_timestamp'].min())\n",
    "day0_df.shape"
   ]
  },
  {
   "cell_type": "code",
   "execution_count": 133,
   "id": "8232738b",
   "metadata": {},
   "outputs": [],
   "source": [
    "day0_df.rename(columns={'event_timestamp':'day0'}, inplace=True)"
   ]
  },
  {
   "cell_type": "code",
   "execution_count": 128,
   "id": "2c6c84d3",
   "metadata": {},
   "outputs": [],
   "source": [
    "day0_df.reset_index(inplace=True)"
   ]
  },
  {
   "cell_type": "code",
   "execution_count": 129,
   "id": "a9470fc2",
   "metadata": {},
   "outputs": [],
   "source": [
    "min_timestamp = pd.read_csv(default_dir + \"column_filtered_data/min_timestamp.csv\")"
   ]
  },
  {
   "cell_type": "code",
   "execution_count": 134,
   "id": "c91a906f",
   "metadata": {},
   "outputs": [],
   "source": [
    "merge_df = pd.merge(se_start_df, day0_df, how='left', on=['ad_id'])"
   ]
  },
  {
   "cell_type": "code",
   "execution_count": 131,
   "id": "9322be23",
   "metadata": {},
   "outputs": [
    {
     "data": {
      "text/plain": [
       "(558186, 4)"
      ]
     },
     "execution_count": 131,
     "metadata": {},
     "output_type": "execute_result"
    }
   ],
   "source": [
    "merge_df.shape"
   ]
  },
  {
   "cell_type": "code",
   "execution_count": 135,
   "id": "e28538db",
   "metadata": {},
   "outputs": [
    {
     "data": {
      "text/html": [
       "<div>\n",
       "<style scoped>\n",
       "    .dataframe tbody tr th:only-of-type {\n",
       "        vertical-align: middle;\n",
       "    }\n",
       "\n",
       "    .dataframe tbody tr th {\n",
       "        vertical-align: top;\n",
       "    }\n",
       "\n",
       "    .dataframe thead th {\n",
       "        text-align: right;\n",
       "    }\n",
       "</style>\n",
       "<table border=\"1\" class=\"dataframe\">\n",
       "  <thead>\n",
       "    <tr style=\"text-align: right;\">\n",
       "      <th></th>\n",
       "      <th>ad_id</th>\n",
       "      <th>ga_session_id</th>\n",
       "      <th>event_timestamp</th>\n",
       "      <th>day0</th>\n",
       "    </tr>\n",
       "  </thead>\n",
       "  <tbody>\n",
       "    <tr>\n",
       "      <th>0</th>\n",
       "      <td>00018501-6eee-45e9-b5b5-7b50f966abd8</td>\n",
       "      <td>1.618459e+09</td>\n",
       "      <td>1618458973665000</td>\n",
       "      <td>1618458973665000</td>\n",
       "    </tr>\n",
       "    <tr>\n",
       "      <th>1</th>\n",
       "      <td>00018501-6eee-45e9-b5b5-7b50f966abd8</td>\n",
       "      <td>1.619147e+09</td>\n",
       "      <td>1619147084357000</td>\n",
       "      <td>1618458973665000</td>\n",
       "    </tr>\n",
       "    <tr>\n",
       "      <th>2</th>\n",
       "      <td>0001edb6-e7e7-4f74-8993-2bfc9347a959</td>\n",
       "      <td>1.619207e+09</td>\n",
       "      <td>1619207127894000</td>\n",
       "      <td>1619207127894000</td>\n",
       "    </tr>\n",
       "    <tr>\n",
       "      <th>3</th>\n",
       "      <td>0001ef07-c27e-4d91-a8bb-d0aa5f0d45e7</td>\n",
       "      <td>1.618855e+09</td>\n",
       "      <td>1618854710317000</td>\n",
       "      <td>1618854710317000</td>\n",
       "    </tr>\n",
       "    <tr>\n",
       "      <th>4</th>\n",
       "      <td>0001ef07-c27e-4d91-a8bb-d0aa5f0d45e7</td>\n",
       "      <td>1.618932e+09</td>\n",
       "      <td>1618931879817000</td>\n",
       "      <td>1618854710317000</td>\n",
       "    </tr>\n",
       "  </tbody>\n",
       "</table>\n",
       "</div>"
      ],
      "text/plain": [
       "                                  ad_id  ga_session_id   event_timestamp  \\\n",
       "0  00018501-6eee-45e9-b5b5-7b50f966abd8   1.618459e+09  1618458973665000   \n",
       "1  00018501-6eee-45e9-b5b5-7b50f966abd8   1.619147e+09  1619147084357000   \n",
       "2  0001edb6-e7e7-4f74-8993-2bfc9347a959   1.619207e+09  1619207127894000   \n",
       "3  0001ef07-c27e-4d91-a8bb-d0aa5f0d45e7   1.618855e+09  1618854710317000   \n",
       "4  0001ef07-c27e-4d91-a8bb-d0aa5f0d45e7   1.618932e+09  1618931879817000   \n",
       "\n",
       "               day0  \n",
       "0  1618458973665000  \n",
       "1  1618458973665000  \n",
       "2  1619207127894000  \n",
       "3  1618854710317000  \n",
       "4  1618854710317000  "
      ]
     },
     "execution_count": 135,
     "metadata": {},
     "output_type": "execute_result"
    }
   ],
   "source": [
    "merge_df.head()"
   ]
  },
  {
   "cell_type": "code",
   "execution_count": 136,
   "id": "64dd3c0f",
   "metadata": {},
   "outputs": [],
   "source": [
    "merge_df.to_csv(default_dir + \"column_filtered_data/sess_start_and_day0.csv\", index=False)"
   ]
  },
  {
   "cell_type": "markdown",
   "id": "26d4d6d1",
   "metadata": {},
   "source": [
    "## asset"
   ]
  },
  {
   "cell_type": "code",
   "execution_count": 32,
   "id": "74848e22",
   "metadata": {},
   "outputs": [
    {
     "data": {
      "text/html": [
       "<div>\n",
       "<style scoped>\n",
       "    .dataframe tbody tr th:only-of-type {\n",
       "        vertical-align: middle;\n",
       "    }\n",
       "\n",
       "    .dataframe tbody tr th {\n",
       "        vertical-align: top;\n",
       "    }\n",
       "\n",
       "    .dataframe thead th {\n",
       "        text-align: right;\n",
       "    }\n",
       "</style>\n",
       "<table border=\"1\" class=\"dataframe\">\n",
       "  <thead>\n",
       "    <tr style=\"text-align: right;\">\n",
       "      <th></th>\n",
       "      <th>event_previous_timestamp</th>\n",
       "      <th>event_timestamp</th>\n",
       "      <th>event_date</th>\n",
       "      <th>ad_id</th>\n",
       "      <th>user_pseudo_id</th>\n",
       "      <th>ga_session_id</th>\n",
       "      <th>ga_session_number</th>\n",
       "      <th>asset_id</th>\n",
       "      <th>asset_name</th>\n",
       "      <th>gubun</th>\n",
       "      <th>...</th>\n",
       "      <th>curr_var</th>\n",
       "      <th>action_id</th>\n",
       "      <th>action_name</th>\n",
       "      <th>item_id</th>\n",
       "      <th>item_name</th>\n",
       "      <th>stage</th>\n",
       "      <th>user_level</th>\n",
       "      <th>cuid</th>\n",
       "      <th>device_is_limited_ad_tracking</th>\n",
       "      <th>event_datetime</th>\n",
       "    </tr>\n",
       "  </thead>\n",
       "  <tbody>\n",
       "    <tr>\n",
       "      <th>0</th>\n",
       "      <td>1.617937e+15</td>\n",
       "      <td>1617936778478001</td>\n",
       "      <td>20210408</td>\n",
       "      <td>37f17865-1a1b-4887-bf38-5ae581ec09cb</td>\n",
       "      <td>4370d11b9eae27ce9592bea98aedf391</td>\n",
       "      <td>1.617937e+09</td>\n",
       "      <td>1.0</td>\n",
       "      <td>1</td>\n",
       "      <td>coin</td>\n",
       "      <td>in</td>\n",
       "      <td>...</td>\n",
       "      <td>204</td>\n",
       "      <td>10001</td>\n",
       "      <td>play</td>\n",
       "      <td>0</td>\n",
       "      <td>0</td>\n",
       "      <td>4</td>\n",
       "      <td>4.0</td>\n",
       "      <td>24378877-1a21-40f2-9bfb-3d071076e551</td>\n",
       "      <td>False</td>\n",
       "      <td>2021-04-09 02:52:58.478001</td>\n",
       "    </tr>\n",
       "    <tr>\n",
       "      <th>1</th>\n",
       "      <td>1.618344e+15</td>\n",
       "      <td>1618344330246000</td>\n",
       "      <td>20210413</td>\n",
       "      <td>9a822b84-27d2-48c4-98d6-c87fa0a7b53a</td>\n",
       "      <td>686b15cf8de26e96faf785370a250d55</td>\n",
       "      <td>1.618344e+09</td>\n",
       "      <td>1.0</td>\n",
       "      <td>1</td>\n",
       "      <td>coin</td>\n",
       "      <td>out</td>\n",
       "      <td>...</td>\n",
       "      <td>306</td>\n",
       "      <td>20001</td>\n",
       "      <td>upgrade_atk</td>\n",
       "      <td>0</td>\n",
       "      <td>0</td>\n",
       "      <td>7</td>\n",
       "      <td>7.0</td>\n",
       "      <td>33afdb07-f374-4738-ae33-841e7c37e63e</td>\n",
       "      <td>False</td>\n",
       "      <td>2021-04-13 20:05:30.246000</td>\n",
       "    </tr>\n",
       "  </tbody>\n",
       "</table>\n",
       "<p>2 rows × 22 columns</p>\n",
       "</div>"
      ],
      "text/plain": [
       "   event_previous_timestamp   event_timestamp  event_date  \\\n",
       "0              1.617937e+15  1617936778478001    20210408   \n",
       "1              1.618344e+15  1618344330246000    20210413   \n",
       "\n",
       "                                  ad_id                    user_pseudo_id  \\\n",
       "0  37f17865-1a1b-4887-bf38-5ae581ec09cb  4370d11b9eae27ce9592bea98aedf391   \n",
       "1  9a822b84-27d2-48c4-98d6-c87fa0a7b53a  686b15cf8de26e96faf785370a250d55   \n",
       "\n",
       "   ga_session_id  ga_session_number  asset_id asset_name gubun  ...  curr_var  \\\n",
       "0   1.617937e+09                1.0         1       coin    in  ...       204   \n",
       "1   1.618344e+09                1.0         1       coin   out  ...       306   \n",
       "\n",
       "   action_id  action_name  item_id item_name  stage user_level  \\\n",
       "0      10001         play        0         0      4        4.0   \n",
       "1      20001  upgrade_atk        0         0      7        7.0   \n",
       "\n",
       "                                   cuid  device_is_limited_ad_tracking  \\\n",
       "0  24378877-1a21-40f2-9bfb-3d071076e551                          False   \n",
       "1  33afdb07-f374-4738-ae33-841e7c37e63e                          False   \n",
       "\n",
       "               event_datetime  \n",
       "0  2021-04-09 02:52:58.478001  \n",
       "1  2021-04-13 20:05:30.246000  \n",
       "\n",
       "[2 rows x 22 columns]"
      ]
     },
     "execution_count": 32,
     "metadata": {},
     "output_type": "execute_result"
    }
   ],
   "source": [
    "asset = pd.read_csv(default_dir + \"column_filtered_data/asset_filtered.csv\")\n",
    "asset.head(2)"
   ]
  },
  {
   "cell_type": "code",
   "execution_count": 33,
   "id": "edc40586",
   "metadata": {},
   "outputs": [
    {
     "data": {
      "text/plain": [
       "(6231062, 22)"
      ]
     },
     "execution_count": 33,
     "metadata": {},
     "output_type": "execute_result"
    }
   ],
   "source": [
    "asset.shape"
   ]
  },
  {
   "cell_type": "code",
   "execution_count": 34,
   "id": "e4b5d963",
   "metadata": {},
   "outputs": [
    {
     "data": {
      "text/html": [
       "<div>\n",
       "<style scoped>\n",
       "    .dataframe tbody tr th:only-of-type {\n",
       "        vertical-align: middle;\n",
       "    }\n",
       "\n",
       "    .dataframe tbody tr th {\n",
       "        vertical-align: top;\n",
       "    }\n",
       "\n",
       "    .dataframe thead th {\n",
       "        text-align: right;\n",
       "    }\n",
       "</style>\n",
       "<table border=\"1\" class=\"dataframe\">\n",
       "  <thead>\n",
       "    <tr style=\"text-align: right;\">\n",
       "      <th></th>\n",
       "      <th>event_previous_timestamp</th>\n",
       "      <th>event_timestamp</th>\n",
       "      <th>event_date</th>\n",
       "      <th>ad_id</th>\n",
       "      <th>user_pseudo_id</th>\n",
       "      <th>ga_session_id</th>\n",
       "      <th>ga_session_number</th>\n",
       "      <th>asset_id</th>\n",
       "      <th>asset_name</th>\n",
       "      <th>gubun</th>\n",
       "      <th>...</th>\n",
       "      <th>curr_var</th>\n",
       "      <th>action_id</th>\n",
       "      <th>action_name</th>\n",
       "      <th>item_id</th>\n",
       "      <th>item_name</th>\n",
       "      <th>stage</th>\n",
       "      <th>user_level</th>\n",
       "      <th>cuid</th>\n",
       "      <th>device_is_limited_ad_tracking</th>\n",
       "      <th>event_datetime</th>\n",
       "    </tr>\n",
       "  </thead>\n",
       "  <tbody>\n",
       "    <tr>\n",
       "      <th>0</th>\n",
       "      <td>1.617937e+15</td>\n",
       "      <td>1617936778478001</td>\n",
       "      <td>20210408</td>\n",
       "      <td>37f17865-1a1b-4887-bf38-5ae581ec09cb</td>\n",
       "      <td>4370d11b9eae27ce9592bea98aedf391</td>\n",
       "      <td>1.617937e+09</td>\n",
       "      <td>1.0</td>\n",
       "      <td>1</td>\n",
       "      <td>coin</td>\n",
       "      <td>in</td>\n",
       "      <td>...</td>\n",
       "      <td>204</td>\n",
       "      <td>10001</td>\n",
       "      <td>play</td>\n",
       "      <td>0</td>\n",
       "      <td>0</td>\n",
       "      <td>4</td>\n",
       "      <td>4.0</td>\n",
       "      <td>24378877-1a21-40f2-9bfb-3d071076e551</td>\n",
       "      <td>False</td>\n",
       "      <td>2021-04-09</td>\n",
       "    </tr>\n",
       "    <tr>\n",
       "      <th>1</th>\n",
       "      <td>1.618344e+15</td>\n",
       "      <td>1618344330246000</td>\n",
       "      <td>20210413</td>\n",
       "      <td>9a822b84-27d2-48c4-98d6-c87fa0a7b53a</td>\n",
       "      <td>686b15cf8de26e96faf785370a250d55</td>\n",
       "      <td>1.618344e+09</td>\n",
       "      <td>1.0</td>\n",
       "      <td>1</td>\n",
       "      <td>coin</td>\n",
       "      <td>out</td>\n",
       "      <td>...</td>\n",
       "      <td>306</td>\n",
       "      <td>20001</td>\n",
       "      <td>upgrade_atk</td>\n",
       "      <td>0</td>\n",
       "      <td>0</td>\n",
       "      <td>7</td>\n",
       "      <td>7.0</td>\n",
       "      <td>33afdb07-f374-4738-ae33-841e7c37e63e</td>\n",
       "      <td>False</td>\n",
       "      <td>2021-04-13</td>\n",
       "    </tr>\n",
       "  </tbody>\n",
       "</table>\n",
       "<p>2 rows × 22 columns</p>\n",
       "</div>"
      ],
      "text/plain": [
       "   event_previous_timestamp   event_timestamp  event_date  \\\n",
       "0              1.617937e+15  1617936778478001    20210408   \n",
       "1              1.618344e+15  1618344330246000    20210413   \n",
       "\n",
       "                                  ad_id                    user_pseudo_id  \\\n",
       "0  37f17865-1a1b-4887-bf38-5ae581ec09cb  4370d11b9eae27ce9592bea98aedf391   \n",
       "1  9a822b84-27d2-48c4-98d6-c87fa0a7b53a  686b15cf8de26e96faf785370a250d55   \n",
       "\n",
       "   ga_session_id  ga_session_number  asset_id asset_name gubun  ...  curr_var  \\\n",
       "0   1.617937e+09                1.0         1       coin    in  ...       204   \n",
       "1   1.618344e+09                1.0         1       coin   out  ...       306   \n",
       "\n",
       "   action_id  action_name  item_id item_name  stage user_level  \\\n",
       "0      10001         play        0         0      4        4.0   \n",
       "1      20001  upgrade_atk        0         0      7        7.0   \n",
       "\n",
       "                                   cuid  device_is_limited_ad_tracking  \\\n",
       "0  24378877-1a21-40f2-9bfb-3d071076e551                          False   \n",
       "1  33afdb07-f374-4738-ae33-841e7c37e63e                          False   \n",
       "\n",
       "  event_datetime  \n",
       "0     2021-04-09  \n",
       "1     2021-04-13  \n",
       "\n",
       "[2 rows x 22 columns]"
      ]
     },
     "execution_count": 34,
     "metadata": {},
     "output_type": "execute_result"
    }
   ],
   "source": [
    "asset['event_datetime'] = pd.to_datetime(asset['event_timestamp'], unit='us').dt.date\n",
    "asset.head(2)"
   ]
  },
  {
   "cell_type": "markdown",
   "id": "6feca8d1",
   "metadata": {},
   "source": [
    "### target_user"
   ]
  },
  {
   "cell_type": "code",
   "execution_count": 6,
   "id": "75e90e73",
   "metadata": {},
   "outputs": [],
   "source": [
    "def select_target(df):\n",
    "    target = pd.read_csv(default_dir + \"column_filtered_data/target.csv\")\n",
    "    target = target[target['not_target']==0]\n",
    "    target_id = target['ad_id'].tolist()\n",
    "    df = df[df['ad_id'].isin(target_id)]\n",
    "    return df\n",
    "\n",
    "def select_train(df, YN):\n",
    "    target = pd.read_csv(default_dir + \"column_filtered_data/target.csv\")\n",
    "    target = target[target['not_target']==0 & (df['train_YN']==1)]\n",
    "    target_id = target['ad_id'].tolist()\n",
    "    df = df[df['ad_id'].isin(target_id)]\n",
    "    return df"
   ]
  },
  {
   "cell_type": "code",
   "execution_count": 148,
   "id": "2b0c7cc6",
   "metadata": {},
   "outputs": [
    {
     "data": {
      "text/plain": [
       "(6230295, 22)"
      ]
     },
     "execution_count": 148,
     "metadata": {},
     "output_type": "execute_result"
    }
   ],
   "source": [
    "target_asset = select_target(asset)\n",
    "target_asset.shape"
   ]
  },
  {
   "cell_type": "code",
   "execution_count": 149,
   "id": "6c89a213",
   "metadata": {},
   "outputs": [
    {
     "data": {
      "text/plain": [
       "224875"
      ]
     },
     "execution_count": 149,
     "metadata": {},
     "output_type": "execute_result"
    }
   ],
   "source": [
    "len(target_asset.ad_id.unique()) #224,875"
   ]
  },
  {
   "cell_type": "markdown",
   "id": "0b9dbef0",
   "metadata": {},
   "source": [
    "### day_x 계산"
   ]
  },
  {
   "cell_type": "code",
   "execution_count": 7,
   "id": "8b874a57",
   "metadata": {},
   "outputs": [],
   "source": [
    "default_dir = '/home/users/s17011720/predicting_impression_using_mobile_game/'\n",
    "\n",
    "def calculate_day_x(df):\n",
    "    day_df = pd.read_csv(default_dir + \"column_filtered_data/sess_start_and_day0.csv\")\n",
    "    day_df['session_start_date'] = pd.to_datetime(day_df['event_timestamp'], unit='us')\n",
    "    day_df['session_start_date'] = day_df.session_start_date.dt.date\n",
    "    day_df['day0'] = pd.to_datetime(day_df['day0'], unit='us')\n",
    "    day_df['day0'] = day_df.day0.dt.date\n",
    "    day_df = day_df[['ad_id', 'ga_session_id', 'session_start_date', 'day0']]\n",
    "    \n",
    "    m_df = pd.merge(df, day_df, on=['ad_id', 'ga_session_id'])\n",
    "    m_df['day_x'] = (m_df.session_start_date - m_df.day0).dt.days\n",
    "\n",
    "    return m_df"
   ]
  },
  {
   "cell_type": "code",
   "execution_count": 163,
   "id": "9ed1f443",
   "metadata": {},
   "outputs": [],
   "source": [
    "asset_df = calculate_day_x(target_asset)"
   ]
  },
  {
   "cell_type": "code",
   "execution_count": null,
   "id": "0848a757",
   "metadata": {},
   "outputs": [],
   "source": []
  },
  {
   "cell_type": "markdown",
   "id": "0e1960c7",
   "metadata": {},
   "source": [
    "### 1. gubun : 코인 지급 in / out\n",
    "- in_count, out_count"
   ]
  },
  {
   "cell_type": "code",
   "execution_count": 165,
   "id": "0c5699b4",
   "metadata": {},
   "outputs": [
    {
     "data": {
      "text/plain": [
       "(6230095, 25)"
      ]
     },
     "execution_count": 165,
     "metadata": {},
     "output_type": "execute_result"
    }
   ],
   "source": [
    "target_asset = asset_df.copy()\n",
    "target_asset.shape"
   ]
  },
  {
   "cell_type": "code",
   "execution_count": 166,
   "id": "b59a172d",
   "metadata": {},
   "outputs": [],
   "source": [
    "grouped_gubun = target_asset.groupby(by=['ad_id','day_x','gubun'])\n",
    "gubun = grouped_gubun.size().unstack()"
   ]
  },
  {
   "cell_type": "code",
   "execution_count": 168,
   "id": "03e42e36",
   "metadata": {},
   "outputs": [
    {
     "data": {
      "text/html": [
       "<div>\n",
       "<style scoped>\n",
       "    .dataframe tbody tr th:only-of-type {\n",
       "        vertical-align: middle;\n",
       "    }\n",
       "\n",
       "    .dataframe tbody tr th {\n",
       "        vertical-align: top;\n",
       "    }\n",
       "\n",
       "    .dataframe thead th {\n",
       "        text-align: right;\n",
       "    }\n",
       "</style>\n",
       "<table border=\"1\" class=\"dataframe\">\n",
       "  <thead>\n",
       "    <tr style=\"text-align: right;\">\n",
       "      <th></th>\n",
       "      <th>gubun</th>\n",
       "      <th>in</th>\n",
       "      <th>out</th>\n",
       "    </tr>\n",
       "    <tr>\n",
       "      <th>ad_id</th>\n",
       "      <th>day_x</th>\n",
       "      <th></th>\n",
       "      <th></th>\n",
       "    </tr>\n",
       "  </thead>\n",
       "  <tbody>\n",
       "    <tr>\n",
       "      <th rowspan=\"2\" valign=\"top\">00018501-6eee-45e9-b5b5-7b50f966abd8</th>\n",
       "      <th>0</th>\n",
       "      <td>1.0</td>\n",
       "      <td>NaN</td>\n",
       "    </tr>\n",
       "    <tr>\n",
       "      <th>8</th>\n",
       "      <td>4.0</td>\n",
       "      <td>NaN</td>\n",
       "    </tr>\n",
       "  </tbody>\n",
       "</table>\n",
       "</div>"
      ],
      "text/plain": [
       "gubun                                        in  out\n",
       "ad_id                                day_x          \n",
       "00018501-6eee-45e9-b5b5-7b50f966abd8 0      1.0  NaN\n",
       "                                     8      4.0  NaN"
      ]
     },
     "execution_count": 168,
     "metadata": {},
     "output_type": "execute_result"
    }
   ],
   "source": [
    "gubun.head(2)"
   ]
  },
  {
   "cell_type": "code",
   "execution_count": 169,
   "id": "25a277f2",
   "metadata": {},
   "outputs": [
    {
     "data": {
      "text/html": [
       "<div>\n",
       "<style scoped>\n",
       "    .dataframe tbody tr th:only-of-type {\n",
       "        vertical-align: middle;\n",
       "    }\n",
       "\n",
       "    .dataframe tbody tr th {\n",
       "        vertical-align: top;\n",
       "    }\n",
       "\n",
       "    .dataframe thead th {\n",
       "        text-align: right;\n",
       "    }\n",
       "</style>\n",
       "<table border=\"1\" class=\"dataframe\">\n",
       "  <thead>\n",
       "    <tr style=\"text-align: right;\">\n",
       "      <th>gubun</th>\n",
       "      <th>ad_id</th>\n",
       "      <th>day_x</th>\n",
       "      <th>in</th>\n",
       "      <th>out</th>\n",
       "    </tr>\n",
       "  </thead>\n",
       "  <tbody>\n",
       "    <tr>\n",
       "      <th>0</th>\n",
       "      <td>00018501-6eee-45e9-b5b5-7b50f966abd8</td>\n",
       "      <td>0</td>\n",
       "      <td>1.0</td>\n",
       "      <td>NaN</td>\n",
       "    </tr>\n",
       "    <tr>\n",
       "      <th>1</th>\n",
       "      <td>00018501-6eee-45e9-b5b5-7b50f966abd8</td>\n",
       "      <td>8</td>\n",
       "      <td>4.0</td>\n",
       "      <td>NaN</td>\n",
       "    </tr>\n",
       "  </tbody>\n",
       "</table>\n",
       "</div>"
      ],
      "text/plain": [
       "gubun                                 ad_id  day_x   in  out\n",
       "0      00018501-6eee-45e9-b5b5-7b50f966abd8      0  1.0  NaN\n",
       "1      00018501-6eee-45e9-b5b5-7b50f966abd8      8  4.0  NaN"
      ]
     },
     "execution_count": 169,
     "metadata": {},
     "output_type": "execute_result"
    }
   ],
   "source": [
    "gubun.reset_index(inplace=True)\n",
    "gubun.head(2)"
   ]
  },
  {
   "cell_type": "code",
   "execution_count": 170,
   "id": "2e94f9a2",
   "metadata": {},
   "outputs": [],
   "source": [
    "gubun.rename(columns = {'in':'in_coin_cnt',\n",
    "                        'out':'out_coin_cnt'}, inplace = True)"
   ]
  },
  {
   "cell_type": "code",
   "execution_count": 171,
   "id": "a9233140",
   "metadata": {},
   "outputs": [
    {
     "data": {
      "text/plain": [
       "(416198, 4)"
      ]
     },
     "execution_count": 171,
     "metadata": {},
     "output_type": "execute_result"
    }
   ],
   "source": [
    "gubun.shape"
   ]
  },
  {
   "cell_type": "markdown",
   "id": "07b7c997",
   "metadata": {},
   "source": [
    "### 2. var : 실제 재화 변동량 (지급-양수, 회수-음수)\n",
    "- in_sum(하루에 총 지급된 coin량 합산)\n",
    "- out_sum(하루에 총 회수된 coin량 합산)"
   ]
  },
  {
   "cell_type": "code",
   "execution_count": 172,
   "id": "209c7f73",
   "metadata": {},
   "outputs": [],
   "source": [
    "target_asset.loc[target_asset['var'] > 0, 'Payment'] = 'in'\n",
    "target_asset.loc[target_asset['var'] < 0, 'Payment'] = 'out'"
   ]
  },
  {
   "cell_type": "code",
   "execution_count": 173,
   "id": "7ff75866",
   "metadata": {},
   "outputs": [
    {
     "data": {
      "text/html": [
       "<div>\n",
       "<style scoped>\n",
       "    .dataframe tbody tr th:only-of-type {\n",
       "        vertical-align: middle;\n",
       "    }\n",
       "\n",
       "    .dataframe tbody tr th {\n",
       "        vertical-align: top;\n",
       "    }\n",
       "\n",
       "    .dataframe thead th {\n",
       "        text-align: right;\n",
       "    }\n",
       "</style>\n",
       "<table border=\"1\" class=\"dataframe\">\n",
       "  <thead>\n",
       "    <tr style=\"text-align: right;\">\n",
       "      <th>Payment</th>\n",
       "      <th>ad_id</th>\n",
       "      <th>day_x</th>\n",
       "      <th>in</th>\n",
       "      <th>out</th>\n",
       "    </tr>\n",
       "  </thead>\n",
       "  <tbody>\n",
       "    <tr>\n",
       "      <th>0</th>\n",
       "      <td>00018501-6eee-45e9-b5b5-7b50f966abd8</td>\n",
       "      <td>0</td>\n",
       "      <td>51.0</td>\n",
       "      <td>NaN</td>\n",
       "    </tr>\n",
       "    <tr>\n",
       "      <th>1</th>\n",
       "      <td>00018501-6eee-45e9-b5b5-7b50f966abd8</td>\n",
       "      <td>8</td>\n",
       "      <td>254.0</td>\n",
       "      <td>NaN</td>\n",
       "    </tr>\n",
       "  </tbody>\n",
       "</table>\n",
       "</div>"
      ],
      "text/plain": [
       "Payment                                 ad_id  day_x     in  out\n",
       "0        00018501-6eee-45e9-b5b5-7b50f966abd8      0   51.0  NaN\n",
       "1        00018501-6eee-45e9-b5b5-7b50f966abd8      8  254.0  NaN"
      ]
     },
     "execution_count": 173,
     "metadata": {},
     "output_type": "execute_result"
    }
   ],
   "source": [
    "fluctuation = pd.DataFrame(target_asset.groupby(by=['ad_id','day_x','Payment'])['var'].sum().unstack())\n",
    "fluctuation.reset_index(inplace=True)\n",
    "fluctuation.head(2)"
   ]
  },
  {
   "cell_type": "code",
   "execution_count": 174,
   "id": "27de998d",
   "metadata": {},
   "outputs": [],
   "source": [
    "fluctuation.rename(columns = {'in':'in_coin_sum',\n",
    "                              'out':'out_coin_sum'}, inplace = True)"
   ]
  },
  {
   "cell_type": "code",
   "execution_count": 175,
   "id": "0d918eba",
   "metadata": {},
   "outputs": [],
   "source": [
    "fluctuation['out_coin_sum'] = fluctuation['out_coin_sum'].abs()"
   ]
  },
  {
   "cell_type": "markdown",
   "id": "528a7846",
   "metadata": {},
   "source": [
    "### 3. curr_var : 현재 재화량\n",
    "- 하루동안의 최소 coin (min)\n",
    "- 하루동안의 최대 coin (max)"
   ]
  },
  {
   "cell_type": "code",
   "execution_count": 176,
   "id": "f3ac1aab",
   "metadata": {},
   "outputs": [
    {
     "data": {
      "text/html": [
       "<div>\n",
       "<style scoped>\n",
       "    .dataframe tbody tr th:only-of-type {\n",
       "        vertical-align: middle;\n",
       "    }\n",
       "\n",
       "    .dataframe tbody tr th {\n",
       "        vertical-align: top;\n",
       "    }\n",
       "\n",
       "    .dataframe thead th {\n",
       "        text-align: right;\n",
       "    }\n",
       "</style>\n",
       "<table border=\"1\" class=\"dataframe\">\n",
       "  <thead>\n",
       "    <tr style=\"text-align: right;\">\n",
       "      <th></th>\n",
       "      <th>ad_id</th>\n",
       "      <th>day_x</th>\n",
       "      <th>min</th>\n",
       "      <th>max</th>\n",
       "    </tr>\n",
       "  </thead>\n",
       "  <tbody>\n",
       "    <tr>\n",
       "      <th>0</th>\n",
       "      <td>00018501-6eee-45e9-b5b5-7b50f966abd8</td>\n",
       "      <td>0</td>\n",
       "      <td>51</td>\n",
       "      <td>51</td>\n",
       "    </tr>\n",
       "    <tr>\n",
       "      <th>1</th>\n",
       "      <td>00018501-6eee-45e9-b5b5-7b50f966abd8</td>\n",
       "      <td>8</td>\n",
       "      <td>102</td>\n",
       "      <td>305</td>\n",
       "    </tr>\n",
       "  </tbody>\n",
       "</table>\n",
       "</div>"
      ],
      "text/plain": [
       "                                  ad_id  day_x  min  max\n",
       "0  00018501-6eee-45e9-b5b5-7b50f966abd8      0   51   51\n",
       "1  00018501-6eee-45e9-b5b5-7b50f966abd8      8  102  305"
      ]
     },
     "execution_count": 176,
     "metadata": {},
     "output_type": "execute_result"
    }
   ],
   "source": [
    "grouped_curr = target_asset.groupby(by=['ad_id', 'day_x'])\n",
    "curr_var = grouped_curr['curr_var'].agg(['min', 'max'])\n",
    "\n",
    "curr_var.reset_index(inplace=True)\n",
    "curr_var.head(2)"
   ]
  },
  {
   "cell_type": "code",
   "execution_count": 177,
   "id": "d2212287",
   "metadata": {},
   "outputs": [
    {
     "data": {
      "text/plain": [
       "(416198, 4)"
      ]
     },
     "execution_count": 177,
     "metadata": {},
     "output_type": "execute_result"
    }
   ],
   "source": [
    "curr_var.rename(columns = {'min':'curr_var_min',\n",
    "                           'max':'curr_var_max'}, inplace = True)\n",
    "curr_var.shape"
   ]
  },
  {
   "cell_type": "markdown",
   "id": "a83c345c",
   "metadata": {},
   "source": [
    "### 4. action_id : coin지급지출과 관련된 액션의 종류\n",
    "- action_id별 var의 sum  "
   ]
  },
  {
   "cell_type": "code",
   "execution_count": 178,
   "id": "9c975926",
   "metadata": {},
   "outputs": [],
   "source": [
    "# action_id별 var sum\n",
    "grouped_curr = target_asset.groupby(by=['ad_id', 'day_x', 'action_name'])\n",
    "var_sum_by_action = grouped_curr['var'].sum().unstack()"
   ]
  },
  {
   "cell_type": "code",
   "execution_count": 179,
   "id": "9a07359e",
   "metadata": {},
   "outputs": [
    {
     "data": {
      "text/html": [
       "<div>\n",
       "<style scoped>\n",
       "    .dataframe tbody tr th:only-of-type {\n",
       "        vertical-align: middle;\n",
       "    }\n",
       "\n",
       "    .dataframe tbody tr th {\n",
       "        vertical-align: top;\n",
       "    }\n",
       "\n",
       "    .dataframe thead th {\n",
       "        text-align: right;\n",
       "    }\n",
       "</style>\n",
       "<table border=\"1\" class=\"dataframe\">\n",
       "  <thead>\n",
       "    <tr style=\"text-align: right;\">\n",
       "      <th>action_name</th>\n",
       "      <th>ad_id</th>\n",
       "      <th>day_x</th>\n",
       "      <th>buy_skin</th>\n",
       "      <th>offline_coin</th>\n",
       "      <th>play</th>\n",
       "      <th>rv_collection_coin</th>\n",
       "      <th>rv_result_bonus_coin</th>\n",
       "      <th>rv_result_coin</th>\n",
       "      <th>upgrade_atk</th>\n",
       "      <th>upgrade_atk_speed</th>\n",
       "      <th>upgrade_coin</th>\n",
       "      <th>upgrade_hp</th>\n",
       "    </tr>\n",
       "  </thead>\n",
       "  <tbody>\n",
       "    <tr>\n",
       "      <th>0</th>\n",
       "      <td>00018501-6eee-45e9-b5b5-7b50f966abd8</td>\n",
       "      <td>0</td>\n",
       "      <td>NaN</td>\n",
       "      <td>NaN</td>\n",
       "      <td>51.0</td>\n",
       "      <td>NaN</td>\n",
       "      <td>NaN</td>\n",
       "      <td>NaN</td>\n",
       "      <td>NaN</td>\n",
       "      <td>NaN</td>\n",
       "      <td>NaN</td>\n",
       "      <td>NaN</td>\n",
       "    </tr>\n",
       "    <tr>\n",
       "      <th>1</th>\n",
       "      <td>00018501-6eee-45e9-b5b5-7b50f966abd8</td>\n",
       "      <td>8</td>\n",
       "      <td>NaN</td>\n",
       "      <td>NaN</td>\n",
       "      <td>254.0</td>\n",
       "      <td>NaN</td>\n",
       "      <td>NaN</td>\n",
       "      <td>NaN</td>\n",
       "      <td>NaN</td>\n",
       "      <td>NaN</td>\n",
       "      <td>NaN</td>\n",
       "      <td>NaN</td>\n",
       "    </tr>\n",
       "  </tbody>\n",
       "</table>\n",
       "</div>"
      ],
      "text/plain": [
       "action_name                                 ad_id  day_x  buy_skin  \\\n",
       "0            00018501-6eee-45e9-b5b5-7b50f966abd8      0       NaN   \n",
       "1            00018501-6eee-45e9-b5b5-7b50f966abd8      8       NaN   \n",
       "\n",
       "action_name  offline_coin   play  rv_collection_coin  rv_result_bonus_coin  \\\n",
       "0                     NaN   51.0                 NaN                   NaN   \n",
       "1                     NaN  254.0                 NaN                   NaN   \n",
       "\n",
       "action_name  rv_result_coin  upgrade_atk  upgrade_atk_speed  upgrade_coin  \\\n",
       "0                       NaN          NaN                NaN           NaN   \n",
       "1                       NaN          NaN                NaN           NaN   \n",
       "\n",
       "action_name  upgrade_hp  \n",
       "0                   NaN  \n",
       "1                   NaN  "
      ]
     },
     "execution_count": 179,
     "metadata": {},
     "output_type": "execute_result"
    }
   ],
   "source": [
    "var_sum_by_action.reset_index(inplace=True)\n",
    "var_sum_by_action.head(2)"
   ]
  },
  {
   "cell_type": "code",
   "execution_count": 180,
   "id": "21634d5c",
   "metadata": {},
   "outputs": [],
   "source": [
    "var_sum_by_action.rename(columns = {'buy_skin':'buy_skin_var_sum',\n",
    "                                    'offline_coin':'offline_coin_var_sum',\n",
    "                                    'play':'play_var_sum',\n",
    "                                    'rv_collection_coin':'rv_collection_coin_var_sum',\n",
    "                                    'rv_result_bonus_coin':'rv_result_bonus_coin_var_sum',\n",
    "                                    'rv_result_coin':'rv_result_coin_var_sum',\n",
    "                                    'upgrade_atk':'upgrade_atk_var_sum',\n",
    "                                    'upgrade_atk_speed':'upgrade_atk_speed_var_sum',\n",
    "                                    'upgrade_coin':'upgrade_coin_var_sum',\n",
    "                                    'upgrade_hp':'upgrade_hp_var_sum'}, \n",
    "                                    inplace = True)\n",
    "# var_sum_by_action.head()"
   ]
  },
  {
   "cell_type": "markdown",
   "id": "d9a1148c",
   "metadata": {},
   "source": [
    "## 5. item_name별 count"
   ]
  },
  {
   "cell_type": "code",
   "execution_count": 181,
   "id": "4d804f79",
   "metadata": {},
   "outputs": [
    {
     "data": {
      "text/plain": [
       "array(['0', 'boy', 'starbucks', 'pringles', 'worker', 'firefighter',\n",
       "       'suit', 'doctor', 'police'], dtype=object)"
      ]
     },
     "execution_count": 181,
     "metadata": {},
     "output_type": "execute_result"
    }
   ],
   "source": [
    "asset['item_name'].unique()"
   ]
  },
  {
   "cell_type": "code",
   "execution_count": 182,
   "id": "bfc549fa",
   "metadata": {},
   "outputs": [],
   "source": [
    "# item_name count\n",
    "grouped_item_name = target_asset.groupby(by=['ad_id', 'day_x', 'item_name'])\n",
    "count_by_action = grouped_item_name.size().unstack()"
   ]
  },
  {
   "cell_type": "code",
   "execution_count": 183,
   "id": "6ca5e1a1",
   "metadata": {},
   "outputs": [
    {
     "data": {
      "text/html": [
       "<div>\n",
       "<style scoped>\n",
       "    .dataframe tbody tr th:only-of-type {\n",
       "        vertical-align: middle;\n",
       "    }\n",
       "\n",
       "    .dataframe tbody tr th {\n",
       "        vertical-align: top;\n",
       "    }\n",
       "\n",
       "    .dataframe thead th {\n",
       "        text-align: right;\n",
       "    }\n",
       "</style>\n",
       "<table border=\"1\" class=\"dataframe\">\n",
       "  <thead>\n",
       "    <tr style=\"text-align: right;\">\n",
       "      <th>item_name</th>\n",
       "      <th>ad_id</th>\n",
       "      <th>day_x</th>\n",
       "      <th>0</th>\n",
       "      <th>boy</th>\n",
       "      <th>doctor</th>\n",
       "      <th>firefighter</th>\n",
       "      <th>police</th>\n",
       "      <th>pringles</th>\n",
       "      <th>starbucks</th>\n",
       "      <th>suit</th>\n",
       "      <th>worker</th>\n",
       "    </tr>\n",
       "  </thead>\n",
       "  <tbody>\n",
       "    <tr>\n",
       "      <th>0</th>\n",
       "      <td>00018501-6eee-45e9-b5b5-7b50f966abd8</td>\n",
       "      <td>0</td>\n",
       "      <td>1.0</td>\n",
       "      <td>NaN</td>\n",
       "      <td>NaN</td>\n",
       "      <td>NaN</td>\n",
       "      <td>NaN</td>\n",
       "      <td>NaN</td>\n",
       "      <td>NaN</td>\n",
       "      <td>NaN</td>\n",
       "      <td>NaN</td>\n",
       "    </tr>\n",
       "    <tr>\n",
       "      <th>1</th>\n",
       "      <td>00018501-6eee-45e9-b5b5-7b50f966abd8</td>\n",
       "      <td>8</td>\n",
       "      <td>4.0</td>\n",
       "      <td>NaN</td>\n",
       "      <td>NaN</td>\n",
       "      <td>NaN</td>\n",
       "      <td>NaN</td>\n",
       "      <td>NaN</td>\n",
       "      <td>NaN</td>\n",
       "      <td>NaN</td>\n",
       "      <td>NaN</td>\n",
       "    </tr>\n",
       "  </tbody>\n",
       "</table>\n",
       "</div>"
      ],
      "text/plain": [
       "item_name                                 ad_id  day_x    0  boy  doctor  \\\n",
       "0          00018501-6eee-45e9-b5b5-7b50f966abd8      0  1.0  NaN     NaN   \n",
       "1          00018501-6eee-45e9-b5b5-7b50f966abd8      8  4.0  NaN     NaN   \n",
       "\n",
       "item_name  firefighter  police  pringles  starbucks  suit  worker  \n",
       "0                  NaN     NaN       NaN        NaN   NaN     NaN  \n",
       "1                  NaN     NaN       NaN        NaN   NaN     NaN  "
      ]
     },
     "execution_count": 183,
     "metadata": {},
     "output_type": "execute_result"
    }
   ],
   "source": [
    "count_by_action.reset_index(inplace=True)\n",
    "count_by_action.head(2)"
   ]
  },
  {
   "cell_type": "markdown",
   "id": "0dd78d32",
   "metadata": {},
   "source": [
    "### Merge feature_df"
   ]
  },
  {
   "cell_type": "code",
   "execution_count": 184,
   "id": "646f94b0",
   "metadata": {},
   "outputs": [
    {
     "name": "stdout",
     "output_type": "stream",
     "text": [
      "(416198, 6)\n",
      "(416198, 8)\n",
      "(416198, 18)\n",
      "(416198, 27)\n"
     ]
    }
   ],
   "source": [
    "asset_features = pd.merge(gubun, fluctuation, how='outer', on=['ad_id','day_x'])\n",
    "print(asset_features.shape)\n",
    "asset_features = pd.merge(asset_features, curr_var, how='outer', on=['ad_id','day_x'])\n",
    "print(asset_features.shape)\n",
    "asset_features = pd.merge(asset_features, var_sum_by_action, how='outer', on=['ad_id','day_x'])\n",
    "print(asset_features.shape)\n",
    "asset_features = pd.merge(asset_features, count_by_action, how='outer', on=['ad_id','day_x'])\n",
    "print(asset_features.shape)\n",
    "# (416198, 6)\n",
    "# (416198, 8)\n",
    "# (416198, 18)\n",
    "# (416198, 27)"
   ]
  },
  {
   "cell_type": "code",
   "execution_count": 188,
   "id": "614debd3",
   "metadata": {},
   "outputs": [
    {
     "data": {
      "text/plain": [
       "Index(['ad_id', 'day_x', 'in_coin_cnt', 'out_coin_cnt', 'in_coin_sum',\n",
       "       'out_coin_sum', 'curr_var_min', 'curr_var_max', 'buy_skin_var_sum',\n",
       "       'offline_coin_var_sum', 'play_var_sum', 'rv_collection_coin_var_sum',\n",
       "       'rv_result_bonus_coin_var_sum', 'rv_result_coin_var_sum',\n",
       "       'upgrade_atk_var_sum', 'upgrade_atk_speed_var_sum',\n",
       "       'upgrade_coin_var_sum', 'upgrade_hp_var_sum', '0', 'boy', 'doctor',\n",
       "       'firefighter', 'police', 'pringles', 'starbucks', 'suit', 'worker'],\n",
       "      dtype='object')"
      ]
     },
     "execution_count": 188,
     "metadata": {},
     "output_type": "execute_result"
    }
   ],
   "source": [
    "asset_features.columns"
   ]
  },
  {
   "cell_type": "code",
   "execution_count": 190,
   "id": "db87cf3f",
   "metadata": {},
   "outputs": [],
   "source": [
    "asset_features.to_csv(default_dir + \"extract_features_data/asset_features.csv\", index=False)"
   ]
  },
  {
   "cell_type": "markdown",
   "id": "9a9a89e7",
   "metadata": {},
   "source": [
    "## ads"
   ]
  },
  {
   "cell_type": "code",
   "execution_count": 1,
   "id": "667c479e",
   "metadata": {},
   "outputs": [],
   "source": [
    "default_dir = '/home/users/s17011720/predicting_impression_using_mobile_game/'"
   ]
  },
  {
   "cell_type": "code",
   "execution_count": 3,
   "id": "91573411",
   "metadata": {},
   "outputs": [
    {
     "data": {
      "text/html": [
       "<div>\n",
       "<style scoped>\n",
       "    .dataframe tbody tr th:only-of-type {\n",
       "        vertical-align: middle;\n",
       "    }\n",
       "\n",
       "    .dataframe tbody tr th {\n",
       "        vertical-align: top;\n",
       "    }\n",
       "\n",
       "    .dataframe thead th {\n",
       "        text-align: right;\n",
       "    }\n",
       "</style>\n",
       "<table border=\"1\" class=\"dataframe\">\n",
       "  <thead>\n",
       "    <tr style=\"text-align: right;\">\n",
       "      <th></th>\n",
       "      <th>event_previous_timestamp</th>\n",
       "      <th>event_timestamp</th>\n",
       "      <th>event_date</th>\n",
       "      <th>ad_id</th>\n",
       "      <th>user_pseudo_id</th>\n",
       "      <th>ga_session_id</th>\n",
       "      <th>ga_session_number</th>\n",
       "      <th>gubun</th>\n",
       "      <th>state</th>\n",
       "      <th>network</th>\n",
       "      <th>placement_id</th>\n",
       "      <th>placement_name</th>\n",
       "      <th>stage</th>\n",
       "      <th>Interval_time</th>\n",
       "      <th>user_level</th>\n",
       "      <th>cuid</th>\n",
       "      <th>device_is_limited_ad_tracking</th>\n",
       "      <th>event_datetime</th>\n",
       "    </tr>\n",
       "  </thead>\n",
       "  <tbody>\n",
       "    <tr>\n",
       "      <th>0</th>\n",
       "      <td>1.618947e+15</td>\n",
       "      <td>1618947173023000</td>\n",
       "      <td>20210420</td>\n",
       "      <td>a39616e3-243c-4c04-b8d3-1a016111d84c</td>\n",
       "      <td>c52770eca550867afa956b2cb4e444b4</td>\n",
       "      <td>1.618947e+09</td>\n",
       "      <td>2.0</td>\n",
       "      <td>rv</td>\n",
       "      <td>view</td>\n",
       "      <td>on</td>\n",
       "      <td>2002</td>\n",
       "      <td>rv_result_coin</td>\n",
       "      <td>11</td>\n",
       "      <td>0</td>\n",
       "      <td>11</td>\n",
       "      <td>13685e42-2918-4cad-833f-daf8473c629a</td>\n",
       "      <td>False</td>\n",
       "      <td>2021-04-20 19:32:53.023000</td>\n",
       "    </tr>\n",
       "    <tr>\n",
       "      <th>1</th>\n",
       "      <td>1.618705e+15</td>\n",
       "      <td>1618705516341000</td>\n",
       "      <td>20210417</td>\n",
       "      <td>8abadb82-ab32-4031-9f66-441c2f6f8105</td>\n",
       "      <td>9735b62bab5187f9baee2769f393168e</td>\n",
       "      <td>1.618705e+09</td>\n",
       "      <td>1.0</td>\n",
       "      <td>rv</td>\n",
       "      <td>view</td>\n",
       "      <td>off</td>\n",
       "      <td>2002</td>\n",
       "      <td>rv_result_coin</td>\n",
       "      <td>10</td>\n",
       "      <td>0</td>\n",
       "      <td>10</td>\n",
       "      <td>0189da61-aac1-4e95-956a-70e9cdae87f5</td>\n",
       "      <td>False</td>\n",
       "      <td>2021-04-18 00:25:16.341000</td>\n",
       "    </tr>\n",
       "  </tbody>\n",
       "</table>\n",
       "</div>"
      ],
      "text/plain": [
       "   event_previous_timestamp   event_timestamp  event_date  \\\n",
       "0              1.618947e+15  1618947173023000    20210420   \n",
       "1              1.618705e+15  1618705516341000    20210417   \n",
       "\n",
       "                                  ad_id                    user_pseudo_id  \\\n",
       "0  a39616e3-243c-4c04-b8d3-1a016111d84c  c52770eca550867afa956b2cb4e444b4   \n",
       "1  8abadb82-ab32-4031-9f66-441c2f6f8105  9735b62bab5187f9baee2769f393168e   \n",
       "\n",
       "   ga_session_id  ga_session_number gubun state network  placement_id  \\\n",
       "0   1.618947e+09                2.0    rv  view      on          2002   \n",
       "1   1.618705e+09                1.0    rv  view     off          2002   \n",
       "\n",
       "   placement_name  stage  Interval_time  user_level  \\\n",
       "0  rv_result_coin     11              0          11   \n",
       "1  rv_result_coin     10              0          10   \n",
       "\n",
       "                                   cuid  device_is_limited_ad_tracking  \\\n",
       "0  13685e42-2918-4cad-833f-daf8473c629a                          False   \n",
       "1  0189da61-aac1-4e95-956a-70e9cdae87f5                          False   \n",
       "\n",
       "               event_datetime  \n",
       "0  2021-04-20 19:32:53.023000  \n",
       "1  2021-04-18 00:25:16.341000  "
      ]
     },
     "execution_count": 3,
     "metadata": {},
     "output_type": "execute_result"
    }
   ],
   "source": [
    "ads = pd.read_csv(default_dir + \"column_filtered_data/ads_filtered.csv\")\n",
    "ads.head(2)"
   ]
  },
  {
   "cell_type": "code",
   "execution_count": 4,
   "id": "2a02c9fd",
   "metadata": {},
   "outputs": [
    {
     "data": {
      "text/plain": [
       "Index(['event_previous_timestamp', 'event_timestamp', 'event_date', 'ad_id',\n",
       "       'user_pseudo_id', 'ga_session_id', 'ga_session_number', 'gubun',\n",
       "       'state', 'network', 'placement_id', 'placement_name', 'stage',\n",
       "       'Interval_time', 'user_level', 'cuid', 'device_is_limited_ad_tracking',\n",
       "       'event_datetime'],\n",
       "      dtype='object')"
      ]
     },
     "execution_count": 4,
     "metadata": {},
     "output_type": "execute_result"
    }
   ],
   "source": [
    "ads.columns"
   ]
  },
  {
   "cell_type": "code",
   "execution_count": 5,
   "id": "07265280",
   "metadata": {},
   "outputs": [],
   "source": [
    "ads = ads[['event_timestamp', 'ad_id','ga_session_id', 'gubun',\n",
    "           'state', 'network', 'placement_name', 'Interval_time']]"
   ]
  },
  {
   "cell_type": "code",
   "execution_count": 8,
   "id": "c49ec841",
   "metadata": {},
   "outputs": [],
   "source": [
    "target_ads = select_target(ads)"
   ]
  },
  {
   "cell_type": "code",
   "execution_count": 9,
   "id": "3581c697",
   "metadata": {},
   "outputs": [
    {
     "data": {
      "text/plain": [
       "(17289413, 8)"
      ]
     },
     "execution_count": 9,
     "metadata": {},
     "output_type": "execute_result"
    }
   ],
   "source": [
    "target_ads.shape"
   ]
  },
  {
   "cell_type": "code",
   "execution_count": 10,
   "id": "ac8d4b7a",
   "metadata": {},
   "outputs": [
    {
     "data": {
      "text/plain": [
       "225087"
      ]
     },
     "execution_count": 10,
     "metadata": {},
     "output_type": "execute_result"
    }
   ],
   "source": [
    "len(target_ads.ad_id.unique()) #225,087"
   ]
  },
  {
   "cell_type": "code",
   "execution_count": 11,
   "id": "655273ad",
   "metadata": {},
   "outputs": [],
   "source": [
    "ads_df = calculate_day_x(target_ads)"
   ]
  },
  {
   "cell_type": "code",
   "execution_count": null,
   "id": "a1a058db",
   "metadata": {},
   "outputs": [],
   "source": [
    "ads[(ads['rv_imps']+ads['rv_imps_fail']) < ads['rv_color']][['rv_imps', 'rv_imps_fail', 'rv_color']]"
   ]
  },
  {
   "cell_type": "code",
   "execution_count": 34,
   "id": "24df0d57",
   "metadata": {},
   "outputs": [
    {
     "data": {
      "text/html": [
       "<div>\n",
       "<style scoped>\n",
       "    .dataframe tbody tr th:only-of-type {\n",
       "        vertical-align: middle;\n",
       "    }\n",
       "\n",
       "    .dataframe tbody tr th {\n",
       "        vertical-align: top;\n",
       "    }\n",
       "\n",
       "    .dataframe thead th {\n",
       "        text-align: right;\n",
       "    }\n",
       "</style>\n",
       "<table border=\"1\" class=\"dataframe\">\n",
       "  <thead>\n",
       "    <tr style=\"text-align: right;\">\n",
       "      <th></th>\n",
       "      <th>event_timestamp</th>\n",
       "      <th>ad_id</th>\n",
       "      <th>ga_session_id</th>\n",
       "      <th>gubun</th>\n",
       "      <th>state</th>\n",
       "      <th>network</th>\n",
       "      <th>placement_name</th>\n",
       "      <th>Interval_time</th>\n",
       "      <th>session_start_date</th>\n",
       "      <th>day0</th>\n",
       "      <th>day_x</th>\n",
       "    </tr>\n",
       "  </thead>\n",
       "  <tbody>\n",
       "    <tr>\n",
       "      <th>3</th>\n",
       "      <td>1618947803418000</td>\n",
       "      <td>a39616e3-243c-4c04-b8d3-1a016111d84c</td>\n",
       "      <td>1.618947e+09</td>\n",
       "      <td>rv</td>\n",
       "      <td>view</td>\n",
       "      <td>on</td>\n",
       "      <td>rv_color</td>\n",
       "      <td>0</td>\n",
       "      <td>2021-04-20</td>\n",
       "      <td>2021-04-20</td>\n",
       "      <td>0</td>\n",
       "    </tr>\n",
       "    <tr>\n",
       "      <th>6</th>\n",
       "      <td>1618947508248000</td>\n",
       "      <td>a39616e3-243c-4c04-b8d3-1a016111d84c</td>\n",
       "      <td>1.618947e+09</td>\n",
       "      <td>rv</td>\n",
       "      <td>view</td>\n",
       "      <td>on</td>\n",
       "      <td>rv_color</td>\n",
       "      <td>0</td>\n",
       "      <td>2021-04-20</td>\n",
       "      <td>2021-04-20</td>\n",
       "      <td>0</td>\n",
       "    </tr>\n",
       "    <tr>\n",
       "      <th>10</th>\n",
       "      <td>1618947129178000</td>\n",
       "      <td>a39616e3-243c-4c04-b8d3-1a016111d84c</td>\n",
       "      <td>1.618947e+09</td>\n",
       "      <td>rv</td>\n",
       "      <td>view</td>\n",
       "      <td>on</td>\n",
       "      <td>rv_color</td>\n",
       "      <td>0</td>\n",
       "      <td>2021-04-20</td>\n",
       "      <td>2021-04-20</td>\n",
       "      <td>0</td>\n",
       "    </tr>\n",
       "    <tr>\n",
       "      <th>13</th>\n",
       "      <td>1618947326971000</td>\n",
       "      <td>a39616e3-243c-4c04-b8d3-1a016111d84c</td>\n",
       "      <td>1.618947e+09</td>\n",
       "      <td>rv</td>\n",
       "      <td>view</td>\n",
       "      <td>on</td>\n",
       "      <td>rv_color</td>\n",
       "      <td>0</td>\n",
       "      <td>2021-04-20</td>\n",
       "      <td>2021-04-20</td>\n",
       "      <td>0</td>\n",
       "    </tr>\n",
       "    <tr>\n",
       "      <th>17</th>\n",
       "      <td>1618947744014000</td>\n",
       "      <td>a39616e3-243c-4c04-b8d3-1a016111d84c</td>\n",
       "      <td>1.618947e+09</td>\n",
       "      <td>rv</td>\n",
       "      <td>view</td>\n",
       "      <td>on</td>\n",
       "      <td>rv_color</td>\n",
       "      <td>0</td>\n",
       "      <td>2021-04-20</td>\n",
       "      <td>2021-04-20</td>\n",
       "      <td>0</td>\n",
       "    </tr>\n",
       "    <tr>\n",
       "      <th>...</th>\n",
       "      <td>...</td>\n",
       "      <td>...</td>\n",
       "      <td>...</td>\n",
       "      <td>...</td>\n",
       "      <td>...</td>\n",
       "      <td>...</td>\n",
       "      <td>...</td>\n",
       "      <td>...</td>\n",
       "      <td>...</td>\n",
       "      <td>...</td>\n",
       "      <td>...</td>\n",
       "    </tr>\n",
       "    <tr>\n",
       "      <th>17289036</th>\n",
       "      <td>1620398046189000</td>\n",
       "      <td>68ef7449-e3a6-44a7-a88b-dbae42bd36ef</td>\n",
       "      <td>1.620398e+09</td>\n",
       "      <td>rv</td>\n",
       "      <td>view</td>\n",
       "      <td>on</td>\n",
       "      <td>rv_color</td>\n",
       "      <td>0</td>\n",
       "      <td>2021-05-07</td>\n",
       "      <td>2021-04-30</td>\n",
       "      <td>7</td>\n",
       "    </tr>\n",
       "    <tr>\n",
       "      <th>17289038</th>\n",
       "      <td>1620828845355000</td>\n",
       "      <td>0e2e811f-3ec5-4b51-a9ae-4b7f4c8070d7</td>\n",
       "      <td>1.620829e+09</td>\n",
       "      <td>rv</td>\n",
       "      <td>view</td>\n",
       "      <td>on</td>\n",
       "      <td>rv_color</td>\n",
       "      <td>0</td>\n",
       "      <td>2021-05-12</td>\n",
       "      <td>2021-04-21</td>\n",
       "      <td>21</td>\n",
       "    </tr>\n",
       "    <tr>\n",
       "      <th>17289040</th>\n",
       "      <td>1620422492926000</td>\n",
       "      <td>df5eafb6-97f0-4ee0-9a53-eb81fa5a54c4</td>\n",
       "      <td>1.620422e+09</td>\n",
       "      <td>rv</td>\n",
       "      <td>view</td>\n",
       "      <td>on</td>\n",
       "      <td>rv_color</td>\n",
       "      <td>0</td>\n",
       "      <td>2021-05-07</td>\n",
       "      <td>2021-04-20</td>\n",
       "      <td>17</td>\n",
       "    </tr>\n",
       "    <tr>\n",
       "      <th>17289043</th>\n",
       "      <td>1618961873809000</td>\n",
       "      <td>65fdbbb0-bf5c-43b4-9391-06617c2f95cb</td>\n",
       "      <td>1.618962e+09</td>\n",
       "      <td>rv</td>\n",
       "      <td>view</td>\n",
       "      <td>off</td>\n",
       "      <td>rv_color</td>\n",
       "      <td>0</td>\n",
       "      <td>2021-04-20</td>\n",
       "      <td>2021-04-20</td>\n",
       "      <td>0</td>\n",
       "    </tr>\n",
       "    <tr>\n",
       "      <th>17289044</th>\n",
       "      <td>1620402184816000</td>\n",
       "      <td>019a509d-1275-4e83-99b1-bbdeaaf6dcb6</td>\n",
       "      <td>1.620402e+09</td>\n",
       "      <td>rv</td>\n",
       "      <td>view</td>\n",
       "      <td>on</td>\n",
       "      <td>rv_color</td>\n",
       "      <td>0</td>\n",
       "      <td>2021-05-07</td>\n",
       "      <td>2021-04-22</td>\n",
       "      <td>15</td>\n",
       "    </tr>\n",
       "  </tbody>\n",
       "</table>\n",
       "<p>4421782 rows × 11 columns</p>\n",
       "</div>"
      ],
      "text/plain": [
       "           event_timestamp                                 ad_id  \\\n",
       "3         1618947803418000  a39616e3-243c-4c04-b8d3-1a016111d84c   \n",
       "6         1618947508248000  a39616e3-243c-4c04-b8d3-1a016111d84c   \n",
       "10        1618947129178000  a39616e3-243c-4c04-b8d3-1a016111d84c   \n",
       "13        1618947326971000  a39616e3-243c-4c04-b8d3-1a016111d84c   \n",
       "17        1618947744014000  a39616e3-243c-4c04-b8d3-1a016111d84c   \n",
       "...                    ...                                   ...   \n",
       "17289036  1620398046189000  68ef7449-e3a6-44a7-a88b-dbae42bd36ef   \n",
       "17289038  1620828845355000  0e2e811f-3ec5-4b51-a9ae-4b7f4c8070d7   \n",
       "17289040  1620422492926000  df5eafb6-97f0-4ee0-9a53-eb81fa5a54c4   \n",
       "17289043  1618961873809000  65fdbbb0-bf5c-43b4-9391-06617c2f95cb   \n",
       "17289044  1620402184816000  019a509d-1275-4e83-99b1-bbdeaaf6dcb6   \n",
       "\n",
       "          ga_session_id gubun state network placement_name  Interval_time  \\\n",
       "3          1.618947e+09    rv  view      on       rv_color              0   \n",
       "6          1.618947e+09    rv  view      on       rv_color              0   \n",
       "10         1.618947e+09    rv  view      on       rv_color              0   \n",
       "13         1.618947e+09    rv  view      on       rv_color              0   \n",
       "17         1.618947e+09    rv  view      on       rv_color              0   \n",
       "...                 ...   ...   ...     ...            ...            ...   \n",
       "17289036   1.620398e+09    rv  view      on       rv_color              0   \n",
       "17289038   1.620829e+09    rv  view      on       rv_color              0   \n",
       "17289040   1.620422e+09    rv  view      on       rv_color              0   \n",
       "17289043   1.618962e+09    rv  view     off       rv_color              0   \n",
       "17289044   1.620402e+09    rv  view      on       rv_color              0   \n",
       "\n",
       "         session_start_date        day0  day_x  \n",
       "3                2021-04-20  2021-04-20      0  \n",
       "6                2021-04-20  2021-04-20      0  \n",
       "10               2021-04-20  2021-04-20      0  \n",
       "13               2021-04-20  2021-04-20      0  \n",
       "17               2021-04-20  2021-04-20      0  \n",
       "...                     ...         ...    ...  \n",
       "17289036         2021-05-07  2021-04-30      7  \n",
       "17289038         2021-05-12  2021-04-21     21  \n",
       "17289040         2021-05-07  2021-04-20     17  \n",
       "17289043         2021-04-20  2021-04-20      0  \n",
       "17289044         2021-05-07  2021-04-22     15  \n",
       "\n",
       "[4421782 rows x 11 columns]"
      ]
     },
     "execution_count": 34,
     "metadata": {},
     "output_type": "execute_result"
    }
   ],
   "source": [
    "ads_df[ads_df['placement_name'] == 'rv_color']"
   ]
  },
  {
   "cell_type": "markdown",
   "id": "31c8ebbf",
   "metadata": {},
   "source": [
    "### 1. gubun"
   ]
  },
  {
   "cell_type": "code",
   "execution_count": 13,
   "id": "3ce6e008",
   "metadata": {},
   "outputs": [
    {
     "data": {
      "text/plain": [
       "Index(['event_timestamp', 'ad_id', 'ga_session_id', 'gubun', 'state',\n",
       "       'network', 'placement_name', 'Interval_time', 'session_start_date',\n",
       "       'day0', 'day_x'],\n",
       "      dtype='object')"
      ]
     },
     "execution_count": 13,
     "metadata": {},
     "output_type": "execute_result"
    }
   ],
   "source": [
    "ads_df.columns"
   ]
  },
  {
   "cell_type": "code",
   "execution_count": 12,
   "id": "8d6b49b5",
   "metadata": {},
   "outputs": [
    {
     "data": {
      "text/html": [
       "<div>\n",
       "<style scoped>\n",
       "    .dataframe tbody tr th:only-of-type {\n",
       "        vertical-align: middle;\n",
       "    }\n",
       "\n",
       "    .dataframe tbody tr th {\n",
       "        vertical-align: top;\n",
       "    }\n",
       "\n",
       "    .dataframe thead th {\n",
       "        text-align: right;\n",
       "    }\n",
       "</style>\n",
       "<table border=\"1\" class=\"dataframe\">\n",
       "  <thead>\n",
       "    <tr style=\"text-align: right;\">\n",
       "      <th></th>\n",
       "      <th>event_timestamp</th>\n",
       "      <th>ad_id</th>\n",
       "      <th>ga_session_id</th>\n",
       "      <th>gubun</th>\n",
       "      <th>state</th>\n",
       "      <th>network</th>\n",
       "      <th>placement_name</th>\n",
       "      <th>Interval_time</th>\n",
       "      <th>session_start_date</th>\n",
       "      <th>day0</th>\n",
       "      <th>day_x</th>\n",
       "    </tr>\n",
       "  </thead>\n",
       "  <tbody>\n",
       "    <tr>\n",
       "      <th>0</th>\n",
       "      <td>1618947173023000</td>\n",
       "      <td>a39616e3-243c-4c04-b8d3-1a016111d84c</td>\n",
       "      <td>1.618947e+09</td>\n",
       "      <td>rv</td>\n",
       "      <td>view</td>\n",
       "      <td>on</td>\n",
       "      <td>rv_result_coin</td>\n",
       "      <td>0</td>\n",
       "      <td>2021-04-20</td>\n",
       "      <td>2021-04-20</td>\n",
       "      <td>0</td>\n",
       "    </tr>\n",
       "    <tr>\n",
       "      <th>1</th>\n",
       "      <td>1618947395410000</td>\n",
       "      <td>a39616e3-243c-4c04-b8d3-1a016111d84c</td>\n",
       "      <td>1.618947e+09</td>\n",
       "      <td>rv</td>\n",
       "      <td>view</td>\n",
       "      <td>on</td>\n",
       "      <td>rv_result_bonus_coin</td>\n",
       "      <td>0</td>\n",
       "      <td>2021-04-20</td>\n",
       "      <td>2021-04-20</td>\n",
       "      <td>0</td>\n",
       "    </tr>\n",
       "    <tr>\n",
       "      <th>2</th>\n",
       "      <td>1618947555551000</td>\n",
       "      <td>a39616e3-243c-4c04-b8d3-1a016111d84c</td>\n",
       "      <td>1.618947e+09</td>\n",
       "      <td>ba</td>\n",
       "      <td>imps</td>\n",
       "      <td>on</td>\n",
       "      <td>ba_ingame</td>\n",
       "      <td>0</td>\n",
       "      <td>2021-04-20</td>\n",
       "      <td>2021-04-20</td>\n",
       "      <td>0</td>\n",
       "    </tr>\n",
       "    <tr>\n",
       "      <th>3</th>\n",
       "      <td>1618947803418000</td>\n",
       "      <td>a39616e3-243c-4c04-b8d3-1a016111d84c</td>\n",
       "      <td>1.618947e+09</td>\n",
       "      <td>rv</td>\n",
       "      <td>view</td>\n",
       "      <td>on</td>\n",
       "      <td>rv_color</td>\n",
       "      <td>0</td>\n",
       "      <td>2021-04-20</td>\n",
       "      <td>2021-04-20</td>\n",
       "      <td>0</td>\n",
       "    </tr>\n",
       "    <tr>\n",
       "      <th>4</th>\n",
       "      <td>1618947655016000</td>\n",
       "      <td>a39616e3-243c-4c04-b8d3-1a016111d84c</td>\n",
       "      <td>1.618947e+09</td>\n",
       "      <td>ba</td>\n",
       "      <td>imps</td>\n",
       "      <td>on</td>\n",
       "      <td>ba_ingame</td>\n",
       "      <td>0</td>\n",
       "      <td>2021-04-20</td>\n",
       "      <td>2021-04-20</td>\n",
       "      <td>0</td>\n",
       "    </tr>\n",
       "  </tbody>\n",
       "</table>\n",
       "</div>"
      ],
      "text/plain": [
       "    event_timestamp                                 ad_id  ga_session_id  \\\n",
       "0  1618947173023000  a39616e3-243c-4c04-b8d3-1a016111d84c   1.618947e+09   \n",
       "1  1618947395410000  a39616e3-243c-4c04-b8d3-1a016111d84c   1.618947e+09   \n",
       "2  1618947555551000  a39616e3-243c-4c04-b8d3-1a016111d84c   1.618947e+09   \n",
       "3  1618947803418000  a39616e3-243c-4c04-b8d3-1a016111d84c   1.618947e+09   \n",
       "4  1618947655016000  a39616e3-243c-4c04-b8d3-1a016111d84c   1.618947e+09   \n",
       "\n",
       "  gubun state network        placement_name  Interval_time session_start_date  \\\n",
       "0    rv  view      on        rv_result_coin              0         2021-04-20   \n",
       "1    rv  view      on  rv_result_bonus_coin              0         2021-04-20   \n",
       "2    ba  imps      on             ba_ingame              0         2021-04-20   \n",
       "3    rv  view      on              rv_color              0         2021-04-20   \n",
       "4    ba  imps      on             ba_ingame              0         2021-04-20   \n",
       "\n",
       "         day0  day_x  \n",
       "0  2021-04-20      0  \n",
       "1  2021-04-20      0  \n",
       "2  2021-04-20      0  \n",
       "3  2021-04-20      0  \n",
       "4  2021-04-20      0  "
      ]
     },
     "execution_count": 12,
     "metadata": {},
     "output_type": "execute_result"
    }
   ],
   "source": [
    "ads_df.head()"
   ]
  },
  {
   "cell_type": "code",
   "execution_count": 13,
   "id": "a281a836",
   "metadata": {},
   "outputs": [
    {
     "data": {
      "text/html": [
       "<div>\n",
       "<style scoped>\n",
       "    .dataframe tbody tr th:only-of-type {\n",
       "        vertical-align: middle;\n",
       "    }\n",
       "\n",
       "    .dataframe tbody tr th {\n",
       "        vertical-align: top;\n",
       "    }\n",
       "\n",
       "    .dataframe thead tr th {\n",
       "        text-align: left;\n",
       "    }\n",
       "\n",
       "    .dataframe thead tr:last-of-type th {\n",
       "        text-align: right;\n",
       "    }\n",
       "</style>\n",
       "<table border=\"1\" class=\"dataframe\">\n",
       "  <thead>\n",
       "    <tr>\n",
       "      <th></th>\n",
       "      <th>gubun</th>\n",
       "      <th colspan=\"3\" halign=\"left\">ba</th>\n",
       "      <th colspan=\"3\" halign=\"left\">is</th>\n",
       "      <th colspan=\"3\" halign=\"left\">rv</th>\n",
       "    </tr>\n",
       "    <tr>\n",
       "      <th></th>\n",
       "      <th>state</th>\n",
       "      <th>imps</th>\n",
       "      <th>imps_fail</th>\n",
       "      <th>view</th>\n",
       "      <th>imps</th>\n",
       "      <th>imps_fail</th>\n",
       "      <th>view</th>\n",
       "      <th>imps</th>\n",
       "      <th>imps_fail</th>\n",
       "      <th>view</th>\n",
       "    </tr>\n",
       "    <tr>\n",
       "      <th>ad_id</th>\n",
       "      <th>day_x</th>\n",
       "      <th></th>\n",
       "      <th></th>\n",
       "      <th></th>\n",
       "      <th></th>\n",
       "      <th></th>\n",
       "      <th></th>\n",
       "      <th></th>\n",
       "      <th></th>\n",
       "      <th></th>\n",
       "    </tr>\n",
       "  </thead>\n",
       "  <tbody>\n",
       "    <tr>\n",
       "      <th rowspan=\"2\" valign=\"top\">00018501-6eee-45e9-b5b5-7b50f966abd8</th>\n",
       "      <th>0</th>\n",
       "      <td>1.0</td>\n",
       "      <td>NaN</td>\n",
       "      <td>NaN</td>\n",
       "      <td>NaN</td>\n",
       "      <td>NaN</td>\n",
       "      <td>NaN</td>\n",
       "      <td>NaN</td>\n",
       "      <td>NaN</td>\n",
       "      <td>1.0</td>\n",
       "    </tr>\n",
       "    <tr>\n",
       "      <th>8</th>\n",
       "      <td>NaN</td>\n",
       "      <td>NaN</td>\n",
       "      <td>NaN</td>\n",
       "      <td>NaN</td>\n",
       "      <td>3.0</td>\n",
       "      <td>NaN</td>\n",
       "      <td>NaN</td>\n",
       "      <td>3.0</td>\n",
       "      <td>8.0</td>\n",
       "    </tr>\n",
       "  </tbody>\n",
       "</table>\n",
       "</div>"
      ],
      "text/plain": [
       "gubun                                        ba                  is            \\\n",
       "state                                      imps imps_fail view imps imps_fail   \n",
       "ad_id                                day_x                                      \n",
       "00018501-6eee-45e9-b5b5-7b50f966abd8 0      1.0       NaN  NaN  NaN       NaN   \n",
       "                                     8      NaN       NaN  NaN  NaN       3.0   \n",
       "\n",
       "gubun                                             rv                 \n",
       "state                                      view imps imps_fail view  \n",
       "ad_id                                day_x                           \n",
       "00018501-6eee-45e9-b5b5-7b50f966abd8 0      NaN  NaN       NaN  1.0  \n",
       "                                     8      NaN  NaN       3.0  8.0  "
      ]
     },
     "execution_count": 13,
     "metadata": {},
     "output_type": "execute_result"
    }
   ],
   "source": [
    "imps = ads_df.groupby(['ad_id', 'day_x', 'state', 'gubun']).size()\n",
    "imps = imps.unstack().unstack()\n",
    "imps.head(2)"
   ]
  },
  {
   "cell_type": "code",
   "execution_count": 15,
   "id": "8e01e83a",
   "metadata": {},
   "outputs": [],
   "source": [
    "imps.columns = ['_'.join(col).strip() for col in imps.columns.values]"
   ]
  },
  {
   "cell_type": "code",
   "execution_count": 18,
   "id": "4f73323c",
   "metadata": {},
   "outputs": [
    {
     "data": {
      "text/html": [
       "<div>\n",
       "<style scoped>\n",
       "    .dataframe tbody tr th:only-of-type {\n",
       "        vertical-align: middle;\n",
       "    }\n",
       "\n",
       "    .dataframe tbody tr th {\n",
       "        vertical-align: top;\n",
       "    }\n",
       "\n",
       "    .dataframe thead th {\n",
       "        text-align: right;\n",
       "    }\n",
       "</style>\n",
       "<table border=\"1\" class=\"dataframe\">\n",
       "  <thead>\n",
       "    <tr style=\"text-align: right;\">\n",
       "      <th></th>\n",
       "      <th>ad_id</th>\n",
       "      <th>day_x</th>\n",
       "      <th>ba_imps</th>\n",
       "      <th>ba_imps_fail</th>\n",
       "      <th>ba_view</th>\n",
       "      <th>is_imps</th>\n",
       "      <th>is_imps_fail</th>\n",
       "      <th>is_view</th>\n",
       "      <th>rv_imps</th>\n",
       "      <th>rv_imps_fail</th>\n",
       "      <th>rv_view</th>\n",
       "    </tr>\n",
       "  </thead>\n",
       "  <tbody>\n",
       "    <tr>\n",
       "      <th>0</th>\n",
       "      <td>00018501-6eee-45e9-b5b5-7b50f966abd8</td>\n",
       "      <td>0</td>\n",
       "      <td>1.0</td>\n",
       "      <td>NaN</td>\n",
       "      <td>NaN</td>\n",
       "      <td>NaN</td>\n",
       "      <td>NaN</td>\n",
       "      <td>NaN</td>\n",
       "      <td>NaN</td>\n",
       "      <td>NaN</td>\n",
       "      <td>1.0</td>\n",
       "    </tr>\n",
       "    <tr>\n",
       "      <th>1</th>\n",
       "      <td>00018501-6eee-45e9-b5b5-7b50f966abd8</td>\n",
       "      <td>8</td>\n",
       "      <td>NaN</td>\n",
       "      <td>NaN</td>\n",
       "      <td>NaN</td>\n",
       "      <td>NaN</td>\n",
       "      <td>3.0</td>\n",
       "      <td>NaN</td>\n",
       "      <td>NaN</td>\n",
       "      <td>3.0</td>\n",
       "      <td>8.0</td>\n",
       "    </tr>\n",
       "  </tbody>\n",
       "</table>\n",
       "</div>"
      ],
      "text/plain": [
       "                                  ad_id  day_x  ba_imps  ba_imps_fail  \\\n",
       "0  00018501-6eee-45e9-b5b5-7b50f966abd8      0      1.0           NaN   \n",
       "1  00018501-6eee-45e9-b5b5-7b50f966abd8      8      NaN           NaN   \n",
       "\n",
       "   ba_view  is_imps  is_imps_fail  is_view  rv_imps  rv_imps_fail  rv_view  \n",
       "0      NaN      NaN           NaN      NaN      NaN           NaN      1.0  \n",
       "1      NaN      NaN           3.0      NaN      NaN           3.0      8.0  "
      ]
     },
     "execution_count": 18,
     "metadata": {},
     "output_type": "execute_result"
    }
   ],
   "source": [
    "imps.reset_index(inplace=True)\n",
    "imps.head(2)"
   ]
  },
  {
   "cell_type": "code",
   "execution_count": null,
   "id": "057e5f90",
   "metadata": {},
   "outputs": [],
   "source": []
  },
  {
   "cell_type": "code",
   "execution_count": 20,
   "id": "89ff4d85",
   "metadata": {},
   "outputs": [],
   "source": [
    "imps_gubun = ads_df.groupby(['ad_id', 'day_x', 'network', 'state', 'gubun']).size()\n",
    "# imps_gubun.head(2)"
   ]
  },
  {
   "cell_type": "code",
   "execution_count": 21,
   "id": "8d125150",
   "metadata": {},
   "outputs": [
    {
     "data": {
      "text/html": [
       "<div>\n",
       "<style scoped>\n",
       "    .dataframe tbody tr th:only-of-type {\n",
       "        vertical-align: middle;\n",
       "    }\n",
       "\n",
       "    .dataframe tbody tr th {\n",
       "        vertical-align: top;\n",
       "    }\n",
       "\n",
       "    .dataframe thead tr th {\n",
       "        text-align: left;\n",
       "    }\n",
       "\n",
       "    .dataframe thead tr:last-of-type th {\n",
       "        text-align: right;\n",
       "    }\n",
       "</style>\n",
       "<table border=\"1\" class=\"dataframe\">\n",
       "  <thead>\n",
       "    <tr>\n",
       "      <th></th>\n",
       "      <th>gubun</th>\n",
       "      <th colspan=\"6\" halign=\"left\">ba</th>\n",
       "      <th colspan=\"6\" halign=\"left\">is</th>\n",
       "      <th colspan=\"6\" halign=\"left\">rv</th>\n",
       "    </tr>\n",
       "    <tr>\n",
       "      <th></th>\n",
       "      <th>state</th>\n",
       "      <th colspan=\"2\" halign=\"left\">imps</th>\n",
       "      <th colspan=\"2\" halign=\"left\">imps_fail</th>\n",
       "      <th colspan=\"2\" halign=\"left\">view</th>\n",
       "      <th colspan=\"2\" halign=\"left\">imps</th>\n",
       "      <th colspan=\"2\" halign=\"left\">imps_fail</th>\n",
       "      <th colspan=\"2\" halign=\"left\">view</th>\n",
       "      <th colspan=\"2\" halign=\"left\">imps</th>\n",
       "      <th colspan=\"2\" halign=\"left\">imps_fail</th>\n",
       "      <th colspan=\"2\" halign=\"left\">view</th>\n",
       "    </tr>\n",
       "    <tr>\n",
       "      <th></th>\n",
       "      <th>network</th>\n",
       "      <th>off</th>\n",
       "      <th>on</th>\n",
       "      <th>off</th>\n",
       "      <th>on</th>\n",
       "      <th>off</th>\n",
       "      <th>on</th>\n",
       "      <th>off</th>\n",
       "      <th>on</th>\n",
       "      <th>off</th>\n",
       "      <th>on</th>\n",
       "      <th>off</th>\n",
       "      <th>on</th>\n",
       "      <th>off</th>\n",
       "      <th>on</th>\n",
       "      <th>off</th>\n",
       "      <th>on</th>\n",
       "      <th>off</th>\n",
       "      <th>on</th>\n",
       "    </tr>\n",
       "    <tr>\n",
       "      <th>ad_id</th>\n",
       "      <th>day_x</th>\n",
       "      <th></th>\n",
       "      <th></th>\n",
       "      <th></th>\n",
       "      <th></th>\n",
       "      <th></th>\n",
       "      <th></th>\n",
       "      <th></th>\n",
       "      <th></th>\n",
       "      <th></th>\n",
       "      <th></th>\n",
       "      <th></th>\n",
       "      <th></th>\n",
       "      <th></th>\n",
       "      <th></th>\n",
       "      <th></th>\n",
       "      <th></th>\n",
       "      <th></th>\n",
       "      <th></th>\n",
       "    </tr>\n",
       "  </thead>\n",
       "  <tbody>\n",
       "    <tr>\n",
       "      <th rowspan=\"2\" valign=\"top\">00018501-6eee-45e9-b5b5-7b50f966abd8</th>\n",
       "      <th>0</th>\n",
       "      <td>NaN</td>\n",
       "      <td>1.0</td>\n",
       "      <td>NaN</td>\n",
       "      <td>NaN</td>\n",
       "      <td>NaN</td>\n",
       "      <td>NaN</td>\n",
       "      <td>NaN</td>\n",
       "      <td>NaN</td>\n",
       "      <td>NaN</td>\n",
       "      <td>NaN</td>\n",
       "      <td>NaN</td>\n",
       "      <td>NaN</td>\n",
       "      <td>NaN</td>\n",
       "      <td>NaN</td>\n",
       "      <td>NaN</td>\n",
       "      <td>NaN</td>\n",
       "      <td>NaN</td>\n",
       "      <td>1.0</td>\n",
       "    </tr>\n",
       "    <tr>\n",
       "      <th>8</th>\n",
       "      <td>NaN</td>\n",
       "      <td>NaN</td>\n",
       "      <td>NaN</td>\n",
       "      <td>NaN</td>\n",
       "      <td>NaN</td>\n",
       "      <td>NaN</td>\n",
       "      <td>NaN</td>\n",
       "      <td>NaN</td>\n",
       "      <td>NaN</td>\n",
       "      <td>3.0</td>\n",
       "      <td>NaN</td>\n",
       "      <td>NaN</td>\n",
       "      <td>NaN</td>\n",
       "      <td>NaN</td>\n",
       "      <td>NaN</td>\n",
       "      <td>3.0</td>\n",
       "      <td>1.0</td>\n",
       "      <td>7.0</td>\n",
       "    </tr>\n",
       "  </tbody>\n",
       "</table>\n",
       "</div>"
      ],
      "text/plain": [
       "gubun                                        ba                              \\\n",
       "state                                      imps      imps_fail     view       \n",
       "network                                     off   on       off  on  off  on   \n",
       "ad_id                                day_x                                    \n",
       "00018501-6eee-45e9-b5b5-7b50f966abd8 0      NaN  1.0       NaN NaN  NaN NaN   \n",
       "                                     8      NaN  NaN       NaN NaN  NaN NaN   \n",
       "\n",
       "gubun                                        is                              \\\n",
       "state                                      imps     imps_fail      view       \n",
       "network                                     off  on       off   on  off  on   \n",
       "ad_id                                day_x                                    \n",
       "00018501-6eee-45e9-b5b5-7b50f966abd8 0      NaN NaN       NaN  NaN  NaN NaN   \n",
       "                                     8      NaN NaN       NaN  3.0  NaN NaN   \n",
       "\n",
       "gubun                                        rv                               \n",
       "state                                      imps     imps_fail      view       \n",
       "network                                     off  on       off   on  off   on  \n",
       "ad_id                                day_x                                    \n",
       "00018501-6eee-45e9-b5b5-7b50f966abd8 0      NaN NaN       NaN  NaN  NaN  1.0  \n",
       "                                     8      NaN NaN       NaN  3.0  1.0  7.0  "
      ]
     },
     "execution_count": 21,
     "metadata": {},
     "output_type": "execute_result"
    }
   ],
   "source": [
    "imps_gubun=imps_gubun.unstack().unstack().unstack()\n",
    "imps_gubun.head(2)"
   ]
  },
  {
   "cell_type": "code",
   "execution_count": 22,
   "id": "bf55e2fc",
   "metadata": {},
   "outputs": [],
   "source": [
    "imps_gubun.columns = ['_'.join(col).strip() for col in imps_gubun.columns.values]"
   ]
  },
  {
   "cell_type": "code",
   "execution_count": 23,
   "id": "26012602",
   "metadata": {},
   "outputs": [
    {
     "data": {
      "text/html": [
       "<div>\n",
       "<style scoped>\n",
       "    .dataframe tbody tr th:only-of-type {\n",
       "        vertical-align: middle;\n",
       "    }\n",
       "\n",
       "    .dataframe tbody tr th {\n",
       "        vertical-align: top;\n",
       "    }\n",
       "\n",
       "    .dataframe thead th {\n",
       "        text-align: right;\n",
       "    }\n",
       "</style>\n",
       "<table border=\"1\" class=\"dataframe\">\n",
       "  <thead>\n",
       "    <tr style=\"text-align: right;\">\n",
       "      <th></th>\n",
       "      <th>ad_id</th>\n",
       "      <th>day_x</th>\n",
       "      <th>ba_imps_off</th>\n",
       "      <th>ba_imps_on</th>\n",
       "      <th>ba_imps_fail_off</th>\n",
       "      <th>ba_imps_fail_on</th>\n",
       "      <th>ba_view_off</th>\n",
       "      <th>ba_view_on</th>\n",
       "      <th>is_imps_off</th>\n",
       "      <th>is_imps_on</th>\n",
       "      <th>is_imps_fail_off</th>\n",
       "      <th>is_imps_fail_on</th>\n",
       "      <th>is_view_off</th>\n",
       "      <th>is_view_on</th>\n",
       "      <th>rv_imps_off</th>\n",
       "      <th>rv_imps_on</th>\n",
       "      <th>rv_imps_fail_off</th>\n",
       "      <th>rv_imps_fail_on</th>\n",
       "      <th>rv_view_off</th>\n",
       "      <th>rv_view_on</th>\n",
       "    </tr>\n",
       "  </thead>\n",
       "  <tbody>\n",
       "    <tr>\n",
       "      <th>0</th>\n",
       "      <td>00018501-6eee-45e9-b5b5-7b50f966abd8</td>\n",
       "      <td>0</td>\n",
       "      <td>NaN</td>\n",
       "      <td>1.0</td>\n",
       "      <td>NaN</td>\n",
       "      <td>NaN</td>\n",
       "      <td>NaN</td>\n",
       "      <td>NaN</td>\n",
       "      <td>NaN</td>\n",
       "      <td>NaN</td>\n",
       "      <td>NaN</td>\n",
       "      <td>NaN</td>\n",
       "      <td>NaN</td>\n",
       "      <td>NaN</td>\n",
       "      <td>NaN</td>\n",
       "      <td>NaN</td>\n",
       "      <td>NaN</td>\n",
       "      <td>NaN</td>\n",
       "      <td>NaN</td>\n",
       "      <td>1.0</td>\n",
       "    </tr>\n",
       "    <tr>\n",
       "      <th>1</th>\n",
       "      <td>00018501-6eee-45e9-b5b5-7b50f966abd8</td>\n",
       "      <td>8</td>\n",
       "      <td>NaN</td>\n",
       "      <td>NaN</td>\n",
       "      <td>NaN</td>\n",
       "      <td>NaN</td>\n",
       "      <td>NaN</td>\n",
       "      <td>NaN</td>\n",
       "      <td>NaN</td>\n",
       "      <td>NaN</td>\n",
       "      <td>NaN</td>\n",
       "      <td>3.0</td>\n",
       "      <td>NaN</td>\n",
       "      <td>NaN</td>\n",
       "      <td>NaN</td>\n",
       "      <td>NaN</td>\n",
       "      <td>NaN</td>\n",
       "      <td>3.0</td>\n",
       "      <td>1.0</td>\n",
       "      <td>7.0</td>\n",
       "    </tr>\n",
       "  </tbody>\n",
       "</table>\n",
       "</div>"
      ],
      "text/plain": [
       "                                  ad_id  day_x  ba_imps_off  ba_imps_on  \\\n",
       "0  00018501-6eee-45e9-b5b5-7b50f966abd8      0          NaN         1.0   \n",
       "1  00018501-6eee-45e9-b5b5-7b50f966abd8      8          NaN         NaN   \n",
       "\n",
       "   ba_imps_fail_off  ba_imps_fail_on  ba_view_off  ba_view_on  is_imps_off  \\\n",
       "0               NaN              NaN          NaN         NaN          NaN   \n",
       "1               NaN              NaN          NaN         NaN          NaN   \n",
       "\n",
       "   is_imps_on  is_imps_fail_off  is_imps_fail_on  is_view_off  is_view_on  \\\n",
       "0         NaN               NaN              NaN          NaN         NaN   \n",
       "1         NaN               NaN              3.0          NaN         NaN   \n",
       "\n",
       "   rv_imps_off  rv_imps_on  rv_imps_fail_off  rv_imps_fail_on  rv_view_off  \\\n",
       "0          NaN         NaN               NaN              NaN          NaN   \n",
       "1          NaN         NaN               NaN              3.0          1.0   \n",
       "\n",
       "   rv_view_on  \n",
       "0         1.0  \n",
       "1         7.0  "
      ]
     },
     "execution_count": 23,
     "metadata": {},
     "output_type": "execute_result"
    }
   ],
   "source": [
    "imps_gubun.reset_index(inplace=True)\n",
    "imps_gubun.head(2)"
   ]
  },
  {
   "cell_type": "markdown",
   "id": "867cffaf",
   "metadata": {},
   "source": [
    "### 2. placement_id : 광고 노출 위치 아이디\n",
    "- id별 하루동안의 광고 성공수(imps) 카운트 합산"
   ]
  },
  {
   "cell_type": "code",
   "execution_count": 24,
   "id": "ec2c4dc8",
   "metadata": {},
   "outputs": [
    {
     "data": {
      "text/plain": [
       "Index(['event_timestamp', 'ad_id', 'ga_session_id', 'gubun', 'state',\n",
       "       'network', 'placement_name', 'Interval_time', 'session_start_date',\n",
       "       'day0', 'day_x'],\n",
       "      dtype='object')"
      ]
     },
     "execution_count": 24,
     "metadata": {},
     "output_type": "execute_result"
    }
   ],
   "source": [
    "ads_df.columns"
   ]
  },
  {
   "cell_type": "code",
   "execution_count": 25,
   "id": "e4a34417",
   "metadata": {},
   "outputs": [
    {
     "data": {
      "text/html": [
       "<div>\n",
       "<style scoped>\n",
       "    .dataframe tbody tr th:only-of-type {\n",
       "        vertical-align: middle;\n",
       "    }\n",
       "\n",
       "    .dataframe tbody tr th {\n",
       "        vertical-align: top;\n",
       "    }\n",
       "\n",
       "    .dataframe thead th {\n",
       "        text-align: right;\n",
       "    }\n",
       "</style>\n",
       "<table border=\"1\" class=\"dataframe\">\n",
       "  <thead>\n",
       "    <tr style=\"text-align: right;\">\n",
       "      <th></th>\n",
       "      <th>placement_name</th>\n",
       "      <th>ba_home</th>\n",
       "      <th>ba_ingame</th>\n",
       "      <th>ba_result</th>\n",
       "      <th>is_death</th>\n",
       "      <th>is_game_end</th>\n",
       "      <th>rv_collection_coin</th>\n",
       "      <th>rv_color</th>\n",
       "      <th>rv_result_bonus_coin</th>\n",
       "      <th>rv_result_coin</th>\n",
       "      <th>rv_up_1</th>\n",
       "      <th>rv_up_2</th>\n",
       "      <th>rv_up_3</th>\n",
       "      <th>rv_up_4</th>\n",
       "    </tr>\n",
       "    <tr>\n",
       "      <th>ad_id</th>\n",
       "      <th>day_x</th>\n",
       "      <th></th>\n",
       "      <th></th>\n",
       "      <th></th>\n",
       "      <th></th>\n",
       "      <th></th>\n",
       "      <th></th>\n",
       "      <th></th>\n",
       "      <th></th>\n",
       "      <th></th>\n",
       "      <th></th>\n",
       "      <th></th>\n",
       "      <th></th>\n",
       "      <th></th>\n",
       "    </tr>\n",
       "  </thead>\n",
       "  <tbody>\n",
       "    <tr>\n",
       "      <th rowspan=\"2\" valign=\"top\">00018501-6eee-45e9-b5b5-7b50f966abd8</th>\n",
       "      <th>0</th>\n",
       "      <td>1.0</td>\n",
       "      <td>NaN</td>\n",
       "      <td>NaN</td>\n",
       "      <td>NaN</td>\n",
       "      <td>NaN</td>\n",
       "      <td>NaN</td>\n",
       "      <td>NaN</td>\n",
       "      <td>NaN</td>\n",
       "      <td>1.0</td>\n",
       "      <td>NaN</td>\n",
       "      <td>NaN</td>\n",
       "      <td>NaN</td>\n",
       "      <td>NaN</td>\n",
       "    </tr>\n",
       "    <tr>\n",
       "      <th>8</th>\n",
       "      <td>NaN</td>\n",
       "      <td>NaN</td>\n",
       "      <td>NaN</td>\n",
       "      <td>NaN</td>\n",
       "      <td>3.0</td>\n",
       "      <td>NaN</td>\n",
       "      <td>4.0</td>\n",
       "      <td>NaN</td>\n",
       "      <td>7.0</td>\n",
       "      <td>NaN</td>\n",
       "      <td>NaN</td>\n",
       "      <td>NaN</td>\n",
       "      <td>NaN</td>\n",
       "    </tr>\n",
       "  </tbody>\n",
       "</table>\n",
       "</div>"
      ],
      "text/plain": [
       "placement_name                              ba_home  ba_ingame  ba_result  \\\n",
       "ad_id                                day_x                                  \n",
       "00018501-6eee-45e9-b5b5-7b50f966abd8 0          1.0        NaN        NaN   \n",
       "                                     8          NaN        NaN        NaN   \n",
       "\n",
       "placement_name                              is_death  is_game_end  \\\n",
       "ad_id                                day_x                          \n",
       "00018501-6eee-45e9-b5b5-7b50f966abd8 0           NaN          NaN   \n",
       "                                     8           NaN          3.0   \n",
       "\n",
       "placement_name                              rv_collection_coin  rv_color  \\\n",
       "ad_id                                day_x                                 \n",
       "00018501-6eee-45e9-b5b5-7b50f966abd8 0                     NaN       NaN   \n",
       "                                     8                     NaN       4.0   \n",
       "\n",
       "placement_name                              rv_result_bonus_coin  \\\n",
       "ad_id                                day_x                         \n",
       "00018501-6eee-45e9-b5b5-7b50f966abd8 0                       NaN   \n",
       "                                     8                       NaN   \n",
       "\n",
       "placement_name                              rv_result_coin  rv_up_1  rv_up_2  \\\n",
       "ad_id                                day_x                                     \n",
       "00018501-6eee-45e9-b5b5-7b50f966abd8 0                 1.0      NaN      NaN   \n",
       "                                     8                 7.0      NaN      NaN   \n",
       "\n",
       "placement_name                              rv_up_3  rv_up_4  \n",
       "ad_id                                day_x                    \n",
       "00018501-6eee-45e9-b5b5-7b50f966abd8 0          NaN      NaN  \n",
       "                                     8          NaN      NaN  "
      ]
     },
     "execution_count": 25,
     "metadata": {},
     "output_type": "execute_result"
    }
   ],
   "source": [
    "imps_placement = ads_df.groupby(['ad_id', 'day_x', 'placement_name']).size().unstack()\n",
    "imps_placement.head(2)"
   ]
  },
  {
   "cell_type": "code",
   "execution_count": 26,
   "id": "238ab259",
   "metadata": {},
   "outputs": [
    {
     "data": {
      "text/html": [
       "<div>\n",
       "<style scoped>\n",
       "    .dataframe tbody tr th:only-of-type {\n",
       "        vertical-align: middle;\n",
       "    }\n",
       "\n",
       "    .dataframe tbody tr th {\n",
       "        vertical-align: top;\n",
       "    }\n",
       "\n",
       "    .dataframe thead th {\n",
       "        text-align: right;\n",
       "    }\n",
       "</style>\n",
       "<table border=\"1\" class=\"dataframe\">\n",
       "  <thead>\n",
       "    <tr style=\"text-align: right;\">\n",
       "      <th>placement_name</th>\n",
       "      <th>ad_id</th>\n",
       "      <th>day_x</th>\n",
       "      <th>ba_home</th>\n",
       "      <th>ba_ingame</th>\n",
       "      <th>ba_result</th>\n",
       "      <th>is_death</th>\n",
       "      <th>is_game_end</th>\n",
       "      <th>rv_collection_coin</th>\n",
       "      <th>rv_color</th>\n",
       "      <th>rv_result_bonus_coin</th>\n",
       "      <th>rv_result_coin</th>\n",
       "      <th>rv_up_1</th>\n",
       "      <th>rv_up_2</th>\n",
       "      <th>rv_up_3</th>\n",
       "      <th>rv_up_4</th>\n",
       "    </tr>\n",
       "  </thead>\n",
       "  <tbody>\n",
       "    <tr>\n",
       "      <th>0</th>\n",
       "      <td>00018501-6eee-45e9-b5b5-7b50f966abd8</td>\n",
       "      <td>0</td>\n",
       "      <td>1.0</td>\n",
       "      <td>NaN</td>\n",
       "      <td>NaN</td>\n",
       "      <td>NaN</td>\n",
       "      <td>NaN</td>\n",
       "      <td>NaN</td>\n",
       "      <td>NaN</td>\n",
       "      <td>NaN</td>\n",
       "      <td>1.0</td>\n",
       "      <td>NaN</td>\n",
       "      <td>NaN</td>\n",
       "      <td>NaN</td>\n",
       "      <td>NaN</td>\n",
       "    </tr>\n",
       "    <tr>\n",
       "      <th>1</th>\n",
       "      <td>00018501-6eee-45e9-b5b5-7b50f966abd8</td>\n",
       "      <td>8</td>\n",
       "      <td>NaN</td>\n",
       "      <td>NaN</td>\n",
       "      <td>NaN</td>\n",
       "      <td>NaN</td>\n",
       "      <td>3.0</td>\n",
       "      <td>NaN</td>\n",
       "      <td>4.0</td>\n",
       "      <td>NaN</td>\n",
       "      <td>7.0</td>\n",
       "      <td>NaN</td>\n",
       "      <td>NaN</td>\n",
       "      <td>NaN</td>\n",
       "      <td>NaN</td>\n",
       "    </tr>\n",
       "  </tbody>\n",
       "</table>\n",
       "</div>"
      ],
      "text/plain": [
       "placement_name                                 ad_id  day_x  ba_home  \\\n",
       "0               00018501-6eee-45e9-b5b5-7b50f966abd8      0      1.0   \n",
       "1               00018501-6eee-45e9-b5b5-7b50f966abd8      8      NaN   \n",
       "\n",
       "placement_name  ba_ingame  ba_result  is_death  is_game_end  \\\n",
       "0                     NaN        NaN       NaN          NaN   \n",
       "1                     NaN        NaN       NaN          3.0   \n",
       "\n",
       "placement_name  rv_collection_coin  rv_color  rv_result_bonus_coin  \\\n",
       "0                              NaN       NaN                   NaN   \n",
       "1                              NaN       4.0                   NaN   \n",
       "\n",
       "placement_name  rv_result_coin  rv_up_1  rv_up_2  rv_up_3  rv_up_4  \n",
       "0                          1.0      NaN      NaN      NaN      NaN  \n",
       "1                          7.0      NaN      NaN      NaN      NaN  "
      ]
     },
     "execution_count": 26,
     "metadata": {},
     "output_type": "execute_result"
    }
   ],
   "source": [
    "imps_placement.reset_index(inplace=True)\n",
    "imps_placement.head(2)"
   ]
  },
  {
   "cell_type": "markdown",
   "id": "a25a281e",
   "metadata": {},
   "source": [
    "### 3. Interval time"
   ]
  },
  {
   "cell_type": "code",
   "execution_count": 27,
   "id": "1fac9780",
   "metadata": {},
   "outputs": [
    {
     "data": {
      "text/html": [
       "<div>\n",
       "<style scoped>\n",
       "    .dataframe tbody tr th:only-of-type {\n",
       "        vertical-align: middle;\n",
       "    }\n",
       "\n",
       "    .dataframe tbody tr th {\n",
       "        vertical-align: top;\n",
       "    }\n",
       "\n",
       "    .dataframe thead th {\n",
       "        text-align: right;\n",
       "    }\n",
       "</style>\n",
       "<table border=\"1\" class=\"dataframe\">\n",
       "  <thead>\n",
       "    <tr style=\"text-align: right;\">\n",
       "      <th></th>\n",
       "      <th></th>\n",
       "      <th>Interval_time</th>\n",
       "    </tr>\n",
       "    <tr>\n",
       "      <th>ad_id</th>\n",
       "      <th>day_x</th>\n",
       "      <th></th>\n",
       "    </tr>\n",
       "  </thead>\n",
       "  <tbody>\n",
       "    <tr>\n",
       "      <th rowspan=\"2\" valign=\"top\">00018501-6eee-45e9-b5b5-7b50f966abd8</th>\n",
       "      <th>0</th>\n",
       "      <td>0</td>\n",
       "    </tr>\n",
       "    <tr>\n",
       "      <th>8</th>\n",
       "      <td>0</td>\n",
       "    </tr>\n",
       "  </tbody>\n",
       "</table>\n",
       "</div>"
      ],
      "text/plain": [
       "                                            Interval_time\n",
       "ad_id                                day_x               \n",
       "00018501-6eee-45e9-b5b5-7b50f966abd8 0                  0\n",
       "                                     8                  0"
      ]
     },
     "execution_count": 27,
     "metadata": {},
     "output_type": "execute_result"
    }
   ],
   "source": [
    "Interval_time = pd.DataFrame(ads_df.groupby(['ad_id', 'day_x'])['Interval_time'].sum())\n",
    "Interval_time.head(2)"
   ]
  },
  {
   "cell_type": "code",
   "execution_count": 28,
   "id": "07392851",
   "metadata": {},
   "outputs": [
    {
     "data": {
      "text/html": [
       "<div>\n",
       "<style scoped>\n",
       "    .dataframe tbody tr th:only-of-type {\n",
       "        vertical-align: middle;\n",
       "    }\n",
       "\n",
       "    .dataframe tbody tr th {\n",
       "        vertical-align: top;\n",
       "    }\n",
       "\n",
       "    .dataframe thead th {\n",
       "        text-align: right;\n",
       "    }\n",
       "</style>\n",
       "<table border=\"1\" class=\"dataframe\">\n",
       "  <thead>\n",
       "    <tr style=\"text-align: right;\">\n",
       "      <th></th>\n",
       "      <th>ad_id</th>\n",
       "      <th>day_x</th>\n",
       "      <th>Interval_time</th>\n",
       "    </tr>\n",
       "  </thead>\n",
       "  <tbody>\n",
       "    <tr>\n",
       "      <th>0</th>\n",
       "      <td>00018501-6eee-45e9-b5b5-7b50f966abd8</td>\n",
       "      <td>0</td>\n",
       "      <td>0</td>\n",
       "    </tr>\n",
       "    <tr>\n",
       "      <th>1</th>\n",
       "      <td>00018501-6eee-45e9-b5b5-7b50f966abd8</td>\n",
       "      <td>8</td>\n",
       "      <td>0</td>\n",
       "    </tr>\n",
       "  </tbody>\n",
       "</table>\n",
       "</div>"
      ],
      "text/plain": [
       "                                  ad_id  day_x  Interval_time\n",
       "0  00018501-6eee-45e9-b5b5-7b50f966abd8      0              0\n",
       "1  00018501-6eee-45e9-b5b5-7b50f966abd8      8              0"
      ]
     },
     "execution_count": 28,
     "metadata": {},
     "output_type": "execute_result"
    }
   ],
   "source": [
    "Interval_time.reset_index(inplace=True)\n",
    "Interval_time.head(2)"
   ]
  },
  {
   "cell_type": "code",
   "execution_count": 29,
   "id": "b604f03f",
   "metadata": {},
   "outputs": [
    {
     "name": "stdout",
     "output_type": "stream",
     "text": [
      "<class 'pandas.core.frame.DataFrame'>\n",
      "RangeIndex: 419923 entries, 0 to 419922\n",
      "Data columns (total 3 columns):\n",
      " #   Column         Non-Null Count   Dtype \n",
      "---  ------         --------------   ----- \n",
      " 0   ad_id          419923 non-null  object\n",
      " 1   day_x          419923 non-null  int64 \n",
      " 2   Interval_time  419923 non-null  int64 \n",
      "dtypes: int64(2), object(1)\n",
      "memory usage: 9.6+ MB\n"
     ]
    }
   ],
   "source": [
    "Interval_time.info()"
   ]
  },
  {
   "cell_type": "code",
   "execution_count": null,
   "id": "7013ffdc",
   "metadata": {},
   "outputs": [],
   "source": []
  },
  {
   "cell_type": "markdown",
   "id": "4fd9bc56",
   "metadata": {},
   "source": [
    "## Merge Feature_df"
   ]
  },
  {
   "cell_type": "code",
   "execution_count": 30,
   "id": "cc61eee5",
   "metadata": {},
   "outputs": [
    {
     "name": "stdout",
     "output_type": "stream",
     "text": [
      "(419923, 33)\n",
      "(419923, 42)\n",
      "(419923, 43)\n"
     ]
    }
   ],
   "source": [
    "ads_features = pd.merge(imps_gubun, imps_placement, how='outer', on=['ad_id','day_x'])\n",
    "print(ads_features.shape)\n",
    "ads_features = pd.merge(ads_features, imps, how='outer', on=['ad_id','day_x'])\n",
    "print(ads_features.shape)\n",
    "ads_features = pd.merge(ads_features, Interval_time, how='outer', on=['ad_id','day_x'])\n",
    "print(ads_features.shape)\n",
    "\n",
    "# (419923, 33)"
   ]
  },
  {
   "cell_type": "code",
   "execution_count": 31,
   "id": "3d7e5869",
   "metadata": {},
   "outputs": [
    {
     "data": {
      "text/html": [
       "<div>\n",
       "<style scoped>\n",
       "    .dataframe tbody tr th:only-of-type {\n",
       "        vertical-align: middle;\n",
       "    }\n",
       "\n",
       "    .dataframe tbody tr th {\n",
       "        vertical-align: top;\n",
       "    }\n",
       "\n",
       "    .dataframe thead th {\n",
       "        text-align: right;\n",
       "    }\n",
       "</style>\n",
       "<table border=\"1\" class=\"dataframe\">\n",
       "  <thead>\n",
       "    <tr style=\"text-align: right;\">\n",
       "      <th></th>\n",
       "      <th>ad_id</th>\n",
       "      <th>day_x</th>\n",
       "      <th>ba_imps_off</th>\n",
       "      <th>ba_imps_on</th>\n",
       "      <th>ba_imps_fail_off</th>\n",
       "      <th>ba_imps_fail_on</th>\n",
       "      <th>ba_view_off</th>\n",
       "      <th>ba_view_on</th>\n",
       "      <th>is_imps_off</th>\n",
       "      <th>is_imps_on</th>\n",
       "      <th>...</th>\n",
       "      <th>ba_imps</th>\n",
       "      <th>ba_imps_fail</th>\n",
       "      <th>ba_view</th>\n",
       "      <th>is_imps</th>\n",
       "      <th>is_imps_fail</th>\n",
       "      <th>is_view</th>\n",
       "      <th>rv_imps</th>\n",
       "      <th>rv_imps_fail</th>\n",
       "      <th>rv_view</th>\n",
       "      <th>Interval_time</th>\n",
       "    </tr>\n",
       "  </thead>\n",
       "  <tbody>\n",
       "    <tr>\n",
       "      <th>0</th>\n",
       "      <td>00018501-6eee-45e9-b5b5-7b50f966abd8</td>\n",
       "      <td>0</td>\n",
       "      <td>NaN</td>\n",
       "      <td>1.0</td>\n",
       "      <td>NaN</td>\n",
       "      <td>NaN</td>\n",
       "      <td>NaN</td>\n",
       "      <td>NaN</td>\n",
       "      <td>NaN</td>\n",
       "      <td>NaN</td>\n",
       "      <td>...</td>\n",
       "      <td>1.0</td>\n",
       "      <td>NaN</td>\n",
       "      <td>NaN</td>\n",
       "      <td>NaN</td>\n",
       "      <td>NaN</td>\n",
       "      <td>NaN</td>\n",
       "      <td>NaN</td>\n",
       "      <td>NaN</td>\n",
       "      <td>1.0</td>\n",
       "      <td>0</td>\n",
       "    </tr>\n",
       "    <tr>\n",
       "      <th>1</th>\n",
       "      <td>00018501-6eee-45e9-b5b5-7b50f966abd8</td>\n",
       "      <td>8</td>\n",
       "      <td>NaN</td>\n",
       "      <td>NaN</td>\n",
       "      <td>NaN</td>\n",
       "      <td>NaN</td>\n",
       "      <td>NaN</td>\n",
       "      <td>NaN</td>\n",
       "      <td>NaN</td>\n",
       "      <td>NaN</td>\n",
       "      <td>...</td>\n",
       "      <td>NaN</td>\n",
       "      <td>NaN</td>\n",
       "      <td>NaN</td>\n",
       "      <td>NaN</td>\n",
       "      <td>3.0</td>\n",
       "      <td>NaN</td>\n",
       "      <td>NaN</td>\n",
       "      <td>3.0</td>\n",
       "      <td>8.0</td>\n",
       "      <td>0</td>\n",
       "    </tr>\n",
       "    <tr>\n",
       "      <th>2</th>\n",
       "      <td>0001edb6-e7e7-4f74-8993-2bfc9347a959</td>\n",
       "      <td>0</td>\n",
       "      <td>NaN</td>\n",
       "      <td>12.0</td>\n",
       "      <td>NaN</td>\n",
       "      <td>NaN</td>\n",
       "      <td>NaN</td>\n",
       "      <td>NaN</td>\n",
       "      <td>NaN</td>\n",
       "      <td>7.0</td>\n",
       "      <td>...</td>\n",
       "      <td>12.0</td>\n",
       "      <td>NaN</td>\n",
       "      <td>NaN</td>\n",
       "      <td>7.0</td>\n",
       "      <td>NaN</td>\n",
       "      <td>NaN</td>\n",
       "      <td>NaN</td>\n",
       "      <td>NaN</td>\n",
       "      <td>26.0</td>\n",
       "      <td>298</td>\n",
       "    </tr>\n",
       "    <tr>\n",
       "      <th>3</th>\n",
       "      <td>0001ef07-c27e-4d91-a8bb-d0aa5f0d45e7</td>\n",
       "      <td>0</td>\n",
       "      <td>NaN</td>\n",
       "      <td>4.0</td>\n",
       "      <td>NaN</td>\n",
       "      <td>NaN</td>\n",
       "      <td>NaN</td>\n",
       "      <td>NaN</td>\n",
       "      <td>NaN</td>\n",
       "      <td>2.0</td>\n",
       "      <td>...</td>\n",
       "      <td>4.0</td>\n",
       "      <td>NaN</td>\n",
       "      <td>NaN</td>\n",
       "      <td>2.0</td>\n",
       "      <td>NaN</td>\n",
       "      <td>NaN</td>\n",
       "      <td>NaN</td>\n",
       "      <td>NaN</td>\n",
       "      <td>6.0</td>\n",
       "      <td>98</td>\n",
       "    </tr>\n",
       "    <tr>\n",
       "      <th>4</th>\n",
       "      <td>0001ef07-c27e-4d91-a8bb-d0aa5f0d45e7</td>\n",
       "      <td>1</td>\n",
       "      <td>NaN</td>\n",
       "      <td>8.0</td>\n",
       "      <td>NaN</td>\n",
       "      <td>NaN</td>\n",
       "      <td>NaN</td>\n",
       "      <td>NaN</td>\n",
       "      <td>NaN</td>\n",
       "      <td>3.0</td>\n",
       "      <td>...</td>\n",
       "      <td>8.0</td>\n",
       "      <td>NaN</td>\n",
       "      <td>NaN</td>\n",
       "      <td>3.0</td>\n",
       "      <td>NaN</td>\n",
       "      <td>NaN</td>\n",
       "      <td>NaN</td>\n",
       "      <td>NaN</td>\n",
       "      <td>10.0</td>\n",
       "      <td>151</td>\n",
       "    </tr>\n",
       "  </tbody>\n",
       "</table>\n",
       "<p>5 rows × 43 columns</p>\n",
       "</div>"
      ],
      "text/plain": [
       "                                  ad_id  day_x  ba_imps_off  ba_imps_on  \\\n",
       "0  00018501-6eee-45e9-b5b5-7b50f966abd8      0          NaN         1.0   \n",
       "1  00018501-6eee-45e9-b5b5-7b50f966abd8      8          NaN         NaN   \n",
       "2  0001edb6-e7e7-4f74-8993-2bfc9347a959      0          NaN        12.0   \n",
       "3  0001ef07-c27e-4d91-a8bb-d0aa5f0d45e7      0          NaN         4.0   \n",
       "4  0001ef07-c27e-4d91-a8bb-d0aa5f0d45e7      1          NaN         8.0   \n",
       "\n",
       "   ba_imps_fail_off  ba_imps_fail_on  ba_view_off  ba_view_on  is_imps_off  \\\n",
       "0               NaN              NaN          NaN         NaN          NaN   \n",
       "1               NaN              NaN          NaN         NaN          NaN   \n",
       "2               NaN              NaN          NaN         NaN          NaN   \n",
       "3               NaN              NaN          NaN         NaN          NaN   \n",
       "4               NaN              NaN          NaN         NaN          NaN   \n",
       "\n",
       "   is_imps_on  ...  ba_imps  ba_imps_fail  ba_view  is_imps  is_imps_fail  \\\n",
       "0         NaN  ...      1.0           NaN      NaN      NaN           NaN   \n",
       "1         NaN  ...      NaN           NaN      NaN      NaN           3.0   \n",
       "2         7.0  ...     12.0           NaN      NaN      7.0           NaN   \n",
       "3         2.0  ...      4.0           NaN      NaN      2.0           NaN   \n",
       "4         3.0  ...      8.0           NaN      NaN      3.0           NaN   \n",
       "\n",
       "   is_view  rv_imps  rv_imps_fail  rv_view  Interval_time  \n",
       "0      NaN      NaN           NaN      1.0              0  \n",
       "1      NaN      NaN           3.0      8.0              0  \n",
       "2      NaN      NaN           NaN     26.0            298  \n",
       "3      NaN      NaN           NaN      6.0             98  \n",
       "4      NaN      NaN           NaN     10.0            151  \n",
       "\n",
       "[5 rows x 43 columns]"
      ]
     },
     "execution_count": 31,
     "metadata": {},
     "output_type": "execute_result"
    }
   ],
   "source": [
    "ads_features.head()"
   ]
  },
  {
   "cell_type": "code",
   "execution_count": 32,
   "id": "2cd3f041",
   "metadata": {},
   "outputs": [],
   "source": [
    "ads_features.to_csv(default_dir + \"extract_features_data/ads_features.csv\", index=False)"
   ]
  },
  {
   "cell_type": "markdown",
   "id": "67890924",
   "metadata": {},
   "source": [
    "## activity"
   ]
  },
  {
   "cell_type": "code",
   "execution_count": 231,
   "id": "d6786fa3",
   "metadata": {},
   "outputs": [
    {
     "data": {
      "text/html": [
       "<div>\n",
       "<style scoped>\n",
       "    .dataframe tbody tr th:only-of-type {\n",
       "        vertical-align: middle;\n",
       "    }\n",
       "\n",
       "    .dataframe tbody tr th {\n",
       "        vertical-align: top;\n",
       "    }\n",
       "\n",
       "    .dataframe thead th {\n",
       "        text-align: right;\n",
       "    }\n",
       "</style>\n",
       "<table border=\"1\" class=\"dataframe\">\n",
       "  <thead>\n",
       "    <tr style=\"text-align: right;\">\n",
       "      <th></th>\n",
       "      <th>event_previous_timestamp</th>\n",
       "      <th>event_timestamp</th>\n",
       "      <th>event_date</th>\n",
       "      <th>ad_id</th>\n",
       "      <th>user_pseudo_id</th>\n",
       "      <th>ga_session_id</th>\n",
       "      <th>ga_session_number</th>\n",
       "      <th>activity_id</th>\n",
       "      <th>activity_name</th>\n",
       "      <th>action_id</th>\n",
       "      <th>action_name</th>\n",
       "      <th>sub_id</th>\n",
       "      <th>sub_name</th>\n",
       "      <th>user_level</th>\n",
       "      <th>cuid</th>\n",
       "      <th>device_is_limited_ad_tracking</th>\n",
       "      <th>event_datetime</th>\n",
       "    </tr>\n",
       "  </thead>\n",
       "  <tbody>\n",
       "    <tr>\n",
       "      <th>0</th>\n",
       "      <td>1.619310e+15</td>\n",
       "      <td>1619310355712000</td>\n",
       "      <td>20210424</td>\n",
       "      <td>c9000a27-6fd5-4eb1-b728-286561c707ca</td>\n",
       "      <td>8da97c0b43305c41d78cc0f5585d6b9a</td>\n",
       "      <td>1.619309e+09</td>\n",
       "      <td>11.0</td>\n",
       "      <td>3</td>\n",
       "      <td>content_button</td>\n",
       "      <td>3003</td>\n",
       "      <td>click_skin</td>\n",
       "      <td>1008</td>\n",
       "      <td>firefighter</td>\n",
       "      <td>111</td>\n",
       "      <td>2c8601cf-c8a7-4046-9edf-f5a81463ec60</td>\n",
       "      <td>False</td>\n",
       "      <td>2021-04-25 00:25:55.712000</td>\n",
       "    </tr>\n",
       "    <tr>\n",
       "      <th>1</th>\n",
       "      <td>1.619311e+15</td>\n",
       "      <td>1619310716820000</td>\n",
       "      <td>20210424</td>\n",
       "      <td>c9000a27-6fd5-4eb1-b728-286561c707ca</td>\n",
       "      <td>8da97c0b43305c41d78cc0f5585d6b9a</td>\n",
       "      <td>1.619309e+09</td>\n",
       "      <td>11.0</td>\n",
       "      <td>3</td>\n",
       "      <td>content_button</td>\n",
       "      <td>3002</td>\n",
       "      <td>close_collection</td>\n",
       "      <td>0</td>\n",
       "      <td>0</td>\n",
       "      <td>116</td>\n",
       "      <td>2c8601cf-c8a7-4046-9edf-f5a81463ec60</td>\n",
       "      <td>False</td>\n",
       "      <td>2021-04-25 00:31:56.820000</td>\n",
       "    </tr>\n",
       "  </tbody>\n",
       "</table>\n",
       "</div>"
      ],
      "text/plain": [
       "   event_previous_timestamp   event_timestamp  event_date  \\\n",
       "0              1.619310e+15  1619310355712000    20210424   \n",
       "1              1.619311e+15  1619310716820000    20210424   \n",
       "\n",
       "                                  ad_id                    user_pseudo_id  \\\n",
       "0  c9000a27-6fd5-4eb1-b728-286561c707ca  8da97c0b43305c41d78cc0f5585d6b9a   \n",
       "1  c9000a27-6fd5-4eb1-b728-286561c707ca  8da97c0b43305c41d78cc0f5585d6b9a   \n",
       "\n",
       "   ga_session_id  ga_session_number  activity_id   activity_name  action_id  \\\n",
       "0   1.619309e+09               11.0            3  content_button       3003   \n",
       "1   1.619309e+09               11.0            3  content_button       3002   \n",
       "\n",
       "        action_name  sub_id     sub_name  user_level  \\\n",
       "0        click_skin    1008  firefighter         111   \n",
       "1  close_collection       0            0         116   \n",
       "\n",
       "                                   cuid  device_is_limited_ad_tracking  \\\n",
       "0  2c8601cf-c8a7-4046-9edf-f5a81463ec60                          False   \n",
       "1  2c8601cf-c8a7-4046-9edf-f5a81463ec60                          False   \n",
       "\n",
       "               event_datetime  \n",
       "0  2021-04-25 00:25:55.712000  \n",
       "1  2021-04-25 00:31:56.820000  "
      ]
     },
     "execution_count": 231,
     "metadata": {},
     "output_type": "execute_result"
    }
   ],
   "source": [
    "activity = pd.read_csv(default_dir + \"column_filtered_data/activity_filtered.csv\")\n",
    "activity.head(2)"
   ]
  },
  {
   "cell_type": "code",
   "execution_count": 232,
   "id": "2be6f4d2",
   "metadata": {
    "scrolled": true
   },
   "outputs": [
    {
     "data": {
      "text/plain": [
       "Index(['event_previous_timestamp', 'event_timestamp', 'event_date', 'ad_id',\n",
       "       'user_pseudo_id', 'ga_session_id', 'ga_session_number', 'activity_id',\n",
       "       'activity_name', 'action_id', 'action_name', 'sub_id', 'sub_name',\n",
       "       'user_level', 'cuid', 'device_is_limited_ad_tracking',\n",
       "       'event_datetime'],\n",
       "      dtype='object')"
      ]
     },
     "execution_count": 232,
     "metadata": {},
     "output_type": "execute_result"
    }
   ],
   "source": [
    "activity.columns"
   ]
  },
  {
   "cell_type": "code",
   "execution_count": 235,
   "id": "cf50835b",
   "metadata": {},
   "outputs": [],
   "source": [
    "activity = activity[['event_timestamp', 'ad_id', 'ga_session_id', \n",
    "                    'activity_name', 'action_name', 'sub_name']]"
   ]
  },
  {
   "cell_type": "code",
   "execution_count": 238,
   "id": "a3c65b29",
   "metadata": {},
   "outputs": [],
   "source": [
    "target_act = select_target(activity)"
   ]
  },
  {
   "cell_type": "code",
   "execution_count": 239,
   "id": "ce7b2183",
   "metadata": {},
   "outputs": [
    {
     "data": {
      "text/plain": [
       "(1081160, 6)"
      ]
     },
     "execution_count": 239,
     "metadata": {},
     "output_type": "execute_result"
    }
   ],
   "source": [
    "target_act.shape"
   ]
  },
  {
   "cell_type": "code",
   "execution_count": 240,
   "id": "3a62c601",
   "metadata": {},
   "outputs": [
    {
     "data": {
      "text/plain": [
       "144083"
      ]
     },
     "execution_count": 240,
     "metadata": {},
     "output_type": "execute_result"
    }
   ],
   "source": [
    "len(target_act.ad_id.unique()) #144,083"
   ]
  },
  {
   "cell_type": "code",
   "execution_count": 241,
   "id": "cd338dfe",
   "metadata": {},
   "outputs": [],
   "source": [
    "act_df = calculate_day_x(target_act)"
   ]
  },
  {
   "cell_type": "markdown",
   "id": "d5456443",
   "metadata": {},
   "source": [
    "### 1. 해당 날짜에 activity를 한 횟수 (count)"
   ]
  },
  {
   "cell_type": "code",
   "execution_count": 246,
   "id": "17b7ee90",
   "metadata": {},
   "outputs": [],
   "source": [
    "act_count = pd.DataFrame(act_df.groupby(['ad_id', 'day_x']).size())"
   ]
  },
  {
   "cell_type": "code",
   "execution_count": 247,
   "id": "e062e42c",
   "metadata": {},
   "outputs": [
    {
     "data": {
      "text/html": [
       "<div>\n",
       "<style scoped>\n",
       "    .dataframe tbody tr th:only-of-type {\n",
       "        vertical-align: middle;\n",
       "    }\n",
       "\n",
       "    .dataframe tbody tr th {\n",
       "        vertical-align: top;\n",
       "    }\n",
       "\n",
       "    .dataframe thead th {\n",
       "        text-align: right;\n",
       "    }\n",
       "</style>\n",
       "<table border=\"1\" class=\"dataframe\">\n",
       "  <thead>\n",
       "    <tr style=\"text-align: right;\">\n",
       "      <th></th>\n",
       "      <th></th>\n",
       "      <th>0</th>\n",
       "    </tr>\n",
       "    <tr>\n",
       "      <th>ad_id</th>\n",
       "      <th>day_x</th>\n",
       "      <th></th>\n",
       "    </tr>\n",
       "  </thead>\n",
       "  <tbody>\n",
       "    <tr>\n",
       "      <th>0001edb6-e7e7-4f74-8993-2bfc9347a959</th>\n",
       "      <th>0</th>\n",
       "      <td>1</td>\n",
       "    </tr>\n",
       "    <tr>\n",
       "      <th>0002cac0-644a-4169-8253-6e02cf634b7b</th>\n",
       "      <th>0</th>\n",
       "      <td>1</td>\n",
       "    </tr>\n",
       "  </tbody>\n",
       "</table>\n",
       "</div>"
      ],
      "text/plain": [
       "                                            0\n",
       "ad_id                                day_x   \n",
       "0001edb6-e7e7-4f74-8993-2bfc9347a959 0      1\n",
       "0002cac0-644a-4169-8253-6e02cf634b7b 0      1"
      ]
     },
     "execution_count": 247,
     "metadata": {},
     "output_type": "execute_result"
    }
   ],
   "source": [
    "act_count.head(2)"
   ]
  },
  {
   "cell_type": "code",
   "execution_count": 248,
   "id": "d0d841b7",
   "metadata": {},
   "outputs": [
    {
     "data": {
      "text/html": [
       "<div>\n",
       "<style scoped>\n",
       "    .dataframe tbody tr th:only-of-type {\n",
       "        vertical-align: middle;\n",
       "    }\n",
       "\n",
       "    .dataframe tbody tr th {\n",
       "        vertical-align: top;\n",
       "    }\n",
       "\n",
       "    .dataframe thead th {\n",
       "        text-align: right;\n",
       "    }\n",
       "</style>\n",
       "<table border=\"1\" class=\"dataframe\">\n",
       "  <thead>\n",
       "    <tr style=\"text-align: right;\">\n",
       "      <th></th>\n",
       "      <th></th>\n",
       "      <th>act_cnt</th>\n",
       "    </tr>\n",
       "    <tr>\n",
       "      <th>ad_id</th>\n",
       "      <th>day_x</th>\n",
       "      <th></th>\n",
       "    </tr>\n",
       "  </thead>\n",
       "  <tbody>\n",
       "    <tr>\n",
       "      <th>0001edb6-e7e7-4f74-8993-2bfc9347a959</th>\n",
       "      <th>0</th>\n",
       "      <td>1</td>\n",
       "    </tr>\n",
       "    <tr>\n",
       "      <th>0002cac0-644a-4169-8253-6e02cf634b7b</th>\n",
       "      <th>0</th>\n",
       "      <td>1</td>\n",
       "    </tr>\n",
       "  </tbody>\n",
       "</table>\n",
       "</div>"
      ],
      "text/plain": [
       "                                            act_cnt\n",
       "ad_id                                day_x         \n",
       "0001edb6-e7e7-4f74-8993-2bfc9347a959 0            1\n",
       "0002cac0-644a-4169-8253-6e02cf634b7b 0            1"
      ]
     },
     "execution_count": 248,
     "metadata": {},
     "output_type": "execute_result"
    }
   ],
   "source": [
    "act_count.rename(columns={0:'act_cnt'}, inplace=True)"
   ]
  },
  {
   "cell_type": "code",
   "execution_count": 249,
   "id": "a04ed541",
   "metadata": {},
   "outputs": [
    {
     "data": {
      "text/html": [
       "<div>\n",
       "<style scoped>\n",
       "    .dataframe tbody tr th:only-of-type {\n",
       "        vertical-align: middle;\n",
       "    }\n",
       "\n",
       "    .dataframe tbody tr th {\n",
       "        vertical-align: top;\n",
       "    }\n",
       "\n",
       "    .dataframe thead th {\n",
       "        text-align: right;\n",
       "    }\n",
       "</style>\n",
       "<table border=\"1\" class=\"dataframe\">\n",
       "  <thead>\n",
       "    <tr style=\"text-align: right;\">\n",
       "      <th></th>\n",
       "      <th>ad_id</th>\n",
       "      <th>day_x</th>\n",
       "      <th>act_cnt</th>\n",
       "    </tr>\n",
       "  </thead>\n",
       "  <tbody>\n",
       "    <tr>\n",
       "      <th>0</th>\n",
       "      <td>0001edb6-e7e7-4f74-8993-2bfc9347a959</td>\n",
       "      <td>0</td>\n",
       "      <td>1</td>\n",
       "    </tr>\n",
       "    <tr>\n",
       "      <th>1</th>\n",
       "      <td>0002cac0-644a-4169-8253-6e02cf634b7b</td>\n",
       "      <td>0</td>\n",
       "      <td>1</td>\n",
       "    </tr>\n",
       "  </tbody>\n",
       "</table>\n",
       "</div>"
      ],
      "text/plain": [
       "                                  ad_id  day_x  act_cnt\n",
       "0  0001edb6-e7e7-4f74-8993-2bfc9347a959      0        1\n",
       "1  0002cac0-644a-4169-8253-6e02cf634b7b      0        1"
      ]
     },
     "execution_count": 249,
     "metadata": {},
     "output_type": "execute_result"
    }
   ],
   "source": [
    "act_count.reset_index(inplace=True)\n",
    "act_count.head(2)"
   ]
  },
  {
   "cell_type": "markdown",
   "id": "298074f5",
   "metadata": {},
   "source": [
    "### 2. activity_id별 누른 횟수\n",
    "activity_id : activity_name\n",
    "\n",
    "- 1 : rating_popup / ~~2 : iap_click~~ / 3 : content_click"
   ]
  },
  {
   "cell_type": "code",
   "execution_count": 258,
   "id": "c8ef8583",
   "metadata": {},
   "outputs": [
    {
     "data": {
      "text/html": [
       "<div>\n",
       "<style scoped>\n",
       "    .dataframe tbody tr th:only-of-type {\n",
       "        vertical-align: middle;\n",
       "    }\n",
       "\n",
       "    .dataframe tbody tr th {\n",
       "        vertical-align: top;\n",
       "    }\n",
       "\n",
       "    .dataframe thead th {\n",
       "        text-align: right;\n",
       "    }\n",
       "</style>\n",
       "<table border=\"1\" class=\"dataframe\">\n",
       "  <thead>\n",
       "    <tr style=\"text-align: right;\">\n",
       "      <th></th>\n",
       "      <th>activity_name</th>\n",
       "      <th>content_button</th>\n",
       "      <th>rating_popup</th>\n",
       "    </tr>\n",
       "    <tr>\n",
       "      <th>ad_id</th>\n",
       "      <th>day_x</th>\n",
       "      <th></th>\n",
       "      <th></th>\n",
       "    </tr>\n",
       "  </thead>\n",
       "  <tbody>\n",
       "    <tr>\n",
       "      <th>0001edb6-e7e7-4f74-8993-2bfc9347a959</th>\n",
       "      <th>0</th>\n",
       "      <td>NaN</td>\n",
       "      <td>1.0</td>\n",
       "    </tr>\n",
       "    <tr>\n",
       "      <th>0002cac0-644a-4169-8253-6e02cf634b7b</th>\n",
       "      <th>0</th>\n",
       "      <td>NaN</td>\n",
       "      <td>1.0</td>\n",
       "    </tr>\n",
       "  </tbody>\n",
       "</table>\n",
       "</div>"
      ],
      "text/plain": [
       "activity_name                               content_button  rating_popup\n",
       "ad_id                                day_x                              \n",
       "0001edb6-e7e7-4f74-8993-2bfc9347a959 0                 NaN           1.0\n",
       "0002cac0-644a-4169-8253-6e02cf634b7b 0                 NaN           1.0"
      ]
     },
     "execution_count": 258,
     "metadata": {},
     "output_type": "execute_result"
    }
   ],
   "source": [
    "activity_cnt = act_df.groupby(['ad_id', 'day_x','activity_name']).size().unstack()\n",
    "activity_cnt.head(2)"
   ]
  },
  {
   "cell_type": "code",
   "execution_count": 259,
   "id": "06bbc692",
   "metadata": {},
   "outputs": [],
   "source": [
    "activity_cnt.reset_index(inplace=True)"
   ]
  },
  {
   "cell_type": "markdown",
   "id": "cec4b1d9",
   "metadata": {},
   "source": [
    "### 3. action_id 별 누른 횟수\n",
    "action_id : action_name\n",
    "\n",
    "- activity_id = 1\\\n",
    "1001 : yes / 1002 : no / 1003 : exit\n",
    "\n",
    "- activity_id = 2\\\n",
    "데이터 없음\n",
    "\n",
    "- activity_id = 3\\\n",
    "3001 : open_collection / 3002 : close collection / 3003 : click_skin (3003 0 -> sub_id : sub_name = skin_id : skin_name"
   ]
  },
  {
   "cell_type": "code",
   "execution_count": 260,
   "id": "973692c9",
   "metadata": {},
   "outputs": [
    {
     "data": {
      "text/html": [
       "<div>\n",
       "<style scoped>\n",
       "    .dataframe tbody tr th:only-of-type {\n",
       "        vertical-align: middle;\n",
       "    }\n",
       "\n",
       "    .dataframe tbody tr th {\n",
       "        vertical-align: top;\n",
       "    }\n",
       "\n",
       "    .dataframe thead th {\n",
       "        text-align: right;\n",
       "    }\n",
       "</style>\n",
       "<table border=\"1\" class=\"dataframe\">\n",
       "  <thead>\n",
       "    <tr style=\"text-align: right;\">\n",
       "      <th></th>\n",
       "      <th>action_name</th>\n",
       "      <th>Yes</th>\n",
       "      <th>click_skin</th>\n",
       "      <th>close_collection</th>\n",
       "      <th>open_collection</th>\n",
       "    </tr>\n",
       "    <tr>\n",
       "      <th>ad_id</th>\n",
       "      <th>day_x</th>\n",
       "      <th></th>\n",
       "      <th></th>\n",
       "      <th></th>\n",
       "      <th></th>\n",
       "    </tr>\n",
       "  </thead>\n",
       "  <tbody>\n",
       "    <tr>\n",
       "      <th>0001edb6-e7e7-4f74-8993-2bfc9347a959</th>\n",
       "      <th>0</th>\n",
       "      <td>1.0</td>\n",
       "      <td>NaN</td>\n",
       "      <td>NaN</td>\n",
       "      <td>NaN</td>\n",
       "    </tr>\n",
       "    <tr>\n",
       "      <th>0002cac0-644a-4169-8253-6e02cf634b7b</th>\n",
       "      <th>0</th>\n",
       "      <td>1.0</td>\n",
       "      <td>NaN</td>\n",
       "      <td>NaN</td>\n",
       "      <td>NaN</td>\n",
       "    </tr>\n",
       "  </tbody>\n",
       "</table>\n",
       "</div>"
      ],
      "text/plain": [
       "action_name                                 Yes  click_skin  close_collection  \\\n",
       "ad_id                                day_x                                      \n",
       "0001edb6-e7e7-4f74-8993-2bfc9347a959 0      1.0         NaN               NaN   \n",
       "0002cac0-644a-4169-8253-6e02cf634b7b 0      1.0         NaN               NaN   \n",
       "\n",
       "action_name                                 open_collection  \n",
       "ad_id                                day_x                   \n",
       "0001edb6-e7e7-4f74-8993-2bfc9347a959 0                  NaN  \n",
       "0002cac0-644a-4169-8253-6e02cf634b7b 0                  NaN  "
      ]
     },
     "execution_count": 260,
     "metadata": {},
     "output_type": "execute_result"
    }
   ],
   "source": [
    "action_cnt = act_df.groupby(['ad_id', 'day_x','action_name']).size().unstack()\n",
    "action_cnt.head(2)"
   ]
  },
  {
   "cell_type": "code",
   "execution_count": 265,
   "id": "990bcf65",
   "metadata": {},
   "outputs": [],
   "source": [
    "action_cnt.reset_index(inplace=True)"
   ]
  },
  {
   "cell_type": "code",
   "execution_count": 267,
   "id": "a20420a9",
   "metadata": {
    "scrolled": true
   },
   "outputs": [
    {
     "data": {
      "text/html": [
       "<div>\n",
       "<style scoped>\n",
       "    .dataframe tbody tr th:only-of-type {\n",
       "        vertical-align: middle;\n",
       "    }\n",
       "\n",
       "    .dataframe tbody tr th {\n",
       "        vertical-align: top;\n",
       "    }\n",
       "\n",
       "    .dataframe thead th {\n",
       "        text-align: right;\n",
       "    }\n",
       "</style>\n",
       "<table border=\"1\" class=\"dataframe\">\n",
       "  <thead>\n",
       "    <tr style=\"text-align: right;\">\n",
       "      <th>action_name</th>\n",
       "      <th>ad_id</th>\n",
       "      <th>day_x</th>\n",
       "      <th>Yes</th>\n",
       "      <th>click_skin</th>\n",
       "      <th>close_collection</th>\n",
       "      <th>open_collection</th>\n",
       "    </tr>\n",
       "  </thead>\n",
       "  <tbody>\n",
       "    <tr>\n",
       "      <th>0</th>\n",
       "      <td>0001edb6-e7e7-4f74-8993-2bfc9347a959</td>\n",
       "      <td>0</td>\n",
       "      <td>1.0</td>\n",
       "      <td>NaN</td>\n",
       "      <td>NaN</td>\n",
       "      <td>NaN</td>\n",
       "    </tr>\n",
       "    <tr>\n",
       "      <th>1</th>\n",
       "      <td>0002cac0-644a-4169-8253-6e02cf634b7b</td>\n",
       "      <td>0</td>\n",
       "      <td>1.0</td>\n",
       "      <td>NaN</td>\n",
       "      <td>NaN</td>\n",
       "      <td>NaN</td>\n",
       "    </tr>\n",
       "    <tr>\n",
       "      <th>2</th>\n",
       "      <td>00031e14-e86d-49ac-bda0-a1427e9dcd3b</td>\n",
       "      <td>0</td>\n",
       "      <td>1.0</td>\n",
       "      <td>NaN</td>\n",
       "      <td>NaN</td>\n",
       "      <td>NaN</td>\n",
       "    </tr>\n",
       "    <tr>\n",
       "      <th>3</th>\n",
       "      <td>00038635-61d2-4656-b04b-332c5a6755cd</td>\n",
       "      <td>0</td>\n",
       "      <td>1.0</td>\n",
       "      <td>5.0</td>\n",
       "      <td>1.0</td>\n",
       "      <td>1.0</td>\n",
       "    </tr>\n",
       "    <tr>\n",
       "      <th>4</th>\n",
       "      <td>00038635-61d2-4656-b04b-332c5a6755cd</td>\n",
       "      <td>1</td>\n",
       "      <td>1.0</td>\n",
       "      <td>5.0</td>\n",
       "      <td>2.0</td>\n",
       "      <td>2.0</td>\n",
       "    </tr>\n",
       "  </tbody>\n",
       "</table>\n",
       "</div>"
      ],
      "text/plain": [
       "action_name                                 ad_id  day_x  Yes  click_skin  \\\n",
       "0            0001edb6-e7e7-4f74-8993-2bfc9347a959      0  1.0         NaN   \n",
       "1            0002cac0-644a-4169-8253-6e02cf634b7b      0  1.0         NaN   \n",
       "2            00031e14-e86d-49ac-bda0-a1427e9dcd3b      0  1.0         NaN   \n",
       "3            00038635-61d2-4656-b04b-332c5a6755cd      0  1.0         5.0   \n",
       "4            00038635-61d2-4656-b04b-332c5a6755cd      1  1.0         5.0   \n",
       "\n",
       "action_name  close_collection  open_collection  \n",
       "0                         NaN              NaN  \n",
       "1                         NaN              NaN  \n",
       "2                         NaN              NaN  \n",
       "3                         1.0              1.0  \n",
       "4                         2.0              2.0  "
      ]
     },
     "execution_count": 267,
     "metadata": {},
     "output_type": "execute_result"
    }
   ],
   "source": [
    "action_cnt.head()"
   ]
  },
  {
   "cell_type": "code",
   "execution_count": 269,
   "id": "8c8d2ef1",
   "metadata": {},
   "outputs": [],
   "source": [
    "action_cnt.drop('Yes', axis=1, inplace=True)"
   ]
  },
  {
   "cell_type": "markdown",
   "id": "a5b37ce8",
   "metadata": {},
   "source": [
    "## Merge feature_df"
   ]
  },
  {
   "cell_type": "code",
   "execution_count": 270,
   "id": "8d422ad7",
   "metadata": {},
   "outputs": [
    {
     "name": "stdout",
     "output_type": "stream",
     "text": [
      "(224136, 5)\n",
      "(224136, 8)\n"
     ]
    }
   ],
   "source": [
    "act_features = pd.merge(act_count, activity_cnt, how='outer', on=['ad_id','day_x'])\n",
    "print(act_features.shape)\n",
    "act_features = pd.merge(act_features, action_cnt, how='outer', on=['ad_id','day_x'])\n",
    "print(act_features.shape)\n",
    "# (224136, 5)\n",
    "# (224136, 8)"
   ]
  },
  {
   "cell_type": "code",
   "execution_count": 271,
   "id": "61582a1c",
   "metadata": {},
   "outputs": [],
   "source": [
    "act_features.to_csv(default_dir + \"extract_features_data/act_features.csv\", index=False)"
   ]
  }
 ],
 "metadata": {
  "kernelspec": {
   "display_name": "Python 3",
   "language": "python",
   "name": "python3"
  },
  "language_info": {
   "codemirror_mode": {
    "name": "ipython",
    "version": 3
   },
   "file_extension": ".py",
   "mimetype": "text/x-python",
   "name": "python",
   "nbconvert_exporter": "python",
   "pygments_lexer": "ipython3",
   "version": "3.7.0"
  }
 },
 "nbformat": 4,
 "nbformat_minor": 5
}
