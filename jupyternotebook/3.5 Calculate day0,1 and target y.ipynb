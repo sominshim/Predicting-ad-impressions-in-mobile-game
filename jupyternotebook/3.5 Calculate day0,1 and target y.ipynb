{
 "cells": [
  {
   "cell_type": "markdown",
   "id": "154e67c1",
   "metadata": {},
   "source": [
    " Overview\n",
    " \n",
    "[독립변수](#독립변수) \\\n",
    "[종속변수](#종속변수) "
   ]
  },
  {
   "cell_type": "markdown",
   "id": "e1ce6f64",
   "metadata": {},
   "source": [
    "## 독립변수"
   ]
  },
  {
   "cell_type": "code",
   "execution_count": 1,
   "id": "f50d717b",
   "metadata": {},
   "outputs": [],
   "source": [
    "import pandas as pd\n",
    "import numpy as np"
   ]
  },
  {
   "cell_type": "code",
   "execution_count": 2,
   "id": "0fa37831",
   "metadata": {},
   "outputs": [],
   "source": [
    "default_dir = '/home/users/s17011720/predicting_impression_using_mobile_game/'"
   ]
  },
  {
   "cell_type": "code",
   "execution_count": 19,
   "id": "b9089e78",
   "metadata": {},
   "outputs": [],
   "source": [
    "asset = pd.read_csv(default_dir + \"extract_features_data/asset_features2.csv\")\n",
    "activity = pd.read_csv(default_dir + \"extract_features_data/activity_features2.csv\")\n",
    "ads = pd.read_csv(default_dir + \"extract_features_data/ads_features2.csv\")"
   ]
  },
  {
   "cell_type": "code",
   "execution_count": 21,
   "id": "01b14120",
   "metadata": {},
   "outputs": [
    {
     "name": "stdout",
     "output_type": "stream",
     "text": [
      "asset shape    :  (416198, 28)\n",
      "activity shape :  (224136, 9)\n",
      "ads shape      :  (419923, 44)\n"
     ]
    }
   ],
   "source": [
    "print('asset shape    : ', asset.shape)\n",
    "print('activity shape : ', activity.shape)\n",
    "print('ads shape      : ', ads.shape)"
   ]
  },
  {
   "cell_type": "code",
   "execution_count": 22,
   "id": "658d0f8c",
   "metadata": {},
   "outputs": [
    {
     "name": "stdout",
     "output_type": "stream",
     "text": [
      "asset unique id    :  224870\n",
      "activity unique id :  144081\n",
      "ads unique id      :  225082\n"
     ]
    }
   ],
   "source": [
    "print('asset unique id    : ', len(asset['ad_id'].unique()))# 224,870\n",
    "print('activity unique id : ', len(activity['ad_id'].unique()))# 144,081\n",
    "print('ads unique id      : ', len(ads['ad_id'].unique()))# 225,082"
   ]
  },
  {
   "cell_type": "code",
   "execution_count": 15,
   "id": "def707a6",
   "metadata": {},
   "outputs": [],
   "source": [
    "def extract_day01(event_df):\n",
    "    day0 = event_df[event_df['day_x']==0].drop('day_x', axis=1)\n",
    "    day1 = event_df[event_df['day_x']==1].drop('day_x', axis=1)\n",
    "    \n",
    "    day0 = day0.add_suffix(\"_0\")\n",
    "    day1 = day1.add_suffix(\"_1\")\n",
    "    \n",
    "    day0.rename(columns={'ad_id_0':'ad_id'}, inplace=True)\n",
    "    day1.rename(columns={'ad_id_1':'ad_id'}, inplace=True)\n",
    "    \n",
    "    df = pd.merge(day0, day1, on=['ad_id'], how='outer')\n",
    "    return df"
   ]
  },
  {
   "cell_type": "code",
   "execution_count": 23,
   "id": "3f828a1d",
   "metadata": {
    "scrolled": true
   },
   "outputs": [],
   "source": [
    "asset_df = extract_day01(asset)\n",
    "activity_df = extract_day01(activity)\n",
    "ads_df = extract_day01(ads)"
   ]
  },
  {
   "cell_type": "code",
   "execution_count": 47,
   "id": "b6fc8921",
   "metadata": {},
   "outputs": [],
   "source": [
    "asset_df.to_csv(default_dir + \"extract_features_data/asset_day01.csv\", index=False)\n",
    "activity_df.to_csv(default_dir + \"extract_features_data/activity_day01.csv\", index=False)\n",
    "ads_df.to_csv(default_dir + \"extract_features_data/ads_day01.csv\", index=False)"
   ]
  },
  {
   "cell_type": "code",
   "execution_count": 26,
   "id": "5b0ad757",
   "metadata": {},
   "outputs": [
    {
     "data": {
      "text/plain": [
       "(224997, 151)"
      ]
     },
     "execution_count": 26,
     "metadata": {},
     "output_type": "execute_result"
    }
   ],
   "source": [
    "# m_features = pd.merge(asset_df, activity_df, how='outer', on='ad_id')\n",
    "# m_features = pd.merge(m_features, ads_df, how='outer', on='ad_id')\n",
    "# m_features.shape"
   ]
  },
  {
   "cell_type": "code",
   "execution_count": 27,
   "id": "1d6eb076",
   "metadata": {},
   "outputs": [
    {
     "data": {
      "text/plain": [
       "Index(['ad_id', 'in_coin_cnt_0', 'out_coin_cnt_0', 'in_coin_sum_0',\n",
       "       'out_coin_sum_0', 'curr_var_min_0', 'curr_var_max_0',\n",
       "       'buy_skin_var_sum_0', 'offline_coin_var_sum_0', 'play_var_sum_0',\n",
       "       ...\n",
       "       'ba_home_rate_1', 'ba_ingame_rate_1', 'ba_result_rate_1',\n",
       "       'is_death_rate_1', 'is_game_end_rate_1', 'rv_collection_coin_rate_1',\n",
       "       'rv_color_rate_1', 'rv_result_bonus_coin_rate_1',\n",
       "       'rv_result_coin_rate_1', 'rv_up_rate_1'],\n",
       "      dtype='object', length=151)"
      ]
     },
     "execution_count": 27,
     "metadata": {},
     "output_type": "execute_result"
    }
   ],
   "source": [
    "m_features.columns"
   ]
  },
  {
   "cell_type": "code",
   "execution_count": null,
   "id": "80caa71e",
   "metadata": {},
   "outputs": [],
   "source": []
  },
  {
   "cell_type": "markdown",
   "id": "f50a9717",
   "metadata": {},
   "source": [
    "## 종속변수"
   ]
  },
  {
   "cell_type": "code",
   "execution_count": 25,
   "id": "9293680c",
   "metadata": {},
   "outputs": [
    {
     "data": {
      "text/html": [
       "<div>\n",
       "<style scoped>\n",
       "    .dataframe tbody tr th:only-of-type {\n",
       "        vertical-align: middle;\n",
       "    }\n",
       "\n",
       "    .dataframe tbody tr th {\n",
       "        vertical-align: top;\n",
       "    }\n",
       "\n",
       "    .dataframe thead th {\n",
       "        text-align: right;\n",
       "    }\n",
       "</style>\n",
       "<table border=\"1\" class=\"dataframe\">\n",
       "  <thead>\n",
       "    <tr style=\"text-align: right;\">\n",
       "      <th></th>\n",
       "      <th>ad_id</th>\n",
       "      <th>day_x</th>\n",
       "      <th>ba_imps_off</th>\n",
       "      <th>ba_imps_on</th>\n",
       "      <th>is_imps_off</th>\n",
       "      <th>is_imps_on</th>\n",
       "      <th>is_imps_fail_off</th>\n",
       "      <th>is_imps_fail_on</th>\n",
       "      <th>rv_imps_off</th>\n",
       "      <th>rv_imps_on</th>\n",
       "      <th>...</th>\n",
       "      <th>ba_home_rate</th>\n",
       "      <th>ba_ingame_rate</th>\n",
       "      <th>ba_result_rate</th>\n",
       "      <th>is_death_rate</th>\n",
       "      <th>is_game_end_rate</th>\n",
       "      <th>rv_collection_coin_rate</th>\n",
       "      <th>rv_color_rate</th>\n",
       "      <th>rv_result_bonus_coin_rate</th>\n",
       "      <th>rv_result_coin_rate</th>\n",
       "      <th>rv_up_rate</th>\n",
       "    </tr>\n",
       "  </thead>\n",
       "  <tbody>\n",
       "    <tr>\n",
       "      <th>0</th>\n",
       "      <td>00018501-6eee-45e9-b5b5-7b50f966abd8</td>\n",
       "      <td>0</td>\n",
       "      <td>0.0</td>\n",
       "      <td>1.0</td>\n",
       "      <td>0.0</td>\n",
       "      <td>0.0</td>\n",
       "      <td>0.0</td>\n",
       "      <td>0.0</td>\n",
       "      <td>0.0</td>\n",
       "      <td>0.0</td>\n",
       "      <td>...</td>\n",
       "      <td>100.0</td>\n",
       "      <td>0.0</td>\n",
       "      <td>0.0</td>\n",
       "      <td>0.0</td>\n",
       "      <td>0.0</td>\n",
       "      <td>0.0</td>\n",
       "      <td>0.000000</td>\n",
       "      <td>0.0</td>\n",
       "      <td>100.000000</td>\n",
       "      <td>0.0</td>\n",
       "    </tr>\n",
       "    <tr>\n",
       "      <th>1</th>\n",
       "      <td>00018501-6eee-45e9-b5b5-7b50f966abd8</td>\n",
       "      <td>8</td>\n",
       "      <td>0.0</td>\n",
       "      <td>0.0</td>\n",
       "      <td>0.0</td>\n",
       "      <td>0.0</td>\n",
       "      <td>0.0</td>\n",
       "      <td>3.0</td>\n",
       "      <td>0.0</td>\n",
       "      <td>0.0</td>\n",
       "      <td>...</td>\n",
       "      <td>0.0</td>\n",
       "      <td>0.0</td>\n",
       "      <td>0.0</td>\n",
       "      <td>0.0</td>\n",
       "      <td>100.0</td>\n",
       "      <td>0.0</td>\n",
       "      <td>36.363636</td>\n",
       "      <td>0.0</td>\n",
       "      <td>63.636364</td>\n",
       "      <td>0.0</td>\n",
       "    </tr>\n",
       "  </tbody>\n",
       "</table>\n",
       "<p>2 rows × 44 columns</p>\n",
       "</div>"
      ],
      "text/plain": [
       "                                  ad_id  day_x  ba_imps_off  ba_imps_on  \\\n",
       "0  00018501-6eee-45e9-b5b5-7b50f966abd8      0          0.0         1.0   \n",
       "1  00018501-6eee-45e9-b5b5-7b50f966abd8      8          0.0         0.0   \n",
       "\n",
       "   is_imps_off  is_imps_on  is_imps_fail_off  is_imps_fail_on  rv_imps_off  \\\n",
       "0          0.0         0.0               0.0              0.0          0.0   \n",
       "1          0.0         0.0               0.0              3.0          0.0   \n",
       "\n",
       "   rv_imps_on  ...  ba_home_rate  ba_ingame_rate  ba_result_rate  \\\n",
       "0         0.0  ...         100.0             0.0             0.0   \n",
       "1         0.0  ...           0.0             0.0             0.0   \n",
       "\n",
       "   is_death_rate  is_game_end_rate  rv_collection_coin_rate  rv_color_rate  \\\n",
       "0            0.0               0.0                      0.0       0.000000   \n",
       "1            0.0             100.0                      0.0      36.363636   \n",
       "\n",
       "   rv_result_bonus_coin_rate  rv_result_coin_rate  rv_up_rate  \n",
       "0                        0.0           100.000000         0.0  \n",
       "1                        0.0            63.636364         0.0  \n",
       "\n",
       "[2 rows x 44 columns]"
      ]
     },
     "execution_count": 25,
     "metadata": {},
     "output_type": "execute_result"
    }
   ],
   "source": [
    "ads.head(2)"
   ]
  },
  {
   "cell_type": "code",
   "execution_count": 32,
   "id": "3d541e45",
   "metadata": {},
   "outputs": [
    {
     "data": {
      "text/plain": [
       "Index(['ad_id', 'day_x', 'ba_imps_off', 'ba_imps_on', 'is_imps_off',\n",
       "       'is_imps_on', 'is_imps_fail_off', 'is_imps_fail_on', 'rv_imps_off',\n",
       "       'rv_imps_on', 'rv_imps_fail_off', 'rv_imps_fail_on', 'rv_view_off',\n",
       "       'rv_view_on', 'ba_home', 'ba_ingame', 'ba_result', 'is_death',\n",
       "       'is_game_end', 'rv_collection_coin', 'rv_color', 'rv_result_bonus_coin',\n",
       "       'rv_result_coin', 'rv_up_1', 'rv_up_2', 'rv_up_3', 'rv_up_4', 'ba_imps',\n",
       "       'is_imps', 'is_imps_fail', 'rv_imps', 'rv_imps_fail', 'rv_view',\n",
       "       'Interval_time', 'ba_home_rate', 'ba_ingame_rate', 'ba_result_rate',\n",
       "       'is_death_rate', 'is_game_end_rate', 'rv_collection_coin_rate',\n",
       "       'rv_color_rate', 'rv_result_bonus_coin_rate', 'rv_result_coin_rate',\n",
       "       'rv_up_rate'],\n",
       "      dtype='object')"
      ]
     },
     "execution_count": 32,
     "metadata": {},
     "output_type": "execute_result"
    }
   ],
   "source": [
    "ads.columns"
   ]
  },
  {
   "cell_type": "code",
   "execution_count": 33,
   "id": "cbe6e109",
   "metadata": {},
   "outputs": [],
   "source": [
    "ads_target = ads[['ad_id', 'day_x', 'ba_imps', 'is_imps', 'rv_imps']]"
   ]
  },
  {
   "cell_type": "code",
   "execution_count": 34,
   "id": "7df9982e",
   "metadata": {},
   "outputs": [],
   "source": [
    "day2 = ads_target[ads_target['day_x']==2].drop('day_x', axis=1)\n",
    "day3 = ads_target[ads_target['day_x']==3].drop('day_x', axis=1)\n",
    "day4 = ads_target[ads_target['day_x']==4].drop('day_x', axis=1)\n",
    "day5 = ads_target[ads_target['day_x']==5].drop('day_x', axis=1)\n",
    "day6 = ads_target[ads_target['day_x']==6].drop('day_x', axis=1)\n",
    "day7 = ads_target[ads_target['day_x']==7].drop('day_x', axis=1)\n",
    "\n",
    "day2 = day2.add_suffix(\"_2\")\n",
    "day3 = day3.add_suffix(\"_3\")\n",
    "day4 = day4.add_suffix(\"_4\")\n",
    "day5 = day5.add_suffix(\"_5\")\n",
    "day6 = day6.add_suffix(\"_6\")\n",
    "day7 = day7.add_suffix(\"_7\")\n",
    "\n",
    "day2.rename(columns={'ad_id_2':'ad_id'}, inplace=True)\n",
    "day3.rename(columns={'ad_id_3':'ad_id'}, inplace=True)\n",
    "day4.rename(columns={'ad_id_4':'ad_id'}, inplace=True)\n",
    "day5.rename(columns={'ad_id_5':'ad_id'}, inplace=True)\n",
    "day6.rename(columns={'ad_id_6':'ad_id'}, inplace=True)\n",
    "day7.rename(columns={'ad_id_7':'ad_id'}, inplace=True)"
   ]
  },
  {
   "cell_type": "code",
   "execution_count": 35,
   "id": "f874a60f",
   "metadata": {},
   "outputs": [],
   "source": [
    "df = pd.merge(day2, day3, on=['ad_id'], how='outer')\n",
    "df = pd.merge(df, day4, on=['ad_id'], how='outer')\n",
    "df = pd.merge(df, day5, on=['ad_id'], how='outer')\n",
    "df = pd.merge(df, day6, on=['ad_id'], how='outer')\n",
    "df = pd.merge(df, day7, on=['ad_id'], how='outer')"
   ]
  },
  {
   "cell_type": "code",
   "execution_count": 36,
   "id": "dab2c85b",
   "metadata": {},
   "outputs": [
    {
     "data": {
      "text/plain": [
       "(58035, 19)"
      ]
     },
     "execution_count": 36,
     "metadata": {},
     "output_type": "execute_result"
    }
   ],
   "source": [
    "df.shape"
   ]
  },
  {
   "cell_type": "code",
   "execution_count": 37,
   "id": "996e1afb",
   "metadata": {},
   "outputs": [
    {
     "data": {
      "text/html": [
       "<div>\n",
       "<style scoped>\n",
       "    .dataframe tbody tr th:only-of-type {\n",
       "        vertical-align: middle;\n",
       "    }\n",
       "\n",
       "    .dataframe tbody tr th {\n",
       "        vertical-align: top;\n",
       "    }\n",
       "\n",
       "    .dataframe thead th {\n",
       "        text-align: right;\n",
       "    }\n",
       "</style>\n",
       "<table border=\"1\" class=\"dataframe\">\n",
       "  <thead>\n",
       "    <tr style=\"text-align: right;\">\n",
       "      <th></th>\n",
       "      <th>ad_id</th>\n",
       "      <th>ba_imps_2</th>\n",
       "      <th>is_imps_2</th>\n",
       "      <th>rv_imps_2</th>\n",
       "      <th>ba_imps_3</th>\n",
       "      <th>is_imps_3</th>\n",
       "      <th>rv_imps_3</th>\n",
       "      <th>ba_imps_4</th>\n",
       "      <th>is_imps_4</th>\n",
       "      <th>rv_imps_4</th>\n",
       "      <th>ba_imps_5</th>\n",
       "      <th>is_imps_5</th>\n",
       "      <th>rv_imps_5</th>\n",
       "      <th>ba_imps_6</th>\n",
       "      <th>is_imps_6</th>\n",
       "      <th>rv_imps_6</th>\n",
       "      <th>ba_imps_7</th>\n",
       "      <th>is_imps_7</th>\n",
       "      <th>rv_imps_7</th>\n",
       "    </tr>\n",
       "  </thead>\n",
       "  <tbody>\n",
       "    <tr>\n",
       "      <th>0</th>\n",
       "      <td>00038635-61d2-4656-b04b-332c5a6755cd</td>\n",
       "      <td>1.0</td>\n",
       "      <td>0.0</td>\n",
       "      <td>0.0</td>\n",
       "      <td>0.0</td>\n",
       "      <td>0.0</td>\n",
       "      <td>0.0</td>\n",
       "      <td>0.0</td>\n",
       "      <td>0.0</td>\n",
       "      <td>0.0</td>\n",
       "      <td>NaN</td>\n",
       "      <td>NaN</td>\n",
       "      <td>NaN</td>\n",
       "      <td>0.0</td>\n",
       "      <td>0.0</td>\n",
       "      <td>0.0</td>\n",
       "      <td>NaN</td>\n",
       "      <td>NaN</td>\n",
       "      <td>NaN</td>\n",
       "    </tr>\n",
       "    <tr>\n",
       "      <th>1</th>\n",
       "      <td>0003b43c-1404-4ece-9cb2-3971a24612da</td>\n",
       "      <td>1.0</td>\n",
       "      <td>0.0</td>\n",
       "      <td>0.0</td>\n",
       "      <td>NaN</td>\n",
       "      <td>NaN</td>\n",
       "      <td>NaN</td>\n",
       "      <td>NaN</td>\n",
       "      <td>NaN</td>\n",
       "      <td>NaN</td>\n",
       "      <td>NaN</td>\n",
       "      <td>NaN</td>\n",
       "      <td>NaN</td>\n",
       "      <td>NaN</td>\n",
       "      <td>NaN</td>\n",
       "      <td>NaN</td>\n",
       "      <td>NaN</td>\n",
       "      <td>NaN</td>\n",
       "      <td>NaN</td>\n",
       "    </tr>\n",
       "  </tbody>\n",
       "</table>\n",
       "</div>"
      ],
      "text/plain": [
       "                                  ad_id  ba_imps_2  is_imps_2  rv_imps_2  \\\n",
       "0  00038635-61d2-4656-b04b-332c5a6755cd        1.0        0.0        0.0   \n",
       "1  0003b43c-1404-4ece-9cb2-3971a24612da        1.0        0.0        0.0   \n",
       "\n",
       "   ba_imps_3  is_imps_3  rv_imps_3  ba_imps_4  is_imps_4  rv_imps_4  \\\n",
       "0        0.0        0.0        0.0        0.0        0.0        0.0   \n",
       "1        NaN        NaN        NaN        NaN        NaN        NaN   \n",
       "\n",
       "   ba_imps_5  is_imps_5  rv_imps_5  ba_imps_6  is_imps_6  rv_imps_6  \\\n",
       "0        NaN        NaN        NaN        0.0        0.0        0.0   \n",
       "1        NaN        NaN        NaN        NaN        NaN        NaN   \n",
       "\n",
       "   ba_imps_7  is_imps_7  rv_imps_7  \n",
       "0        NaN        NaN        NaN  \n",
       "1        NaN        NaN        NaN  "
      ]
     },
     "execution_count": 37,
     "metadata": {},
     "output_type": "execute_result"
    }
   ],
   "source": [
    "df.head(2)"
   ]
  },
  {
   "cell_type": "code",
   "execution_count": 38,
   "id": "2e882ddc",
   "metadata": {},
   "outputs": [],
   "source": [
    "df.fillna(0, inplace=True)"
   ]
  },
  {
   "cell_type": "code",
   "execution_count": 39,
   "id": "d374acf3",
   "metadata": {},
   "outputs": [
    {
     "data": {
      "text/plain": [
       "Index(['ad_id', 'ba_imps_2', 'is_imps_2', 'rv_imps_2', 'ba_imps_3',\n",
       "       'is_imps_3', 'rv_imps_3', 'ba_imps_4', 'is_imps_4', 'rv_imps_4',\n",
       "       'ba_imps_5', 'is_imps_5', 'rv_imps_5', 'ba_imps_6', 'is_imps_6',\n",
       "       'rv_imps_6', 'ba_imps_7', 'is_imps_7', 'rv_imps_7'],\n",
       "      dtype='object')"
      ]
     },
     "execution_count": 39,
     "metadata": {},
     "output_type": "execute_result"
    }
   ],
   "source": [
    "df.columns"
   ]
  },
  {
   "cell_type": "code",
   "execution_count": 40,
   "id": "36bf54ef",
   "metadata": {},
   "outputs": [],
   "source": [
    "ba_col = ['ba_imps_2', 'ba_imps_3', 'ba_imps_4', 'ba_imps_5', 'ba_imps_6', 'ba_imps_7']\n",
    "is_col = ['is_imps_2', 'is_imps_3', 'is_imps_4', 'is_imps_5', 'is_imps_6', 'is_imps_7']\n",
    "rv_col = ['rv_imps_2', 'rv_imps_3', 'rv_imps_4', 'rv_imps_5', 'rv_imps_6', 'rv_imps_7']\n",
    "\n",
    "df['ba_imps_234567'] = df[ba_col].sum(axis=1)\n",
    "df['is_imps_234567'] = df[is_col].sum(axis=1)\n",
    "df['rv_imps_234567'] = df[rv_col].sum(axis=1)"
   ]
  },
  {
   "cell_type": "code",
   "execution_count": 41,
   "id": "de91a71a",
   "metadata": {},
   "outputs": [
    {
     "data": {
      "text/html": [
       "<div>\n",
       "<style scoped>\n",
       "    .dataframe tbody tr th:only-of-type {\n",
       "        vertical-align: middle;\n",
       "    }\n",
       "\n",
       "    .dataframe tbody tr th {\n",
       "        vertical-align: top;\n",
       "    }\n",
       "\n",
       "    .dataframe thead th {\n",
       "        text-align: right;\n",
       "    }\n",
       "</style>\n",
       "<table border=\"1\" class=\"dataframe\">\n",
       "  <thead>\n",
       "    <tr style=\"text-align: right;\">\n",
       "      <th></th>\n",
       "      <th>ad_id</th>\n",
       "      <th>ba_imps_2</th>\n",
       "      <th>is_imps_2</th>\n",
       "      <th>rv_imps_2</th>\n",
       "      <th>ba_imps_3</th>\n",
       "      <th>is_imps_3</th>\n",
       "      <th>rv_imps_3</th>\n",
       "      <th>ba_imps_4</th>\n",
       "      <th>is_imps_4</th>\n",
       "      <th>rv_imps_4</th>\n",
       "      <th>...</th>\n",
       "      <th>rv_imps_5</th>\n",
       "      <th>ba_imps_6</th>\n",
       "      <th>is_imps_6</th>\n",
       "      <th>rv_imps_6</th>\n",
       "      <th>ba_imps_7</th>\n",
       "      <th>is_imps_7</th>\n",
       "      <th>rv_imps_7</th>\n",
       "      <th>ba_imps_234567</th>\n",
       "      <th>is_imps_234567</th>\n",
       "      <th>rv_imps_234567</th>\n",
       "    </tr>\n",
       "  </thead>\n",
       "  <tbody>\n",
       "    <tr>\n",
       "      <th>0</th>\n",
       "      <td>00038635-61d2-4656-b04b-332c5a6755cd</td>\n",
       "      <td>1.0</td>\n",
       "      <td>0.0</td>\n",
       "      <td>0.0</td>\n",
       "      <td>0.0</td>\n",
       "      <td>0.0</td>\n",
       "      <td>0.0</td>\n",
       "      <td>0.0</td>\n",
       "      <td>0.0</td>\n",
       "      <td>0.0</td>\n",
       "      <td>...</td>\n",
       "      <td>0.0</td>\n",
       "      <td>0.0</td>\n",
       "      <td>0.0</td>\n",
       "      <td>0.0</td>\n",
       "      <td>0.0</td>\n",
       "      <td>0.0</td>\n",
       "      <td>0.0</td>\n",
       "      <td>1.0</td>\n",
       "      <td>0.0</td>\n",
       "      <td>0.0</td>\n",
       "    </tr>\n",
       "    <tr>\n",
       "      <th>1</th>\n",
       "      <td>0003b43c-1404-4ece-9cb2-3971a24612da</td>\n",
       "      <td>1.0</td>\n",
       "      <td>0.0</td>\n",
       "      <td>0.0</td>\n",
       "      <td>0.0</td>\n",
       "      <td>0.0</td>\n",
       "      <td>0.0</td>\n",
       "      <td>0.0</td>\n",
       "      <td>0.0</td>\n",
       "      <td>0.0</td>\n",
       "      <td>...</td>\n",
       "      <td>0.0</td>\n",
       "      <td>0.0</td>\n",
       "      <td>0.0</td>\n",
       "      <td>0.0</td>\n",
       "      <td>0.0</td>\n",
       "      <td>0.0</td>\n",
       "      <td>0.0</td>\n",
       "      <td>1.0</td>\n",
       "      <td>0.0</td>\n",
       "      <td>0.0</td>\n",
       "    </tr>\n",
       "  </tbody>\n",
       "</table>\n",
       "<p>2 rows × 22 columns</p>\n",
       "</div>"
      ],
      "text/plain": [
       "                                  ad_id  ba_imps_2  is_imps_2  rv_imps_2  \\\n",
       "0  00038635-61d2-4656-b04b-332c5a6755cd        1.0        0.0        0.0   \n",
       "1  0003b43c-1404-4ece-9cb2-3971a24612da        1.0        0.0        0.0   \n",
       "\n",
       "   ba_imps_3  is_imps_3  rv_imps_3  ba_imps_4  is_imps_4  rv_imps_4  ...  \\\n",
       "0        0.0        0.0        0.0        0.0        0.0        0.0  ...   \n",
       "1        0.0        0.0        0.0        0.0        0.0        0.0  ...   \n",
       "\n",
       "   rv_imps_5  ba_imps_6  is_imps_6  rv_imps_6  ba_imps_7  is_imps_7  \\\n",
       "0        0.0        0.0        0.0        0.0        0.0        0.0   \n",
       "1        0.0        0.0        0.0        0.0        0.0        0.0   \n",
       "\n",
       "   rv_imps_7  ba_imps_234567  is_imps_234567  rv_imps_234567  \n",
       "0        0.0             1.0             0.0             0.0  \n",
       "1        0.0             1.0             0.0             0.0  \n",
       "\n",
       "[2 rows x 22 columns]"
      ]
     },
     "execution_count": 41,
     "metadata": {},
     "output_type": "execute_result"
    }
   ],
   "source": [
    "df.head(2)"
   ]
  },
  {
   "cell_type": "code",
   "execution_count": 43,
   "id": "62fd8314",
   "metadata": {},
   "outputs": [
    {
     "data": {
      "text/html": [
       "<div>\n",
       "<style scoped>\n",
       "    .dataframe tbody tr th:only-of-type {\n",
       "        vertical-align: middle;\n",
       "    }\n",
       "\n",
       "    .dataframe tbody tr th {\n",
       "        vertical-align: top;\n",
       "    }\n",
       "\n",
       "    .dataframe thead th {\n",
       "        text-align: right;\n",
       "    }\n",
       "</style>\n",
       "<table border=\"1\" class=\"dataframe\">\n",
       "  <thead>\n",
       "    <tr style=\"text-align: right;\">\n",
       "      <th></th>\n",
       "      <th>ba_imps_234567</th>\n",
       "      <th>is_imps_234567</th>\n",
       "      <th>rv_imps_234567</th>\n",
       "    </tr>\n",
       "  </thead>\n",
       "  <tbody>\n",
       "    <tr>\n",
       "      <th>count</th>\n",
       "      <td>58035.000000</td>\n",
       "      <td>58035.000000</td>\n",
       "      <td>58035.000000</td>\n",
       "    </tr>\n",
       "    <tr>\n",
       "      <th>mean</th>\n",
       "      <td>8.692013</td>\n",
       "      <td>4.148927</td>\n",
       "      <td>0.301680</td>\n",
       "    </tr>\n",
       "    <tr>\n",
       "      <th>std</th>\n",
       "      <td>13.344514</td>\n",
       "      <td>7.814888</td>\n",
       "      <td>1.039425</td>\n",
       "    </tr>\n",
       "    <tr>\n",
       "      <th>min</th>\n",
       "      <td>0.000000</td>\n",
       "      <td>0.000000</td>\n",
       "      <td>0.000000</td>\n",
       "    </tr>\n",
       "    <tr>\n",
       "      <th>25%</th>\n",
       "      <td>1.000000</td>\n",
       "      <td>0.000000</td>\n",
       "      <td>0.000000</td>\n",
       "    </tr>\n",
       "    <tr>\n",
       "      <th>50%</th>\n",
       "      <td>4.000000</td>\n",
       "      <td>1.000000</td>\n",
       "      <td>0.000000</td>\n",
       "    </tr>\n",
       "    <tr>\n",
       "      <th>75%</th>\n",
       "      <td>11.000000</td>\n",
       "      <td>5.000000</td>\n",
       "      <td>0.000000</td>\n",
       "    </tr>\n",
       "    <tr>\n",
       "      <th>max</th>\n",
       "      <td>384.000000</td>\n",
       "      <td>205.000000</td>\n",
       "      <td>58.000000</td>\n",
       "    </tr>\n",
       "  </tbody>\n",
       "</table>\n",
       "</div>"
      ],
      "text/plain": [
       "       ba_imps_234567  is_imps_234567  rv_imps_234567\n",
       "count    58035.000000    58035.000000    58035.000000\n",
       "mean         8.692013        4.148927        0.301680\n",
       "std         13.344514        7.814888        1.039425\n",
       "min          0.000000        0.000000        0.000000\n",
       "25%          1.000000        0.000000        0.000000\n",
       "50%          4.000000        1.000000        0.000000\n",
       "75%         11.000000        5.000000        0.000000\n",
       "max        384.000000      205.000000       58.000000"
      ]
     },
     "execution_count": 43,
     "metadata": {},
     "output_type": "execute_result"
    }
   ],
   "source": [
    "df[['ba_imps_234567','is_imps_234567','rv_imps_234567']].describe()"
   ]
  },
  {
   "cell_type": "code",
   "execution_count": 45,
   "id": "6b56215f",
   "metadata": {},
   "outputs": [],
   "source": [
    "df.to_csv(default_dir + \"extract_features_data/target_y.csv\", index=False)"
   ]
  },
  {
   "cell_type": "code",
   "execution_count": 46,
   "id": "7de4c71e",
   "metadata": {},
   "outputs": [],
   "source": [
    "y = df[['ad_id','ba_imps_234567','is_imps_234567','rv_imps_234567']]\n",
    "y.to_csv(default_dir + \"extract_features_data/target_y.csv\", index=False)"
   ]
  },
  {
   "cell_type": "code",
   "execution_count": null,
   "id": "a5c863e4",
   "metadata": {},
   "outputs": [],
   "source": []
  }
 ],
 "metadata": {
  "kernelspec": {
   "display_name": "Python 3",
   "language": "python",
   "name": "python3"
  },
  "language_info": {
   "codemirror_mode": {
    "name": "ipython",
    "version": 3
   },
   "file_extension": ".py",
   "mimetype": "text/x-python",
   "name": "python",
   "nbconvert_exporter": "python",
   "pygments_lexer": "ipython3",
   "version": "3.7.0"
  }
 },
 "nbformat": 4,
 "nbformat_minor": 5
}
